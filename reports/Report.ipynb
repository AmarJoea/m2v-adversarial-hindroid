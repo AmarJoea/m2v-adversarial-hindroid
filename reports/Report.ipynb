{
 "cells": [
  {
   "cell_type": "markdown",
   "metadata": {},
   "source": [
    "# Perturbation-resilient metapath-based Android Malware Detection"
   ]
  },
  {
   "cell_type": "markdown",
   "metadata": {},
   "source": [
    "## INTRODUCTION\n",
    "\n",
    "- Problem: Android HIV breaks many models, shortcomings of HinDroid\n",
    "- Proposition:\n",
    "    - metapath2vec + better models\n",
    "    - retraining on android HIV output"
   ]
  },
  {
   "cell_type": "markdown",
   "metadata": {},
   "source": [
    "## METHODOLOGY\n",
    "### Heterogeneous Information Network\n",
    "### Feature Construction (Metapath2vec)\n",
    "### Fortifying Against Adversarial Models (Maybe leave out and use next section only instead)"
   ]
  },
  {
   "cell_type": "markdown",
   "metadata": {},
   "source": [
    "## EXPERIMENT SETUP\n",
    "Using multiple models:\n",
    "- Our HinDroid implementation\n",
    "- Our improved model (and possible variations)\n",
    "    - random forest and a gradient-boosted model \n",
    "\n",
    "We...\n",
    "\n",
    "1. Train on normal data\n",
    "2. Train Android HIV on these models and output perturbed sourced code, perturbing only the malware\n",
    "3. Retrain models on original code pool + perturbed code\n",
    "4. Repeat if necessary or possible"
   ]
  },
  {
   "cell_type": "markdown",
   "metadata": {},
   "source": [
    "## RESULTS\n",
    "\n",
    "- Initial performance of models on normal data\n",
    "- Performance after Android HIV trained on data\n",
    "- Performance of models "
   ]
  },
  {
   "cell_type": "markdown",
   "metadata": {},
   "source": [
    "## REFERENCES"
   ]
  }
 ],
 "metadata": {
  "kernelspec": {
   "display_name": "Python 3",
   "language": "python",
   "name": "python3"
  },
  "language_info": {
   "codemirror_mode": {
    "name": "ipython",
    "version": 3
   },
   "file_extension": ".py",
   "mimetype": "text/x-python",
   "name": "python",
   "nbconvert_exporter": "python",
   "pygments_lexer": "ipython3",
   "version": "3.8.6"
  }
 },
 "nbformat": 4,
 "nbformat_minor": 4
}
