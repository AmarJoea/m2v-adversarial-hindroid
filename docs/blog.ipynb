{
 "cells": [
  {
   "cell_type": "markdown",
   "metadata": {},
   "source": [
    "# m2vDroid: Perturbation-resilient metapath-based Android Malware Detection"
   ]
  },
  {
   "cell_type": "markdown",
   "metadata": {},
   "source": [
    "## INTRODUCTION\n",
    "\n",
    "Over the past decade, malware has established itself as a constant issue for the Android operating system. In 2018, Symantec reported that they blocked more than 10 thousand malware apps per day, while nearly 3 quarters of Android devices remained on older versions of Android. With billions active Android devices, millions are only a swipe away from becoming victims. Naturally, automated machine learning-based detection systems have become commonplace solutions to address this threat. However, it has been shown that many of these models are vulnerable to adversarial attacks, notably those that add redundant code to malware to consfuse detectors. \n",
    "\n",
    "First, we intend to break an existing malware detection system, [Hindroid](https://www.cse.ust.hk/~yqsong/papers/2017-KDD-HINDROID.pdf) using a method similar to that proposed in [Android HIV](https://ieeexplore.ieee.org/document/8782574). Second, we introduce a new model that extends HinDroid that we hope to be more resilient to perturbations in malware code. \n",
    "\n",
    "OR\n",
    "\n",
    "First, we introduce a new model that extends the [Hindroid detection system](https://www.cse.ust.hk/~yqsong/papers/2017-KDD-HINDROID.pdf) by employing node embeddings using [metapath2vec](https://ericdongyx.github.io/papers/KDD17-dong-chawla-swami-metapath2vec.pdf). We believe that the introduction of node embeddings will improve the performance of the model beyond the capabilities of HinDroid. Second, we intend to break these models using a method similar to that proposed in [Android HIV](https://ieeexplore.ieee.org/document/8782574) and measure the performance of each model after recursively feeding adversarial examples back into them."
   ]
  },
  {
   "cell_type": "markdown",
   "metadata": {},
   "source": [
    "## m2vDroid\n",
    "### Preliminaries\n",
    "- Include definitions etc.\n",
    "\n",
    "### HIN Construction\n",
    "Our heterogeneous information network contains 4 types of nodes which we define: \n",
    "- $Apps$: Android apps determined by name.\n",
    "- $APIs$: APIs determined by their smali representation, i.e. `Lpackage/Class;->method();V`\n",
    "- $Packages$: the package an API originates from.\n",
    "- $Methods$: Methods (or \"functions\") that API calls appear in.\n",
    "\n",
    "Apps and APIs share an edge if the API is used within the App. Likewise with APIs and Methods, they share an edge if a Method contains an API. Packages and APIs share an edge if the API orginates from the Package. With this representation, we believe we should retain more information about the apps we aim to represent versus HinDroid.\n",
    "\n",
    "### Feature extraction (Metapath2vec)\n",
    "To generate our features, we apply the metapath2vec algorithm on the $App$ nodes of our HIN. That is we 1) perform a random-walk starting from each app following a designated metapath pattern(s) to generate a corpus, then we 2) pass this corpus into the [word2vec](https://arxiv.org/pdf/1301.3781.pdf) model to transform each $App$ into a vector.\n",
    "\n",
    "{% include 3D-plot.html %}"
   ]
  },
  {
   "cell_type": "markdown",
   "metadata": {},
   "source": [
    "## EXPERIMENT SETUP\n",
    "Using multiple models:\n",
    "- Our HinDroid implementation\n",
    "- Our improved model (and possible variations)\n",
    "    - random forest and a gradient-boosted model \n",
    "\n",
    "We...\n",
    "\n",
    "1. Train on normal data\n",
    "2. Train Android HIV on these models and output perturbed sourced code, perturbing only the malware\n",
    "3. Retrain models on original code pool + perturbed code\n",
    "4. Repeat if necessary (or possible)"
   ]
  },
  {
   "cell_type": "markdown",
   "metadata": {},
   "source": [
    "## RESULTS\n",
    "\n",
    "- Initial performance of models on normal data\n",
    "- Performance after Android HIV trained on data\n",
    "- Performance of models "
   ]
  },
  {
   "cell_type": "markdown",
   "metadata": {},
   "source": [
    "## REFERENCES"
   ]
  }
 ],
 "metadata": {
  "jekyll": {
   "layout": "notebook",
   "permalink": "/",
   "title": "m2vDroid"
  },
  "kernelspec": {
   "display_name": "Python 3",
   "language": "python",
   "name": "python3"
  },
  "language_info": {
   "codemirror_mode": {
    "name": "ipython",
    "version": 3
   },
   "file_extension": ".py",
   "mimetype": "text/x-python",
   "name": "python",
   "nbconvert_exporter": "python",
   "pygments_lexer": "ipython3",
   "version": "3.8.6"
  }
 },
 "nbformat": 4,
 "nbformat_minor": 4
}
