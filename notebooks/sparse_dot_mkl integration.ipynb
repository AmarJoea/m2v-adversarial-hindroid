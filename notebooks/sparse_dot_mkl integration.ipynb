{
 "cells": [
  {
   "cell_type": "code",
   "execution_count": 1,
   "id": "caring-replacement",
   "metadata": {},
   "outputs": [
    {
     "name": "stdout",
     "output_type": "stream",
     "text": [
      "Defaulting to user installation because normal site-packages is not writeable\n",
      "Requirement already satisfied: sparse-dot-mkl in /home/rcgonzal/.local/lib/python3.8/site-packages (0.7.0)\n",
      "Requirement already satisfied: numpy in /home/rcgonzal/.local/lib/python3.8/site-packages (from sparse-dot-mkl) (1.19.5)\n",
      "Requirement already satisfied: scipy in /home/rcgonzal/.local/lib/python3.8/site-packages (from sparse-dot-mkl) (1.6.0)\n"
     ]
    }
   ],
   "source": [
    "!pip install sparse-dot-mkl"
   ]
  },
  {
   "cell_type": "code",
   "execution_count": 1,
   "id": "existing-melbourne",
   "metadata": {},
   "outputs": [],
   "source": [
    "from sparse_dot_mkl import dot_product_mkl"
   ]
  },
  {
   "cell_type": "code",
   "execution_count": 2,
   "id": "another-intro",
   "metadata": {},
   "outputs": [
    {
     "name": "stdout",
     "output_type": "stream",
     "text": [
      "/home/rcgonzal/DSC180Malware/m2v-adversarial-hindroid\r\n"
     ]
    }
   ],
   "source": [
    "import os\n",
    "os.chdir('/home/rcgonzal/DSC180Malware/m2v-adversarial-hindroid/')\n",
    "!pwd\n",
    "\n",
    "from src.data.hindroid_etl import *\n",
    "from src.model.hindroid import Hindroid \n",
    "\n",
    "%load_ext autoreload\n",
    "%autoreload 2"
   ]
  }
 ],
 "metadata": {
  "kernelspec": {
   "display_name": "Python 3",
   "language": "python",
   "name": "python3"
  },
  "language_info": {
   "codemirror_mode": {
    "name": "ipython",
    "version": 3
   },
   "file_extension": ".py",
   "mimetype": "text/x-python",
   "name": "python",
   "nbconvert_exporter": "python",
   "pygments_lexer": "ipython3",
   "version": "3.8.6"
  }
 },
 "nbformat": 4,
 "nbformat_minor": 5
}
