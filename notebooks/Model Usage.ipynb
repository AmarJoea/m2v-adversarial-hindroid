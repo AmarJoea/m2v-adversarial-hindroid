{
 "cells": [
  {
   "cell_type": "code",
   "execution_count": 1,
   "id": "figured-straight",
   "metadata": {},
   "outputs": [],
   "source": [
    "import os\n",
    "# move to project root\n",
    "os.chdir('/home/rcgonzal/DSC180Malware/m2v-adversarial-hindroid/')\n",
    "\n",
    "import pandas as pd\n",
    "import numpy as np\n",
    "\n",
    "from src.model.model import M2VDroid\n",
    "from src.model.hindroid import Hindroid\n",
    "from src.data.hindroid_etl import make_models\n",
    "from src.analysis.analysis import create_performance_table\n",
    "from src.utils import find_apps\n",
    "\n",
    "%load_ext autoreload\n",
    "%autoreload 2"
   ]
  },
  {
   "cell_type": "markdown",
   "id": "overall-remainder",
   "metadata": {},
   "source": [
    "# Purpose\n",
    "This notebook should guide a user with some detail in how to use this package. Note: all paths should be relative to the project directory unless of course the root indicator is present i.e. `/`.\n",
    "\n",
    "# Data Selection\n",
    "We assume you should have access to Android apps already decompiled into their Smali representations. If you have not done this, please look into how to use Apktool and Smali to decompile Android APKs (We may provide a script in the future). What we do provide is the `find_app` function which, given a directory, will recursively look for decompiled apps and return a DataFrame with their locations. This is how the `app_list.csv` file begins. "
   ]
  },
  {
   "cell_type": "code",
   "execution_count": 2,
   "id": "statewide-portugal",
   "metadata": {},
   "outputs": [
    {
     "data": {
      "text/html": [
       "<div>\n",
       "<style scoped>\n",
       "    .dataframe tbody tr th:only-of-type {\n",
       "        vertical-align: middle;\n",
       "    }\n",
       "\n",
       "    .dataframe tbody tr th {\n",
       "        vertical-align: top;\n",
       "    }\n",
       "\n",
       "    .dataframe thead th {\n",
       "        text-align: right;\n",
       "    }\n",
       "</style>\n",
       "<table border=\"1\" class=\"dataframe\">\n",
       "  <thead>\n",
       "    <tr style=\"text-align: right;\">\n",
       "      <th></th>\n",
       "      <th>app_dir</th>\n",
       "    </tr>\n",
       "    <tr>\n",
       "      <th>app</th>\n",
       "      <th></th>\n",
       "    </tr>\n",
       "  </thead>\n",
       "  <tbody>\n",
       "    <tr>\n",
       "      <th>testapp1</th>\n",
       "      <td>test/testdata/testapp1</td>\n",
       "    </tr>\n",
       "    <tr>\n",
       "      <th>testapp2</th>\n",
       "      <td>test/testdata/testapp2</td>\n",
       "    </tr>\n",
       "  </tbody>\n",
       "</table>\n",
       "</div>"
      ],
      "text/plain": [
       "                         app_dir\n",
       "app                             \n",
       "testapp1  test/testdata/testapp1\n",
       "testapp2  test/testdata/testapp2"
      ]
     },
     "execution_count": 2,
     "metadata": {},
     "output_type": "execute_result"
    }
   ],
   "source": [
    "find_apps('test/testdata/')"
   ]
  },
  {
   "cell_type": "markdown",
   "id": "legislative-parameter",
   "metadata": {},
   "source": [
    "In some cases like the file `data/out/all-apps/app_list.csv`, we add more columns to this table such as what category an app is from and whether is it malware or not in order for us to label our examples."
   ]
  },
  {
   "cell_type": "code",
   "execution_count": 3,
   "id": "floppy-database",
   "metadata": {},
   "outputs": [
    {
     "data": {
      "text/html": [
       "<div>\n",
       "<style scoped>\n",
       "    .dataframe tbody tr th:only-of-type {\n",
       "        vertical-align: middle;\n",
       "    }\n",
       "\n",
       "    .dataframe tbody tr th {\n",
       "        vertical-align: top;\n",
       "    }\n",
       "\n",
       "    .dataframe thead th {\n",
       "        text-align: right;\n",
       "    }\n",
       "</style>\n",
       "<table border=\"1\" class=\"dataframe\">\n",
       "  <thead>\n",
       "    <tr style=\"text-align: right;\">\n",
       "      <th></th>\n",
       "      <th>app_dir</th>\n",
       "      <th>category</th>\n",
       "      <th>malware</th>\n",
       "    </tr>\n",
       "    <tr>\n",
       "      <th>app</th>\n",
       "      <th></th>\n",
       "      <th></th>\n",
       "      <th></th>\n",
       "    </tr>\n",
       "  </thead>\n",
       "  <tbody>\n",
       "    <tr>\n",
       "      <th>com.kaktus.hyungkaktus</th>\n",
       "      <td>/teams/DSC180A_FA20_A00/a04malware/random-apps...</td>\n",
       "      <td>random-apps</td>\n",
       "      <td>0</td>\n",
       "    </tr>\n",
       "    <tr>\n",
       "      <th>com.wedup.duduamzaleg</th>\n",
       "      <td>/teams/DSC180A_FA20_A00/a04malware/random-apps...</td>\n",
       "      <td>random-apps</td>\n",
       "      <td>0</td>\n",
       "    </tr>\n",
       "    <tr>\n",
       "      <th>com.dublin_mobile123.cheat_gta_5</th>\n",
       "      <td>/teams/DSC180A_FA20_A00/a04malware/random-apps...</td>\n",
       "      <td>random-apps</td>\n",
       "      <td>0</td>\n",
       "    </tr>\n",
       "    <tr>\n",
       "      <th>com.appall.optimizationbox</th>\n",
       "      <td>/teams/DSC180A_FA20_A00/a04malware/random-apps...</td>\n",
       "      <td>random-apps</td>\n",
       "      <td>0</td>\n",
       "    </tr>\n",
       "    <tr>\n",
       "      <th>live.wallpaper.t910001560</th>\n",
       "      <td>/teams/DSC180A_FA20_A00/a04malware/random-apps...</td>\n",
       "      <td>random-apps</td>\n",
       "      <td>0</td>\n",
       "    </tr>\n",
       "    <tr>\n",
       "      <th>...</th>\n",
       "      <td>...</td>\n",
       "      <td>...</td>\n",
       "      <td>...</td>\n",
       "    </tr>\n",
       "    <tr>\n",
       "      <th>com.nytimes.android</th>\n",
       "      <td>/teams/DSC180A_FA20_A00/a04malware/popular-app...</td>\n",
       "      <td>popular-apps</td>\n",
       "      <td>0</td>\n",
       "    </tr>\n",
       "    <tr>\n",
       "      <th>com.tinytouchtales.alchi</th>\n",
       "      <td>/teams/DSC180A_FA20_A00/a04malware/popular-app...</td>\n",
       "      <td>popular-apps</td>\n",
       "      <td>0</td>\n",
       "    </tr>\n",
       "    <tr>\n",
       "      <th>com.mycelium.wallet</th>\n",
       "      <td>/teams/DSC180A_FA20_A00/a04malware/popular-app...</td>\n",
       "      <td>popular-apps</td>\n",
       "      <td>0</td>\n",
       "    </tr>\n",
       "    <tr>\n",
       "      <th>com.aceviral.smashycity</th>\n",
       "      <td>/teams/DSC180A_FA20_A00/a04malware/popular-app...</td>\n",
       "      <td>popular-apps</td>\n",
       "      <td>0</td>\n",
       "    </tr>\n",
       "    <tr>\n",
       "      <th>com.wonderplanet.CrashFever</th>\n",
       "      <td>/teams/DSC180A_FA20_A00/a04malware/popular-app...</td>\n",
       "      <td>popular-apps</td>\n",
       "      <td>0</td>\n",
       "    </tr>\n",
       "  </tbody>\n",
       "</table>\n",
       "<p>6072 rows × 3 columns</p>\n",
       "</div>"
      ],
      "text/plain": [
       "                                                                            app_dir  \\\n",
       "app                                                                                   \n",
       "com.kaktus.hyungkaktus            /teams/DSC180A_FA20_A00/a04malware/random-apps...   \n",
       "com.wedup.duduamzaleg             /teams/DSC180A_FA20_A00/a04malware/random-apps...   \n",
       "com.dublin_mobile123.cheat_gta_5  /teams/DSC180A_FA20_A00/a04malware/random-apps...   \n",
       "com.appall.optimizationbox        /teams/DSC180A_FA20_A00/a04malware/random-apps...   \n",
       "live.wallpaper.t910001560         /teams/DSC180A_FA20_A00/a04malware/random-apps...   \n",
       "...                                                                             ...   \n",
       "com.nytimes.android               /teams/DSC180A_FA20_A00/a04malware/popular-app...   \n",
       "com.tinytouchtales.alchi          /teams/DSC180A_FA20_A00/a04malware/popular-app...   \n",
       "com.mycelium.wallet               /teams/DSC180A_FA20_A00/a04malware/popular-app...   \n",
       "com.aceviral.smashycity           /teams/DSC180A_FA20_A00/a04malware/popular-app...   \n",
       "com.wonderplanet.CrashFever       /teams/DSC180A_FA20_A00/a04malware/popular-app...   \n",
       "\n",
       "                                      category malware  \n",
       "app                                                     \n",
       "com.kaktus.hyungkaktus             random-apps       0  \n",
       "com.wedup.duduamzaleg              random-apps       0  \n",
       "com.dublin_mobile123.cheat_gta_5   random-apps       0  \n",
       "com.appall.optimizationbox         random-apps       0  \n",
       "live.wallpaper.t910001560          random-apps       0  \n",
       "...                                        ...     ...  \n",
       "com.nytimes.android               popular-apps       0  \n",
       "com.tinytouchtales.alchi          popular-apps       0  \n",
       "com.mycelium.wallet               popular-apps       0  \n",
       "com.aceviral.smashycity           popular-apps       0  \n",
       "com.wonderplanet.CrashFever       popular-apps       0  \n",
       "\n",
       "[6072 rows x 3 columns]"
      ]
     },
     "execution_count": 3,
     "metadata": {},
     "output_type": "execute_result"
    }
   ],
   "source": [
    "all_apps = pd.read_csv('data/out/all-apps/app_list.csv', dtype=str, index_col='app')\n",
    "all_apps"
   ]
  },
  {
   "cell_type": "markdown",
   "id": "athletic-emphasis",
   "metadata": {},
   "source": [
    "**Aside:** `all-apps` is a special folder in our out project because it houses all apps -- and their API data in `app-data`! When parsed in our ETL, each app is extracted into its own `.csv` containing every API call made within it, making it easy to pick and choose which apps we want to select just by knowing their names (or md5s for malware). \n",
    "\n",
    "With that said, let's return to selecting our data. We want to split our data into stratified halves, both with equal amounts of benign apps and malware. We also have a category `random-apps` which we do not know the label to and must drop from our dataset."
   ]
  },
  {
   "cell_type": "code",
   "execution_count": 4,
   "id": "boring-infection",
   "metadata": {},
   "outputs": [
    {
     "data": {
      "text/html": [
       "<div>\n",
       "<style scoped>\n",
       "    .dataframe tbody tr th:only-of-type {\n",
       "        vertical-align: middle;\n",
       "    }\n",
       "\n",
       "    .dataframe tbody tr th {\n",
       "        vertical-align: top;\n",
       "    }\n",
       "\n",
       "    .dataframe thead th {\n",
       "        text-align: right;\n",
       "    }\n",
       "</style>\n",
       "<table border=\"1\" class=\"dataframe\">\n",
       "  <thead>\n",
       "    <tr style=\"text-align: right;\">\n",
       "      <th></th>\n",
       "      <th>app_dir</th>\n",
       "      <th>category</th>\n",
       "    </tr>\n",
       "    <tr>\n",
       "      <th>app</th>\n",
       "      <th></th>\n",
       "      <th></th>\n",
       "    </tr>\n",
       "  </thead>\n",
       "  <tbody>\n",
       "    <tr>\n",
       "      <th>com.hcg.cok.gp</th>\n",
       "      <td>/teams/DSC180A_FA20_A00/a04malware/popular-app...</td>\n",
       "      <td>popular-apps</td>\n",
       "    </tr>\n",
       "    <tr>\n",
       "      <th>com.glu.wrestling</th>\n",
       "      <td>/teams/DSC180A_FA20_A00/a04malware/popular-app...</td>\n",
       "      <td>popular-apps</td>\n",
       "    </tr>\n",
       "    <tr>\n",
       "      <th>com.tmusic.christmassongs</th>\n",
       "      <td>/teams/DSC180A_FA20_A00/a04malware/popular-app...</td>\n",
       "      <td>popular-apps</td>\n",
       "    </tr>\n",
       "    <tr>\n",
       "      <th>com.han.dominoes</th>\n",
       "      <td>/teams/DSC180A_FA20_A00/a04malware/popular-app...</td>\n",
       "      <td>popular-apps</td>\n",
       "    </tr>\n",
       "    <tr>\n",
       "      <th>com.jetappfactory.jetaudio</th>\n",
       "      <td>/teams/DSC180A_FA20_A00/a04malware/popular-app...</td>\n",
       "      <td>popular-apps</td>\n",
       "    </tr>\n",
       "    <tr>\n",
       "      <th>...</th>\n",
       "      <td>...</td>\n",
       "      <td>...</td>\n",
       "    </tr>\n",
       "    <tr>\n",
       "      <th>7280d6d74716513369c3a8b8f1d94676</th>\n",
       "      <td>/teams/DSC180A_FA20_A00/a04malware/malware/Ban...</td>\n",
       "      <td>malware</td>\n",
       "    </tr>\n",
       "    <tr>\n",
       "      <th>5d59c7c74c7133d94b8a257d749c823a</th>\n",
       "      <td>/teams/DSC180A_FA20_A00/a04malware/malware/Fak...</td>\n",
       "      <td>malware</td>\n",
       "    </tr>\n",
       "    <tr>\n",
       "      <th>3a54c9c23e49c0c67185d22ad2cbfc58</th>\n",
       "      <td>/teams/DSC180A_FA20_A00/a04malware/malware/Fak...</td>\n",
       "      <td>malware</td>\n",
       "    </tr>\n",
       "    <tr>\n",
       "      <th>ba6633d214a4e85cb157acb8da9054c1</th>\n",
       "      <td>/teams/DSC180A_FA20_A00/a04malware/malware/Fak...</td>\n",
       "      <td>malware</td>\n",
       "    </tr>\n",
       "    <tr>\n",
       "      <th>14c9fce89d69ade3b54dd06e80d0d715</th>\n",
       "      <td>/teams/DSC180A_FA20_A00/a04malware/malware/Fak...</td>\n",
       "      <td>malware</td>\n",
       "    </tr>\n",
       "  </tbody>\n",
       "</table>\n",
       "<p>2920 rows × 2 columns</p>\n",
       "</div>"
      ],
      "text/plain": [
       "                                                                            app_dir  \\\n",
       "app                                                                                   \n",
       "com.hcg.cok.gp                    /teams/DSC180A_FA20_A00/a04malware/popular-app...   \n",
       "com.glu.wrestling                 /teams/DSC180A_FA20_A00/a04malware/popular-app...   \n",
       "com.tmusic.christmassongs         /teams/DSC180A_FA20_A00/a04malware/popular-app...   \n",
       "com.han.dominoes                  /teams/DSC180A_FA20_A00/a04malware/popular-app...   \n",
       "com.jetappfactory.jetaudio        /teams/DSC180A_FA20_A00/a04malware/popular-app...   \n",
       "...                                                                             ...   \n",
       "7280d6d74716513369c3a8b8f1d94676  /teams/DSC180A_FA20_A00/a04malware/malware/Ban...   \n",
       "5d59c7c74c7133d94b8a257d749c823a  /teams/DSC180A_FA20_A00/a04malware/malware/Fak...   \n",
       "3a54c9c23e49c0c67185d22ad2cbfc58  /teams/DSC180A_FA20_A00/a04malware/malware/Fak...   \n",
       "ba6633d214a4e85cb157acb8da9054c1  /teams/DSC180A_FA20_A00/a04malware/malware/Fak...   \n",
       "14c9fce89d69ade3b54dd06e80d0d715  /teams/DSC180A_FA20_A00/a04malware/malware/Fak...   \n",
       "\n",
       "                                      category  \n",
       "app                                             \n",
       "com.hcg.cok.gp                    popular-apps  \n",
       "com.glu.wrestling                 popular-apps  \n",
       "com.tmusic.christmassongs         popular-apps  \n",
       "com.han.dominoes                  popular-apps  \n",
       "com.jetappfactory.jetaudio        popular-apps  \n",
       "...                                        ...  \n",
       "7280d6d74716513369c3a8b8f1d94676       malware  \n",
       "5d59c7c74c7133d94b8a257d749c823a       malware  \n",
       "3a54c9c23e49c0c67185d22ad2cbfc58       malware  \n",
       "ba6633d214a4e85cb157acb8da9054c1       malware  \n",
       "14c9fce89d69ade3b54dd06e80d0d715       malware  \n",
       "\n",
       "[2920 rows x 2 columns]"
      ]
     },
     "execution_count": 4,
     "metadata": {},
     "output_type": "execute_result"
    }
   ],
   "source": [
    "all_apps = all_apps[all_apps.category != 'random-apps']\n",
    "training_sample = (\n",
    "    all_apps.groupby('malware')\n",
    "    .apply(lambda x: x.sample(frac=0.5, random_state=42)) # perform stratified sample\n",
    "    .drop(columns='malware').reset_index().drop(columns='malware').set_index('app') # reset the index\n",
    ")\n",
    "training_sample"
   ]
  },
  {
   "cell_type": "code",
   "execution_count": 5,
   "id": "sophisticated-picking",
   "metadata": {},
   "outputs": [
    {
     "data": {
      "text/html": [
       "<div>\n",
       "<style scoped>\n",
       "    .dataframe tbody tr th:only-of-type {\n",
       "        vertical-align: middle;\n",
       "    }\n",
       "\n",
       "    .dataframe tbody tr th {\n",
       "        vertical-align: top;\n",
       "    }\n",
       "\n",
       "    .dataframe thead th {\n",
       "        text-align: right;\n",
       "    }\n",
       "</style>\n",
       "<table border=\"1\" class=\"dataframe\">\n",
       "  <thead>\n",
       "    <tr style=\"text-align: right;\">\n",
       "      <th></th>\n",
       "      <th>app_dir</th>\n",
       "      <th>category</th>\n",
       "    </tr>\n",
       "    <tr>\n",
       "      <th>app</th>\n",
       "      <th></th>\n",
       "      <th></th>\n",
       "    </tr>\n",
       "  </thead>\n",
       "  <tbody>\n",
       "    <tr>\n",
       "      <th>00268453be254779f0c7590de47db944</th>\n",
       "      <td>/teams/DSC180A_FA20_A00/a04malware/malware/Dro...</td>\n",
       "      <td>malware</td>\n",
       "    </tr>\n",
       "    <tr>\n",
       "      <th>002a7270ec52ec68ea3d979c85261308</th>\n",
       "      <td>/teams/DSC180A_FA20_A00/a04malware/malware/Ban...</td>\n",
       "      <td>malware</td>\n",
       "    </tr>\n",
       "    <tr>\n",
       "      <th>0030e0003b7226e9142683e49b41a423</th>\n",
       "      <td>/teams/DSC180A_FA20_A00/a04malware/malware/Fak...</td>\n",
       "      <td>malware</td>\n",
       "    </tr>\n",
       "    <tr>\n",
       "      <th>00335946abb79777f9fe2d0d96651e03</th>\n",
       "      <td>/teams/DSC180A_FA20_A00/a04malware/malware/Vid...</td>\n",
       "      <td>malware</td>\n",
       "    </tr>\n",
       "    <tr>\n",
       "      <th>0038be31cfed95e13a33d87142eada70</th>\n",
       "      <td>/teams/DSC180A_FA20_A00/a04malware/malware/Fak...</td>\n",
       "      <td>malware</td>\n",
       "    </tr>\n",
       "    <tr>\n",
       "      <th>...</th>\n",
       "      <td>...</td>\n",
       "      <td>...</td>\n",
       "    </tr>\n",
       "    <tr>\n",
       "      <th>org.edx.mobile</th>\n",
       "      <td>/teams/DSC180A_FA20_A00/a04malware/popular-app...</td>\n",
       "      <td>popular-apps</td>\n",
       "    </tr>\n",
       "    <tr>\n",
       "      <th>org.mozilla.firefox</th>\n",
       "      <td>/teams/DSC180A_FA20_A00/a04malware/popular-app...</td>\n",
       "      <td>popular-apps</td>\n",
       "    </tr>\n",
       "    <tr>\n",
       "      <th>org.videolan.vlc</th>\n",
       "      <td>/teams/DSC180A_FA20_A00/a04malware/popular-app...</td>\n",
       "      <td>popular-apps</td>\n",
       "    </tr>\n",
       "    <tr>\n",
       "      <th>pps.christmas.photo.frames</th>\n",
       "      <td>/teams/DSC180A_FA20_A00/a04malware/popular-app...</td>\n",
       "      <td>popular-apps</td>\n",
       "    </tr>\n",
       "    <tr>\n",
       "      <th>ru.serjik.christmaslive</th>\n",
       "      <td>/teams/DSC180A_FA20_A00/a04malware/popular-app...</td>\n",
       "      <td>popular-apps</td>\n",
       "    </tr>\n",
       "  </tbody>\n",
       "</table>\n",
       "<p>2920 rows × 2 columns</p>\n",
       "</div>"
      ],
      "text/plain": [
       "                                                                            app_dir  \\\n",
       "app                                                                                   \n",
       "00268453be254779f0c7590de47db944  /teams/DSC180A_FA20_A00/a04malware/malware/Dro...   \n",
       "002a7270ec52ec68ea3d979c85261308  /teams/DSC180A_FA20_A00/a04malware/malware/Ban...   \n",
       "0030e0003b7226e9142683e49b41a423  /teams/DSC180A_FA20_A00/a04malware/malware/Fak...   \n",
       "00335946abb79777f9fe2d0d96651e03  /teams/DSC180A_FA20_A00/a04malware/malware/Vid...   \n",
       "0038be31cfed95e13a33d87142eada70  /teams/DSC180A_FA20_A00/a04malware/malware/Fak...   \n",
       "...                                                                             ...   \n",
       "org.edx.mobile                    /teams/DSC180A_FA20_A00/a04malware/popular-app...   \n",
       "org.mozilla.firefox               /teams/DSC180A_FA20_A00/a04malware/popular-app...   \n",
       "org.videolan.vlc                  /teams/DSC180A_FA20_A00/a04malware/popular-app...   \n",
       "pps.christmas.photo.frames        /teams/DSC180A_FA20_A00/a04malware/popular-app...   \n",
       "ru.serjik.christmaslive           /teams/DSC180A_FA20_A00/a04malware/popular-app...   \n",
       "\n",
       "                                      category  \n",
       "app                                             \n",
       "00268453be254779f0c7590de47db944       malware  \n",
       "002a7270ec52ec68ea3d979c85261308       malware  \n",
       "0030e0003b7226e9142683e49b41a423       malware  \n",
       "00335946abb79777f9fe2d0d96651e03       malware  \n",
       "0038be31cfed95e13a33d87142eada70       malware  \n",
       "...                                        ...  \n",
       "org.edx.mobile                    popular-apps  \n",
       "org.mozilla.firefox               popular-apps  \n",
       "org.videolan.vlc                  popular-apps  \n",
       "pps.christmas.photo.frames        popular-apps  \n",
       "ru.serjik.christmaslive           popular-apps  \n",
       "\n",
       "[2920 rows x 2 columns]"
      ]
     },
     "execution_count": 5,
     "metadata": {},
     "output_type": "execute_result"
    }
   ],
   "source": [
    "testing_sample = all_apps[['app_dir', 'category']].loc[all_apps.index.difference(training_sample.index)]\n",
    "testing_sample"
   ]
  },
  {
   "cell_type": "code",
   "execution_count": 6,
   "id": "characteristic-smart",
   "metadata": {},
   "outputs": [],
   "source": [
    "# create two separate directories for each sample and save both to their respective directory\n",
    "os.makedirs('data/out/train-half', exist_ok=True)\n",
    "os.makedirs('data/out/test-half', exist_ok=True)\n",
    "training_sample.to_csv('data/out/train-half/app_list.csv')\n",
    "testing_sample.to_csv('data/out/test-half/app_list.csv')"
   ]
  },
  {
   "cell_type": "markdown",
   "id": "acceptable-liquid",
   "metadata": {},
   "source": [
    "Now we must train a model on the training set. To do that we must run the ETL pipeline on that directory. Therefore we set `config/etl-params/etl-params.json` as shown below and then execute `python run.py data`. *This may take a few hours run especially the random walks!*\n",
    "\n",
    "```json\n",
    "{\n",
    "    \"outfolder\": \"data/out/train-half\",\n",
    "    \"parse_params\": {\n",
    "        \"nprocs\": 16\n",
    "    },\n",
    "    \"feature_params\": {\n",
    "        \"redo\": false,\n",
    "        \"walk_args\": {\n",
    "            \"nprocs\": 16,\n",
    "            \"length\": 60,\n",
    "            \"n\": 3,\n",
    "            \"metapaths\": [\n",
    "                [\"app\", \"api\", \"app\"],\n",
    "                [\"app\", \"api\", \"method\", \"api\", \"app\"],\n",
    "                [\"app\", \"api\", \"package\", \"api\", \"app\"],\n",
    "                [\"app\", \"api\", \"package\", \"api\", \"method\", \"api\", \"app\"],\n",
    "                [\"app\", \"api\", \"method\", \"api\", \"package\", \"api\", \"app\"]\n",
    "            ]\n",
    "        },\n",
    "        \"w2v_args\": {\n",
    "            \"size\": 128,\n",
    "            \"window\": 7,\n",
    "            \"min_count\": 0,\n",
    "            \"negative\": 5,\n",
    "            \"sg\": 1,\n",
    "            \"workers\": 16,\n",
    "            \"iter\": 5\n",
    "        }\n",
    "    },\n",
    "    \"hindroid_params\": {\n",
    "        \"redo\": false\n",
    "    }\n",
    "}\n",
    "```"
   ]
  },
  {
   "cell_type": "code",
   "execution_count": 14,
   "id": "likely-translator",
   "metadata": {
    "scrolled": true
   },
   "outputs": [
    {
     "name": "stdout",
     "output_type": "stream",
     "text": [
      "2021-02-16 01:24:54.385458: W tensorflow/stream_executor/platform/default/dso_loader.cc:60] Could not load dynamic library 'libcudart.so.11.0'; dlerror: libcudart.so.11.0: cannot open shared object file: No such file or directory; LD_LIBRARY_PATH: /usr/local/nvidia/lib:/usr/local/nvidia/lib64\n",
      "2021-02-16 01:24:54.385500: I tensorflow/stream_executor/cuda/cudart_stub.cc:29] Ignore above cudart dlerror if you do not have a GPU set up on your machine.\n",
      "2021-02-16 01:24:56.891521: I tensorflow/compiler/jit/xla_cpu_device.cc:41] Not creating XLA devices, tf_xla_enable_xla_devices not set\n",
      "2021-02-16 01:24:56.894470: I tensorflow/stream_executor/platform/default/dso_loader.cc:49] Successfully opened dynamic library libcuda.so.1\n",
      "2021-02-16 01:24:56.923293: I tensorflow/core/common_runtime/gpu/gpu_device.cc:1720] Found device 0 with properties: \n",
      "pciBusID: 0000:61:00.0 name: GeForce GTX 1080 Ti computeCapability: 6.1\n",
      "coreClock: 1.582GHz coreCount: 28 deviceMemorySize: 10.92GiB deviceMemoryBandwidth: 451.17GiB/s\n",
      "2021-02-16 01:24:56.923524: W tensorflow/stream_executor/platform/default/dso_loader.cc:60] Could not load dynamic library 'libcudart.so.11.0'; dlerror: libcudart.so.11.0: cannot open shared object file: No such file or directory; LD_LIBRARY_PATH: /usr/local/nvidia/lib:/usr/local/nvidia/lib64\n",
      "2021-02-16 01:24:56.923656: W tensorflow/stream_executor/platform/default/dso_loader.cc:60] Could not load dynamic library 'libcublas.so.11'; dlerror: libcublas.so.11: cannot open shared object file: No such file or directory; LD_LIBRARY_PATH: /usr/local/nvidia/lib:/usr/local/nvidia/lib64\n",
      "2021-02-16 01:24:56.923771: W tensorflow/stream_executor/platform/default/dso_loader.cc:60] Could not load dynamic library 'libcublasLt.so.11'; dlerror: libcublasLt.so.11: cannot open shared object file: No such file or directory; LD_LIBRARY_PATH: /usr/local/nvidia/lib:/usr/local/nvidia/lib64\n",
      "2021-02-16 01:24:56.926880: I tensorflow/stream_executor/platform/default/dso_loader.cc:49] Successfully opened dynamic library libcufft.so.10\n",
      "2021-02-16 01:24:56.927338: I tensorflow/stream_executor/platform/default/dso_loader.cc:49] Successfully opened dynamic library libcurand.so.10\n",
      "2021-02-16 01:24:56.930154: I tensorflow/stream_executor/platform/default/dso_loader.cc:49] Successfully opened dynamic library libcusolver.so.10\n",
      "2021-02-16 01:24:56.930300: W tensorflow/stream_executor/platform/default/dso_loader.cc:60] Could not load dynamic library 'libcusparse.so.11'; dlerror: libcusparse.so.11: cannot open shared object file: No such file or directory; LD_LIBRARY_PATH: /usr/local/nvidia/lib:/usr/local/nvidia/lib64\n",
      "2021-02-16 01:24:56.930468: I tensorflow/stream_executor/platform/default/dso_loader.cc:49] Successfully opened dynamic library libcudnn.so.8\n",
      "2021-02-16 01:24:56.930488: W tensorflow/core/common_runtime/gpu/gpu_device.cc:1757] Cannot dlopen some GPU libraries. Please make sure the missing libraries mentioned above are installed properly if you would like to use GPU. Follow the guide at https://www.tensorflow.org/install/gpu for how to download and setup the required libraries for your platform.\n",
      "Skipping registering GPU devices...\n",
      "2021-02-16 01:24:56.930861: I tensorflow/core/platform/cpu_feature_guard.cc:142] This TensorFlow binary is optimized with oneAPI Deep Neural Network Library (oneDNN) to use the following CPU instructions in performance-critical operations:  AVX512F\n",
      "To enable them in other operations, rebuild TensorFlow with the appropriate compiler flags.\n",
      "2021-02-16 01:24:56.937463: I tensorflow/compiler/jit/xla_gpu_device.cc:99] Not creating XLA devices, tf_xla_enable_xla_devices not set\n",
      "2021-02-16 01:24:56.937499: I tensorflow/core/common_runtime/gpu/gpu_device.cc:1261] Device interconnect StreamExecutor with strength 1 edge matrix:\n",
      "2021-02-16 01:24:56.937509: I tensorflow/core/common_runtime/gpu/gpu_device.cc:1267]      \n",
      "STEP 1 - PARSING APPS\n",
      "100%|█████████████████████████████████████| 2920/2920 [00:01<00:00, 2320.25it/s]\n",
      "Running Word2vec\n",
      "Fitting models:\n",
      "{'AAT': 'A.T', 'ABAT': 'dot_product_mkl(B, A.T)', 'APAT': 'dot_product_mkl(P, A.T)', 'ABPBTAT': 'dot_product_mkl(dot_product_mkl(dot_product_mkl(B, P), B.T), A.T)', 'APBPTAT': 'dot_product_mkl(dot_product_mkl(dot_product_mkl(P, B), P.T), A.T)'}\n",
      "\tFitting AAT model...\n",
      "2920\n",
      "100%|███████████████████████████████████████████| 12/12 [00:13<00:00,  1.15s/it]\n",
      "\tFitting ABAT model...\n",
      "CPU times: user 4.45 s, sys: 1.69 s, total: 6.14 s\n",
      "Wall time: 4min 22s\n"
     ]
    }
   ],
   "source": [
    "%time !python run.py data"
   ]
  },
  {
   "cell_type": "code",
   "execution_count": 7,
   "id": "dependent-display",
   "metadata": {},
   "outputs": [
    {
     "name": "stdout",
     "output_type": "stream",
     "text": [
      "Fitting models:\n"
     ]
    },
    {
     "name": "stderr",
     "output_type": "stream",
     "text": [
      "  0%|          | 0/30 [00:00<?, ?it/s]"
     ]
    },
    {
     "name": "stdout",
     "output_type": "stream",
     "text": [
      "\tFitting AAT model...\n"
     ]
    },
    {
     "name": "stderr",
     "output_type": "stream",
     "text": [
      "100%|██████████| 30/30 [00:28<00:00,  1.07it/s]\n",
      "  0%|          | 0/30 [00:00<?, ?it/s]"
     ]
    },
    {
     "name": "stdout",
     "output_type": "stream",
     "text": [
      "\tFitting ABAT model...\n"
     ]
    },
    {
     "name": "stderr",
     "output_type": "stream",
     "text": [
      "100%|██████████| 30/30 [06:26<00:00, 12.88s/it]\n",
      "  0%|          | 0/30 [00:00<?, ?it/s]"
     ]
    },
    {
     "name": "stdout",
     "output_type": "stream",
     "text": [
      "\tFitting APAT model...\n"
     ]
    },
    {
     "name": "stderr",
     "output_type": "stream",
     "text": [
      "100%|██████████| 30/30 [00:50<00:00,  1.70s/it]\n",
      "  0%|          | 0/30 [00:00<?, ?it/s]"
     ]
    },
    {
     "name": "stdout",
     "output_type": "stream",
     "text": [
      "\tFitting ABPBTAT model...\n"
     ]
    },
    {
     "name": "stderr",
     "output_type": "stream",
     "text": [
      "100%|██████████| 30/30 [45:00<00:00, 90.02s/it]\n",
      "  0%|          | 0/30 [00:00<?, ?it/s]"
     ]
    },
    {
     "name": "stdout",
     "output_type": "stream",
     "text": [
      "\tFitting APBPTAT model...\n"
     ]
    },
    {
     "name": "stderr",
     "output_type": "stream",
     "text": [
      "100%|██████████| 30/30 [28:04<00:00, 56.16s/it]\n"
     ]
    },
    {
     "name": "stdout",
     "output_type": "stream",
     "text": [
      "              acc    recall        f1\n",
      "kernel                               \n",
      "AAT      1.000000  1.000000  1.000000\n",
      "ABAT     0.997603  0.999275  0.998732\n",
      "APAT     1.000000  1.000000  1.000000\n",
      "ABPBTAT  1.000000  1.000000  1.000000\n",
      "APBPTAT  0.988699  0.998187  0.994042\n",
      "CPU times: user 8h 6min 28s, sys: 38min 55s, total: 8h 45min 24s\n",
      "Wall time: 1h 21min 26s\n"
     ]
    }
   ],
   "source": [
    "%time make_models('data/out/train-half/')"
   ]
  },
  {
   "cell_type": "markdown",
   "id": "norman-thing",
   "metadata": {},
   "source": [
    "From here, we can create the models we will use. Note that we included `\"hindroid_params\"` in the config file. Therefore we also fitted a Hindroid model on the data. We will also describe how to utilize that class though both models are largely the same."
   ]
  },
  {
   "cell_type": "code",
   "execution_count": 27,
   "id": "gothic-office",
   "metadata": {},
   "outputs": [
    {
     "data": {
      "text/plain": [
       "'train-half'"
      ]
     },
     "execution_count": 27,
     "metadata": {},
     "output_type": "execute_result"
    }
   ],
   "source": [
    "m2vDroid = M2VDroid('data/out/train-half/',\n",
    "                    classifier_args={'max_depth':3, 'n_jobs':-1})\n",
    "m2vDroid.name"
   ]
  },
  {
   "cell_type": "code",
   "execution_count": 4,
   "id": "parallel-stage",
   "metadata": {},
   "outputs": [
    {
     "name": "stdout",
     "output_type": "stream",
     "text": [
      "Computing new edges\n",
      "<stellargraph.core.graph.StellarGraph object at 0x7fc904946bb0>\n",
      "Running random walk\n",
      "Running Word2Vec\n",
      "Fitting model\n"
     ]
    },
    {
     "name": "stderr",
     "output_type": "stream",
     "text": [
      "/opt/conda/lib/python3.8/site-packages/pandas/core/generic.py:5489: SettingWithCopyWarning: \n",
      "A value is trying to be set on a copy of a slice from a DataFrame.\n",
      "Try using .loc[row_indexer,col_indexer] = value instead\n",
      "\n",
      "See the caveats in the documentation: https://pandas.pydata.org/pandas-docs/stable/user_guide/indexing.html#returning-a-view-versus-a-copy\n",
      "  self[name] = value\n"
     ]
    },
    {
     "name": "stdout",
     "output_type": "stream",
     "text": [
      "              precision    recall  f1-score   support\n",
      "\n",
      "           0       1.00      0.73      0.85       162\n",
      "           1       0.98      1.00      0.99      2758\n",
      "\n",
      "    accuracy                           0.99      2920\n",
      "   macro avg       0.99      0.87      0.92      2920\n",
      "weighted avg       0.99      0.99      0.98      2920\n",
      "\n"
     ]
    },
    {
     "data": {
      "text/html": [
       "<div>\n",
       "<style scoped>\n",
       "    .dataframe tbody tr th:only-of-type {\n",
       "        vertical-align: middle;\n",
       "    }\n",
       "\n",
       "    .dataframe tbody tr th {\n",
       "        vertical-align: top;\n",
       "    }\n",
       "\n",
       "    .dataframe thead th {\n",
       "        text-align: right;\n",
       "    }\n",
       "</style>\n",
       "<table border=\"1\" class=\"dataframe\">\n",
       "  <thead>\n",
       "    <tr style=\"text-align: right;\">\n",
       "      <th></th>\n",
       "      <th>m2vDroid</th>\n",
       "      <th>true</th>\n",
       "    </tr>\n",
       "    <tr>\n",
       "      <th>app</th>\n",
       "      <th></th>\n",
       "      <th></th>\n",
       "    </tr>\n",
       "  </thead>\n",
       "  <tbody>\n",
       "    <tr>\n",
       "      <th>00268453be254779f0c7590de47db944</th>\n",
       "      <td>1</td>\n",
       "      <td>1</td>\n",
       "    </tr>\n",
       "    <tr>\n",
       "      <th>002a7270ec52ec68ea3d979c85261308</th>\n",
       "      <td>1</td>\n",
       "      <td>1</td>\n",
       "    </tr>\n",
       "    <tr>\n",
       "      <th>0030e0003b7226e9142683e49b41a423</th>\n",
       "      <td>1</td>\n",
       "      <td>1</td>\n",
       "    </tr>\n",
       "    <tr>\n",
       "      <th>00335946abb79777f9fe2d0d96651e03</th>\n",
       "      <td>1</td>\n",
       "      <td>1</td>\n",
       "    </tr>\n",
       "    <tr>\n",
       "      <th>0038be31cfed95e13a33d87142eada70</th>\n",
       "      <td>1</td>\n",
       "      <td>1</td>\n",
       "    </tr>\n",
       "    <tr>\n",
       "      <th>...</th>\n",
       "      <td>...</td>\n",
       "      <td>...</td>\n",
       "    </tr>\n",
       "    <tr>\n",
       "      <th>org.edx.mobile</th>\n",
       "      <td>0</td>\n",
       "      <td>0</td>\n",
       "    </tr>\n",
       "    <tr>\n",
       "      <th>org.mozilla.firefox</th>\n",
       "      <td>0</td>\n",
       "      <td>0</td>\n",
       "    </tr>\n",
       "    <tr>\n",
       "      <th>org.videolan.vlc</th>\n",
       "      <td>0</td>\n",
       "      <td>0</td>\n",
       "    </tr>\n",
       "    <tr>\n",
       "      <th>pps.christmas.photo.frames</th>\n",
       "      <td>0</td>\n",
       "      <td>0</td>\n",
       "    </tr>\n",
       "    <tr>\n",
       "      <th>ru.serjik.christmaslive</th>\n",
       "      <td>1</td>\n",
       "      <td>0</td>\n",
       "    </tr>\n",
       "  </tbody>\n",
       "</table>\n",
       "<p>2920 rows × 2 columns</p>\n",
       "</div>"
      ],
      "text/plain": [
       "                                  m2vDroid  true\n",
       "app                                             \n",
       "00268453be254779f0c7590de47db944         1     1\n",
       "002a7270ec52ec68ea3d979c85261308         1     1\n",
       "0030e0003b7226e9142683e49b41a423         1     1\n",
       "00335946abb79777f9fe2d0d96651e03         1     1\n",
       "0038be31cfed95e13a33d87142eada70         1     1\n",
       "...                                    ...   ...\n",
       "org.edx.mobile                           0     0\n",
       "org.mozilla.firefox                      0     0\n",
       "org.videolan.vlc                         0     0\n",
       "pps.christmas.photo.frames               0     0\n",
       "ru.serjik.christmaslive                  1     0\n",
       "\n",
       "[2920 rows x 2 columns]"
      ]
     },
     "execution_count": 4,
     "metadata": {},
     "output_type": "execute_result"
    }
   ],
   "source": [
    "# also saves output table to a folder\n",
    "m2vDroid.fit_predict('data/out/test-half/', \n",
    "                     walk_args={\n",
    "                         \"nprocs\": 16,\n",
    "                         \"length\": 60,\n",
    "                         \"n\": 3,\n",
    "                         \"metapaths\": [\n",
    "                             [\"app\", \"api\", \"app\"],\n",
    "                             [\"app\", \"api\", \"method\", \"api\", \"app\"],\n",
    "                             [\"app\", \"api\", \"package\", \"api\", \"app\"],\n",
    "                             [\"app\", \"api\", \"package\", \"api\", \"method\", \"api\", \"app\"],\n",
    "                             [\"app\", \"api\", \"method\", \"api\", \"package\", \"api\", \"app\"]\n",
    "                         ]\n",
    "                     },\n",
    "                    w2v_args={\n",
    "                        \"size\": 128,\n",
    "                        \"window\": 7,\n",
    "                        \"min_count\": 0,\n",
    "                        \"negative\": 5,\n",
    "                        \"sg\": 1,\n",
    "                        \"workers\": 16,\n",
    "                        \"iter\": 5\n",
    "                    })"
   ]
  },
  {
   "cell_type": "code",
   "execution_count": 4,
   "id": "common-luther",
   "metadata": {},
   "outputs": [
    {
     "data": {
      "text/plain": [
       "<2920x2822990 sparse matrix of type '<class 'numpy.float32'>'\n",
       "\twith 4424651554 stored elements in Compressed Sparse Row format>"
      ]
     },
     "execution_count": 4,
     "metadata": {},
     "output_type": "execute_result"
    }
   ],
   "source": [
    "np.dot(hindroid.A, hindroid.B).dot(hindroid.P)"
   ]
  },
  {
   "cell_type": "code",
   "execution_count": 2,
   "id": "electoral-baker",
   "metadata": {},
   "outputs": [
    {
     "name": "stdout",
     "output_type": "stream",
     "text": [
      "Computing unique APIs per app\n"
     ]
    },
    {
     "name": "stderr",
     "output_type": "stream",
     "text": [
      "Building A-test matrix: 100%|██████████| 6/6 [00:00<00:00, 83.69it/s]\n"
     ]
    },
    {
     "name": "stdout",
     "output_type": "stream",
     "text": [
      "Making predictions\n"
     ]
    },
    {
     "name": "stderr",
     "output_type": "stream",
     "text": [
      "Predicting AAT, batch:   0%|          | 0/1 [00:00<?, ?it/s]"
     ]
    },
    {
     "name": "stdout",
     "output_type": "stream",
     "text": [
      "\n"
     ]
    },
    {
     "name": "stderr",
     "output_type": "stream",
     "text": [
      "Predicting AAT, batch: 100%|██████████| 1/1 [00:00<00:00,  1.50it/s]\n",
      "Predicting ABAT, batch:   0%|          | 0/1 [00:00<?, ?it/s]"
     ]
    },
    {
     "name": "stdout",
     "output_type": "stream",
     "text": [
      "\n"
     ]
    },
    {
     "name": "stderr",
     "output_type": "stream",
     "text": [
      "Predicting ABAT, batch: 100%|██████████| 1/1 [00:02<00:00,  2.23s/it]\n",
      "Predicting APAT, batch:   0%|          | 0/1 [00:00<?, ?it/s]"
     ]
    },
    {
     "name": "stdout",
     "output_type": "stream",
     "text": [
      "\n"
     ]
    },
    {
     "name": "stderr",
     "output_type": "stream",
     "text": [
      "Predicting APAT, batch: 100%|██████████| 1/1 [00:00<00:00,  1.52it/s]\n",
      "Predicting ABPBTAT, batch:   0%|          | 0/1 [00:00<?, ?it/s]"
     ]
    },
    {
     "name": "stdout",
     "output_type": "stream",
     "text": [
      "\n"
     ]
    },
    {
     "name": "stderr",
     "output_type": "stream",
     "text": [
      "Predicting ABPBTAT, batch: 100%|██████████| 1/1 [00:22<00:00, 22.30s/it]\n",
      "Predicting APBPTAT, batch:   0%|          | 0/1 [00:00<?, ?it/s]"
     ]
    },
    {
     "name": "stdout",
     "output_type": "stream",
     "text": [
      "\n"
     ]
    },
    {
     "name": "stderr",
     "output_type": "stream",
     "text": [
      "Predicting APBPTAT, batch: 100%|██████████| 1/1 [00:20<00:00, 20.06s/it]"
     ]
    },
    {
     "name": "stdout",
     "output_type": "stream",
     "text": [
      "AAT:\n",
      "              precision    recall  f1-score   support\n",
      "\n",
      "           0       1.00      1.00      1.00         1\n",
      "           1       1.00      1.00      1.00         5\n",
      "\n",
      "    accuracy                           1.00         6\n",
      "   macro avg       1.00      1.00      1.00         6\n",
      "weighted avg       1.00      1.00      1.00         6\n",
      "\n",
      "ABAT:\n",
      "              precision    recall  f1-score   support\n",
      "\n",
      "           0       1.00      1.00      1.00         1\n",
      "           1       1.00      1.00      1.00         5\n",
      "\n",
      "    accuracy                           1.00         6\n",
      "   macro avg       1.00      1.00      1.00         6\n",
      "weighted avg       1.00      1.00      1.00         6\n",
      "\n",
      "APAT:\n",
      "              precision    recall  f1-score   support\n",
      "\n",
      "           0       1.00      1.00      1.00         1\n",
      "           1       1.00      1.00      1.00         5\n",
      "\n",
      "    accuracy                           1.00         6\n",
      "   macro avg       1.00      1.00      1.00         6\n",
      "weighted avg       1.00      1.00      1.00         6\n",
      "\n",
      "ABPBTAT:\n",
      "              precision    recall  f1-score   support\n",
      "\n",
      "           0       1.00      1.00      1.00         1\n",
      "           1       1.00      1.00      1.00         5\n",
      "\n",
      "    accuracy                           1.00         6\n",
      "   macro avg       1.00      1.00      1.00         6\n",
      "weighted avg       1.00      1.00      1.00         6\n",
      "\n",
      "APBPTAT:\n",
      "              precision    recall  f1-score   support\n",
      "\n",
      "           0       1.00      1.00      1.00         1\n",
      "           1       1.00      1.00      1.00         5\n",
      "\n",
      "    accuracy                           1.00         6\n",
      "   macro avg       1.00      1.00      1.00         6\n",
      "weighted avg       1.00      1.00      1.00         6\n",
      "\n"
     ]
    },
    {
     "name": "stderr",
     "output_type": "stream",
     "text": [
      "\n"
     ]
    },
    {
     "data": {
      "text/html": [
       "<div>\n",
       "<style scoped>\n",
       "    .dataframe tbody tr th:only-of-type {\n",
       "        vertical-align: middle;\n",
       "    }\n",
       "\n",
       "    .dataframe tbody tr th {\n",
       "        vertical-align: top;\n",
       "    }\n",
       "\n",
       "    .dataframe thead th {\n",
       "        text-align: right;\n",
       "    }\n",
       "</style>\n",
       "<table border=\"1\" class=\"dataframe\">\n",
       "  <thead>\n",
       "    <tr style=\"text-align: right;\">\n",
       "      <th></th>\n",
       "      <th>AAT</th>\n",
       "      <th>ABAT</th>\n",
       "      <th>APAT</th>\n",
       "      <th>ABPBTAT</th>\n",
       "      <th>APBPTAT</th>\n",
       "      <th>true</th>\n",
       "    </tr>\n",
       "    <tr>\n",
       "      <th>app</th>\n",
       "      <th></th>\n",
       "      <th></th>\n",
       "      <th></th>\n",
       "      <th></th>\n",
       "      <th></th>\n",
       "      <th></th>\n",
       "    </tr>\n",
       "  </thead>\n",
       "  <tbody>\n",
       "    <tr>\n",
       "      <th>635a57a483cda858f78f14386e76aab4</th>\n",
       "      <td>1</td>\n",
       "      <td>1</td>\n",
       "      <td>1</td>\n",
       "      <td>1</td>\n",
       "      <td>1</td>\n",
       "      <td>1</td>\n",
       "    </tr>\n",
       "    <tr>\n",
       "      <th>912054e230f08f3747c2966d3f92944f</th>\n",
       "      <td>1</td>\n",
       "      <td>1</td>\n",
       "      <td>1</td>\n",
       "      <td>1</td>\n",
       "      <td>1</td>\n",
       "      <td>1</td>\n",
       "    </tr>\n",
       "    <tr>\n",
       "      <th>29b4865171cdfad2a6f011614a1a8038</th>\n",
       "      <td>1</td>\n",
       "      <td>1</td>\n",
       "      <td>1</td>\n",
       "      <td>1</td>\n",
       "      <td>1</td>\n",
       "      <td>1</td>\n",
       "    </tr>\n",
       "    <tr>\n",
       "      <th>2a92f33fa4b5af4e61d70eb15a28030d</th>\n",
       "      <td>1</td>\n",
       "      <td>1</td>\n",
       "      <td>1</td>\n",
       "      <td>1</td>\n",
       "      <td>1</td>\n",
       "      <td>1</td>\n",
       "    </tr>\n",
       "    <tr>\n",
       "      <th>35ecbda726e1e56467bf8b0e0dbe2c2a</th>\n",
       "      <td>1</td>\n",
       "      <td>1</td>\n",
       "      <td>1</td>\n",
       "      <td>1</td>\n",
       "      <td>1</td>\n",
       "      <td>1</td>\n",
       "    </tr>\n",
       "    <tr>\n",
       "      <th>com.sfeehha.bubble419</th>\n",
       "      <td>0</td>\n",
       "      <td>0</td>\n",
       "      <td>0</td>\n",
       "      <td>0</td>\n",
       "      <td>0</td>\n",
       "      <td>0</td>\n",
       "    </tr>\n",
       "  </tbody>\n",
       "</table>\n",
       "</div>"
      ],
      "text/plain": [
       "                                  AAT  ABAT  APAT  ABPBTAT  APBPTAT  true\n",
       "app                                                                      \n",
       "635a57a483cda858f78f14386e76aab4    1     1     1        1        1     1\n",
       "912054e230f08f3747c2966d3f92944f    1     1     1        1        1     1\n",
       "29b4865171cdfad2a6f011614a1a8038    1     1     1        1        1     1\n",
       "2a92f33fa4b5af4e61d70eb15a28030d    1     1     1        1        1     1\n",
       "35ecbda726e1e56467bf8b0e0dbe2c2a    1     1     1        1        1     1\n",
       "com.sfeehha.bubble419               0     0     0        0        0     0"
      ]
     },
     "execution_count": 2,
     "metadata": {},
     "output_type": "execute_result"
    }
   ],
   "source": [
    "hindroid = Hindroid('data/out/train-half/')\n",
    "# %time hindroid.fit_predict('data/out/test-half/')\n",
    "hindroid.fit_predict('data/out/test-sample/')"
   ]
  },
  {
   "cell_type": "code",
   "execution_count": 3,
   "id": "solved-treaty",
   "metadata": {},
   "outputs": [
    {
     "name": "stdout",
     "output_type": "stream",
     "text": [
      "Computing unique APIs per app\n"
     ]
    },
    {
     "name": "stderr",
     "output_type": "stream",
     "text": [
      "Building A-test matrix: 100%|██████████| 2920/2920 [00:48<00:00, 59.69it/s] \n",
      "Batch:   0%|          | 0/6 [00:00<?, ?it/s]"
     ]
    },
    {
     "name": "stdout",
     "output_type": "stream",
     "text": [
      "Making predictions\n",
      "Predicting AAT\n"
     ]
    },
    {
     "name": "stderr",
     "output_type": "stream",
     "text": [
      "Batch: 100%|██████████| 6/6 [00:11<00:00,  1.96s/it]\n",
      "Batch:   0%|          | 0/6 [00:00<?, ?it/s]"
     ]
    },
    {
     "name": "stdout",
     "output_type": "stream",
     "text": [
      "Predicting ABAT\n"
     ]
    },
    {
     "name": "stderr",
     "output_type": "stream",
     "text": [
      "Batch: 100%|██████████| 6/6 [09:40<00:00, 96.80s/it] \n",
      "Batch:   0%|          | 0/6 [00:00<?, ?it/s]"
     ]
    },
    {
     "name": "stdout",
     "output_type": "stream",
     "text": [
      "Predicting APAT\n"
     ]
    },
    {
     "name": "stderr",
     "output_type": "stream",
     "text": [
      "Batch: 100%|██████████| 6/6 [00:31<00:00,  5.33s/it]\n",
      "Batch:   0%|          | 0/6 [00:00<?, ?it/s]"
     ]
    },
    {
     "name": "stdout",
     "output_type": "stream",
     "text": [
      "Predicting ABPBTAT\n"
     ]
    },
    {
     "name": "stderr",
     "output_type": "stream",
     "text": [
      "Batch: 100%|██████████| 6/6 [1:45:40<00:00, 1056.67s/it]\n",
      "Batch:   0%|          | 0/6 [00:00<?, ?it/s]"
     ]
    },
    {
     "name": "stdout",
     "output_type": "stream",
     "text": [
      "Predicting APBPTAT\n"
     ]
    },
    {
     "name": "stderr",
     "output_type": "stream",
     "text": [
      "Batch: 100%|██████████| 6/6 [1:07:24<00:00, 674.15s/it]\n"
     ]
    },
    {
     "name": "stdout",
     "output_type": "stream",
     "text": [
      "AAT:\n",
      "              precision    recall  f1-score   support\n",
      "\n",
      "           0       0.97      0.94      0.96       162\n",
      "           1       1.00      1.00      1.00      2758\n",
      "\n",
      "    accuracy                           1.00      2920\n",
      "   macro avg       0.99      0.97      0.98      2920\n",
      "weighted avg       1.00      1.00      1.00      2920\n",
      "\n",
      "ABAT:\n",
      "              precision    recall  f1-score   support\n",
      "\n",
      "           0       0.65      0.92      0.76       162\n",
      "           1       1.00      0.97      0.98      2758\n",
      "\n",
      "    accuracy                           0.97      2920\n",
      "   macro avg       0.82      0.95      0.87      2920\n",
      "weighted avg       0.98      0.97      0.97      2920\n",
      "\n",
      "APAT:\n",
      "              precision    recall  f1-score   support\n",
      "\n",
      "           0       0.96      0.81      0.88       162\n",
      "           1       0.99      1.00      0.99      2758\n",
      "\n",
      "    accuracy                           0.99      2920\n",
      "   macro avg       0.98      0.91      0.94      2920\n",
      "weighted avg       0.99      0.99      0.99      2920\n",
      "\n",
      "ABPBTAT:\n",
      "              precision    recall  f1-score   support\n",
      "\n",
      "           0       0.95      0.97      0.96       162\n",
      "           1       1.00      1.00      1.00      2758\n",
      "\n",
      "    accuracy                           1.00      2920\n",
      "   macro avg       0.97      0.98      0.98      2920\n",
      "weighted avg       1.00      1.00      1.00      2920\n",
      "\n",
      "APBPTAT:\n",
      "              precision    recall  f1-score   support\n",
      "\n",
      "           0       0.68      0.91      0.78       162\n",
      "           1       0.99      0.97      0.98      2758\n",
      "\n",
      "    accuracy                           0.97      2920\n",
      "   macro avg       0.84      0.94      0.88      2920\n",
      "weighted avg       0.98      0.97      0.97      2920\n",
      "\n",
      "CPU times: user 3h 2min 10s, sys: 8min 35s, total: 3h 10min 45s\n",
      "Wall time: 3h 7min 32s\n"
     ]
    },
    {
     "data": {
      "text/html": [
       "<div>\n",
       "<style scoped>\n",
       "    .dataframe tbody tr th:only-of-type {\n",
       "        vertical-align: middle;\n",
       "    }\n",
       "\n",
       "    .dataframe tbody tr th {\n",
       "        vertical-align: top;\n",
       "    }\n",
       "\n",
       "    .dataframe thead th {\n",
       "        text-align: right;\n",
       "    }\n",
       "</style>\n",
       "<table border=\"1\" class=\"dataframe\">\n",
       "  <thead>\n",
       "    <tr style=\"text-align: right;\">\n",
       "      <th></th>\n",
       "      <th>AAT</th>\n",
       "      <th>ABAT</th>\n",
       "      <th>APAT</th>\n",
       "      <th>ABPBTAT</th>\n",
       "      <th>APBPTAT</th>\n",
       "      <th>true</th>\n",
       "    </tr>\n",
       "    <tr>\n",
       "      <th>app</th>\n",
       "      <th></th>\n",
       "      <th></th>\n",
       "      <th></th>\n",
       "      <th></th>\n",
       "      <th></th>\n",
       "      <th></th>\n",
       "    </tr>\n",
       "  </thead>\n",
       "  <tbody>\n",
       "    <tr>\n",
       "      <th>00268453be254779f0c7590de47db944</th>\n",
       "      <td>1</td>\n",
       "      <td>1</td>\n",
       "      <td>1</td>\n",
       "      <td>1</td>\n",
       "      <td>1</td>\n",
       "      <td>1</td>\n",
       "    </tr>\n",
       "    <tr>\n",
       "      <th>002a7270ec52ec68ea3d979c85261308</th>\n",
       "      <td>1</td>\n",
       "      <td>1</td>\n",
       "      <td>1</td>\n",
       "      <td>1</td>\n",
       "      <td>1</td>\n",
       "      <td>1</td>\n",
       "    </tr>\n",
       "    <tr>\n",
       "      <th>0030e0003b7226e9142683e49b41a423</th>\n",
       "      <td>1</td>\n",
       "      <td>1</td>\n",
       "      <td>1</td>\n",
       "      <td>1</td>\n",
       "      <td>1</td>\n",
       "      <td>1</td>\n",
       "    </tr>\n",
       "    <tr>\n",
       "      <th>00335946abb79777f9fe2d0d96651e03</th>\n",
       "      <td>1</td>\n",
       "      <td>1</td>\n",
       "      <td>1</td>\n",
       "      <td>1</td>\n",
       "      <td>1</td>\n",
       "      <td>1</td>\n",
       "    </tr>\n",
       "    <tr>\n",
       "      <th>0038be31cfed95e13a33d87142eada70</th>\n",
       "      <td>1</td>\n",
       "      <td>1</td>\n",
       "      <td>1</td>\n",
       "      <td>1</td>\n",
       "      <td>1</td>\n",
       "      <td>1</td>\n",
       "    </tr>\n",
       "    <tr>\n",
       "      <th>...</th>\n",
       "      <td>...</td>\n",
       "      <td>...</td>\n",
       "      <td>...</td>\n",
       "      <td>...</td>\n",
       "      <td>...</td>\n",
       "      <td>...</td>\n",
       "    </tr>\n",
       "    <tr>\n",
       "      <th>org.edx.mobile</th>\n",
       "      <td>0</td>\n",
       "      <td>0</td>\n",
       "      <td>0</td>\n",
       "      <td>0</td>\n",
       "      <td>0</td>\n",
       "      <td>0</td>\n",
       "    </tr>\n",
       "    <tr>\n",
       "      <th>org.mozilla.firefox</th>\n",
       "      <td>0</td>\n",
       "      <td>0</td>\n",
       "      <td>1</td>\n",
       "      <td>0</td>\n",
       "      <td>0</td>\n",
       "      <td>0</td>\n",
       "    </tr>\n",
       "    <tr>\n",
       "      <th>org.videolan.vlc</th>\n",
       "      <td>0</td>\n",
       "      <td>0</td>\n",
       "      <td>0</td>\n",
       "      <td>0</td>\n",
       "      <td>0</td>\n",
       "      <td>0</td>\n",
       "    </tr>\n",
       "    <tr>\n",
       "      <th>pps.christmas.photo.frames</th>\n",
       "      <td>0</td>\n",
       "      <td>0</td>\n",
       "      <td>0</td>\n",
       "      <td>0</td>\n",
       "      <td>0</td>\n",
       "      <td>0</td>\n",
       "    </tr>\n",
       "    <tr>\n",
       "      <th>ru.serjik.christmaslive</th>\n",
       "      <td>1</td>\n",
       "      <td>1</td>\n",
       "      <td>1</td>\n",
       "      <td>1</td>\n",
       "      <td>0</td>\n",
       "      <td>0</td>\n",
       "    </tr>\n",
       "  </tbody>\n",
       "</table>\n",
       "<p>2920 rows × 6 columns</p>\n",
       "</div>"
      ],
      "text/plain": [
       "                                  AAT  ABAT  APAT  ABPBTAT  APBPTAT  true\n",
       "app                                                                      \n",
       "00268453be254779f0c7590de47db944    1     1     1        1        1     1\n",
       "002a7270ec52ec68ea3d979c85261308    1     1     1        1        1     1\n",
       "0030e0003b7226e9142683e49b41a423    1     1     1        1        1     1\n",
       "00335946abb79777f9fe2d0d96651e03    1     1     1        1        1     1\n",
       "0038be31cfed95e13a33d87142eada70    1     1     1        1        1     1\n",
       "...                               ...   ...   ...      ...      ...   ...\n",
       "org.edx.mobile                      0     0     0        0        0     0\n",
       "org.mozilla.firefox                 0     0     1        0        0     0\n",
       "org.videolan.vlc                    0     0     0        0        0     0\n",
       "pps.christmas.photo.frames          0     0     0        0        0     0\n",
       "ru.serjik.christmaslive             1     1     1        1        0     0\n",
       "\n",
       "[2920 rows x 6 columns]"
      ]
     },
     "execution_count": 3,
     "metadata": {},
     "output_type": "execute_result"
    }
   ],
   "source": [
    "hindroid = Hindroid('data/out/train-half/')\n",
    "%time hindroid.fit_predict('data/out/test-half/')\n",
    "# hindroid.fit_predict('data/out/test-sample/')"
   ]
  },
  {
   "cell_type": "markdown",
   "id": "painted-housing",
   "metadata": {},
   "source": [
    "Now that the code has finished running, let us view the results."
   ]
  },
  {
   "cell_type": "code",
   "execution_count": 2,
   "id": "injured-calvin",
   "metadata": {},
   "outputs": [
    {
     "name": "stdout",
     "output_type": "stream",
     "text": [
      "Computing unique APIs per app\n"
     ]
    },
    {
     "name": "stderr",
     "output_type": "stream",
     "text": [
      "Building A-test matrix: 100%|██████████| 6072/6072 [02:09<00:00, 46.79it/s]  \n"
     ]
    },
    {
     "name": "stdout",
     "output_type": "stream",
     "text": [
      "Making predictions\n"
     ]
    },
    {
     "name": "stderr",
     "output_type": "stream",
     "text": [
      "Predicting AAT, batch:   0%|          | 0/13 [00:00<?, ?it/s]"
     ]
    },
    {
     "name": "stdout",
     "output_type": "stream",
     "text": [
      "\n"
     ]
    },
    {
     "name": "stderr",
     "output_type": "stream",
     "text": [
      "Predicting AAT, batch: 100%|██████████| 13/13 [00:28<00:00,  2.21s/it]\n",
      "Predicting ABAT, batch:   0%|          | 0/13 [00:00<?, ?it/s]"
     ]
    },
    {
     "name": "stdout",
     "output_type": "stream",
     "text": [
      "\n"
     ]
    },
    {
     "name": "stderr",
     "output_type": "stream",
     "text": [
      "Predicting ABAT, batch: 100%|██████████| 13/13 [23:15<00:00, 107.38s/it]\n",
      "Predicting APAT, batch:   0%|          | 0/13 [00:00<?, ?it/s]"
     ]
    },
    {
     "name": "stdout",
     "output_type": "stream",
     "text": [
      "\n"
     ]
    },
    {
     "name": "stderr",
     "output_type": "stream",
     "text": [
      "Predicting APAT, batch: 100%|██████████| 13/13 [01:13<00:00,  5.69s/it]\n",
      "Predicting ABPBTAT, batch:   0%|          | 0/13 [00:00<?, ?it/s]"
     ]
    },
    {
     "name": "stdout",
     "output_type": "stream",
     "text": [
      "\n"
     ]
    },
    {
     "name": "stderr",
     "output_type": "stream",
     "text": [
      "Predicting ABPBTAT, batch: 100%|██████████| 13/13 [3:45:05<00:00, 1038.89s/it] \n",
      "Predicting APBPTAT, batch:   0%|          | 0/13 [00:00<?, ?it/s]"
     ]
    },
    {
     "name": "stdout",
     "output_type": "stream",
     "text": [
      "\n"
     ]
    },
    {
     "name": "stderr",
     "output_type": "stream",
     "text": [
      "Predicting APBPTAT, batch: 100%|██████████| 13/13 [2:17:54<00:00, 636.46s/it] \n"
     ]
    },
    {
     "name": "stdout",
     "output_type": "stream",
     "text": [
      "AAT:\n",
      "              precision    recall  f1-score   support\n",
      "\n",
      "           0       0.99      0.86      0.92       556\n",
      "           1       0.99      1.00      0.99      5516\n",
      "\n",
      "    accuracy                           0.99      6072\n",
      "   macro avg       0.99      0.93      0.96      6072\n",
      "weighted avg       0.99      0.99      0.99      6072\n",
      "\n",
      "ABAT:\n",
      "              precision    recall  f1-score   support\n",
      "\n",
      "           0       0.86      0.90      0.88       556\n",
      "           1       0.99      0.99      0.99      5516\n",
      "\n",
      "    accuracy                           0.98      6072\n",
      "   macro avg       0.92      0.94      0.93      6072\n",
      "weighted avg       0.98      0.98      0.98      6072\n",
      "\n",
      "APAT:\n",
      "              precision    recall  f1-score   support\n",
      "\n",
      "           0       0.99      0.79      0.88       556\n",
      "           1       0.98      1.00      0.99      5516\n",
      "\n",
      "    accuracy                           0.98      6072\n",
      "   macro avg       0.98      0.90      0.93      6072\n",
      "weighted avg       0.98      0.98      0.98      6072\n",
      "\n",
      "ABPBTAT:\n",
      "              precision    recall  f1-score   support\n",
      "\n",
      "           0       0.98      0.88      0.93       556\n",
      "           1       0.99      1.00      0.99      5516\n",
      "\n",
      "    accuracy                           0.99      6072\n",
      "   macro avg       0.99      0.94      0.96      6072\n",
      "weighted avg       0.99      0.99      0.99      6072\n",
      "\n",
      "APBPTAT:\n",
      "              precision    recall  f1-score   support\n",
      "\n",
      "           0       0.85      0.82      0.83       556\n",
      "           1       0.98      0.98      0.98      5516\n",
      "\n",
      "    accuracy                           0.97      6072\n",
      "   macro avg       0.91      0.90      0.91      6072\n",
      "weighted avg       0.97      0.97      0.97      6072\n",
      "\n",
      "CPU times: user 6h 26min 25s, sys: 19min 48s, total: 6h 46min 13s\n",
      "Wall time: 6h 38min 7s\n"
     ]
    },
    {
     "data": {
      "text/html": [
       "<div>\n",
       "<style scoped>\n",
       "    .dataframe tbody tr th:only-of-type {\n",
       "        vertical-align: middle;\n",
       "    }\n",
       "\n",
       "    .dataframe tbody tr th {\n",
       "        vertical-align: top;\n",
       "    }\n",
       "\n",
       "    .dataframe thead th {\n",
       "        text-align: right;\n",
       "    }\n",
       "</style>\n",
       "<table border=\"1\" class=\"dataframe\">\n",
       "  <thead>\n",
       "    <tr style=\"text-align: right;\">\n",
       "      <th></th>\n",
       "      <th>AAT</th>\n",
       "      <th>ABAT</th>\n",
       "      <th>APAT</th>\n",
       "      <th>ABPBTAT</th>\n",
       "      <th>APBPTAT</th>\n",
       "      <th>true</th>\n",
       "    </tr>\n",
       "    <tr>\n",
       "      <th>app</th>\n",
       "      <th></th>\n",
       "      <th></th>\n",
       "      <th></th>\n",
       "      <th></th>\n",
       "      <th></th>\n",
       "      <th></th>\n",
       "    </tr>\n",
       "  </thead>\n",
       "  <tbody>\n",
       "    <tr>\n",
       "      <th>com.kaktus.hyungkaktus</th>\n",
       "      <td>0</td>\n",
       "      <td>0</td>\n",
       "      <td>0</td>\n",
       "      <td>0</td>\n",
       "      <td>0</td>\n",
       "      <td>0</td>\n",
       "    </tr>\n",
       "    <tr>\n",
       "      <th>com.wedup.duduamzaleg</th>\n",
       "      <td>0</td>\n",
       "      <td>1</td>\n",
       "      <td>0</td>\n",
       "      <td>0</td>\n",
       "      <td>0</td>\n",
       "      <td>0</td>\n",
       "    </tr>\n",
       "    <tr>\n",
       "      <th>com.dublin_mobile123.cheat_gta_5</th>\n",
       "      <td>0</td>\n",
       "      <td>0</td>\n",
       "      <td>0</td>\n",
       "      <td>0</td>\n",
       "      <td>0</td>\n",
       "      <td>0</td>\n",
       "    </tr>\n",
       "    <tr>\n",
       "      <th>com.appall.optimizationbox</th>\n",
       "      <td>1</td>\n",
       "      <td>0</td>\n",
       "      <td>1</td>\n",
       "      <td>0</td>\n",
       "      <td>1</td>\n",
       "      <td>0</td>\n",
       "    </tr>\n",
       "    <tr>\n",
       "      <th>live.wallpaper.t910001560</th>\n",
       "      <td>1</td>\n",
       "      <td>0</td>\n",
       "      <td>1</td>\n",
       "      <td>0</td>\n",
       "      <td>0</td>\n",
       "      <td>0</td>\n",
       "    </tr>\n",
       "    <tr>\n",
       "      <th>...</th>\n",
       "      <td>...</td>\n",
       "      <td>...</td>\n",
       "      <td>...</td>\n",
       "      <td>...</td>\n",
       "      <td>...</td>\n",
       "      <td>...</td>\n",
       "    </tr>\n",
       "    <tr>\n",
       "      <th>com.nytimes.android</th>\n",
       "      <td>0</td>\n",
       "      <td>0</td>\n",
       "      <td>0</td>\n",
       "      <td>0</td>\n",
       "      <td>0</td>\n",
       "      <td>0</td>\n",
       "    </tr>\n",
       "    <tr>\n",
       "      <th>com.tinytouchtales.alchi</th>\n",
       "      <td>0</td>\n",
       "      <td>0</td>\n",
       "      <td>0</td>\n",
       "      <td>0</td>\n",
       "      <td>0</td>\n",
       "      <td>0</td>\n",
       "    </tr>\n",
       "    <tr>\n",
       "      <th>com.mycelium.wallet</th>\n",
       "      <td>0</td>\n",
       "      <td>0</td>\n",
       "      <td>0</td>\n",
       "      <td>0</td>\n",
       "      <td>0</td>\n",
       "      <td>0</td>\n",
       "    </tr>\n",
       "    <tr>\n",
       "      <th>com.aceviral.smashycity</th>\n",
       "      <td>0</td>\n",
       "      <td>0</td>\n",
       "      <td>0</td>\n",
       "      <td>0</td>\n",
       "      <td>0</td>\n",
       "      <td>0</td>\n",
       "    </tr>\n",
       "    <tr>\n",
       "      <th>com.wonderplanet.CrashFever</th>\n",
       "      <td>0</td>\n",
       "      <td>0</td>\n",
       "      <td>0</td>\n",
       "      <td>0</td>\n",
       "      <td>0</td>\n",
       "      <td>0</td>\n",
       "    </tr>\n",
       "  </tbody>\n",
       "</table>\n",
       "<p>6072 rows × 6 columns</p>\n",
       "</div>"
      ],
      "text/plain": [
       "                                  AAT  ABAT  APAT  ABPBTAT  APBPTAT  true\n",
       "app                                                                      \n",
       "com.kaktus.hyungkaktus              0     0     0        0        0     0\n",
       "com.wedup.duduamzaleg               0     1     0        0        0     0\n",
       "com.dublin_mobile123.cheat_gta_5    0     0     0        0        0     0\n",
       "com.appall.optimizationbox          1     0     1        0        1     0\n",
       "live.wallpaper.t910001560           1     0     1        0        0     0\n",
       "...                               ...   ...   ...      ...      ...   ...\n",
       "com.nytimes.android                 0     0     0        0        0     0\n",
       "com.tinytouchtales.alchi            0     0     0        0        0     0\n",
       "com.mycelium.wallet                 0     0     0        0        0     0\n",
       "com.aceviral.smashycity             0     0     0        0        0     0\n",
       "com.wonderplanet.CrashFever         0     0     0        0        0     0\n",
       "\n",
       "[6072 rows x 6 columns]"
      ]
     },
     "execution_count": 2,
     "metadata": {},
     "output_type": "execute_result"
    }
   ],
   "source": [
    "hindroid = Hindroid('data/out/train-half/')\n",
    "%time hindroid.fit_predict('data/out/all-apps/')\n",
    "# hindroid.fit_predict('data/out/test-sample/')"
   ]
  },
  {
   "cell_type": "code",
   "execution_count": 33,
   "id": "convertible-editing",
   "metadata": {
    "scrolled": true
   },
   "outputs": [
    {
     "data": {
      "text/html": [
       "<div>\n",
       "<style scoped>\n",
       "    .dataframe tbody tr th:only-of-type {\n",
       "        vertical-align: middle;\n",
       "    }\n",
       "\n",
       "    .dataframe tbody tr th {\n",
       "        vertical-align: top;\n",
       "    }\n",
       "\n",
       "    .dataframe thead th {\n",
       "        text-align: right;\n",
       "    }\n",
       "</style>\n",
       "<table border=\"1\" class=\"dataframe\">\n",
       "  <thead>\n",
       "    <tr style=\"text-align: right;\">\n",
       "      <th></th>\n",
       "      <th>ACC</th>\n",
       "      <th>TPR</th>\n",
       "      <th>F1</th>\n",
       "      <th>TP</th>\n",
       "      <th>TN</th>\n",
       "      <th>FP</th>\n",
       "      <th>FN</th>\n",
       "    </tr>\n",
       "  </thead>\n",
       "  <tbody>\n",
       "    <tr>\n",
       "      <th>m2vDroid</th>\n",
       "      <td>0.985274</td>\n",
       "      <td>1.000000</td>\n",
       "      <td>0.992265</td>\n",
       "      <td>2758</td>\n",
       "      <td>119</td>\n",
       "      <td>43</td>\n",
       "      <td>0</td>\n",
       "    </tr>\n",
       "    <tr>\n",
       "      <th>AAT</th>\n",
       "      <td>0.995548</td>\n",
       "      <td>0.998550</td>\n",
       "      <td>0.997645</td>\n",
       "      <td>2754</td>\n",
       "      <td>153</td>\n",
       "      <td>9</td>\n",
       "      <td>4</td>\n",
       "    </tr>\n",
       "    <tr>\n",
       "      <th>ABAT</th>\n",
       "      <td>0.968493</td>\n",
       "      <td>0.971356</td>\n",
       "      <td>0.983119</td>\n",
       "      <td>2679</td>\n",
       "      <td>149</td>\n",
       "      <td>13</td>\n",
       "      <td>79</td>\n",
       "    </tr>\n",
       "    <tr>\n",
       "      <th>APAT</th>\n",
       "      <td>0.988014</td>\n",
       "      <td>0.998187</td>\n",
       "      <td>0.993683</td>\n",
       "      <td>2753</td>\n",
       "      <td>132</td>\n",
       "      <td>30</td>\n",
       "      <td>5</td>\n",
       "    </tr>\n",
       "    <tr>\n",
       "      <th>ABPBTAT</th>\n",
       "      <td>0.995548</td>\n",
       "      <td>0.997099</td>\n",
       "      <td>0.997642</td>\n",
       "      <td>2750</td>\n",
       "      <td>157</td>\n",
       "      <td>5</td>\n",
       "      <td>8</td>\n",
       "    </tr>\n",
       "    <tr>\n",
       "      <th>APBPTAT</th>\n",
       "      <td>0.970890</td>\n",
       "      <td>0.974257</td>\n",
       "      <td>0.984429</td>\n",
       "      <td>2687</td>\n",
       "      <td>148</td>\n",
       "      <td>14</td>\n",
       "      <td>71</td>\n",
       "    </tr>\n",
       "  </tbody>\n",
       "</table>\n",
       "</div>"
      ],
      "text/plain": [
       "               ACC       TPR        F1    TP   TN  FP  FN\n",
       "m2vDroid  0.985274  1.000000  0.992265  2758  119  43   0\n",
       "AAT       0.995548  0.998550  0.997645  2754  153   9   4\n",
       "ABAT      0.968493  0.971356  0.983119  2679  149  13  79\n",
       "APAT      0.988014  0.998187  0.993683  2753  132  30   5\n",
       "ABPBTAT   0.995548  0.997099  0.997642  2750  157   5   8\n",
       "APBPTAT   0.970890  0.974257  0.984429  2687  148  14  71"
      ]
     },
     "execution_count": 33,
     "metadata": {},
     "output_type": "execute_result"
    }
   ],
   "source": [
    "create_performance_table('data/out/test-half/m2v-train-half/predictions.csv', \n",
    "                         'data/out/test-half/train-half_HD_predictions.csv', \n",
    "                         'reports/assets/baseline_performance_chart.csv')"
   ]
  },
  {
   "cell_type": "code",
   "execution_count": null,
   "id": "exotic-airport",
   "metadata": {},
   "outputs": [],
   "source": [
    "sparse.csr_matrix(features, dtype='i1')"
   ]
  }
 ],
 "metadata": {
  "kernelspec": {
   "display_name": "Python 3",
   "language": "python",
   "name": "python3"
  },
  "language_info": {
   "codemirror_mode": {
    "name": "ipython",
    "version": 3
   },
   "file_extension": ".py",
   "mimetype": "text/x-python",
   "name": "python",
   "nbconvert_exporter": "python",
   "pygments_lexer": "ipython3",
   "version": "3.8.6"
  }
 },
 "nbformat": 4,
 "nbformat_minor": 5
}
