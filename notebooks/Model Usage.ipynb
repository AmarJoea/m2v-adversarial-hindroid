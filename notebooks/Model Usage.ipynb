{
 "cells": [
  {
   "cell_type": "code",
   "execution_count": 2,
   "id": "photographic-vector",
   "metadata": {},
   "outputs": [],
   "source": [
    "import os\n",
    "# move to project root\n",
    "os.chdir('/home/rcgonzal/DSC180Malware/m2v-adversarial-hindroid/')\n",
    "\n",
    "import pandas as pd\n",
    "import numpy as np\n",
    "\n",
    "from src.model.model import M2VDroid\n",
    "from src.model.hindroid import Hindroid\n",
    "from src.data.hindroid_etl import make_models\n",
    "from src.utils import find_apps\n",
    "\n",
    "%load_ext autoreload\n",
    "%autoreload 2"
   ]
  },
  {
   "cell_type": "markdown",
   "id": "lucky-scholarship",
   "metadata": {},
   "source": [
    "# Purpose\n",
    "This notebook should guide a user with some detail in how to use this package. Note all paths should be relative to the project directory unless of course the root indicator is present i.e. `/`.\n",
    "\n",
    "# Data Selection\n",
    "We assume you should have access to Android apps already decompiled into their Smali representations. If you have not done this, please look into how to use Apktool and Smali to decompile Android APKs (We may provide a script in the future). What we do provide is the `find_app` function which, given a directory, will recursively look for decompiled apps and return a DataFrame with their locations. This is how the `app_list.csv` file begins. "
   ]
  },
  {
   "cell_type": "code",
   "execution_count": 2,
   "id": "daily-payroll",
   "metadata": {},
   "outputs": [
    {
     "data": {
      "text/html": [
       "<div>\n",
       "<style scoped>\n",
       "    .dataframe tbody tr th:only-of-type {\n",
       "        vertical-align: middle;\n",
       "    }\n",
       "\n",
       "    .dataframe tbody tr th {\n",
       "        vertical-align: top;\n",
       "    }\n",
       "\n",
       "    .dataframe thead th {\n",
       "        text-align: right;\n",
       "    }\n",
       "</style>\n",
       "<table border=\"1\" class=\"dataframe\">\n",
       "  <thead>\n",
       "    <tr style=\"text-align: right;\">\n",
       "      <th></th>\n",
       "      <th>app_dir</th>\n",
       "    </tr>\n",
       "    <tr>\n",
       "      <th>app</th>\n",
       "      <th></th>\n",
       "    </tr>\n",
       "  </thead>\n",
       "  <tbody>\n",
       "    <tr>\n",
       "      <th>testapp1</th>\n",
       "      <td>test/testdata/testapp1</td>\n",
       "    </tr>\n",
       "    <tr>\n",
       "      <th>testapp2</th>\n",
       "      <td>test/testdata/testapp2</td>\n",
       "    </tr>\n",
       "  </tbody>\n",
       "</table>\n",
       "</div>"
      ],
      "text/plain": [
       "                         app_dir\n",
       "app                             \n",
       "testapp1  test/testdata/testapp1\n",
       "testapp2  test/testdata/testapp2"
      ]
     },
     "execution_count": 2,
     "metadata": {},
     "output_type": "execute_result"
    }
   ],
   "source": [
    "find_apps('test/testdata/')"
   ]
  },
  {
   "cell_type": "markdown",
   "id": "portuguese-switzerland",
   "metadata": {},
   "source": [
    "In some cases like the file `data/out/all-apps/app_list.csv`, we add more columns to this table such as what category an app is from and whether is it malware or not in order for us to label our examples."
   ]
  },
  {
   "cell_type": "code",
   "execution_count": 3,
   "id": "regulated-queen",
   "metadata": {},
   "outputs": [
    {
     "data": {
      "text/html": [
       "<div>\n",
       "<style scoped>\n",
       "    .dataframe tbody tr th:only-of-type {\n",
       "        vertical-align: middle;\n",
       "    }\n",
       "\n",
       "    .dataframe tbody tr th {\n",
       "        vertical-align: top;\n",
       "    }\n",
       "\n",
       "    .dataframe thead th {\n",
       "        text-align: right;\n",
       "    }\n",
       "</style>\n",
       "<table border=\"1\" class=\"dataframe\">\n",
       "  <thead>\n",
       "    <tr style=\"text-align: right;\">\n",
       "      <th></th>\n",
       "      <th>app_dir</th>\n",
       "      <th>category</th>\n",
       "      <th>malware</th>\n",
       "    </tr>\n",
       "    <tr>\n",
       "      <th>app</th>\n",
       "      <th></th>\n",
       "      <th></th>\n",
       "      <th></th>\n",
       "    </tr>\n",
       "  </thead>\n",
       "  <tbody>\n",
       "    <tr>\n",
       "      <th>com.kaktus.hyungkaktus</th>\n",
       "      <td>/teams/DSC180A_FA20_A00/a04malware/random-apps...</td>\n",
       "      <td>random-apps</td>\n",
       "      <td>0</td>\n",
       "    </tr>\n",
       "    <tr>\n",
       "      <th>com.wedup.duduamzaleg</th>\n",
       "      <td>/teams/DSC180A_FA20_A00/a04malware/random-apps...</td>\n",
       "      <td>random-apps</td>\n",
       "      <td>0</td>\n",
       "    </tr>\n",
       "    <tr>\n",
       "      <th>com.dublin_mobile123.cheat_gta_5</th>\n",
       "      <td>/teams/DSC180A_FA20_A00/a04malware/random-apps...</td>\n",
       "      <td>random-apps</td>\n",
       "      <td>0</td>\n",
       "    </tr>\n",
       "    <tr>\n",
       "      <th>com.appall.optimizationbox</th>\n",
       "      <td>/teams/DSC180A_FA20_A00/a04malware/random-apps...</td>\n",
       "      <td>random-apps</td>\n",
       "      <td>0</td>\n",
       "    </tr>\n",
       "    <tr>\n",
       "      <th>live.wallpaper.t910001560</th>\n",
       "      <td>/teams/DSC180A_FA20_A00/a04malware/random-apps...</td>\n",
       "      <td>random-apps</td>\n",
       "      <td>0</td>\n",
       "    </tr>\n",
       "    <tr>\n",
       "      <th>...</th>\n",
       "      <td>...</td>\n",
       "      <td>...</td>\n",
       "      <td>...</td>\n",
       "    </tr>\n",
       "    <tr>\n",
       "      <th>com.nytimes.android</th>\n",
       "      <td>/teams/DSC180A_FA20_A00/a04malware/popular-app...</td>\n",
       "      <td>popular-apps</td>\n",
       "      <td>0</td>\n",
       "    </tr>\n",
       "    <tr>\n",
       "      <th>com.tinytouchtales.alchi</th>\n",
       "      <td>/teams/DSC180A_FA20_A00/a04malware/popular-app...</td>\n",
       "      <td>popular-apps</td>\n",
       "      <td>0</td>\n",
       "    </tr>\n",
       "    <tr>\n",
       "      <th>com.mycelium.wallet</th>\n",
       "      <td>/teams/DSC180A_FA20_A00/a04malware/popular-app...</td>\n",
       "      <td>popular-apps</td>\n",
       "      <td>0</td>\n",
       "    </tr>\n",
       "    <tr>\n",
       "      <th>com.aceviral.smashycity</th>\n",
       "      <td>/teams/DSC180A_FA20_A00/a04malware/popular-app...</td>\n",
       "      <td>popular-apps</td>\n",
       "      <td>0</td>\n",
       "    </tr>\n",
       "    <tr>\n",
       "      <th>com.wonderplanet.CrashFever</th>\n",
       "      <td>/teams/DSC180A_FA20_A00/a04malware/popular-app...</td>\n",
       "      <td>popular-apps</td>\n",
       "      <td>0</td>\n",
       "    </tr>\n",
       "  </tbody>\n",
       "</table>\n",
       "<p>6072 rows × 3 columns</p>\n",
       "</div>"
      ],
      "text/plain": [
       "                                                                            app_dir  \\\n",
       "app                                                                                   \n",
       "com.kaktus.hyungkaktus            /teams/DSC180A_FA20_A00/a04malware/random-apps...   \n",
       "com.wedup.duduamzaleg             /teams/DSC180A_FA20_A00/a04malware/random-apps...   \n",
       "com.dublin_mobile123.cheat_gta_5  /teams/DSC180A_FA20_A00/a04malware/random-apps...   \n",
       "com.appall.optimizationbox        /teams/DSC180A_FA20_A00/a04malware/random-apps...   \n",
       "live.wallpaper.t910001560         /teams/DSC180A_FA20_A00/a04malware/random-apps...   \n",
       "...                                                                             ...   \n",
       "com.nytimes.android               /teams/DSC180A_FA20_A00/a04malware/popular-app...   \n",
       "com.tinytouchtales.alchi          /teams/DSC180A_FA20_A00/a04malware/popular-app...   \n",
       "com.mycelium.wallet               /teams/DSC180A_FA20_A00/a04malware/popular-app...   \n",
       "com.aceviral.smashycity           /teams/DSC180A_FA20_A00/a04malware/popular-app...   \n",
       "com.wonderplanet.CrashFever       /teams/DSC180A_FA20_A00/a04malware/popular-app...   \n",
       "\n",
       "                                      category malware  \n",
       "app                                                     \n",
       "com.kaktus.hyungkaktus             random-apps       0  \n",
       "com.wedup.duduamzaleg              random-apps       0  \n",
       "com.dublin_mobile123.cheat_gta_5   random-apps       0  \n",
       "com.appall.optimizationbox         random-apps       0  \n",
       "live.wallpaper.t910001560          random-apps       0  \n",
       "...                                        ...     ...  \n",
       "com.nytimes.android               popular-apps       0  \n",
       "com.tinytouchtales.alchi          popular-apps       0  \n",
       "com.mycelium.wallet               popular-apps       0  \n",
       "com.aceviral.smashycity           popular-apps       0  \n",
       "com.wonderplanet.CrashFever       popular-apps       0  \n",
       "\n",
       "[6072 rows x 3 columns]"
      ]
     },
     "execution_count": 3,
     "metadata": {},
     "output_type": "execute_result"
    }
   ],
   "source": [
    "all_apps = pd.read_csv('data/out/all-apps/app_list.csv', dtype=str, index_col='app')\n",
    "all_apps"
   ]
  },
  {
   "cell_type": "markdown",
   "id": "presidential-cache",
   "metadata": {},
   "source": [
    "**Aside:** `all-apps` is a special folder in our out project because it houses all apps -- and their API data in `app-data`! When parsed in our ETL, each app is extracted into its own `.csv` containing every API call made within it, making it easy to pick and choose which apps we want to select just by knowing their names (or md5s for malware). \n",
    "\n",
    "With that said, let's return to selecting our data. We want to split our data into stratified halves, both with equal amounts of benign apps and malware. We also have a category `random-apps` which we do not know the label to and must drop from our dataset."
   ]
  },
  {
   "cell_type": "code",
   "execution_count": 4,
   "id": "monthly-calculation",
   "metadata": {},
   "outputs": [
    {
     "data": {
      "text/html": [
       "<div>\n",
       "<style scoped>\n",
       "    .dataframe tbody tr th:only-of-type {\n",
       "        vertical-align: middle;\n",
       "    }\n",
       "\n",
       "    .dataframe tbody tr th {\n",
       "        vertical-align: top;\n",
       "    }\n",
       "\n",
       "    .dataframe thead th {\n",
       "        text-align: right;\n",
       "    }\n",
       "</style>\n",
       "<table border=\"1\" class=\"dataframe\">\n",
       "  <thead>\n",
       "    <tr style=\"text-align: right;\">\n",
       "      <th></th>\n",
       "      <th>app_dir</th>\n",
       "      <th>category</th>\n",
       "    </tr>\n",
       "    <tr>\n",
       "      <th>app</th>\n",
       "      <th></th>\n",
       "      <th></th>\n",
       "    </tr>\n",
       "  </thead>\n",
       "  <tbody>\n",
       "    <tr>\n",
       "      <th>com.hcg.cok.gp</th>\n",
       "      <td>/teams/DSC180A_FA20_A00/a04malware/popular-app...</td>\n",
       "      <td>popular-apps</td>\n",
       "    </tr>\n",
       "    <tr>\n",
       "      <th>com.glu.wrestling</th>\n",
       "      <td>/teams/DSC180A_FA20_A00/a04malware/popular-app...</td>\n",
       "      <td>popular-apps</td>\n",
       "    </tr>\n",
       "    <tr>\n",
       "      <th>com.tmusic.christmassongs</th>\n",
       "      <td>/teams/DSC180A_FA20_A00/a04malware/popular-app...</td>\n",
       "      <td>popular-apps</td>\n",
       "    </tr>\n",
       "    <tr>\n",
       "      <th>com.han.dominoes</th>\n",
       "      <td>/teams/DSC180A_FA20_A00/a04malware/popular-app...</td>\n",
       "      <td>popular-apps</td>\n",
       "    </tr>\n",
       "    <tr>\n",
       "      <th>com.jetappfactory.jetaudio</th>\n",
       "      <td>/teams/DSC180A_FA20_A00/a04malware/popular-app...</td>\n",
       "      <td>popular-apps</td>\n",
       "    </tr>\n",
       "    <tr>\n",
       "      <th>...</th>\n",
       "      <td>...</td>\n",
       "      <td>...</td>\n",
       "    </tr>\n",
       "    <tr>\n",
       "      <th>7280d6d74716513369c3a8b8f1d94676</th>\n",
       "      <td>/teams/DSC180A_FA20_A00/a04malware/malware/Ban...</td>\n",
       "      <td>malware</td>\n",
       "    </tr>\n",
       "    <tr>\n",
       "      <th>5d59c7c74c7133d94b8a257d749c823a</th>\n",
       "      <td>/teams/DSC180A_FA20_A00/a04malware/malware/Fak...</td>\n",
       "      <td>malware</td>\n",
       "    </tr>\n",
       "    <tr>\n",
       "      <th>3a54c9c23e49c0c67185d22ad2cbfc58</th>\n",
       "      <td>/teams/DSC180A_FA20_A00/a04malware/malware/Fak...</td>\n",
       "      <td>malware</td>\n",
       "    </tr>\n",
       "    <tr>\n",
       "      <th>ba6633d214a4e85cb157acb8da9054c1</th>\n",
       "      <td>/teams/DSC180A_FA20_A00/a04malware/malware/Fak...</td>\n",
       "      <td>malware</td>\n",
       "    </tr>\n",
       "    <tr>\n",
       "      <th>14c9fce89d69ade3b54dd06e80d0d715</th>\n",
       "      <td>/teams/DSC180A_FA20_A00/a04malware/malware/Fak...</td>\n",
       "      <td>malware</td>\n",
       "    </tr>\n",
       "  </tbody>\n",
       "</table>\n",
       "<p>2920 rows × 2 columns</p>\n",
       "</div>"
      ],
      "text/plain": [
       "                                                                            app_dir  \\\n",
       "app                                                                                   \n",
       "com.hcg.cok.gp                    /teams/DSC180A_FA20_A00/a04malware/popular-app...   \n",
       "com.glu.wrestling                 /teams/DSC180A_FA20_A00/a04malware/popular-app...   \n",
       "com.tmusic.christmassongs         /teams/DSC180A_FA20_A00/a04malware/popular-app...   \n",
       "com.han.dominoes                  /teams/DSC180A_FA20_A00/a04malware/popular-app...   \n",
       "com.jetappfactory.jetaudio        /teams/DSC180A_FA20_A00/a04malware/popular-app...   \n",
       "...                                                                             ...   \n",
       "7280d6d74716513369c3a8b8f1d94676  /teams/DSC180A_FA20_A00/a04malware/malware/Ban...   \n",
       "5d59c7c74c7133d94b8a257d749c823a  /teams/DSC180A_FA20_A00/a04malware/malware/Fak...   \n",
       "3a54c9c23e49c0c67185d22ad2cbfc58  /teams/DSC180A_FA20_A00/a04malware/malware/Fak...   \n",
       "ba6633d214a4e85cb157acb8da9054c1  /teams/DSC180A_FA20_A00/a04malware/malware/Fak...   \n",
       "14c9fce89d69ade3b54dd06e80d0d715  /teams/DSC180A_FA20_A00/a04malware/malware/Fak...   \n",
       "\n",
       "                                      category  \n",
       "app                                             \n",
       "com.hcg.cok.gp                    popular-apps  \n",
       "com.glu.wrestling                 popular-apps  \n",
       "com.tmusic.christmassongs         popular-apps  \n",
       "com.han.dominoes                  popular-apps  \n",
       "com.jetappfactory.jetaudio        popular-apps  \n",
       "...                                        ...  \n",
       "7280d6d74716513369c3a8b8f1d94676       malware  \n",
       "5d59c7c74c7133d94b8a257d749c823a       malware  \n",
       "3a54c9c23e49c0c67185d22ad2cbfc58       malware  \n",
       "ba6633d214a4e85cb157acb8da9054c1       malware  \n",
       "14c9fce89d69ade3b54dd06e80d0d715       malware  \n",
       "\n",
       "[2920 rows x 2 columns]"
      ]
     },
     "execution_count": 4,
     "metadata": {},
     "output_type": "execute_result"
    }
   ],
   "source": [
    "all_apps = all_apps[all_apps.category != 'random-apps']\n",
    "training_sample = (\n",
    "    all_apps.groupby('malware')\n",
    "    .apply(lambda x: x.sample(frac=0.5, random_state=42)) # perform stratified sample\n",
    "    .drop(columns='malware').reset_index().drop(columns='malware').set_index('app') # reset the index\n",
    ")\n",
    "training_sample"
   ]
  },
  {
   "cell_type": "code",
   "execution_count": 5,
   "id": "jewish-company",
   "metadata": {},
   "outputs": [
    {
     "data": {
      "text/html": [
       "<div>\n",
       "<style scoped>\n",
       "    .dataframe tbody tr th:only-of-type {\n",
       "        vertical-align: middle;\n",
       "    }\n",
       "\n",
       "    .dataframe tbody tr th {\n",
       "        vertical-align: top;\n",
       "    }\n",
       "\n",
       "    .dataframe thead th {\n",
       "        text-align: right;\n",
       "    }\n",
       "</style>\n",
       "<table border=\"1\" class=\"dataframe\">\n",
       "  <thead>\n",
       "    <tr style=\"text-align: right;\">\n",
       "      <th></th>\n",
       "      <th>app_dir</th>\n",
       "      <th>category</th>\n",
       "    </tr>\n",
       "    <tr>\n",
       "      <th>app</th>\n",
       "      <th></th>\n",
       "      <th></th>\n",
       "    </tr>\n",
       "  </thead>\n",
       "  <tbody>\n",
       "    <tr>\n",
       "      <th>00268453be254779f0c7590de47db944</th>\n",
       "      <td>/teams/DSC180A_FA20_A00/a04malware/malware/Dro...</td>\n",
       "      <td>malware</td>\n",
       "    </tr>\n",
       "    <tr>\n",
       "      <th>002a7270ec52ec68ea3d979c85261308</th>\n",
       "      <td>/teams/DSC180A_FA20_A00/a04malware/malware/Ban...</td>\n",
       "      <td>malware</td>\n",
       "    </tr>\n",
       "    <tr>\n",
       "      <th>0030e0003b7226e9142683e49b41a423</th>\n",
       "      <td>/teams/DSC180A_FA20_A00/a04malware/malware/Fak...</td>\n",
       "      <td>malware</td>\n",
       "    </tr>\n",
       "    <tr>\n",
       "      <th>00335946abb79777f9fe2d0d96651e03</th>\n",
       "      <td>/teams/DSC180A_FA20_A00/a04malware/malware/Vid...</td>\n",
       "      <td>malware</td>\n",
       "    </tr>\n",
       "    <tr>\n",
       "      <th>0038be31cfed95e13a33d87142eada70</th>\n",
       "      <td>/teams/DSC180A_FA20_A00/a04malware/malware/Fak...</td>\n",
       "      <td>malware</td>\n",
       "    </tr>\n",
       "    <tr>\n",
       "      <th>...</th>\n",
       "      <td>...</td>\n",
       "      <td>...</td>\n",
       "    </tr>\n",
       "    <tr>\n",
       "      <th>org.edx.mobile</th>\n",
       "      <td>/teams/DSC180A_FA20_A00/a04malware/popular-app...</td>\n",
       "      <td>popular-apps</td>\n",
       "    </tr>\n",
       "    <tr>\n",
       "      <th>org.mozilla.firefox</th>\n",
       "      <td>/teams/DSC180A_FA20_A00/a04malware/popular-app...</td>\n",
       "      <td>popular-apps</td>\n",
       "    </tr>\n",
       "    <tr>\n",
       "      <th>org.videolan.vlc</th>\n",
       "      <td>/teams/DSC180A_FA20_A00/a04malware/popular-app...</td>\n",
       "      <td>popular-apps</td>\n",
       "    </tr>\n",
       "    <tr>\n",
       "      <th>pps.christmas.photo.frames</th>\n",
       "      <td>/teams/DSC180A_FA20_A00/a04malware/popular-app...</td>\n",
       "      <td>popular-apps</td>\n",
       "    </tr>\n",
       "    <tr>\n",
       "      <th>ru.serjik.christmaslive</th>\n",
       "      <td>/teams/DSC180A_FA20_A00/a04malware/popular-app...</td>\n",
       "      <td>popular-apps</td>\n",
       "    </tr>\n",
       "  </tbody>\n",
       "</table>\n",
       "<p>2920 rows × 2 columns</p>\n",
       "</div>"
      ],
      "text/plain": [
       "                                                                            app_dir  \\\n",
       "app                                                                                   \n",
       "00268453be254779f0c7590de47db944  /teams/DSC180A_FA20_A00/a04malware/malware/Dro...   \n",
       "002a7270ec52ec68ea3d979c85261308  /teams/DSC180A_FA20_A00/a04malware/malware/Ban...   \n",
       "0030e0003b7226e9142683e49b41a423  /teams/DSC180A_FA20_A00/a04malware/malware/Fak...   \n",
       "00335946abb79777f9fe2d0d96651e03  /teams/DSC180A_FA20_A00/a04malware/malware/Vid...   \n",
       "0038be31cfed95e13a33d87142eada70  /teams/DSC180A_FA20_A00/a04malware/malware/Fak...   \n",
       "...                                                                             ...   \n",
       "org.edx.mobile                    /teams/DSC180A_FA20_A00/a04malware/popular-app...   \n",
       "org.mozilla.firefox               /teams/DSC180A_FA20_A00/a04malware/popular-app...   \n",
       "org.videolan.vlc                  /teams/DSC180A_FA20_A00/a04malware/popular-app...   \n",
       "pps.christmas.photo.frames        /teams/DSC180A_FA20_A00/a04malware/popular-app...   \n",
       "ru.serjik.christmaslive           /teams/DSC180A_FA20_A00/a04malware/popular-app...   \n",
       "\n",
       "                                      category  \n",
       "app                                             \n",
       "00268453be254779f0c7590de47db944       malware  \n",
       "002a7270ec52ec68ea3d979c85261308       malware  \n",
       "0030e0003b7226e9142683e49b41a423       malware  \n",
       "00335946abb79777f9fe2d0d96651e03       malware  \n",
       "0038be31cfed95e13a33d87142eada70       malware  \n",
       "...                                        ...  \n",
       "org.edx.mobile                    popular-apps  \n",
       "org.mozilla.firefox               popular-apps  \n",
       "org.videolan.vlc                  popular-apps  \n",
       "pps.christmas.photo.frames        popular-apps  \n",
       "ru.serjik.christmaslive           popular-apps  \n",
       "\n",
       "[2920 rows x 2 columns]"
      ]
     },
     "execution_count": 5,
     "metadata": {},
     "output_type": "execute_result"
    }
   ],
   "source": [
    "testing_sample = all_apps[['app_dir', 'category']].loc[all_apps.index.difference(training_sample.index)]\n",
    "testing_sample"
   ]
  },
  {
   "cell_type": "code",
   "execution_count": 6,
   "id": "miniature-adjustment",
   "metadata": {},
   "outputs": [],
   "source": [
    "# create two separate directories for each sample and save both to their respective directory\n",
    "os.makedirs('data/out/train-half', exist_ok=True)\n",
    "os.makedirs('data/out/test-half', exist_ok=True)\n",
    "training_sample.to_csv('data/out/train-half/app_list.csv')\n",
    "testing_sample.to_csv('data/out/test-half/app_list.csv')"
   ]
  },
  {
   "cell_type": "markdown",
   "id": "equal-recruitment",
   "metadata": {},
   "source": [
    "Now we must train a model on the training set. To do that we must run the ETL pipeline on that directory. Therefore we set `config/etl-params/etl-params.json` as shown below and then execute `python run.py data`. *This may take a few hours run especially the random walks!*\n",
    "\n",
    "```json\n",
    "{\n",
    "    \"outfolder\": \"data/out/train-half\",\n",
    "    \"parse_params\": {\n",
    "        \"nprocs\": 16\n",
    "    },\n",
    "    \"feature_params\": {\n",
    "        \"redo\": false,\n",
    "        \"walk_args\": {\n",
    "            \"nprocs\": 16,\n",
    "            \"length\": 60,\n",
    "            \"n\": 3,\n",
    "            \"metapaths\": [\n",
    "                [\"app\", \"api\", \"app\"],\n",
    "                [\"app\", \"api\", \"method\", \"api\", \"app\"],\n",
    "                [\"app\", \"api\", \"package\", \"api\", \"app\"],\n",
    "                [\"app\", \"api\", \"package\", \"api\", \"method\", \"api\", \"app\"],\n",
    "                [\"app\", \"api\", \"method\", \"api\", \"package\", \"api\", \"app\"]\n",
    "            ]\n",
    "        },\n",
    "        \"w2v_args\": {\n",
    "            \"size\": 128,\n",
    "            \"window\": 7,\n",
    "            \"min_count\": 0,\n",
    "            \"negative\": 5,\n",
    "            \"sg\": 1,\n",
    "            \"workers\": 16,\n",
    "            \"iter\": 5\n",
    "        }\n",
    "    },\n",
    "    \"hindroid_params\": {\n",
    "        \"redo\": false\n",
    "    }\n",
    "}\n",
    "```"
   ]
  },
  {
   "cell_type": "code",
   "execution_count": 14,
   "id": "lesbian-english",
   "metadata": {
    "scrolled": true
   },
   "outputs": [
    {
     "name": "stdout",
     "output_type": "stream",
     "text": [
      "2021-02-16 01:24:54.385458: W tensorflow/stream_executor/platform/default/dso_loader.cc:60] Could not load dynamic library 'libcudart.so.11.0'; dlerror: libcudart.so.11.0: cannot open shared object file: No such file or directory; LD_LIBRARY_PATH: /usr/local/nvidia/lib:/usr/local/nvidia/lib64\n",
      "2021-02-16 01:24:54.385500: I tensorflow/stream_executor/cuda/cudart_stub.cc:29] Ignore above cudart dlerror if you do not have a GPU set up on your machine.\n",
      "2021-02-16 01:24:56.891521: I tensorflow/compiler/jit/xla_cpu_device.cc:41] Not creating XLA devices, tf_xla_enable_xla_devices not set\n",
      "2021-02-16 01:24:56.894470: I tensorflow/stream_executor/platform/default/dso_loader.cc:49] Successfully opened dynamic library libcuda.so.1\n",
      "2021-02-16 01:24:56.923293: I tensorflow/core/common_runtime/gpu/gpu_device.cc:1720] Found device 0 with properties: \n",
      "pciBusID: 0000:61:00.0 name: GeForce GTX 1080 Ti computeCapability: 6.1\n",
      "coreClock: 1.582GHz coreCount: 28 deviceMemorySize: 10.92GiB deviceMemoryBandwidth: 451.17GiB/s\n",
      "2021-02-16 01:24:56.923524: W tensorflow/stream_executor/platform/default/dso_loader.cc:60] Could not load dynamic library 'libcudart.so.11.0'; dlerror: libcudart.so.11.0: cannot open shared object file: No such file or directory; LD_LIBRARY_PATH: /usr/local/nvidia/lib:/usr/local/nvidia/lib64\n",
      "2021-02-16 01:24:56.923656: W tensorflow/stream_executor/platform/default/dso_loader.cc:60] Could not load dynamic library 'libcublas.so.11'; dlerror: libcublas.so.11: cannot open shared object file: No such file or directory; LD_LIBRARY_PATH: /usr/local/nvidia/lib:/usr/local/nvidia/lib64\n",
      "2021-02-16 01:24:56.923771: W tensorflow/stream_executor/platform/default/dso_loader.cc:60] Could not load dynamic library 'libcublasLt.so.11'; dlerror: libcublasLt.so.11: cannot open shared object file: No such file or directory; LD_LIBRARY_PATH: /usr/local/nvidia/lib:/usr/local/nvidia/lib64\n",
      "2021-02-16 01:24:56.926880: I tensorflow/stream_executor/platform/default/dso_loader.cc:49] Successfully opened dynamic library libcufft.so.10\n",
      "2021-02-16 01:24:56.927338: I tensorflow/stream_executor/platform/default/dso_loader.cc:49] Successfully opened dynamic library libcurand.so.10\n",
      "2021-02-16 01:24:56.930154: I tensorflow/stream_executor/platform/default/dso_loader.cc:49] Successfully opened dynamic library libcusolver.so.10\n",
      "2021-02-16 01:24:56.930300: W tensorflow/stream_executor/platform/default/dso_loader.cc:60] Could not load dynamic library 'libcusparse.so.11'; dlerror: libcusparse.so.11: cannot open shared object file: No such file or directory; LD_LIBRARY_PATH: /usr/local/nvidia/lib:/usr/local/nvidia/lib64\n",
      "2021-02-16 01:24:56.930468: I tensorflow/stream_executor/platform/default/dso_loader.cc:49] Successfully opened dynamic library libcudnn.so.8\n",
      "2021-02-16 01:24:56.930488: W tensorflow/core/common_runtime/gpu/gpu_device.cc:1757] Cannot dlopen some GPU libraries. Please make sure the missing libraries mentioned above are installed properly if you would like to use GPU. Follow the guide at https://www.tensorflow.org/install/gpu for how to download and setup the required libraries for your platform.\n",
      "Skipping registering GPU devices...\n",
      "2021-02-16 01:24:56.930861: I tensorflow/core/platform/cpu_feature_guard.cc:142] This TensorFlow binary is optimized with oneAPI Deep Neural Network Library (oneDNN) to use the following CPU instructions in performance-critical operations:  AVX512F\n",
      "To enable them in other operations, rebuild TensorFlow with the appropriate compiler flags.\n",
      "2021-02-16 01:24:56.937463: I tensorflow/compiler/jit/xla_gpu_device.cc:99] Not creating XLA devices, tf_xla_enable_xla_devices not set\n",
      "2021-02-16 01:24:56.937499: I tensorflow/core/common_runtime/gpu/gpu_device.cc:1261] Device interconnect StreamExecutor with strength 1 edge matrix:\n",
      "2021-02-16 01:24:56.937509: I tensorflow/core/common_runtime/gpu/gpu_device.cc:1267]      \n",
      "STEP 1 - PARSING APPS\n",
      "100%|█████████████████████████████████████| 2920/2920 [00:01<00:00, 2320.25it/s]\n",
      "Running Word2vec\n",
      "Fitting models:\n",
      "{'AAT': 'A.T', 'ABAT': 'dot_product_mkl(B, A.T)', 'APAT': 'dot_product_mkl(P, A.T)', 'ABPBTAT': 'dot_product_mkl(dot_product_mkl(dot_product_mkl(B, P), B.T), A.T)', 'APBPTAT': 'dot_product_mkl(dot_product_mkl(dot_product_mkl(P, B), P.T), A.T)'}\n",
      "\tFitting AAT model...\n",
      "2920\n",
      "100%|███████████████████████████████████████████| 12/12 [00:13<00:00,  1.15s/it]\n",
      "\tFitting ABAT model...\n",
      "CPU times: user 4.45 s, sys: 1.69 s, total: 6.14 s\n",
      "Wall time: 4min 22s\n"
     ]
    }
   ],
   "source": [
    "%time !python run.py data"
   ]
  },
  {
   "cell_type": "code",
   "execution_count": 7,
   "id": "prescribed-membership",
   "metadata": {},
   "outputs": [
    {
     "name": "stdout",
     "output_type": "stream",
     "text": [
      "Fitting models:\n"
     ]
    },
    {
     "name": "stderr",
     "output_type": "stream",
     "text": [
      "\r",
      "  0%|          | 0/30 [00:00<?, ?it/s]"
     ]
    },
    {
     "name": "stdout",
     "output_type": "stream",
     "text": [
      "\tFitting AAT model...\n"
     ]
    },
    {
     "name": "stderr",
     "output_type": "stream",
     "text": [
      "100%|██████████| 30/30 [00:28<00:00,  1.07it/s]\n",
      "  0%|          | 0/30 [00:00<?, ?it/s]"
     ]
    },
    {
     "name": "stdout",
     "output_type": "stream",
     "text": [
      "\tFitting ABAT model...\n"
     ]
    },
    {
     "name": "stderr",
     "output_type": "stream",
     "text": [
      "100%|██████████| 30/30 [06:26<00:00, 12.88s/it]\n",
      "  0%|          | 0/30 [00:00<?, ?it/s]"
     ]
    },
    {
     "name": "stdout",
     "output_type": "stream",
     "text": [
      "\tFitting APAT model...\n"
     ]
    },
    {
     "name": "stderr",
     "output_type": "stream",
     "text": [
      "100%|██████████| 30/30 [00:50<00:00,  1.70s/it]\n",
      "  0%|          | 0/30 [00:00<?, ?it/s]"
     ]
    },
    {
     "name": "stdout",
     "output_type": "stream",
     "text": [
      "\tFitting ABPBTAT model...\n"
     ]
    },
    {
     "name": "stderr",
     "output_type": "stream",
     "text": [
      "100%|██████████| 30/30 [45:00<00:00, 90.02s/it]\n",
      "  0%|          | 0/30 [00:00<?, ?it/s]"
     ]
    },
    {
     "name": "stdout",
     "output_type": "stream",
     "text": [
      "\tFitting APBPTAT model...\n"
     ]
    },
    {
     "name": "stderr",
     "output_type": "stream",
     "text": [
      "100%|██████████| 30/30 [28:04<00:00, 56.16s/it]\n"
     ]
    },
    {
     "name": "stdout",
     "output_type": "stream",
     "text": [
      "              acc    recall        f1\n",
      "kernel                               \n",
      "AAT      1.000000  1.000000  1.000000\n",
      "ABAT     0.997603  0.999275  0.998732\n",
      "APAT     1.000000  1.000000  1.000000\n",
      "ABPBTAT  1.000000  1.000000  1.000000\n",
      "APBPTAT  0.988699  0.998187  0.994042\n",
      "CPU times: user 8h 6min 28s, sys: 38min 55s, total: 8h 45min 24s\n",
      "Wall time: 1h 21min 26s\n"
     ]
    }
   ],
   "source": [
    "%time make_models('data/out/train-half/')"
   ]
  },
  {
   "cell_type": "markdown",
   "id": "capable-madonna",
   "metadata": {},
   "source": [
    "From here, we can create the models we will use. Note that we included `\"hindroid_params\"` in the config file. Therefore we also fitted a Hindroid model on the data. We will also describe how to utilize that class though both models are largely the same."
   ]
  },
  {
   "cell_type": "code",
   "execution_count": 3,
   "id": "minus-guinea",
   "metadata": {},
   "outputs": [],
   "source": [
    "m2vDroid = M2VDroid('data/out/train-half/',\n",
    "                    classifier_args={'max_depth':3, 'n_jobs':-1})"
   ]
  },
  {
   "cell_type": "code",
   "execution_count": null,
   "id": "wooden-given",
   "metadata": {},
   "outputs": [
    {
     "name": "stdout",
     "output_type": "stream",
     "text": [
      "Computing new edges\n"
     ]
    }
   ],
   "source": [
    "# also saves output table to a folder\n",
    "m2vDroid.fit_predict('data/out/test-half/', \n",
    "                     walk_args={\n",
    "                         \"nprocs\": 16,\n",
    "                         \"length\": 60,\n",
    "                         \"n\": 3,\n",
    "                         \"metapaths\": [\n",
    "                             [\"app\", \"api\", \"app\"],\n",
    "                             [\"app\", \"api\", \"method\", \"api\", \"app\"],\n",
    "                             [\"app\", \"api\", \"package\", \"api\", \"app\"],\n",
    "                             [\"app\", \"api\", \"package\", \"api\", \"method\", \"api\", \"app\"],\n",
    "                             [\"app\", \"api\", \"method\", \"api\", \"package\", \"api\", \"app\"]\n",
    "                         ]\n",
    "                     },\n",
    "                    w2v_args={\n",
    "                        \"size\": 128,\n",
    "                        \"window\": 7,\n",
    "                        \"min_count\": 0,\n",
    "                        \"negative\": 5,\n",
    "                        \"sg\": 1,\n",
    "                        \"workers\": 16,\n",
    "                        \"iter\": 5\n",
    "                    })"
   ]
  },
  {
   "cell_type": "code",
   "execution_count": null,
   "id": "generous-nashville",
   "metadata": {},
   "outputs": [],
   "source": [
    "hindroid = Hindroid('data/out/train-half/')\n",
    "hindroid.fit_predicct('data/out/test-half/')"
   ]
  },
  {
   "cell_type": "code",
   "execution_count": null,
   "id": "speaking-andrew",
   "metadata": {},
   "outputs": [],
   "source": []
  }
 ],
 "metadata": {
  "kernelspec": {
   "display_name": "Python 3",
   "language": "python",
   "name": "python3"
  },
  "language_info": {
   "codemirror_mode": {
    "name": "ipython",
    "version": 3
   },
   "file_extension": ".py",
   "mimetype": "text/x-python",
   "name": "python",
   "nbconvert_exporter": "python",
   "pygments_lexer": "ipython3",
   "version": "3.8.6"
  }
 },
 "nbformat": 4,
 "nbformat_minor": 5
}
