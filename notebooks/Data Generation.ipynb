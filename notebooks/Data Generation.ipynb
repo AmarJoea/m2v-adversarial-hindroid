{
 "cells": [
  {
   "cell_type": "code",
   "execution_count": 2,
   "id": "figured-spouse",
   "metadata": {},
   "outputs": [],
   "source": [
    "import os\n",
    "# move to project root\n",
    "os.chdir('/home/rcgonzal/DSC180Malware/m2v-adversarial-hindroid/')\n",
    "\n",
    "import pandas as pd\n",
    "import numpy as np\n",
    "\n",
    "from src.model.model import M2VDroid\n",
    "from src.model.hindroid import Hindroid\n",
    "from src.data.hindroid_etl import make_models\n",
    "from src.analysis.analysis import create_performance_table\n",
    "from src.utils import find_apps\n",
    "from scipy import sparse\n",
    "\n",
    "%load_ext autoreload\n",
    "%autoreload 2"
   ]
  },
  {
   "cell_type": "markdown",
   "id": "proper-horse",
   "metadata": {},
   "source": [
    "This notebook is used to create more example of malware for the substitute model to train on."
   ]
  },
  {
   "cell_type": "code",
   "execution_count": 3,
   "id": "delayed-warner",
   "metadata": {},
   "outputs": [],
   "source": [
    "hindroid = Hindroid('data/out/train-half/')"
   ]
  },
  {
   "cell_type": "code",
   "execution_count": 4,
   "id": "unlike-cross",
   "metadata": {},
   "outputs": [],
   "source": [
    "N_examples = 1000\n",
    "n_apis = hindroid.A.shape[1]\n",
    "malware_examples = sparse.lil_matrix((N_examples, n_apis))\n",
    "benign_examples = sparse.lil_matrix((N_examples, n_apis))\n",
    "mal_ex_count = 0\n",
    "ben_ex_count = 0"
   ]
  },
  {
   "cell_type": "code",
   "execution_count": 5,
   "id": "liquid-backing",
   "metadata": {},
   "outputs": [
    {
     "name": "stdout",
     "output_type": "stream",
     "text": [
      "0 :  False\n",
      "0 :  False\n",
      "0 :  False\n",
      "0 :  False\n",
      "0 :  False\n",
      "0 :  False\n",
      "0 :  False\n",
      "0 :  False\n",
      "0 :  False\n",
      "0 :  False\n",
      "0 :  False\n",
      "0 :  False\n",
      "0 :  False\n",
      "0 :  False\n",
      "0 :  False\n",
      "0 :  False\n",
      "0 :  False\n",
      "0 :  False\n",
      "0 :  False\n",
      "0 :  False\n",
      "0 :  False\n",
      "0 :  False\n",
      "0 :  False\n",
      "0 :  False\n",
      "0 :  False\n",
      "0 :  False\n",
      "0 :  False\n",
      "0 :  False\n",
      "0 :  False\n",
      "0 :  False\n",
      "0 :  False\n",
      "0 :  False\n",
      "0 :  False\n",
      "0 :  False\n",
      "0 :  False\n",
      "0 :  False\n",
      "0 :  False\n",
      "0 :  False\n",
      "0 :  False\n",
      "0 :  False\n",
      "0 :  False\n",
      "0 :  False\n",
      "0 :  False\n",
      "0 :  False\n",
      "0 :  False\n",
      "0 :  False\n",
      "0 :  False\n",
      "0 :  False\n",
      "0 :  False\n",
      "0 :  False\n",
      "0 :  False\n",
      "0 :  False\n",
      "0 :  False\n",
      "0 :  False\n",
      "0 :  False\n",
      "0 :  False\n",
      "0 :  False\n",
      "0 :  False\n",
      "0 :  False\n",
      "0 :  False\n",
      "0 :  False\n",
      "0 :  False\n",
      "0 :  False\n",
      "0 :  False\n",
      "0 :  False\n",
      "0 :  False\n",
      "0 :  False\n",
      "0 :  False\n",
      "0 :  False\n",
      "0 :  False\n",
      "0 :  False\n",
      "0 :  False\n",
      "0 :  False\n",
      "0 :  False\n",
      "0 :  False\n",
      "0 :  False\n",
      "0 :  False\n",
      "0 :  False\n",
      "0 :  False\n",
      "0 :  False\n",
      "0 :  False\n",
      "0 :  False\n",
      "0 :  False\n",
      "0 :  False\n",
      "0 :  False\n",
      "0 :  False\n",
      "0 :  False\n",
      "0 :  False\n",
      "0 :  False\n",
      "0 :  False\n",
      "0 :  False\n",
      "0 :  False\n",
      "0 :  False\n",
      "0 :  False\n",
      "0 :  False\n"
     ]
    },
    {
     "ename": "KeyboardInterrupt",
     "evalue": "",
     "output_type": "error",
     "traceback": [
      "\u001b[0;31m\u001b[0m",
      "\u001b[0;31mKeyboardInterrupt\u001b[0mTraceback (most recent call last)",
      "\u001b[0;32m<ipython-input-5-11e38d2566bc>\u001b[0m in \u001b[0;36m<module>\u001b[0;34m\u001b[0m\n\u001b[1;32m      1\u001b[0m \u001b[0;32mwhile\u001b[0m \u001b[0mmal_ex_count\u001b[0m \u001b[0;34m<\u001b[0m \u001b[0;36m1\u001b[0m \u001b[0;32mor\u001b[0m \u001b[0mben_ex_count\u001b[0m \u001b[0;34m<\u001b[0m \u001b[0;36m1\u001b[0m\u001b[0;34m:\u001b[0m\u001b[0;34m\u001b[0m\u001b[0;34m\u001b[0m\u001b[0m\n\u001b[0;32m----> 2\u001b[0;31m     \u001b[0mx\u001b[0m \u001b[0;34m=\u001b[0m \u001b[0mnp\u001b[0m\u001b[0;34m.\u001b[0m\u001b[0mround\u001b[0m\u001b[0;34m(\u001b[0m\u001b[0mnp\u001b[0m\u001b[0;34m.\u001b[0m\u001b[0mrandom\u001b[0m\u001b[0;34m.\u001b[0m\u001b[0mrand\u001b[0m\u001b[0;34m(\u001b[0m\u001b[0mn_apis\u001b[0m\u001b[0;34m)\u001b[0m\u001b[0;34m)\u001b[0m\u001b[0;34m.\u001b[0m\u001b[0mastype\u001b[0m\u001b[0;34m(\u001b[0m\u001b[0mint\u001b[0m\u001b[0;34m)\u001b[0m\u001b[0;34m\u001b[0m\u001b[0;34m\u001b[0m\u001b[0m\n\u001b[0m\u001b[1;32m      3\u001b[0m     \u001b[0mpred\u001b[0m \u001b[0;34m=\u001b[0m \u001b[0mhindroid\u001b[0m\u001b[0;34m.\u001b[0m\u001b[0mpredict_with_kernel\u001b[0m\u001b[0;34m(\u001b[0m\u001b[0mx\u001b[0m\u001b[0;34m,\u001b[0m \u001b[0;34m'AAT'\u001b[0m\u001b[0;34m)\u001b[0m\u001b[0;34m\u001b[0m\u001b[0;34m\u001b[0m\u001b[0m\n\u001b[1;32m      4\u001b[0m     \u001b[0mprint\u001b[0m\u001b[0;34m(\u001b[0m\u001b[0mpred\u001b[0m\u001b[0;34m,\u001b[0m \u001b[0;34m\": \"\u001b[0m\u001b[0;34m,\u001b[0m \u001b[0mbool\u001b[0m\u001b[0;34m(\u001b[0m\u001b[0mpred\u001b[0m\u001b[0;34m)\u001b[0m\u001b[0;34m)\u001b[0m\u001b[0;34m\u001b[0m\u001b[0;34m\u001b[0m\u001b[0m\n\u001b[1;32m      5\u001b[0m     \u001b[0;32mif\u001b[0m \u001b[0mpred\u001b[0m\u001b[0;34m:\u001b[0m \u001b[0;31m# malware\u001b[0m\u001b[0;34m\u001b[0m\u001b[0;34m\u001b[0m\u001b[0m\n",
      "\u001b[0;31mKeyboardInterrupt\u001b[0m: "
     ]
    }
   ],
   "source": [
    "while mal_ex_count < 1 or ben_ex_count < 1:\n",
    "    x = np.round(np.random.rand(n_apis)).astype(int)\n",
    "    pred = hindroid.predict_with_kernel(x, 'AAT')\n",
    "    print(pred, \": \", bool(pred))\n",
    "    if pred: # malware\n",
    "        malware_examples[mal_ex_count] = x\n",
    "        mal_ex_count += 1\n",
    "    else:\n",
    "        benign_examples[ben_ex_count] = x\n",
    "        ben_ex_count += 1"
   ]
  },
  {
   "cell_type": "code",
   "execution_count": 12,
   "id": "incomplete-question",
   "metadata": {},
   "outputs": [
    {
     "data": {
      "text/plain": [
       "<1000x2822990 sparse matrix of type '<class 'numpy.float64'>'\n",
       "\twith 0 stored elements in List of Lists format>"
      ]
     },
     "execution_count": 12,
     "metadata": {},
     "output_type": "execute_result"
    }
   ],
   "source": [
    "malware_examples"
   ]
  },
  {
   "cell_type": "code",
   "execution_count": 13,
   "id": "known-bankruptcy",
   "metadata": {},
   "outputs": [
    {
     "data": {
      "text/plain": [
       "<1000x2822990 sparse matrix of type '<class 'numpy.float64'>'\n",
       "\twith 254063056 stored elements in List of Lists format>"
      ]
     },
     "execution_count": 13,
     "metadata": {},
     "output_type": "execute_result"
    }
   ],
   "source": [
    "benign_examples"
   ]
  },
  {
   "cell_type": "code",
   "execution_count": 14,
   "id": "documented-shelf",
   "metadata": {},
   "outputs": [
    {
     "data": {
      "text/plain": [
       "(0, 179)"
      ]
     },
     "execution_count": 14,
     "metadata": {},
     "output_type": "execute_result"
    }
   ],
   "source": [
    "mal_ex_count, ben_ex_count"
   ]
  },
  {
   "cell_type": "code",
   "execution_count": 18,
   "id": "liable-balance",
   "metadata": {},
   "outputs": [
    {
     "data": {
      "text/plain": [
       "array([[1, 0, 1, ..., 1, 1, 1]])"
      ]
     },
     "execution_count": 18,
     "metadata": {},
     "output_type": "execute_result"
    }
   ],
   "source": [
    "x.reshape(-1, x.size)"
   ]
  },
  {
   "cell_type": "code",
   "execution_count": 22,
   "id": "devoted-election",
   "metadata": {},
   "outputs": [
    {
     "name": "stdout",
     "output_type": "stream",
     "text": [
      "CPU times: user 56.5 ms, sys: 80 ms, total: 137 ms\n",
      "Wall time: 136 ms\n"
     ]
    },
    {
     "data": {
      "text/plain": [
       "0"
      ]
     },
     "execution_count": 22,
     "metadata": {},
     "output_type": "execute_result"
    }
   ],
   "source": [
    "%time hindroid.predict_with_kernel(x, 'AAT')"
   ]
  },
  {
   "cell_type": "code",
   "execution_count": null,
   "id": "wireless-preview",
   "metadata": {},
   "outputs": [],
   "source": []
  }
 ],
 "metadata": {
  "kernelspec": {
   "display_name": "Python 3",
   "language": "python",
   "name": "python3"
  },
  "language_info": {
   "codemirror_mode": {
    "name": "ipython",
    "version": 3
   },
   "file_extension": ".py",
   "mimetype": "text/x-python",
   "name": "python",
   "nbconvert_exporter": "python",
   "pygments_lexer": "ipython3",
   "version": "3.8.6"
  }
 },
 "nbformat": 4,
 "nbformat_minor": 5
}
