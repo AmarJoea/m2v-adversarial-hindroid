{
 "cells": [
  {
   "cell_type": "code",
   "execution_count": 2,
   "metadata": {},
   "outputs": [
    {
     "name": "stdout",
     "output_type": "stream",
     "text": [
      "/datasets/home/home-00/10/410/rcgonzal/DSC180Malware/m2v-adversarial-hindroid\r\n"
     ]
    }
   ],
   "source": [
    "import os\n",
    "os.chdir(\"..\")\n",
    "!pwd"
   ]
  },
  {
   "cell_type": "code",
   "execution_count": 3,
   "metadata": {},
   "outputs": [
    {
     "name": "stdout",
     "output_type": "stream",
     "text": [
      "Defaulting to user installation because normal site-packages is not writeable\n",
      "Requirement already satisfied: stellargraph in /datasets/home/home-00/10/410/rcgonzal/.local/lib/python3.7/site-packages (1.2.1)\n",
      "Requirement already satisfied: pandas>=0.24 in /opt/conda/lib/python3.7/site-packages (from stellargraph) (1.1.4)\n",
      "Requirement already satisfied: matplotlib>=2.2 in /opt/conda/lib/python3.7/site-packages (from stellargraph) (3.2.1)\n",
      "Requirement already satisfied: gensim>=3.4.0 in /datasets/home/home-00/10/410/rcgonzal/.local/lib/python3.7/site-packages (from stellargraph) (3.8.3)\n",
      "Requirement already satisfied: scipy>=1.1.0 in /opt/conda/lib/python3.7/site-packages (from stellargraph) (1.4.1)\n",
      "Requirement already satisfied: numpy>=1.14 in /opt/conda/lib/python3.7/site-packages (from stellargraph) (1.18.5)\n",
      "Requirement already satisfied: networkx>=2.2 in /opt/conda/lib/python3.7/site-packages (from stellargraph) (2.4)\n",
      "Requirement already satisfied: scikit-learn>=0.20 in /opt/conda/lib/python3.7/site-packages (from stellargraph) (0.22.2.post1)\n",
      "Requirement already satisfied: tensorflow>=2.1.0 in /datasets/home/home-00/10/410/rcgonzal/.local/lib/python3.7/site-packages (from stellargraph) (2.4.0)\n",
      "Requirement already satisfied: pytz>=2017.2 in /opt/conda/lib/python3.7/site-packages (from pandas>=0.24->stellargraph) (2020.1)\n",
      "Requirement already satisfied: python-dateutil>=2.7.3 in /opt/conda/lib/python3.7/site-packages (from pandas>=0.24->stellargraph) (2.8.1)\n",
      "Requirement already satisfied: pyparsing!=2.0.4,!=2.1.2,!=2.1.6,>=2.0.1 in /opt/conda/lib/python3.7/site-packages (from matplotlib>=2.2->stellargraph) (2.4.7)\n",
      "Requirement already satisfied: kiwisolver>=1.0.1 in /opt/conda/lib/python3.7/site-packages (from matplotlib>=2.2->stellargraph) (1.2.0)\n",
      "Requirement already satisfied: cycler>=0.10 in /opt/conda/lib/python3.7/site-packages (from matplotlib>=2.2->stellargraph) (0.10.0)\n",
      "Requirement already satisfied: six>=1.5.0 in /opt/conda/lib/python3.7/site-packages (from gensim>=3.4.0->stellargraph) (1.15.0)\n",
      "Requirement already satisfied: smart-open>=1.8.1 in /datasets/home/home-00/10/410/rcgonzal/.local/lib/python3.7/site-packages (from gensim>=3.4.0->stellargraph) (3.0.0)\n",
      "Requirement already satisfied: decorator>=4.3.0 in /opt/conda/lib/python3.7/site-packages (from networkx>=2.2->stellargraph) (4.4.2)\n",
      "Requirement already satisfied: joblib>=0.11 in /opt/conda/lib/python3.7/site-packages (from scikit-learn>=0.20->stellargraph) (0.15.1)\n",
      "Requirement already satisfied: wrapt~=1.12.1 in /opt/conda/lib/python3.7/site-packages (from tensorflow>=2.1.0->stellargraph) (1.12.1)\n",
      "Requirement already satisfied: flatbuffers~=1.12.0 in /datasets/home/home-00/10/410/rcgonzal/.local/lib/python3.7/site-packages (from tensorflow>=2.1.0->stellargraph) (1.12)\n",
      "Requirement already satisfied: google-pasta~=0.2 in /opt/conda/lib/python3.7/site-packages (from tensorflow>=2.1.0->stellargraph) (0.2.0)\n",
      "Requirement already satisfied: astunparse~=1.6.3 in /datasets/home/home-00/10/410/rcgonzal/.local/lib/python3.7/site-packages (from tensorflow>=2.1.0->stellargraph) (1.6.3)\n",
      "Requirement already satisfied: termcolor~=1.1.0 in /opt/conda/lib/python3.7/site-packages (from tensorflow>=2.1.0->stellargraph) (1.1.0)\n",
      "Requirement already satisfied: typing-extensions~=3.7.4 in /opt/conda/lib/python3.7/site-packages (from tensorflow>=2.1.0->stellargraph) (3.7.4.2)\n",
      "Requirement already satisfied: gast==0.3.3 in /datasets/home/home-00/10/410/rcgonzal/.local/lib/python3.7/site-packages (from tensorflow>=2.1.0->stellargraph) (0.3.3)\n",
      "Requirement already satisfied: opt-einsum~=3.3.0 in /opt/conda/lib/python3.7/site-packages (from tensorflow>=2.1.0->stellargraph) (3.3.0)\n",
      "Requirement already satisfied: h5py~=2.10.0 in /opt/conda/lib/python3.7/site-packages (from tensorflow>=2.1.0->stellargraph) (2.10.0)\n",
      "Requirement already satisfied: keras-preprocessing~=1.1.2 in /opt/conda/lib/python3.7/site-packages (from tensorflow>=2.1.0->stellargraph) (1.1.2)\n",
      "Requirement already satisfied: wheel~=0.35 in /datasets/home/home-00/10/410/rcgonzal/.local/lib/python3.7/site-packages (from tensorflow>=2.1.0->stellargraph) (0.36.2)\n",
      "Requirement already satisfied: tensorboard~=2.4 in /datasets/home/home-00/10/410/rcgonzal/.local/lib/python3.7/site-packages (from tensorflow>=2.1.0->stellargraph) (2.4.0)\n",
      "Requirement already satisfied: protobuf>=3.9.2 in /opt/conda/lib/python3.7/site-packages (from tensorflow>=2.1.0->stellargraph) (3.11.4)\n",
      "Requirement already satisfied: tensorflow-estimator<2.5.0,>=2.4.0rc0 in /datasets/home/home-00/10/410/rcgonzal/.local/lib/python3.7/site-packages (from tensorflow>=2.1.0->stellargraph) (2.4.0)\n",
      "Requirement already satisfied: absl-py~=0.10 in /opt/conda/lib/python3.7/site-packages (from tensorflow>=2.1.0->stellargraph) (0.11.0)\n",
      "Requirement already satisfied: grpcio~=1.32.0 in /datasets/home/home-00/10/410/rcgonzal/.local/lib/python3.7/site-packages (from tensorflow>=2.1.0->stellargraph) (1.32.0)\n",
      "Requirement already satisfied: requests in /opt/conda/lib/python3.7/site-packages (from smart-open>=1.8.1->gensim>=3.4.0->stellargraph) (2.24.0)\n",
      "Requirement already satisfied: google-auth<2,>=1.6.3 in /datasets/home/home-00/10/410/rcgonzal/.local/lib/python3.7/site-packages (from tensorboard~=2.4->tensorflow>=2.1.0->stellargraph) (1.24.0)\n",
      "Requirement already satisfied: tensorboard-plugin-wit>=1.6.0 in /datasets/home/home-00/10/410/rcgonzal/.local/lib/python3.7/site-packages (from tensorboard~=2.4->tensorflow>=2.1.0->stellargraph) (1.7.0)\n",
      "Requirement already satisfied: google-auth-oauthlib<0.5,>=0.4.1 in /datasets/home/home-00/10/410/rcgonzal/.local/lib/python3.7/site-packages (from tensorboard~=2.4->tensorflow>=2.1.0->stellargraph) (0.4.2)\n",
      "Requirement already satisfied: markdown>=2.6.8 in /opt/conda/lib/python3.7/site-packages (from tensorboard~=2.4->tensorflow>=2.1.0->stellargraph) (3.3.3)\n",
      "Requirement already satisfied: setuptools>=41.0.0 in /opt/conda/lib/python3.7/site-packages (from tensorboard~=2.4->tensorflow>=2.1.0->stellargraph) (47.3.1.post20200616)\n",
      "Requirement already satisfied: werkzeug>=0.11.15 in /opt/conda/lib/python3.7/site-packages (from tensorboard~=2.4->tensorflow>=2.1.0->stellargraph) (1.0.1)\n",
      "Requirement already satisfied: chardet<4,>=3.0.2 in /opt/conda/lib/python3.7/site-packages (from requests->smart-open>=1.8.1->gensim>=3.4.0->stellargraph) (3.0.4)\n",
      "Requirement already satisfied: idna<3,>=2.5 in /opt/conda/lib/python3.7/site-packages (from requests->smart-open>=1.8.1->gensim>=3.4.0->stellargraph) (2.9)\n",
      "Requirement already satisfied: certifi>=2017.4.17 in /opt/conda/lib/python3.7/site-packages (from requests->smart-open>=1.8.1->gensim>=3.4.0->stellargraph) (2020.11.8)\n",
      "Requirement already satisfied: urllib3!=1.25.0,!=1.25.1,<1.26,>=1.21.1 in /opt/conda/lib/python3.7/site-packages (from requests->smart-open>=1.8.1->gensim>=3.4.0->stellargraph) (1.25.9)\n",
      "Requirement already satisfied: rsa<5,>=3.1.4; python_version >= \"3.6\" in /datasets/home/home-00/10/410/rcgonzal/.local/lib/python3.7/site-packages (from google-auth<2,>=1.6.3->tensorboard~=2.4->tensorflow>=2.1.0->stellargraph) (4.6)\n",
      "Requirement already satisfied: cachetools<5.0,>=2.0.0 in /datasets/home/home-00/10/410/rcgonzal/.local/lib/python3.7/site-packages (from google-auth<2,>=1.6.3->tensorboard~=2.4->tensorflow>=2.1.0->stellargraph) (4.2.0)\n",
      "Requirement already satisfied: pyasn1-modules>=0.2.1 in /datasets/home/home-00/10/410/rcgonzal/.local/lib/python3.7/site-packages (from google-auth<2,>=1.6.3->tensorboard~=2.4->tensorflow>=2.1.0->stellargraph) (0.2.8)\n",
      "Requirement already satisfied: requests-oauthlib>=0.7.0 in /datasets/home/home-00/10/410/rcgonzal/.local/lib/python3.7/site-packages (from google-auth-oauthlib<0.5,>=0.4.1->tensorboard~=2.4->tensorflow>=2.1.0->stellargraph) (1.3.0)\n",
      "Requirement already satisfied: importlib-metadata; python_version < \"3.8\" in /opt/conda/lib/python3.7/site-packages (from markdown>=2.6.8->tensorboard~=2.4->tensorflow>=2.1.0->stellargraph) (1.6.1)\n",
      "Requirement already satisfied: pyasn1>=0.1.3 in /datasets/home/home-00/10/410/rcgonzal/.local/lib/python3.7/site-packages (from rsa<5,>=3.1.4; python_version >= \"3.6\"->google-auth<2,>=1.6.3->tensorboard~=2.4->tensorflow>=2.1.0->stellargraph) (0.4.8)\n",
      "Requirement already satisfied: oauthlib>=3.0.0 in /opt/conda/lib/python3.7/site-packages (from requests-oauthlib>=0.7.0->google-auth-oauthlib<0.5,>=0.4.1->tensorboard~=2.4->tensorflow>=2.1.0->stellargraph) (3.0.1)\n",
      "Requirement already satisfied: zipp>=0.5 in /opt/conda/lib/python3.7/site-packages (from importlib-metadata; python_version < \"3.8\"->markdown>=2.6.8->tensorboard~=2.4->tensorflow>=2.1.0->stellargraph) (3.1.0)\n"
     ]
    },
    {
     "name": "stdout",
     "output_type": "stream",
     "text": [
      "Defaulting to user installation because normal site-packages is not writeable\n",
      "Requirement already satisfied: p_tqdm in /datasets/home/home-00/10/410/rcgonzal/.local/lib/python3.7/site-packages (1.3.3)\n",
      "Requirement already satisfied: tqdm in /opt/conda/lib/python3.7/site-packages (from p_tqdm) (4.46.1)\n",
      "Requirement already satisfied: six in /opt/conda/lib/python3.7/site-packages (from p_tqdm) (1.15.0)\n",
      "Requirement already satisfied: pathos in /datasets/home/home-00/10/410/rcgonzal/.local/lib/python3.7/site-packages (from p_tqdm) (0.2.7)\n",
      "Requirement already satisfied: dill>=0.3.3 in /datasets/home/home-00/10/410/rcgonzal/.local/lib/python3.7/site-packages (from pathos->p_tqdm) (0.3.3)\n",
      "Requirement already satisfied: multiprocess>=0.70.11 in /datasets/home/home-00/10/410/rcgonzal/.local/lib/python3.7/site-packages (from pathos->p_tqdm) (0.70.11.1)\n",
      "Requirement already satisfied: pox>=0.2.9 in /datasets/home/home-00/10/410/rcgonzal/.local/lib/python3.7/site-packages (from pathos->p_tqdm) (0.2.9)\n",
      "Requirement already satisfied: ppft>=1.6.6.3 in /datasets/home/home-00/10/410/rcgonzal/.local/lib/python3.7/site-packages (from pathos->p_tqdm) (1.6.6.3)\n"
     ]
    }
   ],
   "source": [
    "!pip install stellargraph\n",
    "!pip install p_tqdm"
   ]
  },
  {
   "cell_type": "code",
   "execution_count": 1,
   "metadata": {},
   "outputs": [],
   "source": [
    "import matplotlib.pyplot as plt\n",
    "from sklearn.manifold import TSNE\n",
    "from sklearn.decomposition import PCA\n",
    "import os\n",
    "import networkx as nx\n",
    "import numpy as np\n",
    "import pandas as pd\n",
    "from stellargraph import datasets\n",
    "from IPython.display import display, HTML\n",
    "from gensim.models import Word2Vec\n",
    "from stellargraph.data import UniformRandomMetaPathWalk\n",
    "from stellargraph import StellarGraph, IndexedArray\n",
    "import json\n",
    "from collections import defaultdict\n",
    "from p_tqdm import p_umap\n",
    "\n",
    "\n",
    "%matplotlib inline"
   ]
  },
  {
   "cell_type": "code",
   "execution_count": 4,
   "metadata": {},
   "outputs": [],
   "source": [
    "all_apps = pd.read_csv(\"data/out/all-apps/all_apps.csv\")\n",
    "all_apps[all_apps.category=='random-apps'].to_csv('data/out/random-apps/app_list.csv')"
   ]
  },
  {
   "cell_type": "code",
   "execution_count": 2,
   "metadata": {},
   "outputs": [
    {
     "data": {
      "text/html": [
       "This dataset is crawled from a social blog directory website BlogCatalog http://www.blogcatalog.com and contains the friendship network crawled and group memberships."
      ],
      "text/plain": [
       "<IPython.core.display.HTML object>"
      ]
     },
     "metadata": {},
     "output_type": "display_data"
    },
    {
     "name": "stdout",
     "output_type": "stream",
     "text": [
      "Number of nodes 10351 and number of edges 348459 in graph.\n"
     ]
    }
   ],
   "source": [
    "dataset = datasets.BlogCatalog3()\n",
    "display(HTML(dataset.description))\n",
    "g = dataset.load()\n",
    "print(\n",
    "    \"Number of nodes {} and number of edges {} in graph.\".format(\n",
    "        g.number_of_nodes(), g.number_of_edges()\n",
    "    )\n",
    ")"
   ]
  },
  {
   "cell_type": "code",
   "execution_count": 11,
   "metadata": {},
   "outputs": [],
   "source": [
    "walk_length = 100  # maximum length of a random walk to use throughout this notebook\n",
    "\n",
    "# specify the metapath schemas as a list of lists of node types.\n",
    "metapaths = [\n",
    "    [\"user\", \"group\", \"user\"],\n",
    "    [\"user\", \"group\", \"user\", \"user\"],\n",
    "    [\"user\", \"user\"],\n",
    "]"
   ]
  },
  {
   "cell_type": "code",
   "execution_count": 12,
   "metadata": {},
   "outputs": [],
   "source": [
    "UniformRandomMetaPathWalk?"
   ]
  },
  {
   "cell_type": "code",
   "execution_count": 7,
   "metadata": {},
   "outputs": [
    {
     "name": "stdout",
     "output_type": "stream",
     "text": [
      "Number of random walks: 30936\n"
     ]
    }
   ],
   "source": [
    "# Create the random walker\n",
    "rw = UniformRandomMetaPathWalk(g)\n",
    "\n",
    "walks = rw.run(\n",
    "    nodes=list(g.nodes()),  # root nodes\n",
    "    length=walk_length,  # maximum length of a random walk\n",
    "    n=1,  # number of random walks per root node\n",
    "    metapaths=metapaths,  # the metapaths\n",
    ")\n",
    "\n",
    "print(\"Number of random walks: {}\".format(len(walks)))"
   ]
  },
  {
   "cell_type": "markdown",
   "metadata": {},
   "source": [
    "UniformRandomMetaPathWalk algorithm:\n",
    "\n",
    "Given:\n",
    "- $n$ walks per node\n",
    "- length of each random walk\n",
    "- a list of metapaths\n",
    "- a list of nodes\n",
    "\n",
    "for each node\n",
    "\n",
    "    for each metapath\n",
    "    \n",
    "    metapath = metapath[1:] * ((length // (len(metapath) - 1)) + 1)\n",
    "    \n",
    "        for n walks:\n",
    "        \n",
    "            for d in length:\n",
    "            \n",
    "                record current node\n",
    "                \n",
    "                find neighbors of current node of type metapath[d]\n",
    "                \n",
    "                randomly select new node from neighbors\n",
    "                "
   ]
  },
  {
   "cell_type": "code",
   "execution_count": 14,
   "metadata": {
    "collapsed": true
   },
   "outputs": [
    {
     "ename": "NameError",
     "evalue": "name 'walks' is not defined",
     "output_type": "error",
     "traceback": [
      "\u001b[0;31m\u001b[0m",
      "\u001b[0;31mNameError\u001b[0mTraceback (most recent call last)",
      "\u001b[0;32m<ipython-input-14-bf7d86660c20>\u001b[0m in \u001b[0;36m<module>\u001b[0;34m\u001b[0m\n\u001b[0;32m----> 1\u001b[0;31m \u001b[0mget_ipython\u001b[0m\u001b[0;34m(\u001b[0m\u001b[0;34m)\u001b[0m\u001b[0;34m.\u001b[0m\u001b[0mrun_cell_magic\u001b[0m\u001b[0;34m(\u001b[0m\u001b[0;34m'timeit'\u001b[0m\u001b[0;34m,\u001b[0m \u001b[0;34m'-n 1'\u001b[0m\u001b[0;34m,\u001b[0m \u001b[0;34m'model = Word2Vec(walks, size=128, window=5, min_count=0, sg=1, workers=9, iter=1)\\nmodel.wv.vectors.shape  # 128-dimensional vector for each node in the graph\\n'\u001b[0m\u001b[0;34m)\u001b[0m\u001b[0;34m\u001b[0m\u001b[0;34m\u001b[0m\u001b[0m\n\u001b[0m",
      "\u001b[0;32m/opt/conda/lib/python3.7/site-packages/IPython/core/interactiveshell.py\u001b[0m in \u001b[0;36mrun_cell_magic\u001b[0;34m(self, magic_name, line, cell)\u001b[0m\n\u001b[1;32m   2360\u001b[0m             \u001b[0;32mwith\u001b[0m \u001b[0mself\u001b[0m\u001b[0;34m.\u001b[0m\u001b[0mbuiltin_trap\u001b[0m\u001b[0;34m:\u001b[0m\u001b[0;34m\u001b[0m\u001b[0;34m\u001b[0m\u001b[0m\n\u001b[1;32m   2361\u001b[0m                 \u001b[0margs\u001b[0m \u001b[0;34m=\u001b[0m \u001b[0;34m(\u001b[0m\u001b[0mmagic_arg_s\u001b[0m\u001b[0;34m,\u001b[0m \u001b[0mcell\u001b[0m\u001b[0;34m)\u001b[0m\u001b[0;34m\u001b[0m\u001b[0;34m\u001b[0m\u001b[0m\n\u001b[0;32m-> 2362\u001b[0;31m                 \u001b[0mresult\u001b[0m \u001b[0;34m=\u001b[0m \u001b[0mfn\u001b[0m\u001b[0;34m(\u001b[0m\u001b[0;34m*\u001b[0m\u001b[0margs\u001b[0m\u001b[0;34m,\u001b[0m \u001b[0;34m**\u001b[0m\u001b[0mkwargs\u001b[0m\u001b[0;34m)\u001b[0m\u001b[0;34m\u001b[0m\u001b[0;34m\u001b[0m\u001b[0m\n\u001b[0m\u001b[1;32m   2363\u001b[0m             \u001b[0;32mreturn\u001b[0m \u001b[0mresult\u001b[0m\u001b[0;34m\u001b[0m\u001b[0;34m\u001b[0m\u001b[0m\n\u001b[1;32m   2364\u001b[0m \u001b[0;34m\u001b[0m\u001b[0m\n",
      "\u001b[0;32m<decorator-gen-60>\u001b[0m in \u001b[0;36mtimeit\u001b[0;34m(self, line, cell, local_ns)\u001b[0m\n",
      "\u001b[0;32m/opt/conda/lib/python3.7/site-packages/IPython/core/magic.py\u001b[0m in \u001b[0;36m<lambda>\u001b[0;34m(f, *a, **k)\u001b[0m\n\u001b[1;32m    185\u001b[0m     \u001b[0;31m# but it's overkill for just that one bit of state.\u001b[0m\u001b[0;34m\u001b[0m\u001b[0;34m\u001b[0m\u001b[0;34m\u001b[0m\u001b[0m\n\u001b[1;32m    186\u001b[0m     \u001b[0;32mdef\u001b[0m \u001b[0mmagic_deco\u001b[0m\u001b[0;34m(\u001b[0m\u001b[0marg\u001b[0m\u001b[0;34m)\u001b[0m\u001b[0;34m:\u001b[0m\u001b[0;34m\u001b[0m\u001b[0;34m\u001b[0m\u001b[0m\n\u001b[0;32m--> 187\u001b[0;31m         \u001b[0mcall\u001b[0m \u001b[0;34m=\u001b[0m \u001b[0;32mlambda\u001b[0m \u001b[0mf\u001b[0m\u001b[0;34m,\u001b[0m \u001b[0;34m*\u001b[0m\u001b[0ma\u001b[0m\u001b[0;34m,\u001b[0m \u001b[0;34m**\u001b[0m\u001b[0mk\u001b[0m\u001b[0;34m:\u001b[0m \u001b[0mf\u001b[0m\u001b[0;34m(\u001b[0m\u001b[0;34m*\u001b[0m\u001b[0ma\u001b[0m\u001b[0;34m,\u001b[0m \u001b[0;34m**\u001b[0m\u001b[0mk\u001b[0m\u001b[0;34m)\u001b[0m\u001b[0;34m\u001b[0m\u001b[0;34m\u001b[0m\u001b[0m\n\u001b[0m\u001b[1;32m    188\u001b[0m \u001b[0;34m\u001b[0m\u001b[0m\n\u001b[1;32m    189\u001b[0m         \u001b[0;32mif\u001b[0m \u001b[0mcallable\u001b[0m\u001b[0;34m(\u001b[0m\u001b[0marg\u001b[0m\u001b[0;34m)\u001b[0m\u001b[0;34m:\u001b[0m\u001b[0;34m\u001b[0m\u001b[0;34m\u001b[0m\u001b[0m\n",
      "\u001b[0;32m/opt/conda/lib/python3.7/site-packages/IPython/core/magics/execution.py\u001b[0m in \u001b[0;36mtimeit\u001b[0;34m(self, line, cell, local_ns)\u001b[0m\n\u001b[1;32m   1162\u001b[0m                     \u001b[0;32mbreak\u001b[0m\u001b[0;34m\u001b[0m\u001b[0;34m\u001b[0m\u001b[0m\n\u001b[1;32m   1163\u001b[0m \u001b[0;34m\u001b[0m\u001b[0m\n\u001b[0;32m-> 1164\u001b[0;31m         \u001b[0mall_runs\u001b[0m \u001b[0;34m=\u001b[0m \u001b[0mtimer\u001b[0m\u001b[0;34m.\u001b[0m\u001b[0mrepeat\u001b[0m\u001b[0;34m(\u001b[0m\u001b[0mrepeat\u001b[0m\u001b[0;34m,\u001b[0m \u001b[0mnumber\u001b[0m\u001b[0;34m)\u001b[0m\u001b[0;34m\u001b[0m\u001b[0;34m\u001b[0m\u001b[0m\n\u001b[0m\u001b[1;32m   1165\u001b[0m         \u001b[0mbest\u001b[0m \u001b[0;34m=\u001b[0m \u001b[0mmin\u001b[0m\u001b[0;34m(\u001b[0m\u001b[0mall_runs\u001b[0m\u001b[0;34m)\u001b[0m \u001b[0;34m/\u001b[0m \u001b[0mnumber\u001b[0m\u001b[0;34m\u001b[0m\u001b[0;34m\u001b[0m\u001b[0m\n\u001b[1;32m   1166\u001b[0m         \u001b[0mworst\u001b[0m \u001b[0;34m=\u001b[0m \u001b[0mmax\u001b[0m\u001b[0;34m(\u001b[0m\u001b[0mall_runs\u001b[0m\u001b[0;34m)\u001b[0m \u001b[0;34m/\u001b[0m \u001b[0mnumber\u001b[0m\u001b[0;34m\u001b[0m\u001b[0;34m\u001b[0m\u001b[0m\n",
      "\u001b[0;32m/opt/conda/lib/python3.7/timeit.py\u001b[0m in \u001b[0;36mrepeat\u001b[0;34m(self, repeat, number)\u001b[0m\n\u001b[1;32m    202\u001b[0m         \u001b[0mr\u001b[0m \u001b[0;34m=\u001b[0m \u001b[0;34m[\u001b[0m\u001b[0;34m]\u001b[0m\u001b[0;34m\u001b[0m\u001b[0;34m\u001b[0m\u001b[0m\n\u001b[1;32m    203\u001b[0m         \u001b[0;32mfor\u001b[0m \u001b[0mi\u001b[0m \u001b[0;32min\u001b[0m \u001b[0mrange\u001b[0m\u001b[0;34m(\u001b[0m\u001b[0mrepeat\u001b[0m\u001b[0;34m)\u001b[0m\u001b[0;34m:\u001b[0m\u001b[0;34m\u001b[0m\u001b[0;34m\u001b[0m\u001b[0m\n\u001b[0;32m--> 204\u001b[0;31m             \u001b[0mt\u001b[0m \u001b[0;34m=\u001b[0m \u001b[0mself\u001b[0m\u001b[0;34m.\u001b[0m\u001b[0mtimeit\u001b[0m\u001b[0;34m(\u001b[0m\u001b[0mnumber\u001b[0m\u001b[0;34m)\u001b[0m\u001b[0;34m\u001b[0m\u001b[0;34m\u001b[0m\u001b[0m\n\u001b[0m\u001b[1;32m    205\u001b[0m             \u001b[0mr\u001b[0m\u001b[0;34m.\u001b[0m\u001b[0mappend\u001b[0m\u001b[0;34m(\u001b[0m\u001b[0mt\u001b[0m\u001b[0;34m)\u001b[0m\u001b[0;34m\u001b[0m\u001b[0;34m\u001b[0m\u001b[0m\n\u001b[1;32m    206\u001b[0m         \u001b[0;32mreturn\u001b[0m \u001b[0mr\u001b[0m\u001b[0;34m\u001b[0m\u001b[0;34m\u001b[0m\u001b[0m\n",
      "\u001b[0;32m/opt/conda/lib/python3.7/site-packages/IPython/core/magics/execution.py\u001b[0m in \u001b[0;36mtimeit\u001b[0;34m(self, number)\u001b[0m\n\u001b[1;32m    167\u001b[0m         \u001b[0mgc\u001b[0m\u001b[0;34m.\u001b[0m\u001b[0mdisable\u001b[0m\u001b[0;34m(\u001b[0m\u001b[0;34m)\u001b[0m\u001b[0;34m\u001b[0m\u001b[0;34m\u001b[0m\u001b[0m\n\u001b[1;32m    168\u001b[0m         \u001b[0;32mtry\u001b[0m\u001b[0;34m:\u001b[0m\u001b[0;34m\u001b[0m\u001b[0;34m\u001b[0m\u001b[0m\n\u001b[0;32m--> 169\u001b[0;31m             \u001b[0mtiming\u001b[0m \u001b[0;34m=\u001b[0m \u001b[0mself\u001b[0m\u001b[0;34m.\u001b[0m\u001b[0minner\u001b[0m\u001b[0;34m(\u001b[0m\u001b[0mit\u001b[0m\u001b[0;34m,\u001b[0m \u001b[0mself\u001b[0m\u001b[0;34m.\u001b[0m\u001b[0mtimer\u001b[0m\u001b[0;34m)\u001b[0m\u001b[0;34m\u001b[0m\u001b[0;34m\u001b[0m\u001b[0m\n\u001b[0m\u001b[1;32m    170\u001b[0m         \u001b[0;32mfinally\u001b[0m\u001b[0;34m:\u001b[0m\u001b[0;34m\u001b[0m\u001b[0;34m\u001b[0m\u001b[0m\n\u001b[1;32m    171\u001b[0m             \u001b[0;32mif\u001b[0m \u001b[0mgcold\u001b[0m\u001b[0;34m:\u001b[0m\u001b[0;34m\u001b[0m\u001b[0;34m\u001b[0m\u001b[0m\n",
      "\u001b[0;32m<magic-timeit>\u001b[0m in \u001b[0;36minner\u001b[0;34m(_it, _timer)\u001b[0m\n",
      "\u001b[0;31mNameError\u001b[0m: name 'walks' is not defined"
     ]
    }
   ],
   "source": [
    "%%timeit -n 1\n",
    "model = Word2Vec(walks, size=128, window=5, min_count=0, sg=1, workers=9, iter=1)\n",
    "model.wv.vectors.shape  # 128-dimensional vector for each node in the graph"
   ]
  },
  {
   "cell_type": "code",
   "execution_count": 2,
   "metadata": {},
   "outputs": [],
   "source": [
    "from dask.distributed import Client\n",
    "import dask.dataframe as dd\n",
    "import os\n",
    "import pandas as pd\n",
    "import numpy as np\n",
    "from stellargraph import StellarGraph, IndexedArray\n",
    "from stellargraph.data import UniformRandomMetaPathWalk\n",
    "from gensim.models import Word2Vec\n",
    "\n",
    "client = Client()"
   ]
  },
  {
   "cell_type": "code",
   "execution_count": 7,
   "metadata": {},
   "outputs": [],
   "source": [
    "path = os.path.join('data/out/random-apps/app-data/', '*.csv')\n",
    "data = dd.read_csv(path)"
   ]
  },
  {
   "cell_type": "code",
   "execution_count": 19,
   "metadata": {
    "scrolled": false
   },
   "outputs": [
    {
     "name": "stdout",
     "output_type": "stream",
     "text": [
      "Indexing apis\n",
      "Indexing apps\n",
      "Finding app-api edges\n",
      "Indexing methods\n",
      "Finding method-api edges\n",
      "Indexing packages\n",
      "Finding package-api edges\n"
     ]
    }
   ],
   "source": [
    "outfolder = os.path.join(\"data/out/random-apps/\")\n",
    "\n",
    "nodes = {}\n",
    "api_map = None\n",
    "edge_path = os.path.join(\"data/out/random-apps/edges.csv\")\n",
    "pd.DataFrame(columns=['source', 'target']).to_csv(edge_path, index=False)\n",
    "for label in ['api', 'app', 'method', 'package']:\n",
    "    print(f'Indexing {label}s')\n",
    "    uid_map = data[label].unique().compute()\n",
    "    uid_map = uid_map.to_frame()\n",
    "    uid_map['uid'] = label + pd.Series(uid_map.index).astype(str)\n",
    "    uid_map = uid_map.set_index(label)\n",
    "    uid_map.to_csv(os.path.join(outfolder, label+'_map.csv'))\n",
    "    nodes[label] = IndexedArray(index=uid_map.uid.values)\n",
    "    \n",
    "    # get edges if not api\n",
    "    if label == 'api':\n",
    "        api_map = uid_map.uid\n",
    "    else:\n",
    "        print(f'Finding {label}-api edges')\n",
    "        edges = data[[label, 'api']].drop_duplicates().compute()\n",
    "        edges[label] = edges[label].map(uid_map.uid)\n",
    "        edges['api'] = edges['api'].map(api_map)\n",
    "        edges.to_csv(edge_path, mode='a', index=False, header=False)"
   ]
  },
  {
   "cell_type": "code",
   "execution_count": 20,
   "metadata": {
    "scrolled": true
   },
   "outputs": [],
   "source": [
    "g = StellarGraph(nodes = nodes,\n",
    "                 edges = pd.read_csv(edge_path))"
   ]
  },
  {
   "cell_type": "code",
   "execution_count": 21,
   "metadata": {},
   "outputs": [
    {
     "data": {
      "text/html": [
       "<div>\n",
       "<style scoped>\n",
       "    .dataframe tbody tr th:only-of-type {\n",
       "        vertical-align: middle;\n",
       "    }\n",
       "\n",
       "    .dataframe tbody tr th {\n",
       "        vertical-align: top;\n",
       "    }\n",
       "\n",
       "    .dataframe thead th {\n",
       "        text-align: right;\n",
       "    }\n",
       "</style>\n",
       "<table border=\"1\" class=\"dataframe\">\n",
       "  <thead>\n",
       "    <tr style=\"text-align: right;\">\n",
       "      <th></th>\n",
       "      <th>app</th>\n",
       "      <th>uid</th>\n",
       "    </tr>\n",
       "  </thead>\n",
       "  <tbody>\n",
       "    <tr>\n",
       "      <th>0</th>\n",
       "      <td>academia_en_tu_movil.test_guarda_rural</td>\n",
       "      <td>app0</td>\n",
       "    </tr>\n",
       "    <tr>\n",
       "      <th>1</th>\n",
       "      <td>air.G2JWeirdKittyRescue</td>\n",
       "      <td>app1</td>\n",
       "    </tr>\n",
       "    <tr>\n",
       "      <th>2</th>\n",
       "      <td>air.com.adobe.example.gqbars</td>\n",
       "      <td>app2</td>\n",
       "    </tr>\n",
       "    <tr>\n",
       "      <th>3</th>\n",
       "      <td>air.com.eeco.blocknflick</td>\n",
       "      <td>app3</td>\n",
       "    </tr>\n",
       "    <tr>\n",
       "      <th>4</th>\n",
       "      <td>air.com.inline.jyoyuuman1</td>\n",
       "      <td>app4</td>\n",
       "    </tr>\n",
       "    <tr>\n",
       "      <th>...</th>\n",
       "      <td>...</td>\n",
       "      <td>...</td>\n",
       "    </tr>\n",
       "    <tr>\n",
       "      <th>227</th>\n",
       "      <td>sl_christmas_free.livewallpaper</td>\n",
       "      <td>app227</td>\n",
       "    </tr>\n",
       "    <tr>\n",
       "      <th>228</th>\n",
       "      <td>taha.islam.renewal</td>\n",
       "      <td>app228</td>\n",
       "    </tr>\n",
       "    <tr>\n",
       "      <th>229</th>\n",
       "      <td>toolbox.m.incoming.stop</td>\n",
       "      <td>app229</td>\n",
       "    </tr>\n",
       "    <tr>\n",
       "      <th>230</th>\n",
       "      <td>ua.com.citysites.belorechensk</td>\n",
       "      <td>app230</td>\n",
       "    </tr>\n",
       "    <tr>\n",
       "      <th>231</th>\n",
       "      <td>vpn.free</td>\n",
       "      <td>app231</td>\n",
       "    </tr>\n",
       "  </tbody>\n",
       "</table>\n",
       "<p>232 rows × 2 columns</p>\n",
       "</div>"
      ],
      "text/plain": [
       "                                        app     uid\n",
       "0    academia_en_tu_movil.test_guarda_rural    app0\n",
       "1                   air.G2JWeirdKittyRescue    app1\n",
       "2              air.com.adobe.example.gqbars    app2\n",
       "3                  air.com.eeco.blocknflick    app3\n",
       "4                 air.com.inline.jyoyuuman1    app4\n",
       "..                                      ...     ...\n",
       "227         sl_christmas_free.livewallpaper  app227\n",
       "228                      taha.islam.renewal  app228\n",
       "229                 toolbox.m.incoming.stop  app229\n",
       "230           ua.com.citysites.belorechensk  app230\n",
       "231                                vpn.free  app231\n",
       "\n",
       "[232 rows x 2 columns]"
      ]
     },
     "execution_count": 21,
     "metadata": {},
     "output_type": "execute_result"
    }
   ],
   "source": [
    "list(pd.read_csv(os.path.join(\"data/out/random-apps/\", 'app_map.csv')).uid)"
   ]
  },
  {
   "cell_type": "code",
   "execution_count": 22,
   "metadata": {
    "scrolled": true
   },
   "outputs": [
    {
     "name": "stdout",
     "output_type": "stream",
     "text": [
      "Number of random walks: 464\n"
     ]
    },
    {
     "data": {
      "text/plain": [
       "(25084, 128)"
      ]
     },
     "execution_count": 22,
     "metadata": {},
     "output_type": "execute_result"
    }
   ],
   "source": [
    "walk_length = 100  # maximum length of a random walk to use throughout this notebook\n",
    "\n",
    "# specify the metapath schemas as a list of lists of node types.\n",
    "metapaths = [\n",
    "    ['app', 'api', 'app'],\n",
    "    ['app', 'api', 'method', 'api', 'app']\n",
    "]\n",
    "\n",
    "# Create the random walker\n",
    "rw = UniformRandomMetaPathWalk(g)\n",
    "\n",
    "walks = rw.run(\n",
    "    nodes=list(list(pd.read_csv(os.path.join(\"data/out/random-apps/\", 'app_map.csv')).uid)),  # root nodes\n",
    "    length=walk_length,  # maximum length of a random walk\n",
    "    n=1,  # number of random walks per root node\n",
    "    metapaths=metapaths,  # the metapaths\n",
    ")\n",
    "\n",
    "print(\"Number of random walks: {}\".format(len(walks)))\n",
    "\n",
    "model = Word2Vec(walks, size=128, window=5, min_count=0, sg=1, workers=9, iter=1)\n",
    "model.wv.vectors.shape  # 128-dimensional vector for each node in the graph"
   ]
  },
  {
   "cell_type": "code",
   "execution_count": 60,
   "metadata": {},
   "outputs": [],
   "source": [
    "Word2Vec?"
   ]
  },
  {
   "cell_type": "code",
   "execution_count": 55,
   "metadata": {},
   "outputs": [
    {
     "data": {
      "text/html": [
       "<div>\n",
       "<style scoped>\n",
       "    .dataframe tbody tr th:only-of-type {\n",
       "        vertical-align: middle;\n",
       "    }\n",
       "\n",
       "    .dataframe tbody tr th {\n",
       "        vertical-align: top;\n",
       "    }\n",
       "\n",
       "    .dataframe thead th {\n",
       "        text-align: right;\n",
       "    }\n",
       "</style>\n",
       "<table border=\"1\" class=\"dataframe\">\n",
       "  <thead>\n",
       "    <tr style=\"text-align: right;\">\n",
       "      <th></th>\n",
       "      <th>0</th>\n",
       "      <th>1</th>\n",
       "      <th>2</th>\n",
       "      <th>3</th>\n",
       "      <th>4</th>\n",
       "      <th>5</th>\n",
       "      <th>6</th>\n",
       "      <th>7</th>\n",
       "      <th>8</th>\n",
       "      <th>9</th>\n",
       "      <th>...</th>\n",
       "      <th>118</th>\n",
       "      <th>119</th>\n",
       "      <th>120</th>\n",
       "      <th>121</th>\n",
       "      <th>122</th>\n",
       "      <th>123</th>\n",
       "      <th>124</th>\n",
       "      <th>125</th>\n",
       "      <th>126</th>\n",
       "      <th>127</th>\n",
       "    </tr>\n",
       "    <tr>\n",
       "      <th>uid</th>\n",
       "      <th></th>\n",
       "      <th></th>\n",
       "      <th></th>\n",
       "      <th></th>\n",
       "      <th></th>\n",
       "      <th></th>\n",
       "      <th></th>\n",
       "      <th></th>\n",
       "      <th></th>\n",
       "      <th></th>\n",
       "      <th></th>\n",
       "      <th></th>\n",
       "      <th></th>\n",
       "      <th></th>\n",
       "      <th></th>\n",
       "      <th></th>\n",
       "      <th></th>\n",
       "      <th></th>\n",
       "      <th></th>\n",
       "      <th></th>\n",
       "      <th></th>\n",
       "    </tr>\n",
       "  </thead>\n",
       "  <tbody>\n",
       "    <tr>\n",
       "      <th>app15</th>\n",
       "      <td>0.001465</td>\n",
       "      <td>-0.006035</td>\n",
       "      <td>0.002803</td>\n",
       "      <td>-0.006472</td>\n",
       "      <td>0.001844</td>\n",
       "      <td>0.000563</td>\n",
       "      <td>0.000152</td>\n",
       "      <td>0.004515</td>\n",
       "      <td>-0.004373</td>\n",
       "      <td>-0.005861</td>\n",
       "      <td>...</td>\n",
       "      <td>0.000944</td>\n",
       "      <td>-0.001850</td>\n",
       "      <td>0.005967</td>\n",
       "      <td>0.005115</td>\n",
       "      <td>0.001456</td>\n",
       "      <td>-0.005741</td>\n",
       "      <td>-0.004002</td>\n",
       "      <td>0.001943</td>\n",
       "      <td>-0.000393</td>\n",
       "      <td>0.002028</td>\n",
       "    </tr>\n",
       "    <tr>\n",
       "      <th>app222</th>\n",
       "      <td>-0.007221</td>\n",
       "      <td>0.003152</td>\n",
       "      <td>0.001400</td>\n",
       "      <td>0.001215</td>\n",
       "      <td>-0.004036</td>\n",
       "      <td>-0.000574</td>\n",
       "      <td>-0.002065</td>\n",
       "      <td>-0.004598</td>\n",
       "      <td>-0.002774</td>\n",
       "      <td>0.001391</td>\n",
       "      <td>...</td>\n",
       "      <td>0.002566</td>\n",
       "      <td>-0.005518</td>\n",
       "      <td>-0.001023</td>\n",
       "      <td>0.002259</td>\n",
       "      <td>-0.003552</td>\n",
       "      <td>0.004228</td>\n",
       "      <td>-0.003225</td>\n",
       "      <td>0.002905</td>\n",
       "      <td>0.001139</td>\n",
       "      <td>-0.005657</td>\n",
       "    </tr>\n",
       "    <tr>\n",
       "      <th>app218</th>\n",
       "      <td>-0.006554</td>\n",
       "      <td>-0.002982</td>\n",
       "      <td>-0.002722</td>\n",
       "      <td>-0.005685</td>\n",
       "      <td>-0.002853</td>\n",
       "      <td>-0.001394</td>\n",
       "      <td>-0.002546</td>\n",
       "      <td>-0.001562</td>\n",
       "      <td>0.000574</td>\n",
       "      <td>0.001690</td>\n",
       "      <td>...</td>\n",
       "      <td>0.006558</td>\n",
       "      <td>-0.005123</td>\n",
       "      <td>-0.003411</td>\n",
       "      <td>-0.000147</td>\n",
       "      <td>0.000418</td>\n",
       "      <td>0.004349</td>\n",
       "      <td>-0.002708</td>\n",
       "      <td>0.003058</td>\n",
       "      <td>-0.001097</td>\n",
       "      <td>-0.005037</td>\n",
       "    </tr>\n",
       "    <tr>\n",
       "      <th>app165</th>\n",
       "      <td>-0.005208</td>\n",
       "      <td>0.002826</td>\n",
       "      <td>-0.003647</td>\n",
       "      <td>-0.001873</td>\n",
       "      <td>-0.001584</td>\n",
       "      <td>-0.002434</td>\n",
       "      <td>-0.003195</td>\n",
       "      <td>-0.002779</td>\n",
       "      <td>0.000455</td>\n",
       "      <td>-0.004313</td>\n",
       "      <td>...</td>\n",
       "      <td>0.003347</td>\n",
       "      <td>-0.002185</td>\n",
       "      <td>-0.003458</td>\n",
       "      <td>0.003372</td>\n",
       "      <td>0.002375</td>\n",
       "      <td>0.003374</td>\n",
       "      <td>-0.003633</td>\n",
       "      <td>-0.002255</td>\n",
       "      <td>0.000983</td>\n",
       "      <td>0.001666</td>\n",
       "    </tr>\n",
       "    <tr>\n",
       "      <th>app28</th>\n",
       "      <td>-0.005466</td>\n",
       "      <td>-0.003686</td>\n",
       "      <td>0.002009</td>\n",
       "      <td>0.001212</td>\n",
       "      <td>-0.003348</td>\n",
       "      <td>-0.003617</td>\n",
       "      <td>-0.000823</td>\n",
       "      <td>0.002770</td>\n",
       "      <td>-0.003804</td>\n",
       "      <td>0.001141</td>\n",
       "      <td>...</td>\n",
       "      <td>0.004744</td>\n",
       "      <td>0.002535</td>\n",
       "      <td>0.002379</td>\n",
       "      <td>0.001448</td>\n",
       "      <td>-0.001578</td>\n",
       "      <td>-0.000589</td>\n",
       "      <td>-0.003026</td>\n",
       "      <td>-0.004600</td>\n",
       "      <td>-0.000578</td>\n",
       "      <td>-0.000055</td>\n",
       "    </tr>\n",
       "    <tr>\n",
       "      <th>...</th>\n",
       "      <td>...</td>\n",
       "      <td>...</td>\n",
       "      <td>...</td>\n",
       "      <td>...</td>\n",
       "      <td>...</td>\n",
       "      <td>...</td>\n",
       "      <td>...</td>\n",
       "      <td>...</td>\n",
       "      <td>...</td>\n",
       "      <td>...</td>\n",
       "      <td>...</td>\n",
       "      <td>...</td>\n",
       "      <td>...</td>\n",
       "      <td>...</td>\n",
       "      <td>...</td>\n",
       "      <td>...</td>\n",
       "      <td>...</td>\n",
       "      <td>...</td>\n",
       "      <td>...</td>\n",
       "      <td>...</td>\n",
       "      <td>...</td>\n",
       "    </tr>\n",
       "    <tr>\n",
       "      <th>app227</th>\n",
       "      <td>0.001438</td>\n",
       "      <td>0.000468</td>\n",
       "      <td>-0.001837</td>\n",
       "      <td>-0.000628</td>\n",
       "      <td>-0.002511</td>\n",
       "      <td>-0.003152</td>\n",
       "      <td>-0.003805</td>\n",
       "      <td>0.000339</td>\n",
       "      <td>-0.001998</td>\n",
       "      <td>0.001987</td>\n",
       "      <td>...</td>\n",
       "      <td>-0.002464</td>\n",
       "      <td>-0.002573</td>\n",
       "      <td>-0.003751</td>\n",
       "      <td>0.002902</td>\n",
       "      <td>-0.003180</td>\n",
       "      <td>-0.001320</td>\n",
       "      <td>0.002686</td>\n",
       "      <td>0.001412</td>\n",
       "      <td>0.000844</td>\n",
       "      <td>0.003542</td>\n",
       "    </tr>\n",
       "    <tr>\n",
       "      <th>app219</th>\n",
       "      <td>-0.000863</td>\n",
       "      <td>0.001027</td>\n",
       "      <td>-0.002669</td>\n",
       "      <td>-0.001507</td>\n",
       "      <td>-0.003353</td>\n",
       "      <td>0.002642</td>\n",
       "      <td>-0.002374</td>\n",
       "      <td>0.002786</td>\n",
       "      <td>-0.000703</td>\n",
       "      <td>0.002141</td>\n",
       "      <td>...</td>\n",
       "      <td>-0.001145</td>\n",
       "      <td>0.002694</td>\n",
       "      <td>-0.000156</td>\n",
       "      <td>-0.000077</td>\n",
       "      <td>-0.003835</td>\n",
       "      <td>0.000177</td>\n",
       "      <td>0.003179</td>\n",
       "      <td>0.000310</td>\n",
       "      <td>0.002191</td>\n",
       "      <td>-0.000920</td>\n",
       "    </tr>\n",
       "    <tr>\n",
       "      <th>app205</th>\n",
       "      <td>-0.000185</td>\n",
       "      <td>-0.003573</td>\n",
       "      <td>-0.002284</td>\n",
       "      <td>0.003279</td>\n",
       "      <td>-0.003176</td>\n",
       "      <td>0.001420</td>\n",
       "      <td>0.003164</td>\n",
       "      <td>-0.000256</td>\n",
       "      <td>0.003811</td>\n",
       "      <td>-0.000799</td>\n",
       "      <td>...</td>\n",
       "      <td>0.002207</td>\n",
       "      <td>0.002723</td>\n",
       "      <td>0.001734</td>\n",
       "      <td>0.002099</td>\n",
       "      <td>-0.000410</td>\n",
       "      <td>-0.001579</td>\n",
       "      <td>-0.001346</td>\n",
       "      <td>0.000726</td>\n",
       "      <td>0.001925</td>\n",
       "      <td>0.003099</td>\n",
       "    </tr>\n",
       "    <tr>\n",
       "      <th>app2</th>\n",
       "      <td>0.003535</td>\n",
       "      <td>0.000018</td>\n",
       "      <td>0.000842</td>\n",
       "      <td>-0.001685</td>\n",
       "      <td>0.002936</td>\n",
       "      <td>0.003042</td>\n",
       "      <td>-0.001216</td>\n",
       "      <td>-0.000498</td>\n",
       "      <td>-0.003903</td>\n",
       "      <td>-0.000727</td>\n",
       "      <td>...</td>\n",
       "      <td>-0.002792</td>\n",
       "      <td>0.002607</td>\n",
       "      <td>-0.002306</td>\n",
       "      <td>0.002757</td>\n",
       "      <td>0.000670</td>\n",
       "      <td>-0.000598</td>\n",
       "      <td>0.000607</td>\n",
       "      <td>0.003017</td>\n",
       "      <td>-0.002748</td>\n",
       "      <td>0.003320</td>\n",
       "    </tr>\n",
       "    <tr>\n",
       "      <th>app203</th>\n",
       "      <td>-0.002773</td>\n",
       "      <td>-0.001127</td>\n",
       "      <td>-0.002423</td>\n",
       "      <td>0.001153</td>\n",
       "      <td>-0.003686</td>\n",
       "      <td>-0.003062</td>\n",
       "      <td>0.002440</td>\n",
       "      <td>0.002770</td>\n",
       "      <td>-0.002784</td>\n",
       "      <td>-0.000584</td>\n",
       "      <td>...</td>\n",
       "      <td>-0.002397</td>\n",
       "      <td>0.002997</td>\n",
       "      <td>0.000198</td>\n",
       "      <td>0.000401</td>\n",
       "      <td>-0.003266</td>\n",
       "      <td>0.001001</td>\n",
       "      <td>0.000688</td>\n",
       "      <td>0.001338</td>\n",
       "      <td>-0.001702</td>\n",
       "      <td>0.001676</td>\n",
       "    </tr>\n",
       "  </tbody>\n",
       "</table>\n",
       "<p>232 rows × 128 columns</p>\n",
       "</div>"
      ],
      "text/plain": [
       "             0         1         2         3         4         5         6    \\\n",
       "uid                                                                            \n",
       "app15   0.001465 -0.006035  0.002803 -0.006472  0.001844  0.000563  0.000152   \n",
       "app222 -0.007221  0.003152  0.001400  0.001215 -0.004036 -0.000574 -0.002065   \n",
       "app218 -0.006554 -0.002982 -0.002722 -0.005685 -0.002853 -0.001394 -0.002546   \n",
       "app165 -0.005208  0.002826 -0.003647 -0.001873 -0.001584 -0.002434 -0.003195   \n",
       "app28  -0.005466 -0.003686  0.002009  0.001212 -0.003348 -0.003617 -0.000823   \n",
       "...          ...       ...       ...       ...       ...       ...       ...   \n",
       "app227  0.001438  0.000468 -0.001837 -0.000628 -0.002511 -0.003152 -0.003805   \n",
       "app219 -0.000863  0.001027 -0.002669 -0.001507 -0.003353  0.002642 -0.002374   \n",
       "app205 -0.000185 -0.003573 -0.002284  0.003279 -0.003176  0.001420  0.003164   \n",
       "app2    0.003535  0.000018  0.000842 -0.001685  0.002936  0.003042 -0.001216   \n",
       "app203 -0.002773 -0.001127 -0.002423  0.001153 -0.003686 -0.003062  0.002440   \n",
       "\n",
       "             7         8         9    ...       118       119       120  \\\n",
       "uid                                   ...                                 \n",
       "app15   0.004515 -0.004373 -0.005861  ...  0.000944 -0.001850  0.005967   \n",
       "app222 -0.004598 -0.002774  0.001391  ...  0.002566 -0.005518 -0.001023   \n",
       "app218 -0.001562  0.000574  0.001690  ...  0.006558 -0.005123 -0.003411   \n",
       "app165 -0.002779  0.000455 -0.004313  ...  0.003347 -0.002185 -0.003458   \n",
       "app28   0.002770 -0.003804  0.001141  ...  0.004744  0.002535  0.002379   \n",
       "...          ...       ...       ...  ...       ...       ...       ...   \n",
       "app227  0.000339 -0.001998  0.001987  ... -0.002464 -0.002573 -0.003751   \n",
       "app219  0.002786 -0.000703  0.002141  ... -0.001145  0.002694 -0.000156   \n",
       "app205 -0.000256  0.003811 -0.000799  ...  0.002207  0.002723  0.001734   \n",
       "app2   -0.000498 -0.003903 -0.000727  ... -0.002792  0.002607 -0.002306   \n",
       "app203  0.002770 -0.002784 -0.000584  ... -0.002397  0.002997  0.000198   \n",
       "\n",
       "             121       122       123       124       125       126       127  \n",
       "uid                                                                           \n",
       "app15   0.005115  0.001456 -0.005741 -0.004002  0.001943 -0.000393  0.002028  \n",
       "app222  0.002259 -0.003552  0.004228 -0.003225  0.002905  0.001139 -0.005657  \n",
       "app218 -0.000147  0.000418  0.004349 -0.002708  0.003058 -0.001097 -0.005037  \n",
       "app165  0.003372  0.002375  0.003374 -0.003633 -0.002255  0.000983  0.001666  \n",
       "app28   0.001448 -0.001578 -0.000589 -0.003026 -0.004600 -0.000578 -0.000055  \n",
       "...          ...       ...       ...       ...       ...       ...       ...  \n",
       "app227  0.002902 -0.003180 -0.001320  0.002686  0.001412  0.000844  0.003542  \n",
       "app219 -0.000077 -0.003835  0.000177  0.003179  0.000310  0.002191 -0.000920  \n",
       "app205  0.002099 -0.000410 -0.001579 -0.001346  0.000726  0.001925  0.003099  \n",
       "app2    0.002757  0.000670 -0.000598  0.000607  0.003017 -0.002748  0.003320  \n",
       "app203  0.000401 -0.003266  0.001001  0.000688  0.001338 -0.001702  0.001676  \n",
       "\n",
       "[232 rows x 128 columns]"
      ]
     },
     "execution_count": 55,
     "metadata": {},
     "output_type": "execute_result"
    }
   ],
   "source": [
    "vectors = pd.DataFrame(model.wv.vectors)\n",
    "vectors['uid'] = model.wv.index2word\n",
    "vectors = vectors[vectors.uid.str.contains('app')].set_index('uid')\n",
    "vectors"
   ]
  },
  {
   "cell_type": "code",
   "execution_count": 56,
   "metadata": {},
   "outputs": [],
   "source": [
    "import matplotlib.pyplot as plt\n",
    "from sklearn.manifold import TSNE\n",
    "from sklearn.decomposition import PCA\n",
    "from IPython.display import display, HTML"
   ]
  },
  {
   "cell_type": "code",
   "execution_count": 57,
   "metadata": {},
   "outputs": [],
   "source": [
    "# Retrieve node embeddings and corresponding subjects\n",
    "node_ids = list(vectors.index)  # list of node IDs\n",
    "node_embeddings = (\n",
    "    vectors.values\n",
    ")  # numpy.ndarray of size number of nodes times embeddings dimensionality\n",
    "node_targets = [g.node_type(node_id) for node_id in node_ids]"
   ]
  },
  {
   "cell_type": "code",
   "execution_count": 58,
   "metadata": {},
   "outputs": [],
   "source": [
    "transform = TSNE  # PCA\n",
    "\n",
    "trans = transform(n_components=2)\n",
    "node_embeddings_2d = trans.fit_transform(node_embeddings)"
   ]
  },
  {
   "cell_type": "code",
   "execution_count": 59,
   "metadata": {},
   "outputs": [
    {
     "data": {
      "image/png": "[encoded data removed]",
      "text/plain": [
       "<Figure size 1440x1152 with 1 Axes>"
      ]
     },
     "metadata": {
      "needs_background": "light"
     },
     "output_type": "display_data"
    }
   ],
   "source": [
    "# draw the points\n",
    "label_map = {l: i for i, l in enumerate(np.unique(node_targets))}\n",
    "node_colours = [label_map[target] for target in node_targets]\n",
    "\n",
    "plt.figure(figsize=(20, 16))\n",
    "plt.axes().set(aspect=\"equal\")\n",
    "plt.scatter(node_embeddings_2d[:, 0], node_embeddings_2d[:, 1], c=node_colours, alpha=0.3)\n",
    "plt.title(\"{} visualization of node embeddings\".format(transform.__name__))\n",
    "plt.show()"
   ]
  },
  {
   "cell_type": "code",
   "execution_count": 27,
   "metadata": {},
   "outputs": [],
   "source": [
    "import pickle"
   ]
  },
  {
   "cell_type": "code",
   "execution_count": 29,
   "metadata": {},
   "outputs": [
    {
     "data": {
      "text/plain": [
       "'data/out/random-apps/'"
      ]
     },
     "execution_count": 29,
     "metadata": {},
     "output_type": "execute_result"
    }
   ],
   "source": [
    "outfolder"
   ]
  },
  {
   "cell_type": "code",
   "execution_count": 39,
   "metadata": {},
   "outputs": [],
   "source": [
    "with open(os.path.join(outfolder, 'graph.pkl'), 'wb') as file:\n",
    "    pickle.dump(g, file)"
   ]
  },
  {
   "cell_type": "code",
   "execution_count": 41,
   "metadata": {},
   "outputs": [],
   "source": [
    "with open(os.path.join(outfolder, 'graph.pkl'), 'rb') as file:\n",
    "    pickle.load(file)"
   ]
  },
  {
   "cell_type": "code",
   "execution_count": null,
   "metadata": {},
   "outputs": [],
   "source": [
    "os.path.exists()"
   ]
  }
 ],
 "metadata": {
  "kernelspec": {
   "display_name": "Python 3",
   "language": "python",
   "name": "python3"
  },
  "language_info": {
   "codemirror_mode": {
    "name": "ipython",
    "version": 3
   },
   "file_extension": ".py",
   "mimetype": "text/x-python",
   "name": "python",
   "nbconvert_exporter": "python",
   "pygments_lexer": "ipython3",
   "version": "3.7.6"
  }
 },
 "nbformat": 4,
 "nbformat_minor": 4
}
