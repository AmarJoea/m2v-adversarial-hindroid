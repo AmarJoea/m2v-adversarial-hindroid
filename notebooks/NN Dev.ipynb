{
 "cells": [
  {
   "cell_type": "code",
   "execution_count": 1,
   "id": "loving-lottery",
   "metadata": {},
   "outputs": [],
   "source": [
    "# Adapted from https://github.com/pytorch/examples/blob/master/mnist/main.py\n",
    "import os\n",
    "os.chdir('/home/rcgonzal/DSC180Malware/m2v-adversarial-hindroid/')\n",
    "\n",
    "from __future__ import print_function\n",
    "from scipy import sparse\n",
    "import pandas as pd\n",
    "import numpy as np\n",
    "import argparse\n",
    "import torch\n",
    "import torch.nn as nn\n",
    "import torch.nn.functional as F\n",
    "import torch.optim as optim\n",
    "from torchvision import datasets, transforms\n",
    "from torch.optim.lr_scheduler import StepLR\n",
    "from torch.utils.data import Dataset, DataLoader\n",
    "from sklearn.metrics import classification_report, confusion_matrix\n",
    "\n",
    "from src.imbalanced_dataset_sampler.imbalanced import ImbalancedDatasetSampler"
   ]
  },
  {
   "cell_type": "code",
   "execution_count": 2,
   "id": "covered-watson",
   "metadata": {},
   "outputs": [],
   "source": [
    "class HindroidDataset(Dataset):\n",
    "    def __init__(self, features_path, labels_path, label_col='m2vDroid', transform=None):\n",
    "        '''\n",
    "        Creates a  dataset from the A matrix representation of apps and their associated labels.\n",
    "        \n",
    "        Parameters:\n",
    "        -------------------\n",
    "        features_path: Path to A matrix in sparse format.\n",
    "        labels_path: Path to labels in csv format.\n",
    "        label_col: Default 'm2vDroid'. Useful for specifying which kernel to use for HinDroid.\n",
    "        '''\n",
    "        self.features = sparse.load_npz(os.path.join(features_path))\n",
    "        self.feature_width = self.features.shape[1]\n",
    "        features_folder = os.path.split(features_path)[0]\n",
    "        self.features_idx = list(pd.read_csv(\n",
    "            os.path.join(features_folder, 'predictions.csv'),\n",
    "            usecols=['app'], \n",
    "            squeeze=True\n",
    "        ))\n",
    "        self.transform = transform\n",
    "        \n",
    "        try:\n",
    "            self.labels = pd.read_csv(\n",
    "                labels_path, \n",
    "                usecols=['app', label_col],\n",
    "                index_col = 'app',\n",
    "                squeeze=True\n",
    "            )\n",
    "            self.labels = self.labels[self.features_idx].values # align labels with features index\n",
    "        except (KeyError, ValueError) as e:\n",
    "            print(e)\n",
    "            print('Seems like you may be trying to use a different model. This class is setup for m2vDroid by default.')\n",
    "            print('For HinDroid you must specify `label_col` as either AAT, ABAT, APAT, ABPBTAT, or APBPTAT.')\n",
    "            \n",
    "        assert (self.features.shape[0] == self.labels.size), 'Length mismatch between features and labels.'\n",
    "    \n",
    "    def __len__(self):\n",
    "        return self.features.shape[0]\n",
    "    \n",
    "    def __getitem__(self, idx):\n",
    "        if torch.is_tensor(idx):\n",
    "            idx = idx.tolist()\n",
    "        \n",
    "        features = self.features[idx]\n",
    "        features = features.todense().astype('float').A\n",
    "        labels = self.labels[idx]\n",
    "        \n",
    "#         if self.transform:\n",
    "#             features = self.transform(features)\n",
    "#             labels = self.transform(labels)\n",
    "        \n",
    "#         sample = {'features': features, 'labels': labels}\n",
    "        \n",
    "        return features, labels\n",
    "    \n",
    "    def get_labels(self, idx):\n",
    "        return self.labels[idx]\n",
    "    \n",
    "def hindroid_custom_get_label(dataset, idx):\n",
    "    return dataset.get_labels(idx)"
   ]
  },
  {
   "cell_type": "code",
   "execution_count": 3,
   "id": "universal-playlist",
   "metadata": {},
   "outputs": [],
   "source": [
    "class HindroidSubstitute(nn.Module):\n",
    "    def __init__(self, n_features):\n",
    "        super(HindroidSubstitute, self).__init__()\n",
    "        self.layer_1 = nn.Linear(n_features, 64, bias=False)\n",
    "        # Linear - how to freeze layer ^\n",
    "        # biases = false\n",
    "        self.layer_2 = nn.Linear(64, 64, bias=False)\n",
    "        self.layer_3 = nn.Linear(64, 64, bias=False)\n",
    "        self.layer_4 = nn.Linear(64, 2, bias=False)\n",
    "\n",
    "    def forward(self, x):\n",
    "        if not torch.is_tensor(x):\n",
    "            x = torch.from_numpy(x)\n",
    "        x = x.view(x.shape[0], -1)\n",
    "        x = F.relu(self.layer_1(x))\n",
    "        x = F.relu(self.layer_2(x))\n",
    "        x = F.relu(self.layer_3(x))\n",
    "        x = self.layer_4(x)\n",
    "        return x # logits"
   ]
  },
  {
   "cell_type": "code",
   "execution_count": 4,
   "id": "periodic-memory",
   "metadata": {},
   "outputs": [],
   "source": [
    "# Test model\n",
    "# model = HindroidSubstitute(dataset.feature_width).double()\n",
    "# model(dataset[-100:][0])"
   ]
  },
  {
   "cell_type": "code",
   "execution_count": 5,
   "id": "statistical-review",
   "metadata": {},
   "outputs": [
    {
     "data": {
      "text/plain": [
       "\u001b[0;31mSignature:\u001b[0m\n",
       "\u001b[0mF\u001b[0m\u001b[0;34m.\u001b[0m\u001b[0mnll_loss\u001b[0m\u001b[0;34m(\u001b[0m\u001b[0;34m\u001b[0m\n",
       "\u001b[0;34m\u001b[0m    \u001b[0minput\u001b[0m\u001b[0;34m,\u001b[0m\u001b[0;34m\u001b[0m\n",
       "\u001b[0;34m\u001b[0m    \u001b[0mtarget\u001b[0m\u001b[0;34m,\u001b[0m\u001b[0;34m\u001b[0m\n",
       "\u001b[0;34m\u001b[0m    \u001b[0mweight\u001b[0m\u001b[0;34m=\u001b[0m\u001b[0;32mNone\u001b[0m\u001b[0;34m,\u001b[0m\u001b[0;34m\u001b[0m\n",
       "\u001b[0;34m\u001b[0m    \u001b[0msize_average\u001b[0m\u001b[0;34m=\u001b[0m\u001b[0;32mNone\u001b[0m\u001b[0;34m,\u001b[0m\u001b[0;34m\u001b[0m\n",
       "\u001b[0;34m\u001b[0m    \u001b[0mignore_index\u001b[0m\u001b[0;34m=\u001b[0m\u001b[0;34m-\u001b[0m\u001b[0;36m100\u001b[0m\u001b[0;34m,\u001b[0m\u001b[0;34m\u001b[0m\n",
       "\u001b[0;34m\u001b[0m    \u001b[0mreduce\u001b[0m\u001b[0;34m=\u001b[0m\u001b[0;32mNone\u001b[0m\u001b[0;34m,\u001b[0m\u001b[0;34m\u001b[0m\n",
       "\u001b[0;34m\u001b[0m    \u001b[0mreduction\u001b[0m\u001b[0;34m=\u001b[0m\u001b[0;34m'mean'\u001b[0m\u001b[0;34m,\u001b[0m\u001b[0;34m\u001b[0m\n",
       "\u001b[0;34m\u001b[0m\u001b[0;34m)\u001b[0m\u001b[0;34m\u001b[0m\u001b[0;34m\u001b[0m\u001b[0m\n",
       "\u001b[0;31mDocstring:\u001b[0m\n",
       "The negative log likelihood loss.\n",
       "\n",
       "See :class:`~torch.nn.NLLLoss` for details.\n",
       "\n",
       "Args:\n",
       "    input: :math:`(N, C)` where `C = number of classes` or :math:`(N, C, H, W)`\n",
       "        in case of 2D Loss, or :math:`(N, C, d_1, d_2, ..., d_K)` where :math:`K \\geq 1`\n",
       "        in the case of K-dimensional loss.\n",
       "    target: :math:`(N)` where each value is :math:`0 \\leq \\text{targets}[i] \\leq C-1`,\n",
       "        or :math:`(N, d_1, d_2, ..., d_K)` where :math:`K \\geq 1` for\n",
       "        K-dimensional loss.\n",
       "    weight (Tensor, optional): a manual rescaling weight given to each\n",
       "        class. If given, has to be a Tensor of size `C`\n",
       "    size_average (bool, optional): Deprecated (see :attr:`reduction`). By default,\n",
       "        the losses are averaged over each loss element in the batch. Note that for\n",
       "        some losses, there multiple elements per sample. If the field :attr:`size_average`\n",
       "        is set to ``False``, the losses are instead summed for each minibatch. Ignored\n",
       "        when reduce is ``False``. Default: ``True``\n",
       "    ignore_index (int, optional): Specifies a target value that is ignored\n",
       "        and does not contribute to the input gradient. When :attr:`size_average` is\n",
       "        ``True``, the loss is averaged over non-ignored targets. Default: -100\n",
       "    reduce (bool, optional): Deprecated (see :attr:`reduction`). By default, the\n",
       "        losses are averaged or summed over observations for each minibatch depending\n",
       "        on :attr:`size_average`. When :attr:`reduce` is ``False``, returns a loss per\n",
       "        batch element instead and ignores :attr:`size_average`. Default: ``True``\n",
       "    reduction (string, optional): Specifies the reduction to apply to the output:\n",
       "        ``'none'`` | ``'mean'`` | ``'sum'``. ``'none'``: no reduction will be applied,\n",
       "        ``'mean'``: the sum of the output will be divided by the number of\n",
       "        elements in the output, ``'sum'``: the output will be summed. Note: :attr:`size_average`\n",
       "        and :attr:`reduce` are in the process of being deprecated, and in the meantime,\n",
       "        specifying either of those two args will override :attr:`reduction`. Default: ``'mean'``\n",
       "\n",
       "Example::\n",
       "\n",
       "    >>> # input is of size N x C = 3 x 5\n",
       "    >>> input = torch.randn(3, 5, requires_grad=True)\n",
       "    >>> # each element in target has to have 0 <= value < C\n",
       "    >>> target = torch.tensor([1, 0, 4])\n",
       "    >>> output = F.nll_loss(F.log_softmax(input), target)\n",
       "    >>> output.backward()\n",
       "\u001b[0;31mFile:\u001b[0m      ~/.local/lib/python3.8/site-packages/torch/nn/functional.py\n",
       "\u001b[0;31mType:\u001b[0m      function\n"
      ]
     },
     "metadata": {},
     "output_type": "display_data"
    }
   ],
   "source": [
    "F.nll_loss?"
   ]
  },
  {
   "cell_type": "code",
   "execution_count": 6,
   "id": "decreased-surgery",
   "metadata": {},
   "outputs": [],
   "source": [
    "def train(model, device, train_loader, optimizer, epoch, weight=None):\n",
    "    model.train()\n",
    "    for batch_idx, (data, target) in enumerate(train_loader):\n",
    "        data, target = data.to(device), target.to(device)\n",
    "        optimizer.zero_grad()\n",
    "        output = F.log_softmax(model(data), dim=1)\n",
    "        loss = F.nll_loss(output, target, weight=weight) # do we use different loss?\n",
    "        loss.backward()\n",
    "        optimizer.step()\n",
    "        \n",
    "        # logging\n",
    "        log_interval = 10\n",
    "        if batch_idx % log_interval == 0:\n",
    "            print('Train Epoch: {} [{}/{} ({:.0f}%)]\\tLoss: {:.6f}'.format(\n",
    "                epoch, batch_idx * len(data), len(train_loader.dataset),\n",
    "                100. * batch_idx / len(train_loader), loss.item()))\n",
    "#         if batch_idx % args.log_interval == 0:\n",
    "#             print('Train Epoch: {} [{}/{} ({:.0f}%)]\\tLoss: {:.6f}'.format(\n",
    "#                 epoch, batch_idx * len(data), len(train_loader.dataset),\n",
    "#                 100. * batch_idx / len(train_loader), loss.item()))\n",
    "#             if args.dry_run:\n",
    "#                 break\n",
    "\n",
    "\n",
    "def test(model, device, test_loader, weight=None):\n",
    "    model.eval()\n",
    "    test_loss = 0\n",
    "    correct = 0\n",
    "    with torch.no_grad():\n",
    "        for data, target in test_loader:\n",
    "            data, target = data.to(device), target.to(device)\n",
    "            output = model(data)\n",
    "#             print(output)\n",
    "            output = F.log_softmax(output, dim=1)\n",
    "#             print(output)\n",
    "            loss = F.nll_loss(output, target, weight=weight, reduction='sum').item()  # sum up batch loss\n",
    "#             print('loss: ', loss)\n",
    "            test_loss += loss\n",
    "#             print(output.argmax(dim=1, keepdim=True))\n",
    "            pred = output.argmax(dim=1, keepdim=True)  # get the index of the max log-probability\n",
    "#             print(target.view_as(pred))\n",
    "            correct += pred.eq(target.view_as(pred)).sum().item()\n",
    "\n",
    "    test_loss /= len(test_loader.dataset)\n",
    "\n",
    "    print('\\nTest set: Average loss: {:.4f}, Accuracy: {}/{} ({:.0f}%)\\n'.format(\n",
    "        test_loss, correct, len(test_loader.dataset),\n",
    "        100. * correct / len(test_loader.dataset)))"
   ]
  },
  {
   "cell_type": "code",
   "execution_count": 7,
   "id": "headed-traveler",
   "metadata": {},
   "outputs": [],
   "source": [
    "# model = HindroidSubstitute(dataset.feature_width).double()\n",
    "# weights = torch.Tensor([dataset.labels.mean() / (1-dataset.labels.mean()), 1]).double()\n",
    "# train_loader = torch.utils.data.DataLoader(dataset, batch_size=10)\n",
    "# test_loader = torch.utils.data.DataLoader(dataset, batch_size=10)\n",
    "# test(model, 'cpu', test_loader, weights)"
   ]
  },
  {
   "cell_type": "markdown",
   "id": "saving-beginning",
   "metadata": {},
   "source": [
    "# Train"
   ]
  },
  {
   "cell_type": "code",
   "execution_count": 8,
   "id": "dutch-monroe",
   "metadata": {
    "scrolled": true
   },
   "outputs": [
    {
     "name": "stdout",
     "output_type": "stream",
     "text": [
      "Train Epoch: 1 [0/6072 (0%)]\tLoss: 0.693231\n",
      "Train Epoch: 1 [1000/6072 (16%)]\tLoss: 0.617559\n",
      "Train Epoch: 1 [2000/6072 (33%)]\tLoss: 0.532660\n",
      "Train Epoch: 1 [3000/6072 (49%)]\tLoss: 0.478942\n",
      "Train Epoch: 1 [4000/6072 (66%)]\tLoss: 0.463148\n",
      "Train Epoch: 1 [5000/6072 (82%)]\tLoss: 0.376212\n",
      "Train Epoch: 1 [4320/6072 (98%)]\tLoss: 0.392915\n",
      "\n",
      "Test set: Average loss: 0.3780, Accuracy: 5958/6072 (98%)\n",
      "\n",
      "Train Epoch: 2 [0/6072 (0%)]\tLoss: 0.361646\n",
      "Train Epoch: 2 [1000/6072 (16%)]\tLoss: 0.421938\n",
      "Train Epoch: 2 [2000/6072 (33%)]\tLoss: 0.369513\n",
      "Train Epoch: 2 [3000/6072 (49%)]\tLoss: 0.353823\n",
      "Train Epoch: 2 [4000/6072 (66%)]\tLoss: 0.405219\n",
      "Train Epoch: 2 [5000/6072 (82%)]\tLoss: 0.356002\n",
      "Train Epoch: 2 [4320/6072 (98%)]\tLoss: 0.418562\n",
      "\n",
      "Test set: Average loss: 0.3674, Accuracy: 5964/6072 (98%)\n",
      "\n",
      "Train Epoch: 3 [0/6072 (0%)]\tLoss: 0.374777\n",
      "Train Epoch: 3 [1000/6072 (16%)]\tLoss: 0.346728\n",
      "Train Epoch: 3 [2000/6072 (33%)]\tLoss: 0.359628\n",
      "Train Epoch: 3 [3000/6072 (49%)]\tLoss: 0.386685\n",
      "Train Epoch: 3 [4000/6072 (66%)]\tLoss: 0.313852\n",
      "Train Epoch: 3 [5000/6072 (82%)]\tLoss: 0.388947\n",
      "Train Epoch: 3 [4320/6072 (98%)]\tLoss: 0.358845\n",
      "\n",
      "Test set: Average loss: 0.3674, Accuracy: 5966/6072 (98%)\n",
      "\n",
      "Train Epoch: 4 [0/6072 (0%)]\tLoss: 0.361769\n",
      "Train Epoch: 4 [1000/6072 (16%)]\tLoss: 0.375139\n",
      "Train Epoch: 4 [2000/6072 (33%)]\tLoss: 0.355607\n",
      "Train Epoch: 4 [3000/6072 (49%)]\tLoss: 0.399761\n",
      "Train Epoch: 4 [4000/6072 (66%)]\tLoss: 0.391224\n",
      "Train Epoch: 4 [5000/6072 (82%)]\tLoss: 0.347331\n",
      "Train Epoch: 4 [4320/6072 (98%)]\tLoss: 0.335396\n",
      "\n",
      "Test set: Average loss: 0.3682, Accuracy: 5957/6072 (98%)\n",
      "\n",
      "Train Epoch: 5 [0/6072 (0%)]\tLoss: 0.377227\n",
      "Train Epoch: 5 [1000/6072 (16%)]\tLoss: 0.380388\n",
      "Train Epoch: 5 [2000/6072 (33%)]\tLoss: 0.331079\n",
      "Train Epoch: 5 [3000/6072 (49%)]\tLoss: 0.354032\n",
      "Train Epoch: 5 [4000/6072 (66%)]\tLoss: 0.381412\n",
      "Train Epoch: 5 [5000/6072 (82%)]\tLoss: 0.360023\n",
      "Train Epoch: 5 [4320/6072 (98%)]\tLoss: 0.331616\n",
      "\n",
      "Test set: Average loss: 0.3714, Accuracy: 5938/6072 (98%)\n",
      "\n",
      "Train Epoch: 6 [0/6072 (0%)]\tLoss: 0.361349\n",
      "Train Epoch: 6 [1000/6072 (16%)]\tLoss: 0.394463\n",
      "Train Epoch: 6 [2000/6072 (33%)]\tLoss: 0.353141\n",
      "Train Epoch: 6 [3000/6072 (49%)]\tLoss: 0.368487\n",
      "Train Epoch: 6 [4000/6072 (66%)]\tLoss: 0.416350\n",
      "Train Epoch: 6 [5000/6072 (82%)]\tLoss: 0.332673\n",
      "Train Epoch: 6 [4320/6072 (98%)]\tLoss: 0.426317\n",
      "\n",
      "Test set: Average loss: 0.3645, Accuracy: 5948/6072 (98%)\n",
      "\n",
      "Train Epoch: 7 [0/6072 (0%)]\tLoss: 0.313013\n",
      "Train Epoch: 7 [1000/6072 (16%)]\tLoss: 0.393643\n",
      "Train Epoch: 7 [2000/6072 (33%)]\tLoss: 0.340542\n",
      "Train Epoch: 7 [3000/6072 (49%)]\tLoss: 0.345358\n",
      "Train Epoch: 7 [4000/6072 (66%)]\tLoss: 0.387287\n",
      "Train Epoch: 7 [5000/6072 (82%)]\tLoss: 0.368507\n",
      "Train Epoch: 7 [4320/6072 (98%)]\tLoss: 0.376596\n",
      "\n",
      "Test set: Average loss: 0.3688, Accuracy: 5974/6072 (98%)\n",
      "\n",
      "Train Epoch: 8 [0/6072 (0%)]\tLoss: 0.342121\n",
      "Train Epoch: 8 [1000/6072 (16%)]\tLoss: 0.344060\n",
      "Train Epoch: 8 [2000/6072 (33%)]\tLoss: 0.328919\n",
      "Train Epoch: 8 [3000/6072 (49%)]\tLoss: 0.375085\n",
      "Train Epoch: 8 [4000/6072 (66%)]\tLoss: 0.383527\n",
      "Train Epoch: 8 [5000/6072 (82%)]\tLoss: 0.365745\n",
      "Train Epoch: 8 [4320/6072 (98%)]\tLoss: 0.366307\n",
      "\n",
      "Test set: Average loss: 0.3717, Accuracy: 5953/6072 (98%)\n",
      "\n",
      "Train Epoch: 9 [0/6072 (0%)]\tLoss: 0.363047\n",
      "Train Epoch: 9 [1000/6072 (16%)]\tLoss: 0.334530\n",
      "Train Epoch: 9 [2000/6072 (33%)]\tLoss: 0.365580\n",
      "Train Epoch: 9 [3000/6072 (49%)]\tLoss: 0.332538\n",
      "Train Epoch: 9 [4000/6072 (66%)]\tLoss: 0.381836\n",
      "Train Epoch: 9 [5000/6072 (82%)]\tLoss: 0.392389\n",
      "Train Epoch: 9 [4320/6072 (98%)]\tLoss: 0.341349\n",
      "\n",
      "Test set: Average loss: 0.3723, Accuracy: 5951/6072 (98%)\n",
      "\n",
      "Train Epoch: 10 [0/6072 (0%)]\tLoss: 0.347534\n",
      "Train Epoch: 10 [1000/6072 (16%)]\tLoss: 0.367174\n",
      "Train Epoch: 10 [2000/6072 (33%)]\tLoss: 0.394998\n",
      "Train Epoch: 10 [3000/6072 (49%)]\tLoss: 0.356781\n",
      "Train Epoch: 10 [4000/6072 (66%)]\tLoss: 0.337121\n",
      "Train Epoch: 10 [5000/6072 (82%)]\tLoss: 0.337685\n",
      "Train Epoch: 10 [4320/6072 (98%)]\tLoss: 0.367789\n",
      "\n",
      "Test set: Average loss: 0.3666, Accuracy: 5959/6072 (98%)\n",
      "\n",
      "Train Epoch: 11 [0/6072 (0%)]\tLoss: 0.333820\n",
      "Train Epoch: 11 [1000/6072 (16%)]\tLoss: 0.382236\n",
      "Train Epoch: 11 [2000/6072 (33%)]\tLoss: 0.364627\n",
      "Train Epoch: 11 [3000/6072 (49%)]\tLoss: 0.374869\n",
      "Train Epoch: 11 [4000/6072 (66%)]\tLoss: 0.352948\n",
      "Train Epoch: 11 [5000/6072 (82%)]\tLoss: 0.351910\n",
      "Train Epoch: 11 [4320/6072 (98%)]\tLoss: 0.367117\n",
      "\n",
      "Test set: Average loss: 0.3716, Accuracy: 5951/6072 (98%)\n",
      "\n",
      "Train Epoch: 12 [0/6072 (0%)]\tLoss: 0.360056\n",
      "Train Epoch: 12 [1000/6072 (16%)]\tLoss: 0.343030\n",
      "Train Epoch: 12 [2000/6072 (33%)]\tLoss: 0.375280\n",
      "Train Epoch: 12 [3000/6072 (49%)]\tLoss: 0.377144\n",
      "Train Epoch: 12 [4000/6072 (66%)]\tLoss: 0.391632\n",
      "Train Epoch: 12 [5000/6072 (82%)]\tLoss: 0.353673\n",
      "Train Epoch: 12 [4320/6072 (98%)]\tLoss: 0.298233\n",
      "\n",
      "Test set: Average loss: 0.3707, Accuracy: 5956/6072 (98%)\n",
      "\n",
      "Train Epoch: 13 [0/6072 (0%)]\tLoss: 0.403974\n",
      "Train Epoch: 13 [1000/6072 (16%)]\tLoss: 0.381365\n",
      "Train Epoch: 13 [2000/6072 (33%)]\tLoss: 0.423743\n",
      "Train Epoch: 13 [3000/6072 (49%)]\tLoss: 0.388526\n",
      "Train Epoch: 13 [4000/6072 (66%)]\tLoss: 0.320531\n",
      "Train Epoch: 13 [5000/6072 (82%)]\tLoss: 0.370521\n",
      "Train Epoch: 13 [4320/6072 (98%)]\tLoss: 0.388871\n",
      "\n",
      "Test set: Average loss: 0.3665, Accuracy: 5965/6072 (98%)\n",
      "\n",
      "Train Epoch: 14 [0/6072 (0%)]\tLoss: 0.381228\n",
      "Train Epoch: 14 [1000/6072 (16%)]\tLoss: 0.372460\n",
      "Train Epoch: 14 [2000/6072 (33%)]\tLoss: 0.294820\n",
      "Train Epoch: 14 [3000/6072 (49%)]\tLoss: 0.359944\n",
      "Train Epoch: 14 [4000/6072 (66%)]\tLoss: 0.367399\n",
      "Train Epoch: 14 [5000/6072 (82%)]\tLoss: 0.365528\n",
      "Train Epoch: 14 [4320/6072 (98%)]\tLoss: 0.371883\n",
      "\n",
      "Test set: Average loss: 0.3711, Accuracy: 5959/6072 (98%)\n",
      "\n",
      "Train Epoch: 15 [0/6072 (0%)]\tLoss: 0.348164\n",
      "Train Epoch: 15 [1000/6072 (16%)]\tLoss: 0.343322\n",
      "Train Epoch: 15 [2000/6072 (33%)]\tLoss: 0.333091\n",
      "Train Epoch: 15 [3000/6072 (49%)]\tLoss: 0.356857\n",
      "Train Epoch: 15 [4000/6072 (66%)]\tLoss: 0.362174\n",
      "Train Epoch: 15 [5000/6072 (82%)]\tLoss: 0.374187\n",
      "Train Epoch: 15 [4320/6072 (98%)]\tLoss: 0.400941\n",
      "\n",
      "Test set: Average loss: 0.3686, Accuracy: 5933/6072 (98%)\n",
      "\n",
      "Train Epoch: 16 [0/6072 (0%)]\tLoss: 0.378568\n",
      "Train Epoch: 16 [1000/6072 (16%)]\tLoss: 0.397607\n",
      "Train Epoch: 16 [2000/6072 (33%)]\tLoss: 0.368153\n",
      "Train Epoch: 16 [3000/6072 (49%)]\tLoss: 0.348278\n",
      "Train Epoch: 16 [4000/6072 (66%)]\tLoss: 0.366689\n",
      "Train Epoch: 16 [5000/6072 (82%)]\tLoss: 0.358508\n",
      "Train Epoch: 16 [4320/6072 (98%)]\tLoss: 0.359943\n",
      "\n",
      "Test set: Average loss: 0.3675, Accuracy: 5951/6072 (98%)\n",
      "\n",
      "Train Epoch: 17 [0/6072 (0%)]\tLoss: 0.364915\n",
      "Train Epoch: 17 [1000/6072 (16%)]\tLoss: 0.347937\n",
      "Train Epoch: 17 [2000/6072 (33%)]\tLoss: 0.376756\n",
      "Train Epoch: 17 [3000/6072 (49%)]\tLoss: 0.369104\n",
      "Train Epoch: 17 [4000/6072 (66%)]\tLoss: 0.357214\n",
      "Train Epoch: 17 [5000/6072 (82%)]\tLoss: 0.376263\n",
      "Train Epoch: 17 [4320/6072 (98%)]\tLoss: 0.354149\n",
      "\n",
      "Test set: Average loss: 0.3690, Accuracy: 5951/6072 (98%)\n",
      "\n",
      "Train Epoch: 18 [0/6072 (0%)]\tLoss: 0.379920\n",
      "Train Epoch: 18 [1000/6072 (16%)]\tLoss: 0.326264\n",
      "Train Epoch: 18 [2000/6072 (33%)]\tLoss: 0.382588\n",
      "Train Epoch: 18 [3000/6072 (49%)]\tLoss: 0.367484\n",
      "Train Epoch: 18 [4000/6072 (66%)]\tLoss: 0.362469\n",
      "Train Epoch: 18 [5000/6072 (82%)]\tLoss: 0.374253\n",
      "Train Epoch: 18 [4320/6072 (98%)]\tLoss: 0.360540\n",
      "\n",
      "Test set: Average loss: 0.3649, Accuracy: 5951/6072 (98%)\n",
      "\n",
      "Train Epoch: 19 [0/6072 (0%)]\tLoss: 0.349852\n",
      "Train Epoch: 19 [1000/6072 (16%)]\tLoss: 0.373372\n",
      "Train Epoch: 19 [2000/6072 (33%)]\tLoss: 0.330367\n",
      "Train Epoch: 19 [3000/6072 (49%)]\tLoss: 0.350291\n",
      "Train Epoch: 19 [4000/6072 (66%)]\tLoss: 0.358882\n",
      "Train Epoch: 19 [5000/6072 (82%)]\tLoss: 0.395160\n",
      "Train Epoch: 19 [4320/6072 (98%)]\tLoss: 0.387541\n",
      "\n",
      "Test set: Average loss: 0.3716, Accuracy: 5943/6072 (98%)\n",
      "\n",
      "Train Epoch: 20 [0/6072 (0%)]\tLoss: 0.345055\n",
      "Train Epoch: 20 [1000/6072 (16%)]\tLoss: 0.372180\n",
      "Train Epoch: 20 [2000/6072 (33%)]\tLoss: 0.349688\n",
      "Train Epoch: 20 [3000/6072 (49%)]\tLoss: 0.359736\n",
      "Train Epoch: 20 [4000/6072 (66%)]\tLoss: 0.385401\n",
      "Train Epoch: 20 [5000/6072 (82%)]\tLoss: 0.342440\n",
      "Train Epoch: 20 [4320/6072 (98%)]\tLoss: 0.375711\n",
      "\n",
      "Test set: Average loss: 0.3621, Accuracy: 5964/6072 (98%)\n",
      "\n"
     ]
    }
   ],
   "source": [
    "use_cuda = torch.cuda.is_available()\n",
    "# use_cuda = False\n",
    "\n",
    "# torch.manual_seed(args.seed)\n",
    "\n",
    "device = torch.device(\"cuda\" if use_cuda else \"cpu\")\n",
    "\n",
    "# train_kwargs = {'batch_size': args.batch_size}\n",
    "# test_kwargs = {'batch_size': args.test_batch_size}\n",
    "if use_cuda:\n",
    "    cuda_kwargs = {'num_workers': 1,\n",
    "#                    'shuffle': True,\n",
    "                   'pin_memory': True}\n",
    "#     train_kwargs.update(cuda_kwargs)\n",
    "#     test_kwargs.update(cuda_kwargs)\n",
    "\n",
    "# load data (will need to be adapted as well)\n",
    "# 1) load A_test\n",
    "# 2) load labels\n",
    "# 3) Perform train-test-split\n",
    "dataset = HindroidDataset(\n",
    "    'data/out/all-apps/hindroid-train-half/A_test.npz', \n",
    "    'data/out/all-apps/hindroid-train-half/predictions.csv',\n",
    "    'AAT',\n",
    ")\n",
    "# weights = torch.Tensor([dataset.labels.mean() / (1-dataset.labels.mean()), 1]).to(device).double()\n",
    "weights = None\n",
    "train_loader = torch.utils.data.DataLoader(\n",
    "    dataset, \n",
    "    batch_size=100,\n",
    "    shuffle = False,\n",
    "    sampler = ImbalancedDatasetSampler(dataset, callback_get_label = hindroid_custom_get_label),\n",
    "    **cuda_kwargs)\n",
    "test_loader = torch.utils.data.DataLoader(\n",
    "    dataset, \n",
    "    batch_size=100,\n",
    "    shuffle = False,\n",
    "    sampler = ImbalancedDatasetSampler(dataset, callback_get_label = hindroid_custom_get_label),\n",
    "    **cuda_kwargs)\n",
    "# train_loader = torch.utils.data.DataLoader(dataset, batch_size=10)\n",
    "# test_loader = torch.utils.data.DataLoader(dataset, batch_size=10)\n",
    "\n",
    "model = HindroidSubstitute(dataset.feature_width).double().to(device)\n",
    "optimizer = optim.Adadelta(model.parameters(), lr=0.01)\n",
    "\n",
    "scheduler = StepLR(optimizer, step_size=1)\n",
    "for epoch in range(1, 20 + 1):\n",
    "    train(model, device, train_loader, optimizer, epoch, weights)\n",
    "    test(model, device, test_loader, weights)\n",
    "    scheduler.step()"
   ]
  },
  {
   "cell_type": "code",
   "execution_count": 13,
   "id": "relevant-worker",
   "metadata": {},
   "outputs": [
    {
     "name": "stdout",
     "output_type": "stream",
     "text": [
      "              precision    recall  f1-score   support\n",
      "\n",
      "           0       0.83      0.98      0.90       481\n",
      "           1       1.00      0.98      0.99      5591\n",
      "\n",
      "    accuracy                           0.98      6072\n",
      "   macro avg       0.91      0.98      0.94      6072\n",
      "weighted avg       0.98      0.98      0.98      6072\n",
      "\n",
      "[[ 470   11]\n",
      " [  96 5495]]\n"
     ]
    }
   ],
   "source": [
    "test_loader = torch.utils.data.DataLoader(\n",
    "    dataset, \n",
    "    batch_size=100,\n",
    "    **cuda_kwargs)\n",
    "model.eval()\n",
    "all_preds = []\n",
    "with torch.no_grad():\n",
    "    for data, target in test_loader:\n",
    "        data, target = data.to(device), target.to(device)\n",
    "        output = model(data)\n",
    "        output = F.log_softmax(output, dim=1)\n",
    "        pred = output.argmax(dim=1, keepdim=True)  # get the index of the max log-probability\n",
    "        all_preds.extend(pred.tolist())\n",
    "\n",
    "print(classification_report(dataset.labels, all_preds))\n",
    "print(confusion_matrix(dataset.labels, all_preds))"
   ]
  },
  {
   "cell_type": "code",
   "execution_count": 16,
   "id": "operational-wholesale",
   "metadata": {},
   "outputs": [],
   "source": [
    "with open('data/out/all-apps/hindroid-train-half/NN_sub.pkl', 'wb') as file:\n",
    "    torch.save(model, file)"
   ]
  },
  {
   "cell_type": "code",
   "execution_count": 4,
   "id": "professional-recording",
   "metadata": {},
   "outputs": [],
   "source": [
    "from src.attack.cw import to_tanh_space, from_tanh_space"
   ]
  },
  {
   "cell_type": "code",
   "execution_count": 42,
   "id": "juvenile-recording",
   "metadata": {},
   "outputs": [
    {
     "data": {
      "text/plain": [
       "<AxesSubplot:>"
      ]
     },
     "execution_count": 42,
     "metadata": {},
     "output_type": "execute_result"
    },
    {
     "data": {
      "image/png": "[encoded data removed]",
      "text/plain": [
       "<Figure size 432x288 with 1 Axes>"
      ]
     },
     "metadata": {
      "needs_background": "light"
     },
     "output_type": "display_data"
    }
   ],
   "source": [
    "to_tanh_space(torch.Tensor(np.arange(-1,1,.001)).double(), [0., 1.])\n",
    "pd.Series(to_tanh_space(torch.Tensor(np.arange(-1,1,.001)).double(), [0., 1.]).tolist(), \n",
    "          index=np.arange(-1,1,.001)).plot()"
   ]
  },
  {
   "cell_type": "code",
   "execution_count": 29,
   "id": "comic-onion",
   "metadata": {},
   "outputs": [
    {
     "data": {
      "text/plain": [
       "tensor([[1., 1., 0., 0.],\n",
       "        [0., 0., 1., 1.],\n",
       "        [0., 1., 0., 1.]])"
      ]
     },
     "execution_count": 29,
     "metadata": {},
     "output_type": "execute_result"
    }
   ],
   "source": [
    "inputs = torch.Tensor(np.random.randint(0,2, (3,4)))\n",
    "inputs"
   ]
  },
  {
   "cell_type": "code",
   "execution_count": 36,
   "id": "useful-engineer",
   "metadata": {},
   "outputs": [
    {
     "data": {
      "text/plain": [
       "tensor([[inf, inf, -inf, -inf],\n",
       "        [-inf, -inf, inf, inf],\n",
       "        [-inf, inf, -inf, inf]])"
      ]
     },
     "execution_count": 36,
     "metadata": {},
     "output_type": "execute_result"
    }
   ],
   "source": [
    "to_tanh_space(inputs, [0., 1.])#, min=-1e4, max=1e4"
   ]
  },
  {
   "cell_type": "code",
   "execution_count": 43,
   "id": "statewide-florist",
   "metadata": {},
   "outputs": [
    {
     "data": {
      "text/plain": [
       "tensor([[1., 1., 0., 1.],\n",
       "        [1., 1., 1., 1.],\n",
       "        [0., 1., 1., 1.]])"
      ]
     },
     "execution_count": 43,
     "metadata": {},
     "output_type": "execute_result"
    }
   ],
   "source": [
    "torch.clamp(inputs + from_tanh_space(pert_tanh*1000, [0., 1.]), max=1.0)"
   ]
  },
  {
   "cell_type": "code",
   "execution_count": 22,
   "id": "velvet-worth",
   "metadata": {},
   "outputs": [
    {
     "data": {
      "text/plain": [
       "tensor([[-1.9125,  1.7148, -0.6042,  0.3287],\n",
       "        [ 0.8110,  0.7492, -0.4228, -0.1139],\n",
       "        [-0.0307,  0.3254,  0.4284,  1.6197]])"
      ]
     },
     "execution_count": 22,
     "metadata": {},
     "output_type": "execute_result"
    }
   ],
   "source": [
    "pert_tanh = torch.zeros((3,4))  # type: torch.FloatTensor\n",
    "nn.init.normal_(pert_tanh, mean=0, std=1)\n",
    "pert_tanh"
   ]
  },
  {
   "cell_type": "code",
   "execution_count": 26,
   "id": "impaired-comment",
   "metadata": {},
   "outputs": [
    {
     "data": {
      "text/plain": [
       "tensor([[0., 1., 0., 1.],\n",
       "        [1., 1., 0., 0.],\n",
       "        [0., 1., 1., 1.]])"
      ]
     },
     "execution_count": 26,
     "metadata": {},
     "output_type": "execute_result"
    }
   ],
   "source": [
    "from_tanh_space(pert_tanh*1e4, [0., 1.])"
   ]
  },
  {
   "cell_type": "code",
   "execution_count": null,
   "id": "similar-bangkok",
   "metadata": {},
   "outputs": [],
   "source": []
  },
  {
   "cell_type": "code",
   "execution_count": 44,
   "id": "palestinian-shelter",
   "metadata": {},
   "outputs": [
    {
     "data": {
      "text/plain": [
       "<AxesSubplot:>"
      ]
     },
     "execution_count": 44,
     "metadata": {},
     "output_type": "execute_result"
    },
    {
     "data": {
      "image/png": "[encoded data removed]",
      "text/plain": [
       "<Figure size 432x288 with 1 Axes>"
      ]
     },
     "metadata": {
      "needs_background": "light"
     },
     "output_type": "display_data"
    }
   ],
   "source": [
    "pd.Series(from_tanh_space(\n",
    "    (to_tanh_space(torch.Tensor(np.arange(-1,1,.001)).double(), [-1., 1.])*1000), [-1., 1]).tolist(),\n",
    "    index=to_tanh_space(torch.Tensor(np.arange(-1,1,.001)).double(), [-1., 1.]).tolist()).plot()"
   ]
  },
  {
   "cell_type": "code",
   "execution_count": 56,
   "id": "compliant-server",
   "metadata": {},
   "outputs": [
    {
     "data": {
      "text/plain": [
       "<AxesSubplot:>"
      ]
     },
     "execution_count": 56,
     "metadata": {},
     "output_type": "execute_result"
    },
    {
     "data": {
      "image/png": "[encoded data removed]",
      "text/plain": [
       "<Figure size 432x288 with 1 Axes>"
      ]
     },
     "metadata": {
      "needs_background": "light"
     },
     "output_type": "display_data"
    }
   ],
   "source": [
    "pd.Series(from_tanh_space(torch.Tensor(np.arange(-1000, 1000, 1)), box=[0,1]).tolist(),\n",
    "    index=np.arange(-1000, 1000, 1)).plot()"
   ]
  },
  {
   "cell_type": "code",
   "execution_count": 13,
   "id": "automated-somerset",
   "metadata": {},
   "outputs": [
    {
     "data": {
      "text/plain": [
       "tensor([0.0000, 0.9990], dtype=torch.float64)"
      ]
     },
     "execution_count": 13,
     "metadata": {},
     "output_type": "execute_result"
    }
   ],
   "source": [
    "from_tanh_space(to_tanh_space(torch.Tensor([0,.999]).double(), [-1., 1.]), [-1., 1])"
   ]
  },
  {
   "cell_type": "code",
   "execution_count": null,
   "id": "retained-necessity",
   "metadata": {},
   "outputs": [],
   "source": [
    "# def main():\n",
    "#     # Training settings\n",
    "#     parser = argparse.ArgumentParser(description='PyTorch MNIST Example')\n",
    "#     parser.add_argument('--batch-size', type=int, default=64, metavar='N',\n",
    "#                         help='input batch size for training (default: 64)')\n",
    "#     parser.add_argument('--test-batch-size', type=int, default=1000, metavar='N',\n",
    "#                         help='input batch size for testing (default: 1000)')\n",
    "#     parser.add_argument('--epochs', type=int, default=14, metavar='N',\n",
    "#                         help='number of epochs to train (default: 14)')\n",
    "#     parser.add_argument('--lr', type=float, default=1.0, metavar='LR',\n",
    "#                         help='learning rate (default: 1.0)')\n",
    "#     parser.add_argument('--gamma', type=float, default=0.7, metavar='M',\n",
    "#                         help='Learning rate step gamma (default: 0.7)')\n",
    "#     parser.add_argument('--no-cuda', action='store_true', default=False,\n",
    "#                         help='disables CUDA training')\n",
    "#     parser.add_argument('--dry-run', action='store_true', default=False,\n",
    "#                         help='quickly check a single pass')\n",
    "#     parser.add_argument('--seed', type=int, default=1, metavar='S',\n",
    "#                         help='random seed (default: 1)')\n",
    "#     parser.add_argument('--log-interval', type=int, default=10, metavar='N',\n",
    "#                         help='how many batches to wait before logging training status')\n",
    "#     parser.add_argument('--save-model', action='store_true', default=False,\n",
    "#                         help='For Saving the current Model')\n",
    "#     args = parser.parse_args()\n",
    "#     use_cuda = not args.no_cuda and torch.cuda.is_available()\n",
    "\n",
    "#     torch.manual_seed(args.seed)\n",
    "\n",
    "#     device = torch.device(\"cuda\" if use_cuda else \"cpu\")\n",
    "\n",
    "#     train_kwargs = {'batch_size': args.batch_size}\n",
    "#     test_kwargs = {'batch_size': args.test_batch_size}\n",
    "#     if use_cuda:\n",
    "#         cuda_kwargs = {'num_workers': 1,\n",
    "#                        'pin_memory': True,\n",
    "#                        'shuffle': True}\n",
    "#         train_kwargs.update(cuda_kwargs)\n",
    "#         test_kwargs.update(cuda_kwargs)\n",
    "\n",
    "#     # load data (will need to be adapted as well)\n",
    "#     # 1) load A_test\n",
    "#     # 2) load labels\n",
    "#     # 3) Perform train-test-split\n",
    "# #     transform=transforms.Compose([\n",
    "# #         transforms.ToTensor(),\n",
    "# #         transforms.Normalize((0.1307,), (0.3081,))\n",
    "# #         ])\n",
    "# #     dataset1 = datasets.MNIST('../data', train=True, download=True,\n",
    "# #                        transform=transform)\n",
    "# #     dataset2 = datasets.MNIST('../data', train=False,\n",
    "# #                        transform=transform)\n",
    "#     dataset = HindroidDataset(\n",
    "#         'data/out/all-apps/hindroid-train-half/A_test.npz', \n",
    "#         'data/out/all-apps/hindroid-train-half/predictions.csv',\n",
    "#         'AAT'\n",
    "#     )\n",
    "#     train_loader = torch.utils.data.DataLoader(dataset,**train_kwargs)\n",
    "#     test_loader = torch.utils.data.DataLoader(dataset, **test_kwargs)\n",
    "\n",
    "#     model = HindroidSubstitute().to(device)\n",
    "#     optimizer = optim.Adadelta(model.parameters(), lr=args.lr)\n",
    "\n",
    "#     scheduler = StepLR(optimizer, step_size=1, gamma=args.gamma)\n",
    "#     for epoch in range(1, args.epochs + 1):\n",
    "#         train(args, model, device, train_loader, optimizer, epoch)\n",
    "#         test(model, device, test_loader)\n",
    "#         scheduler.step()\n",
    "\n",
    "#     if args.save_model:\n",
    "#         torch.save(model.state_dict(), \"mnist_cnn.pt\")\n",
    "\n",
    "\n",
    "# if __name__ == '__main__':\n",
    "#     main()"
   ]
  }
 ],
 "metadata": {
  "kernelspec": {
   "display_name": "Python 3",
   "language": "python",
   "name": "python3"
  },
  "language_info": {
   "codemirror_mode": {
    "name": "ipython",
    "version": 3
   },
   "file_extension": ".py",
   "mimetype": "text/x-python",
   "name": "python",
   "nbconvert_exporter": "python",
   "pygments_lexer": "ipython3",
   "version": "3.8.6"
  }
 },
 "nbformat": 4,
 "nbformat_minor": 5
}
