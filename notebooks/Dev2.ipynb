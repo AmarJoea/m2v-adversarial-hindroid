{
 "cells": [
  {
   "cell_type": "code",
   "execution_count": 1,
   "metadata": {},
   "outputs": [
    {
     "name": "stdout",
     "output_type": "stream",
     "text": [
      "/datasets/home/home-00/10/410/rcgonzal/DSC180Malware/m2v-adversarial-hindroid\r\n"
     ]
    }
   ],
   "source": [
    "import os\n",
    "os.chdir(\"..\")\n",
    "!pwd"
   ]
  },
  {
   "cell_type": "markdown",
   "metadata": {},
   "source": [
    "This should become `app_parser.py`"
   ]
  },
  {
   "cell_type": "code",
   "execution_count": 2,
   "metadata": {},
   "outputs": [],
   "source": [
    "import sys\n",
    "import os\n",
    "\n",
    "\n",
    "import pandas as pd\n",
    "import numpy as np\n",
    "from pathlib import Path\n",
    "import re\n",
    "from src.utils import find_apps\n",
    "from p_tqdm import p_umap\n",
    "\n",
    "API_DATA_COLUMNS =  [\"app\", \"api\", \"invoke_type\", \"class\", \"method\", \"package\", \"context\"]\n",
    "PACKAGE_CLEANING_PATTERN = r\"\\/[^/]+;->.*\"\n",
    "\n",
    "class Application():\n",
    "    \"\"\"\n",
    "    Defines a application/APK.\n",
    "    \"\"\"\n",
    "    smali_class_pattern = r\"L[\\w/]*;\"\n",
    "    API_call_pattern = r\"invoke-.*\"\n",
    "    \n",
    "    def extract_app_name(self):\n",
    "        return os.path.basename(self.app_dir)  \n",
    "    \n",
    "    def __init__(self, app_dir):\n",
    "        self.app_dir = app_dir\n",
    "        self.app_name = self.extract_app_name()\n",
    "        self.API_data = None\n",
    "        self.apis = set()\n",
    "        self.smali_list = []\n",
    "        self.num_methods = 0\n",
    "        \n",
    "        \n",
    "    def find_smali_filepaths(self):\n",
    "        \"\"\"\n",
    "        Retrieves a list of paths to all smali files in the app directory. \n",
    "        Records paths in self.smali_list and returns them.\n",
    "        \"\"\"\n",
    "        # reset current list in case\n",
    "        self.smali_list = []\n",
    "        \n",
    "        for result in os.walk(self.app_dir):\n",
    "            current_dir = result[0]\n",
    "            files = result[2]\n",
    "            for filename in files:\n",
    "                smali_ext = '.smali'\n",
    "                if filename[-len(smali_ext):] == smali_ext:\n",
    "                    self.smali_list.append(os.path.join(current_dir, filename))\n",
    "\n",
    "        return self.smali_list\n",
    "    \n",
    "    def parse_smali(self, filepath):\n",
    "        \"\"\"Parses a singluar smali file\n",
    "        \n",
    "        filepath: str, path to smali file\"\"\"\n",
    "        with open(filepath, 'r') as file:\n",
    "            lines = file.readlines()\n",
    "\n",
    "        if lines:\n",
    "            # get class name\n",
    "            current_class = lines.pop(0).split()[-1]\n",
    "\n",
    "            # scan for code blocks and API calls\n",
    "            line_iter = iter(lines)\n",
    "            current_method = \"\"\n",
    "            apis_in_method = set()\n",
    "            for line in line_iter:\n",
    "                if \".method\" in line:\n",
    "                    current_method = current_class + \"->\" + line.split()[-1]\n",
    "                    self.num_methods += 1\n",
    "                elif \"invoke-\" in line:\n",
    "                    split = line.split()\n",
    "                    invoke_type = (\n",
    "                        split[0]\n",
    "                        .split(\"-\")[-1] # remove invoke\n",
    "                        .split(\"/\")[0] # remove \"/range\"\n",
    "                    )\n",
    "                    api_call = split[-1]\n",
    "                    self.apis.add(api_call)\n",
    "                    package = re.sub(PACKAGE_CLEANING_PATTERN, \"\", api_call)\n",
    "                    context=line.strip()\n",
    "\n",
    "                    self.API_data.append([self.app_name, api_call, invoke_type, current_class, current_method, package, context])\n",
    "    \n",
    "    def parse(self):\n",
    "        \"\"\"\n",
    "        Parses all smali files within the app.\n",
    "        \"\"\"\n",
    "        self.API_data = []\n",
    "        \n",
    "        for file_path in self.find_smali_filepaths():\n",
    "            self.parse_smali(file_path)\n",
    "            \n",
    "        api_data = pd.DataFrame(self.API_data, columns=API_DATA_COLUMNS)\n",
    "            \n",
    "        return api_data\n",
    "\n",
    "            \n",
    "def get_data(outfolder, data_source=None, nprocs=2, trained_source=None, recompute=False):\n",
    "    '''\n",
    "    Retrieve data for year/location/group from the internet\n",
    "    and return data (or write data to file, if `outfolder` is\n",
    "    not `None`).\n",
    "    '''\n",
    "    # setup\n",
    "    os.makedirs(outfolder, exist_ok=True)\n",
    "    os.makedirs(os.path.join(outfolder, 'app_data'), exist_ok=True)\n",
    "    app_to_parse_path = os.path.join(outfolder, 'app_data', 'app_list.csv')  # location of any predetermined apps\n",
    "\n",
    "    try:  # search for predetermined list of apps\n",
    "        apps_df = pd.read_csv(app_to_parse_path)\n",
    "    except FileNotFoundError:  # if no such file, create one by looking for apps under data_source directory\n",
    "        apps_df = find_apps(data_source)\n",
    "        apps_df.to_csv(app_to_parse_path)\n",
    "        \n",
    "    def parse_app(app_dir, outfolder):\n",
    "        app = Application(app_dir)\n",
    "        outpath = os.path.join(outfolder, app.app_name+\".csv\")\n",
    "        if os.path.exists(outpath) and not recompute:\n",
    "            return\n",
    "        else:\n",
    "            app.parse().to_csv(outpath, index=False)\n",
    "\n",
    "    print(\"STEP 1 - PARSING APPS\")\n",
    "    # concurrent execution of smali parsing\n",
    "    app_parser = p_umap(parse_app, \n",
    "                        apps_df.app_dir,\n",
    "                        [outfolder]*len(apps_df.app_dir),\n",
    "                        num_cpus=nprocs)"
   ]
  },
  {
   "cell_type": "code",
   "execution_count": 20,
   "metadata": {},
   "outputs": [
    {
     "name": "stdout",
     "output_type": "stream",
     "text": [
      "STEP 1 - PARSING APPS\n"
     ]
    },
    {
     "data": {
      "application/vnd.jupyter.widget-view+json": {
       "model_id": "e1498b52070c447f85280583b70c1e7f",
       "version_major": 2,
       "version_minor": 0
      },
      "text/plain": [
       "HBox(children=(FloatProgress(value=0.0, max=232.0), HTML(value='')))"
      ]
     },
     "metadata": {},
     "output_type": "display_data"
    },
    {
     "name": "stdout",
     "output_type": "stream",
     "text": [
      "\n"
     ]
    }
   ],
   "source": [
    "get_data(outfolder='data/out/random-apps/', data_source=\"/teams/DSC180A_FA20_A00/a04malware/random-apps/\", nprocs=16, recompute=True)"
   ]
  },
  {
   "cell_type": "code",
   "execution_count": 3,
   "metadata": {},
   "outputs": [
    {
     "name": "stdout",
     "output_type": "stream",
     "text": [
      "STEP 1 - PARSING APPS\n"
     ]
    },
    {
     "data": {
      "application/vnd.jupyter.widget-view+json": {
       "model_id": "2dcceccce50547388774c8ca444a8d27",
       "version_major": 2,
       "version_minor": 0
      },
      "text/plain": [
       "HBox(children=(FloatProgress(value=0.0, max=5.0), HTML(value='')))"
      ]
     },
     "metadata": {},
     "output_type": "display_data"
    },
    {
     "name": "stdout",
     "output_type": "stream",
     "text": [
      "\n"
     ]
    }
   ],
   "source": [
    "get_data(outfolder='data/out/test-sample/', nprocs=16, recompute=True)"
   ]
  },
  {
   "cell_type": "code",
   "execution_count": 4,
   "metadata": {},
   "outputs": [
    {
     "name": "stdout",
     "output_type": "stream",
     "text": [
      "STEP 1 - PARSING APPS\n"
     ]
    },
    {
     "data": {
      "application/vnd.jupyter.widget-view+json": {
       "model_id": "482c562a850146d0bfa9748547f57489",
       "version_major": 2,
       "version_minor": 0
      },
      "text/plain": [
       "HBox(children=(FloatProgress(value=0.0, max=5487.0), HTML(value='')))"
      ]
     },
     "metadata": {},
     "output_type": "display_data"
    },
    {
     "name": "stdout",
     "output_type": "stream",
     "text": [
      "\n"
     ]
    }
   ],
   "source": [
    "get_data(outfolder='data/out/all_apps/', nprocs=16, recompute=True)"
   ]
  },
  {
   "cell_type": "code",
   "execution_count": 26,
   "metadata": {
    "scrolled": true
   },
   "outputs": [
    {
     "data": {
      "text/plain": [
       "malware         4931\n",
       "popular-apps     324\n",
       "random-apps      232\n",
       "Name: category, dtype: int64"
      ]
     },
     "execution_count": 26,
     "metadata": {},
     "output_type": "execute_result"
    }
   ],
   "source": [
    "pd.read_csv(\"data/out/all_apps/all_apps.csv\").category.value_counts()"
   ]
  },
  {
   "cell_type": "code",
   "execution_count": 4,
   "metadata": {
    "scrolled": true
   },
   "outputs": [
    {
     "data": {
      "text/html": [
       "<div>\n",
       "<style scoped>\n",
       "    .dataframe tbody tr th:only-of-type {\n",
       "        vertical-align: middle;\n",
       "    }\n",
       "\n",
       "    .dataframe tbody tr th {\n",
       "        vertical-align: top;\n",
       "    }\n",
       "\n",
       "    .dataframe thead th {\n",
       "        text-align: right;\n",
       "    }\n",
       "</style>\n",
       "<table border=\"1\" class=\"dataframe\">\n",
       "  <thead>\n",
       "    <tr style=\"text-align: right;\">\n",
       "      <th></th>\n",
       "      <th>app</th>\n",
       "      <th>api</th>\n",
       "      <th>invoke_type</th>\n",
       "      <th>class</th>\n",
       "      <th>method</th>\n",
       "      <th>package</th>\n",
       "      <th>context</th>\n",
       "    </tr>\n",
       "  </thead>\n",
       "  <tbody>\n",
       "    <tr>\n",
       "      <th>0</th>\n",
       "      <td>air.G2JWeirdKittyRescue</td>\n",
       "      <td>Ljava/lang/Object;-&gt;&lt;init&gt;()V</td>\n",
       "      <td>direct</td>\n",
       "      <td>Lair/G2JWeirdKittyRescue/AppEntry$1;</td>\n",
       "      <td>Lair/G2JWeirdKittyRescue/AppEntry$1;-&gt;&lt;init&gt;(L...</td>\n",
       "      <td>Ljava/lang</td>\n",
       "      <td>invoke-direct {p0}, Ljava/lang/Object;-&gt;&lt;i...</td>\n",
       "    </tr>\n",
       "    <tr>\n",
       "      <th>1</th>\n",
       "      <td>air.G2JWeirdKittyRescue</td>\n",
       "      <td>Lair/G2JWeirdKittyRescue/AppEntry;-&gt;access$000...</td>\n",
       "      <td>static</td>\n",
       "      <td>Lair/G2JWeirdKittyRescue/AppEntry$1;</td>\n",
       "      <td>Lair/G2JWeirdKittyRescue/AppEntry$1;-&gt;onClick(...</td>\n",
       "      <td>Lair/G2JWeirdKittyRescue</td>\n",
       "      <td>invoke-static {v0}, Lair/G2JWeirdKittyResc...</td>\n",
       "    </tr>\n",
       "    <tr>\n",
       "      <th>2</th>\n",
       "      <td>air.G2JWeirdKittyRescue</td>\n",
       "      <td>Lair/G2JWeirdKittyRescue/AppEntry;-&gt;access$100...</td>\n",
       "      <td>static</td>\n",
       "      <td>Lair/G2JWeirdKittyRescue/AppEntry$1;</td>\n",
       "      <td>Lair/G2JWeirdKittyRescue/AppEntry$1;-&gt;onClick(...</td>\n",
       "      <td>Lair/G2JWeirdKittyRescue</td>\n",
       "      <td>invoke-static {}, Lair/G2JWeirdKittyRescue...</td>\n",
       "    </tr>\n",
       "    <tr>\n",
       "      <th>3</th>\n",
       "      <td>air.G2JWeirdKittyRescue</td>\n",
       "      <td>Lair/G2JWeirdKittyRescue/AppEntry;-&gt;access$200...</td>\n",
       "      <td>static</td>\n",
       "      <td>Lair/G2JWeirdKittyRescue/AppEntry$1;</td>\n",
       "      <td>Lair/G2JWeirdKittyRescue/AppEntry$1;-&gt;onClick(...</td>\n",
       "      <td>Lair/G2JWeirdKittyRescue</td>\n",
       "      <td>invoke-static {}, Lair/G2JWeirdKittyRescue...</td>\n",
       "    </tr>\n",
       "    <tr>\n",
       "      <th>4</th>\n",
       "      <td>air.G2JWeirdKittyRescue</td>\n",
       "      <td>Lcom/adobe/air/InstallOfferPingUtils;-&gt;PingAnd...</td>\n",
       "      <td>static</td>\n",
       "      <td>Lair/G2JWeirdKittyRescue/AppEntry$1;</td>\n",
       "      <td>Lair/G2JWeirdKittyRescue/AppEntry$1;-&gt;onClick(...</td>\n",
       "      <td>Lcom/adobe/air</td>\n",
       "      <td>invoke-static {v0, v1, v3, v2, v3}, Lcom/a...</td>\n",
       "    </tr>\n",
       "    <tr>\n",
       "      <th>...</th>\n",
       "      <td>...</td>\n",
       "      <td>...</td>\n",
       "      <td>...</td>\n",
       "      <td>...</td>\n",
       "      <td>...</td>\n",
       "      <td>...</td>\n",
       "      <td>...</td>\n",
       "    </tr>\n",
       "    <tr>\n",
       "      <th>66395</th>\n",
       "      <td>air.G2JWeirdKittyRescue</td>\n",
       "      <td>Ljava/lang/StringBuilder;-&gt;append(I)Ljava/lang...</td>\n",
       "      <td>virtual</td>\n",
       "      <td>Lso/cuo/platform/admob/ClassicBannerHandler$Ba...</td>\n",
       "      <td>Lso/cuo/platform/admob/ClassicBannerHandler$Ba...</td>\n",
       "      <td>Ljava/lang</td>\n",
       "      <td>invoke-virtual {v3, v4}, Ljava/lang/String...</td>\n",
       "    </tr>\n",
       "    <tr>\n",
       "      <th>66396</th>\n",
       "      <td>air.G2JWeirdKittyRescue</td>\n",
       "      <td>Ljava/lang/StringBuilder;-&gt;toString()Ljava/lan...</td>\n",
       "      <td>virtual</td>\n",
       "      <td>Lso/cuo/platform/admob/ClassicBannerHandler$Ba...</td>\n",
       "      <td>Lso/cuo/platform/admob/ClassicBannerHandler$Ba...</td>\n",
       "      <td>Ljava/lang</td>\n",
       "      <td>invoke-virtual {v3}, Ljava/lang/StringBuil...</td>\n",
       "    </tr>\n",
       "    <tr>\n",
       "      <th>66397</th>\n",
       "      <td>air.G2JWeirdKittyRescue</td>\n",
       "      <td>Lcom/adobe/fre/FREContext;-&gt;dispatchStatusEven...</td>\n",
       "      <td>virtual</td>\n",
       "      <td>Lso/cuo/platform/admob/ClassicBannerHandler$Ba...</td>\n",
       "      <td>Lso/cuo/platform/admob/ClassicBannerHandler$Ba...</td>\n",
       "      <td>Lcom/adobe/fre</td>\n",
       "      <td>invoke-virtual {v1, v2, v3}, Lcom/adobe/fr...</td>\n",
       "    </tr>\n",
       "    <tr>\n",
       "      <th>66398</th>\n",
       "      <td>air.G2JWeirdKittyRescue</td>\n",
       "      <td>Lcom/google/android/gms/ads/AdListener;-&gt;onAdO...</td>\n",
       "      <td>super</td>\n",
       "      <td>Lso/cuo/platform/admob/ClassicBannerHandler$Ba...</td>\n",
       "      <td>Lso/cuo/platform/admob/ClassicBannerHandler$Ba...</td>\n",
       "      <td>Lcom/google/android/gms/ads</td>\n",
       "      <td>invoke-super {p0}, Lcom/google/android/gms...</td>\n",
       "    </tr>\n",
       "    <tr>\n",
       "      <th>66399</th>\n",
       "      <td>air.G2JWeirdKittyRescue</td>\n",
       "      <td>Lcom/adobe/fre/FREContext;-&gt;dispatchStatusEven...</td>\n",
       "      <td>virtual</td>\n",
       "      <td>Lso/cuo/platform/admob/ClassicBannerHandler$Ba...</td>\n",
       "      <td>Lso/cuo/platform/admob/ClassicBannerHandler$Ba...</td>\n",
       "      <td>Lcom/adobe/fre</td>\n",
       "      <td>invoke-virtual {v0, v1, v2}, Lcom/adobe/fr...</td>\n",
       "    </tr>\n",
       "  </tbody>\n",
       "</table>\n",
       "<p>66400 rows × 7 columns</p>\n",
       "</div>"
      ],
      "text/plain": [
       "                           app  \\\n",
       "0      air.G2JWeirdKittyRescue   \n",
       "1      air.G2JWeirdKittyRescue   \n",
       "2      air.G2JWeirdKittyRescue   \n",
       "3      air.G2JWeirdKittyRescue   \n",
       "4      air.G2JWeirdKittyRescue   \n",
       "...                        ...   \n",
       "66395  air.G2JWeirdKittyRescue   \n",
       "66396  air.G2JWeirdKittyRescue   \n",
       "66397  air.G2JWeirdKittyRescue   \n",
       "66398  air.G2JWeirdKittyRescue   \n",
       "66399  air.G2JWeirdKittyRescue   \n",
       "\n",
       "                                                     api invoke_type  \\\n",
       "0                          Ljava/lang/Object;-><init>()V      direct   \n",
       "1      Lair/G2JWeirdKittyRescue/AppEntry;->access$000...      static   \n",
       "2      Lair/G2JWeirdKittyRescue/AppEntry;->access$100...      static   \n",
       "3      Lair/G2JWeirdKittyRescue/AppEntry;->access$200...      static   \n",
       "4      Lcom/adobe/air/InstallOfferPingUtils;->PingAnd...      static   \n",
       "...                                                  ...         ...   \n",
       "66395  Ljava/lang/StringBuilder;->append(I)Ljava/lang...     virtual   \n",
       "66396  Ljava/lang/StringBuilder;->toString()Ljava/lan...     virtual   \n",
       "66397  Lcom/adobe/fre/FREContext;->dispatchStatusEven...     virtual   \n",
       "66398  Lcom/google/android/gms/ads/AdListener;->onAdO...       super   \n",
       "66399  Lcom/adobe/fre/FREContext;->dispatchStatusEven...     virtual   \n",
       "\n",
       "                                                   class  \\\n",
       "0                   Lair/G2JWeirdKittyRescue/AppEntry$1;   \n",
       "1                   Lair/G2JWeirdKittyRescue/AppEntry$1;   \n",
       "2                   Lair/G2JWeirdKittyRescue/AppEntry$1;   \n",
       "3                   Lair/G2JWeirdKittyRescue/AppEntry$1;   \n",
       "4                   Lair/G2JWeirdKittyRescue/AppEntry$1;   \n",
       "...                                                  ...   \n",
       "66395  Lso/cuo/platform/admob/ClassicBannerHandler$Ba...   \n",
       "66396  Lso/cuo/platform/admob/ClassicBannerHandler$Ba...   \n",
       "66397  Lso/cuo/platform/admob/ClassicBannerHandler$Ba...   \n",
       "66398  Lso/cuo/platform/admob/ClassicBannerHandler$Ba...   \n",
       "66399  Lso/cuo/platform/admob/ClassicBannerHandler$Ba...   \n",
       "\n",
       "                                                  method  \\\n",
       "0      Lair/G2JWeirdKittyRescue/AppEntry$1;-><init>(L...   \n",
       "1      Lair/G2JWeirdKittyRescue/AppEntry$1;->onClick(...   \n",
       "2      Lair/G2JWeirdKittyRescue/AppEntry$1;->onClick(...   \n",
       "3      Lair/G2JWeirdKittyRescue/AppEntry$1;->onClick(...   \n",
       "4      Lair/G2JWeirdKittyRescue/AppEntry$1;->onClick(...   \n",
       "...                                                  ...   \n",
       "66395  Lso/cuo/platform/admob/ClassicBannerHandler$Ba...   \n",
       "66396  Lso/cuo/platform/admob/ClassicBannerHandler$Ba...   \n",
       "66397  Lso/cuo/platform/admob/ClassicBannerHandler$Ba...   \n",
       "66398  Lso/cuo/platform/admob/ClassicBannerHandler$Ba...   \n",
       "66399  Lso/cuo/platform/admob/ClassicBannerHandler$Ba...   \n",
       "\n",
       "                           package  \\\n",
       "0                       Ljava/lang   \n",
       "1         Lair/G2JWeirdKittyRescue   \n",
       "2         Lair/G2JWeirdKittyRescue   \n",
       "3         Lair/G2JWeirdKittyRescue   \n",
       "4                   Lcom/adobe/air   \n",
       "...                            ...   \n",
       "66395                   Ljava/lang   \n",
       "66396                   Ljava/lang   \n",
       "66397               Lcom/adobe/fre   \n",
       "66398  Lcom/google/android/gms/ads   \n",
       "66399               Lcom/adobe/fre   \n",
       "\n",
       "                                                 context  \n",
       "0          invoke-direct {p0}, Ljava/lang/Object;-><i...  \n",
       "1          invoke-static {v0}, Lair/G2JWeirdKittyResc...  \n",
       "2          invoke-static {}, Lair/G2JWeirdKittyRescue...  \n",
       "3          invoke-static {}, Lair/G2JWeirdKittyRescue...  \n",
       "4          invoke-static {v0, v1, v3, v2, v3}, Lcom/a...  \n",
       "...                                                  ...  \n",
       "66395      invoke-virtual {v3, v4}, Ljava/lang/String...  \n",
       "66396      invoke-virtual {v3}, Ljava/lang/StringBuil...  \n",
       "66397      invoke-virtual {v1, v2, v3}, Lcom/adobe/fr...  \n",
       "66398      invoke-super {p0}, Lcom/google/android/gms...  \n",
       "66399      invoke-virtual {v0, v1, v2}, Lcom/adobe/fr...  \n",
       "\n",
       "[66400 rows x 7 columns]"
      ]
     },
     "execution_count": 4,
     "metadata": {},
     "output_type": "execute_result"
    }
   ],
   "source": [
    "pd.read_csv(\"data/out/random-apps/air.G2JWeirdKittyRescue.csv\")"
   ]
  },
  {
   "cell_type": "code",
   "execution_count": 8,
   "metadata": {},
   "outputs": [],
   "source": [
    "from dask.distributed import Client\n",
    "import dask.dataframe as dd"
   ]
  },
  {
   "cell_type": "code",
   "execution_count": 10,
   "metadata": {},
   "outputs": [
    {
     "data": {
      "text/plain": [
       "'data/out/random-apps/*.csv'"
      ]
     },
     "execution_count": 10,
     "metadata": {},
     "output_type": "execute_result"
    }
   ],
   "source": [
    "os.path.join('data/out/random-apps/', '*.csv')"
   ]
  },
  {
   "cell_type": "code",
   "execution_count": 22,
   "metadata": {},
   "outputs": [],
   "source": [
    "path = os.path.join('data/out/random-apps/', '*.csv')\n",
    "data = dd.read_csv(path)"
   ]
  }
 ],
 "metadata": {
  "kernelspec": {
   "display_name": "Python 3",
   "language": "python",
   "name": "python3"
  },
  "language_info": {
   "codemirror_mode": {
    "name": "ipython",
    "version": 3
   },
   "file_extension": ".py",
   "mimetype": "text/x-python",
   "name": "python",
   "nbconvert_exporter": "python",
   "pygments_lexer": "ipython3",
   "version": "3.7.6"
  }
 },
 "nbformat": 4,
 "nbformat_minor": 4
}
