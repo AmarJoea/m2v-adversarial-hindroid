{
 "cells": [
  {
   "cell_type": "code",
   "execution_count": 1,
   "id": "changed-bracket",
   "metadata": {},
   "outputs": [],
   "source": [
    "import pandas as pd\n",
    "from itertools import combinations\n",
    "import numpy as np\n",
    "import os\n",
    "from scipy import sparse\n",
    "from tqdm import tqdm\n",
    "from sklearn.preprocessing import MultiLabelBinarizer\n",
    "\n",
    "from dask.distributed import Client, LocalCluster, performance_report\n",
    "import dask.dataframe as dd"
   ]
  },
  {
   "cell_type": "code",
   "execution_count": 2,
   "id": "right-border",
   "metadata": {},
   "outputs": [],
   "source": [
    "def len_combos(n):\n",
    "    r = 2\n",
    "    return np.math.factorial(n) / np.math.factorial(n-2) / np.math.factorial(2)"
   ]
  },
  {
   "cell_type": "code",
   "execution_count": 32,
   "id": "stainless-atlantic",
   "metadata": {},
   "outputs": [
    {
     "data": {
      "text/plain": [
       "19615616330"
      ]
     },
     "execution_count": 32,
     "metadata": {},
     "output_type": "execute_result"
    }
   ],
   "source": [
    "49_891_442_330 - 30275826000\n",
    "19_615_616_330"
   ]
  },
  {
   "cell_type": "code",
   "execution_count": 3,
   "id": "complicated-japanese",
   "metadata": {},
   "outputs": [
    {
     "data": {
      "text/plain": [
       "((5160691, 2), (408180, 1))"
      ]
     },
     "execution_count": 3,
     "metadata": {},
     "output_type": "execute_result"
    }
   ],
   "source": [
    "api_map = pd.read_csv('../data/out/all-apps/api_map.csv')\n",
    "package_map = pd.read_csv('../data/out/all-apps/package_map.csv', index_col='uid')\n",
    "api_map.shape, package_map.shape"
   ]
  },
  {
   "cell_type": "code",
   "execution_count": 45,
   "id": "early-scoop",
   "metadata": {},
   "outputs": [
    {
     "data": {
      "text/plain": [
       "package    Lcom/google/android/gms/internal/ads\n",
       "Name: package251, dtype: object"
      ]
     },
     "execution_count": 45,
     "metadata": {},
     "output_type": "execute_result"
    }
   ],
   "source": [
    "package_map.loc['package251']"
   ]
  },
  {
   "cell_type": "code",
   "execution_count": 47,
   "id": "suitable-mathematics",
   "metadata": {},
   "outputs": [
    {
     "data": {
      "text/html": [
       "<div>\n",
       "<style scoped>\n",
       "    .dataframe tbody tr th:only-of-type {\n",
       "        vertical-align: middle;\n",
       "    }\n",
       "\n",
       "    .dataframe tbody tr th {\n",
       "        vertical-align: top;\n",
       "    }\n",
       "\n",
       "    .dataframe thead th {\n",
       "        text-align: right;\n",
       "    }\n",
       "</style>\n",
       "<table border=\"1\" class=\"dataframe\">\n",
       "  <thead>\n",
       "    <tr style=\"text-align: right;\">\n",
       "      <th></th>\n",
       "      <th>api</th>\n",
       "      <th>uid</th>\n",
       "    </tr>\n",
       "  </thead>\n",
       "  <tbody>\n",
       "    <tr>\n",
       "      <th>3168</th>\n",
       "      <td>Lcom/google/android/gms/internal/ads/zzane;-&gt;z...</td>\n",
       "      <td>api3168</td>\n",
       "    </tr>\n",
       "    <tr>\n",
       "      <th>3169</th>\n",
       "      <td>Lcom/google/android/gms/internal/ads/zzane;-&gt;z...</td>\n",
       "      <td>api3169</td>\n",
       "    </tr>\n",
       "    <tr>\n",
       "      <th>3252</th>\n",
       "      <td>Lcom/google/android/gms/internal/ads/zzkb;-&gt;zz...</td>\n",
       "      <td>api3252</td>\n",
       "    </tr>\n",
       "    <tr>\n",
       "      <th>3253</th>\n",
       "      <td>Lcom/google/android/gms/internal/ads/zzamu;-&gt;z...</td>\n",
       "      <td>api3253</td>\n",
       "    </tr>\n",
       "    <tr>\n",
       "      <th>3269</th>\n",
       "      <td>Lcom/google/android/gms/internal/ads/zzane;-&gt;e...</td>\n",
       "      <td>api3269</td>\n",
       "    </tr>\n",
       "    <tr>\n",
       "      <th>...</th>\n",
       "      <td>...</td>\n",
       "      <td>...</td>\n",
       "    </tr>\n",
       "    <tr>\n",
       "      <th>5157722</th>\n",
       "      <td>Lcom/google/android/gms/internal/ads/mt;-&gt;zzd(...</td>\n",
       "      <td>api5157722</td>\n",
       "    </tr>\n",
       "    <tr>\n",
       "      <th>5157723</th>\n",
       "      <td>Lcom/google/android/gms/internal/ads/hk;-&gt;zzpk...</td>\n",
       "      <td>api5157723</td>\n",
       "    </tr>\n",
       "    <tr>\n",
       "      <th>5157724</th>\n",
       "      <td>Lcom/google/android/gms/internal/ads/hw;-&gt;zza(...</td>\n",
       "      <td>api5157724</td>\n",
       "    </tr>\n",
       "    <tr>\n",
       "      <th>5157725</th>\n",
       "      <td>Lcom/google/android/gms/internal/ads/jn;-&gt;zzt(...</td>\n",
       "      <td>api5157725</td>\n",
       "    </tr>\n",
       "    <tr>\n",
       "      <th>5157726</th>\n",
       "      <td>Lcom/google/android/gms/internal/ads/ane;-&gt;zzo...</td>\n",
       "      <td>api5157726</td>\n",
       "    </tr>\n",
       "  </tbody>\n",
       "</table>\n",
       "<p>301151 rows × 2 columns</p>\n",
       "</div>"
      ],
      "text/plain": [
       "                                                       api         uid\n",
       "3168     Lcom/google/android/gms/internal/ads/zzane;->z...     api3168\n",
       "3169     Lcom/google/android/gms/internal/ads/zzane;->z...     api3169\n",
       "3252     Lcom/google/android/gms/internal/ads/zzkb;->zz...     api3252\n",
       "3253     Lcom/google/android/gms/internal/ads/zzamu;->z...     api3253\n",
       "3269     Lcom/google/android/gms/internal/ads/zzane;->e...     api3269\n",
       "...                                                    ...         ...\n",
       "5157722  Lcom/google/android/gms/internal/ads/mt;->zzd(...  api5157722\n",
       "5157723  Lcom/google/android/gms/internal/ads/hk;->zzpk...  api5157723\n",
       "5157724  Lcom/google/android/gms/internal/ads/hw;->zza(...  api5157724\n",
       "5157725  Lcom/google/android/gms/internal/ads/jn;->zzt(...  api5157725\n",
       "5157726  Lcom/google/android/gms/internal/ads/ane;->zzo...  api5157726\n",
       "\n",
       "[301151 rows x 2 columns]"
      ]
     },
     "execution_count": 47,
     "metadata": {},
     "output_type": "execute_result"
    }
   ],
   "source": [
    "api_map = pd.read_csv('../data/out/all-apps/api_map.csv')\n",
    "api_map[api_map.api.str.startswith('Lcom/google/android/gms/internal/ads')]"
   ]
  },
  {
   "cell_type": "code",
   "execution_count": 5,
   "id": "several-appendix",
   "metadata": {},
   "outputs": [
    {
     "name": "stderr",
     "output_type": "stream",
     "text": [
      "<ipython-input-5-cfbde97e475e>:1: FutureWarning: The default value of regex will change from True to False in a future version.\n",
      "  api_map['pkg'] = api_map.api.str.replace('[$;].*', '')\n"
     ]
    },
    {
     "data": {
      "text/html": [
       "<div>\n",
       "<style scoped>\n",
       "    .dataframe tbody tr th:only-of-type {\n",
       "        vertical-align: middle;\n",
       "    }\n",
       "\n",
       "    .dataframe tbody tr th {\n",
       "        vertical-align: top;\n",
       "    }\n",
       "\n",
       "    .dataframe thead th {\n",
       "        text-align: right;\n",
       "    }\n",
       "</style>\n",
       "<table border=\"1\" class=\"dataframe\">\n",
       "  <thead>\n",
       "    <tr style=\"text-align: right;\">\n",
       "      <th></th>\n",
       "      <th>api</th>\n",
       "      <th>uid</th>\n",
       "      <th>pkg</th>\n",
       "    </tr>\n",
       "  </thead>\n",
       "  <tbody>\n",
       "    <tr>\n",
       "      <th>0</th>\n",
       "      <td>Lcom/bumptech/glide/Priority;-&gt;values()[Lcom/b...</td>\n",
       "      <td>api0</td>\n",
       "      <td>Lcom/bumptech/glide/Priority</td>\n",
       "    </tr>\n",
       "    <tr>\n",
       "      <th>1</th>\n",
       "      <td>Lcom/bumptech/glide/Priority;-&gt;ordinal()I</td>\n",
       "      <td>api1</td>\n",
       "      <td>Lcom/bumptech/glide/Priority</td>\n",
       "    </tr>\n",
       "    <tr>\n",
       "      <th>2</th>\n",
       "      <td>Landroid/widget/ImageView$ScaleType;-&gt;values()...</td>\n",
       "      <td>api2</td>\n",
       "      <td>Landroid/widget/ImageView</td>\n",
       "    </tr>\n",
       "    <tr>\n",
       "      <th>3</th>\n",
       "      <td>Landroid/widget/ImageView$ScaleType;-&gt;ordinal()I</td>\n",
       "      <td>api3</td>\n",
       "      <td>Landroid/widget/ImageView</td>\n",
       "    </tr>\n",
       "    <tr>\n",
       "      <th>4</th>\n",
       "      <td>Lcom/bumptech/glide/request/target/ViewTarget;...</td>\n",
       "      <td>api4</td>\n",
       "      <td>Lcom/bumptech/glide/request/target/ViewTarget</td>\n",
       "    </tr>\n",
       "    <tr>\n",
       "      <th>...</th>\n",
       "      <td>...</td>\n",
       "      <td>...</td>\n",
       "      <td>...</td>\n",
       "    </tr>\n",
       "    <tr>\n",
       "      <th>5160686</th>\n",
       "      <td>Lb/a/a/a/a/d/b;-&gt;b(Ljava/lang/String;)V</td>\n",
       "      <td>api5160686</td>\n",
       "      <td>Lb/a/a/a/a/d/b</td>\n",
       "    </tr>\n",
       "    <tr>\n",
       "      <th>5160687</th>\n",
       "      <td>Lb/a/a/a/a/d/c;-&gt;a(I)Ljava/util/List;</td>\n",
       "      <td>api5160687</td>\n",
       "      <td>Lb/a/a/a/a/d/c</td>\n",
       "    </tr>\n",
       "    <tr>\n",
       "      <th>5160688</th>\n",
       "      <td>Lb/a/a/a/a/d/c;-&gt;d()V</td>\n",
       "      <td>api5160688</td>\n",
       "      <td>Lb/a/a/a/a/d/c</td>\n",
       "    </tr>\n",
       "    <tr>\n",
       "      <th>5160689</th>\n",
       "      <td>Lb/a/a/a/a/d/b;-&gt;a(Ljava/lang/String;)J</td>\n",
       "      <td>api5160689</td>\n",
       "      <td>Lb/a/a/a/a/d/b</td>\n",
       "    </tr>\n",
       "    <tr>\n",
       "      <th>5160690</th>\n",
       "      <td>Lnet/sqlcipher/database/SQLiteDatabase$3;-&gt;&lt;in...</td>\n",
       "      <td>api5160690</td>\n",
       "      <td>Lnet/sqlcipher/database/SQLiteDatabase</td>\n",
       "    </tr>\n",
       "  </tbody>\n",
       "</table>\n",
       "<p>5160691 rows × 3 columns</p>\n",
       "</div>"
      ],
      "text/plain": [
       "                                                       api         uid  \\\n",
       "0        Lcom/bumptech/glide/Priority;->values()[Lcom/b...        api0   \n",
       "1                Lcom/bumptech/glide/Priority;->ordinal()I        api1   \n",
       "2        Landroid/widget/ImageView$ScaleType;->values()...        api2   \n",
       "3         Landroid/widget/ImageView$ScaleType;->ordinal()I        api3   \n",
       "4        Lcom/bumptech/glide/request/target/ViewTarget;...        api4   \n",
       "...                                                    ...         ...   \n",
       "5160686            Lb/a/a/a/a/d/b;->b(Ljava/lang/String;)V  api5160686   \n",
       "5160687              Lb/a/a/a/a/d/c;->a(I)Ljava/util/List;  api5160687   \n",
       "5160688                              Lb/a/a/a/a/d/c;->d()V  api5160688   \n",
       "5160689            Lb/a/a/a/a/d/b;->a(Ljava/lang/String;)J  api5160689   \n",
       "5160690  Lnet/sqlcipher/database/SQLiteDatabase$3;-><in...  api5160690   \n",
       "\n",
       "                                                   pkg  \n",
       "0                         Lcom/bumptech/glide/Priority  \n",
       "1                         Lcom/bumptech/glide/Priority  \n",
       "2                            Landroid/widget/ImageView  \n",
       "3                            Landroid/widget/ImageView  \n",
       "4        Lcom/bumptech/glide/request/target/ViewTarget  \n",
       "...                                                ...  \n",
       "5160686                                 Lb/a/a/a/a/d/b  \n",
       "5160687                                 Lb/a/a/a/a/d/c  \n",
       "5160688                                 Lb/a/a/a/a/d/c  \n",
       "5160689                                 Lb/a/a/a/a/d/b  \n",
       "5160690         Lnet/sqlcipher/database/SQLiteDatabase  \n",
       "\n",
       "[5160691 rows x 3 columns]"
      ]
     },
     "execution_count": 5,
     "metadata": {},
     "output_type": "execute_result"
    }
   ],
   "source": [
    "api_map['pkg'] = api_map.api.str.replace('[$;].*', '')\n",
    "api_map"
   ]
  },
  {
   "cell_type": "code",
   "execution_count": 5,
   "id": "measured-spiritual",
   "metadata": {},
   "outputs": [
    {
     "data": {
      "text/plain": [
       "475645"
      ]
     },
     "execution_count": 5,
     "metadata": {},
     "output_type": "execute_result"
    }
   ],
   "source": [
    "pkgs = api_map.groupby('pkg').api.unique()\n",
    "pkgs.size"
   ]
  },
  {
   "cell_type": "code",
   "execution_count": 7,
   "id": "necessary-florence",
   "metadata": {},
   "outputs": [
    {
     "name": "stdout",
     "output_type": "stream",
     "text": [
      "LX/2n6;\n",
      "Ls/c/a/a/f;\n",
      "Lo/ῑ;\n",
      "Lcom/monsou/a20130521173532/More$2;\n",
      "Lb/h/a/b/d/b/u;\n",
      "Lcom/igexin/push/util/i;\n",
      "[Lcom/adyen/threeds2/internal/ui/widget/ExpandableInfoTextView$a;\n",
      "Lcom/coinbase/android/databinding/LayoutNotificationPreferencesBindingImpl;\n",
      "Lo/ƅ;\n",
      "LX/196;\n",
      "[Lcom/google/android/gms/internal/ads/zzbo$zza$zza;\n",
      "Lcom/facebook/stetho/inspector/protocol/module/Network$WebSocketClosedParams;\n",
      "Lcom/google/android/gms/games/internal/api/zzbu;\n",
      "Lcom/microsoft/intune/mam/client/app/offline/OfflineNotifyWipeActivity$2;\n",
      "Lf/l/a/m$b;\n",
      "Lcom/google/firebase/crashlytics/internal/MissingNativeComponent$b;\n",
      "Landroid/support/b/b;\n",
      "Lwob;\n",
      "Lcom/aerserv/sdk/utils/MultiKey;\n",
      "Lcom/evernote/provider/dbupgrade/MessageThreadParticipantsTableUpgrade;\n",
      "Lcom/tune/ma/playlist/TunePlaylistManager$2;\n",
      "Landroidx/versionedparcelable/c$a;\n",
      "Landroid/support/design/internal/ForegroundLinearLayout;\n",
      "Lcom/bumptech/glide/c0008/p001;\n",
      "Lkotlinx/coroutines/flow/FlowKt__MergeKt$map$$inlined$unsafeTransform$2$2$1;\n",
      "Lcom/amazon/device/ads/bl;\n",
      "LX/1Hg;\n",
      "[Landroidx/lifecycle/e$b;\n",
      "Lcom/google/android/gms/games/internal/zzd$e;\n",
      "Lcom/google/android/gms/common/internal/zzi$zze;\n",
      "Lcom/bumptech/glide/load/o/l$d;\n",
      "Lcom/yandex/metrica/impl/ob/cr$7;\n",
      "Lcom/adcolony/sdk/ADCDownload;\n",
      "Lcom/bumptech/glide/q/l/a;\n",
      "Lb/b/b/a/a/o/e1;\n",
      "Lcom/facebook/login/g$c;\n",
      "Lcom/breadwallet/ui/send/SendSheet$F$ShowErrorDialog;\n",
      "Lcal/hid;\n",
      "Lcom/appodeal/ads/NativeAdView;\n",
      "Lcom/simplecity/amp_library/utils/c6/u/a$d$a;\n",
      "Ls/f/a/c/i/h/v4;\n",
      "Lcom/breadwallet/crypto/events/walletmanager/WalletManagerCreatedEvent;\n",
      "Lcom/startapp/android/publish/e/b;\n",
      "Lcom/thoughtworks/xstream/io/json/AbstractJsonWriter;\n",
      "Lcua;\n",
      "Lcom/nostra13/universalimageloader/cache/memory/impl/LargestLimitedMemoryCache;\n",
      "Lcom/aircrunch/shopalerts/networking/d$1;\n",
      "Lorg/cocos2dx/FishGame/FishingJoy;\n",
      "Lbbc/mobile/news/v3/di/RemoteConfigModule_ProvideEndPointInteractorFactory;\n",
      "Lcom/appdynamics/eumagent/runtime/e/a1;\n"
     ]
    }
   ],
   "source": [
    "for pkg in pd.Series(pkgs.index).sample(50):\n",
    "    print(pkg)"
   ]
  },
  {
   "cell_type": "code",
   "execution_count": 2,
   "id": "polyphonic-glossary",
   "metadata": {},
   "outputs": [
    {
     "data": {
      "text/html": [
       "<div>\n",
       "<style scoped>\n",
       "    .dataframe tbody tr th:only-of-type {\n",
       "        vertical-align: middle;\n",
       "    }\n",
       "\n",
       "    .dataframe tbody tr th {\n",
       "        vertical-align: top;\n",
       "    }\n",
       "\n",
       "    .dataframe thead th {\n",
       "        text-align: right;\n",
       "    }\n",
       "</style>\n",
       "<table border=\"1\" class=\"dataframe\">\n",
       "  <thead>\n",
       "    <tr style=\"text-align: right;\">\n",
       "      <th></th>\n",
       "      <th>app</th>\n",
       "      <th>api</th>\n",
       "      <th>invoke_type</th>\n",
       "      <th>class</th>\n",
       "      <th>method</th>\n",
       "      <th>package</th>\n",
       "      <th>context</th>\n",
       "    </tr>\n",
       "  </thead>\n",
       "  <tbody>\n",
       "    <tr>\n",
       "      <th>0</th>\n",
       "      <td>com.microsoft.todos</td>\n",
       "      <td>Ljava/lang/Long;-&gt;valueOf(J)Ljava/lang/Long;</td>\n",
       "      <td>static</td>\n",
       "      <td>Lb;</td>\n",
       "      <td>Lb;-&gt;a(J)I</td>\n",
       "      <td>Ljava/lang</td>\n",
       "      <td>invoke-static {p0, p1}, Ljava/lang/Long;-&gt;valu...</td>\n",
       "    </tr>\n",
       "    <tr>\n",
       "      <th>1</th>\n",
       "      <td>com.microsoft.todos</td>\n",
       "      <td>Ljava/lang/Long;-&gt;hashCode()I</td>\n",
       "      <td>virtual</td>\n",
       "      <td>Lb;</td>\n",
       "      <td>Lb;-&gt;a(J)I</td>\n",
       "      <td>Ljava/lang</td>\n",
       "      <td>invoke-virtual {p0}, Ljava/lang/Long;-&gt;hashCod...</td>\n",
       "    </tr>\n",
       "    <tr>\n",
       "      <th>2</th>\n",
       "      <td>com.microsoft.todos</td>\n",
       "      <td>Ljava/lang/Integer;-&gt;valueOf(I)Ljava/lang/Inte...</td>\n",
       "      <td>static</td>\n",
       "      <td>La;</td>\n",
       "      <td>La;-&gt;a(I)I</td>\n",
       "      <td>Ljava/lang</td>\n",
       "      <td>invoke-static {p0}, Ljava/lang/Integer;-&gt;value...</td>\n",
       "    </tr>\n",
       "    <tr>\n",
       "      <th>3</th>\n",
       "      <td>com.microsoft.todos</td>\n",
       "      <td>Ljava/lang/Integer;-&gt;hashCode()I</td>\n",
       "      <td>virtual</td>\n",
       "      <td>La;</td>\n",
       "      <td>La;-&gt;a(I)I</td>\n",
       "      <td>Ljava/lang</td>\n",
       "      <td>invoke-virtual {p0}, Ljava/lang/Integer;-&gt;hash...</td>\n",
       "    </tr>\n",
       "    <tr>\n",
       "      <th>4</th>\n",
       "      <td>com.microsoft.todos</td>\n",
       "      <td>Landroidx/recyclerview/widget/StaggeredGridLay...</td>\n",
       "      <td>direct</td>\n",
       "      <td>Landroidx/recyclerview/widget/StaggeredGridLay...</td>\n",
       "      <td>Landroidx/recyclerview/widget/StaggeredGridLay...</td>\n",
       "      <td>Landroidx/recyclerview/widget</td>\n",
       "      <td>invoke-direct {v0}, Landroidx/recyclerview/wid...</td>\n",
       "    </tr>\n",
       "    <tr>\n",
       "      <th>...</th>\n",
       "      <td>...</td>\n",
       "      <td>...</td>\n",
       "      <td>...</td>\n",
       "      <td>...</td>\n",
       "      <td>...</td>\n",
       "      <td>...</td>\n",
       "      <td>...</td>\n",
       "    </tr>\n",
       "    <tr>\n",
       "      <th>188138</th>\n",
       "      <td>com.microsoft.todos</td>\n",
       "      <td>Ljava/lang/StringBuilder;-&gt;append(I)Ljava/lang...</td>\n",
       "      <td>virtual</td>\n",
       "      <td>Lcom/google/android/gms/common/internal/w/b$a;</td>\n",
       "      <td>Lcom/google/android/gms/common/internal/w/b$a;...</td>\n",
       "      <td>Ljava/lang</td>\n",
       "      <td>invoke-virtual {v2, v0}, Ljava/lang/StringBuil...</td>\n",
       "    </tr>\n",
       "    <tr>\n",
       "      <th>188139</th>\n",
       "      <td>com.microsoft.todos</td>\n",
       "      <td>Ljava/lang/StringBuilder;-&gt;append(Ljava/lang/S...</td>\n",
       "      <td>virtual</td>\n",
       "      <td>Lcom/google/android/gms/common/internal/w/b$a;</td>\n",
       "      <td>Lcom/google/android/gms/common/internal/w/b$a;...</td>\n",
       "      <td>Ljava/lang</td>\n",
       "      <td>invoke-virtual {v2, p1}, Ljava/lang/StringBuil...</td>\n",
       "    </tr>\n",
       "    <tr>\n",
       "      <th>188140</th>\n",
       "      <td>com.microsoft.todos</td>\n",
       "      <td>Ljava/lang/StringBuilder;-&gt;append(I)Ljava/lang...</td>\n",
       "      <td>virtual</td>\n",
       "      <td>Lcom/google/android/gms/common/internal/w/b$a;</td>\n",
       "      <td>Lcom/google/android/gms/common/internal/w/b$a;...</td>\n",
       "      <td>Ljava/lang</td>\n",
       "      <td>invoke-virtual {v2, p2}, Ljava/lang/StringBuil...</td>\n",
       "    </tr>\n",
       "    <tr>\n",
       "      <th>188141</th>\n",
       "      <td>com.microsoft.todos</td>\n",
       "      <td>Ljava/lang/StringBuilder;-&gt;toString()Ljava/lan...</td>\n",
       "      <td>virtual</td>\n",
       "      <td>Lcom/google/android/gms/common/internal/w/b$a;</td>\n",
       "      <td>Lcom/google/android/gms/common/internal/w/b$a;...</td>\n",
       "      <td>Ljava/lang</td>\n",
       "      <td>invoke-virtual {v2}, Ljava/lang/StringBuilder;...</td>\n",
       "    </tr>\n",
       "    <tr>\n",
       "      <th>188142</th>\n",
       "      <td>com.microsoft.todos</td>\n",
       "      <td>Ljava/lang/RuntimeException;-&gt;&lt;init&gt;(Ljava/lan...</td>\n",
       "      <td>direct</td>\n",
       "      <td>Lcom/google/android/gms/common/internal/w/b$a;</td>\n",
       "      <td>Lcom/google/android/gms/common/internal/w/b$a;...</td>\n",
       "      <td>Ljava/lang</td>\n",
       "      <td>invoke-direct {p0, p1}, Ljava/lang/RuntimeExce...</td>\n",
       "    </tr>\n",
       "  </tbody>\n",
       "</table>\n",
       "<p>188143 rows × 7 columns</p>\n",
       "</div>"
      ],
      "text/plain": [
       "                        app  \\\n",
       "0       com.microsoft.todos   \n",
       "1       com.microsoft.todos   \n",
       "2       com.microsoft.todos   \n",
       "3       com.microsoft.todos   \n",
       "4       com.microsoft.todos   \n",
       "...                     ...   \n",
       "188138  com.microsoft.todos   \n",
       "188139  com.microsoft.todos   \n",
       "188140  com.microsoft.todos   \n",
       "188141  com.microsoft.todos   \n",
       "188142  com.microsoft.todos   \n",
       "\n",
       "                                                      api invoke_type  \\\n",
       "0            Ljava/lang/Long;->valueOf(J)Ljava/lang/Long;      static   \n",
       "1                           Ljava/lang/Long;->hashCode()I     virtual   \n",
       "2       Ljava/lang/Integer;->valueOf(I)Ljava/lang/Inte...      static   \n",
       "3                        Ljava/lang/Integer;->hashCode()I     virtual   \n",
       "4       Landroidx/recyclerview/widget/StaggeredGridLay...      direct   \n",
       "...                                                   ...         ...   \n",
       "188138  Ljava/lang/StringBuilder;->append(I)Ljava/lang...     virtual   \n",
       "188139  Ljava/lang/StringBuilder;->append(Ljava/lang/S...     virtual   \n",
       "188140  Ljava/lang/StringBuilder;->append(I)Ljava/lang...     virtual   \n",
       "188141  Ljava/lang/StringBuilder;->toString()Ljava/lan...     virtual   \n",
       "188142  Ljava/lang/RuntimeException;-><init>(Ljava/lan...      direct   \n",
       "\n",
       "                                                    class  \\\n",
       "0                                                     Lb;   \n",
       "1                                                     Lb;   \n",
       "2                                                     La;   \n",
       "3                                                     La;   \n",
       "4       Landroidx/recyclerview/widget/StaggeredGridLay...   \n",
       "...                                                   ...   \n",
       "188138     Lcom/google/android/gms/common/internal/w/b$a;   \n",
       "188139     Lcom/google/android/gms/common/internal/w/b$a;   \n",
       "188140     Lcom/google/android/gms/common/internal/w/b$a;   \n",
       "188141     Lcom/google/android/gms/common/internal/w/b$a;   \n",
       "188142     Lcom/google/android/gms/common/internal/w/b$a;   \n",
       "\n",
       "                                                   method  \\\n",
       "0                                              Lb;->a(J)I   \n",
       "1                                              Lb;->a(J)I   \n",
       "2                                              La;->a(I)I   \n",
       "3                                              La;->a(I)I   \n",
       "4       Landroidx/recyclerview/widget/StaggeredGridLay...   \n",
       "...                                                   ...   \n",
       "188138  Lcom/google/android/gms/common/internal/w/b$a;...   \n",
       "188139  Lcom/google/android/gms/common/internal/w/b$a;...   \n",
       "188140  Lcom/google/android/gms/common/internal/w/b$a;...   \n",
       "188141  Lcom/google/android/gms/common/internal/w/b$a;...   \n",
       "188142  Lcom/google/android/gms/common/internal/w/b$a;...   \n",
       "\n",
       "                              package  \\\n",
       "0                          Ljava/lang   \n",
       "1                          Ljava/lang   \n",
       "2                          Ljava/lang   \n",
       "3                          Ljava/lang   \n",
       "4       Landroidx/recyclerview/widget   \n",
       "...                               ...   \n",
       "188138                     Ljava/lang   \n",
       "188139                     Ljava/lang   \n",
       "188140                     Ljava/lang   \n",
       "188141                     Ljava/lang   \n",
       "188142                     Ljava/lang   \n",
       "\n",
       "                                                  context  \n",
       "0       invoke-static {p0, p1}, Ljava/lang/Long;->valu...  \n",
       "1       invoke-virtual {p0}, Ljava/lang/Long;->hashCod...  \n",
       "2       invoke-static {p0}, Ljava/lang/Integer;->value...  \n",
       "3       invoke-virtual {p0}, Ljava/lang/Integer;->hash...  \n",
       "4       invoke-direct {v0}, Landroidx/recyclerview/wid...  \n",
       "...                                                   ...  \n",
       "188138  invoke-virtual {v2, v0}, Ljava/lang/StringBuil...  \n",
       "188139  invoke-virtual {v2, p1}, Ljava/lang/StringBuil...  \n",
       "188140  invoke-virtual {v2, p2}, Ljava/lang/StringBuil...  \n",
       "188141  invoke-virtual {v2}, Ljava/lang/StringBuilder;...  \n",
       "188142  invoke-direct {p0, p1}, Ljava/lang/RuntimeExce...  \n",
       "\n",
       "[188143 rows x 7 columns]"
      ]
     },
     "execution_count": 2,
     "metadata": {},
     "output_type": "execute_result"
    }
   ],
   "source": [
    "pd.read_csv('../data/out/all-apps/app-data/com.microsoft.todos.csv', dtype=str)"
   ]
  },
  {
   "cell_type": "code",
   "execution_count": 48,
   "id": "answering-planet",
   "metadata": {},
   "outputs": [
    {
     "data": {
      "text/plain": [
       "90691623650.0"
      ]
     },
     "execution_count": 48,
     "metadata": {},
     "output_type": "execute_result"
    }
   ],
   "source": [
    "len_combos(301151)"
   ]
  },
  {
   "cell_type": "code",
   "execution_count": 30,
   "id": "foster-vintage",
   "metadata": {
    "scrolled": true
   },
   "outputs": [
    {
     "data": {
      "text/plain": [
       "49891442330.0"
      ]
     },
     "execution_count": 30,
     "metadata": {},
     "output_type": "execute_result"
    }
   ],
   "source": [
    "api_sets_total = pd.read_pickle('../data/temp/package_api_sets.pkl').apply(len).apply(len_combos).sum()\n",
    "api_sets_total"
   ]
  },
  {
   "cell_type": "code",
   "execution_count": 2,
   "id": "chemical-absorption",
   "metadata": {},
   "outputs": [
    {
     "name": "stdout",
     "output_type": "stream",
     "text": [
      "/home/rcgonzal/DSC180Malware/m2v-adversarial-hindroid\r\n"
     ]
    }
   ],
   "source": [
    "os.chdir('/home/rcgonzal/DSC180Malware/m2v-adversarial-hindroid/')\n",
    "!pwd"
   ]
  },
  {
   "cell_type": "code",
   "execution_count": 3,
   "id": "adjacent-circuit",
   "metadata": {},
   "outputs": [],
   "source": [
    "outfolder = 'data/out/miniset-train'"
   ]
  },
  {
   "cell_type": "code",
   "execution_count": 10,
   "id": "quantitative-converter",
   "metadata": {},
   "outputs": [],
   "source": [
    "from src.data.hindroid import *\n",
    "\n",
    "%load_ext autoreload\n",
    "%autoreload 2"
   ]
  },
  {
   "cell_type": "code",
   "execution_count": 11,
   "id": "ranking-aircraft",
   "metadata": {},
   "outputs": [
    {
     "name": "stdout",
     "output_type": "stream",
     "text": [
      "Fitting AAT model...\n",
      "Fitting ABAT model...\n",
      "Fitting APAT model...\n",
      "Fitting ABPBTAT model...\n",
      "Fitting APBPTAT model...\n",
      "              acc    recall        f1\n",
      "kernel                               \n",
      "AAT      0.957589  1.000000  0.957871\n",
      "ABAT     0.939732  0.962963  0.939052\n",
      "APAT     0.946429  0.990741  0.946903\n",
      "ABPBTAT  0.944196  0.976852  0.944072\n",
      "APBPTAT  0.904018  0.944444  0.904656\n",
      "CPU times: user 50min 59s, sys: 4min 15s, total: 55min 15s\n",
      "Wall time: 55min 15s\n"
     ]
    }
   ],
   "source": [
    "%time make_models(outfolder)"
   ]
  },
  {
   "cell_type": "code",
   "execution_count": 4,
   "id": "cathedral-advisory",
   "metadata": {},
   "outputs": [],
   "source": [
    "B_edges_filepath = os.path.join('data', 'temp', 'B_edges.csv')\n",
    "P_edges_filepath = os.path.join('data', 'temp', 'P_edges.csv')\n",
    "# pd.read_csv(P_edges_filepath).shape"
   ]
  },
  {
   "cell_type": "code",
   "execution_count": 4,
   "id": "statistical-newton",
   "metadata": {},
   "outputs": [
    {
     "data": {
      "text/plain": [
       "(2547149, 2)"
      ]
     },
     "execution_count": 4,
     "metadata": {},
     "output_type": "execute_result"
    }
   ],
   "source": [
    "pd.read_csv(os.path.join('data', 'out', 'miniset-train', 'api_map.csv')).shape"
   ]
  },
  {
   "cell_type": "code",
   "execution_count": 5,
   "id": "marked-alabama",
   "metadata": {},
   "outputs": [
    {
     "data": {
      "text/plain": [
       "(246035, 2)"
      ]
     },
     "execution_count": 5,
     "metadata": {},
     "output_type": "execute_result"
    }
   ],
   "source": [
    "pd.read_csv(os.path.join('data', 'out', 'miniset-train', 'package_map.csv')).shape"
   ]
  },
  {
   "cell_type": "code",
   "execution_count": 5,
   "id": "august-beginning",
   "metadata": {},
   "outputs": [],
   "source": [
    "num_apis = 2547149"
   ]
  },
  {
   "cell_type": "code",
   "execution_count": 6,
   "id": "effective-interim",
   "metadata": {},
   "outputs": [],
   "source": [
    "def parse_edges(chunk, num_apis):\n",
    "        row = chunk.source\n",
    "        col = chunk.target\n",
    "        data = [1 for i in range(chunk.target.size)]\n",
    "        return sparse.coo_matrix((data, (row, col)), shape=(num_apis, num_apis))"
   ]
  },
  {
   "cell_type": "code",
   "execution_count": 9,
   "id": "private-liechtenstein",
   "metadata": {},
   "outputs": [
    {
     "name": "stdout",
     "output_type": "stream",
     "text": [
      "Constructing P matrix (Step 2)...\n",
      "loading data\n",
      "making csr matrix\n"
     ]
    },
    {
     "name": "stderr",
     "output_type": "stream",
     "text": [
      "/home/rcgonzal/.local/lib/python3.8/site-packages/scipy/sparse/_index.py:125: SparseEfficiencyWarning: Changing the sparsity structure of a csr_matrix is expensive. lil_matrix is more efficient.\n",
      "  self._set_arrayXarray(i, j, x)\n"
     ]
    },
    {
     "name": "stdout",
     "output_type": "stream",
     "text": [
      "saving matrix\n"
     ]
    }
   ],
   "source": [
    "print(\"Constructing P matrix (Step 2)...\")\n",
    "# mlb = MultiLabelBinarizer(sparse_output=True)\n",
    "# mlb.fit([(api,) for api in range(2547149)])\n",
    "# P_mat = mlb.transform(pd.read_csv(P_edges_filepath).groupby('source').target.unique().compute())\n",
    "# P_mat\n",
    "print('loading data')\n",
    "edges = pd.read_csv(P_edges_filepath)\n",
    "print('making csr matrix')\n",
    "P_mat = (\n",
    "    sparse.csr_matrix(\n",
    "        ([True for i in range(edges.shape[0])], (edges.source, edges.target)),\n",
    "        shape=(num_apis, num_apis),\n",
    "        dtype=bool\n",
    "    )\n",
    ")\n",
    "P_mat.setdiag(1)\n",
    "print(\"saving matrix\")\n",
    "sparse.save_npz(os.path.join(outfolder, 'hindroid', 'P_mat.npz'), P_mat.tocsr().astype(int))"
   ]
  },
  {
   "cell_type": "code",
   "execution_count": 10,
   "id": "municipal-macintosh",
   "metadata": {},
   "outputs": [
    {
     "data": {
      "text/plain": [
       "48"
      ]
     },
     "execution_count": 10,
     "metadata": {},
     "output_type": "execute_result"
    }
   ],
   "source": [
    "import sys\n",
    "sys.getsizeof(P_mat)"
   ]
  },
  {
   "cell_type": "code",
   "execution_count": 13,
   "id": "expired-swedish",
   "metadata": {},
   "outputs": [
    {
     "data": {
      "text/plain": [
       "<2547149x2547149 sparse matrix of type '<class 'numpy.bool_'>'\n",
       "\twith 1563269501 stored elements in Compressed Sparse Row format>"
      ]
     },
     "execution_count": 13,
     "metadata": {},
     "output_type": "execute_result"
    }
   ],
   "source": [
    "P_mat"
   ]
  },
  {
   "cell_type": "code",
   "execution_count": 57,
   "id": "interstate-mouse",
   "metadata": {
    "collapsed": true
   },
   "outputs": [
    {
     "name": "stdout",
     "output_type": "stream",
     "text": [
      "Dask Cluster: LocalCluster('tcp://127.0.0.1:33715', workers=4, threads=8, memory=68.72 GB)\n",
      "Dashboard port: 8787\n"
     ]
    },
    {
     "name": "stderr",
     "output_type": "stream",
     "text": [
      "distributed.nanny - WARNING - Restarting worker\n",
      "distributed.nanny - WARNING - Restarting worker\n",
      "distributed.nanny - WARNING - Restarting worker\n"
     ]
    },
    {
     "ename": "KeyboardInterrupt",
     "evalue": "",
     "output_type": "error",
     "traceback": [
      "\u001b[0;31m\u001b[0m",
      "\u001b[0;31mKeyboardInterrupt\u001b[0mTraceback (most recent call last)",
      "\u001b[0;32m<ipython-input-57-bf4bf5cd0317>\u001b[0m in \u001b[0;36m<module>\u001b[0;34m\u001b[0m\n\u001b[1;32m     18\u001b[0m     \u001b[0mpkg_info\u001b[0m \u001b[0;34m=\u001b[0m \u001b[0mdata\u001b[0m\u001b[0;34m[\u001b[0m\u001b[0;34m[\u001b[0m\u001b[0;34m'package'\u001b[0m\u001b[0;34m,\u001b[0m \u001b[0;34m'api'\u001b[0m\u001b[0;34m]\u001b[0m\u001b[0;34m]\u001b[0m\u001b[0;34m.\u001b[0m\u001b[0mgroupby\u001b[0m\u001b[0;34m(\u001b[0m\u001b[0;34m'package'\u001b[0m\u001b[0;34m)\u001b[0m\u001b[0;34m.\u001b[0m\u001b[0mpackage\u001b[0m\u001b[0;34m\u001b[0m\u001b[0;34m\u001b[0m\u001b[0m\n\u001b[0;32m---> 19\u001b[0;31m     \u001b[0mpkg_info\u001b[0m \u001b[0;34m=\u001b[0m \u001b[0mpkg_info\u001b[0m\u001b[0;34m.\u001b[0m\u001b[0mvalue_counts\u001b[0m\u001b[0;34m(\u001b[0m\u001b[0;34m)\u001b[0m\u001b[0;34m.\u001b[0m\u001b[0mcompute\u001b[0m\u001b[0;34m(\u001b[0m\u001b[0;34m)\u001b[0m\u001b[0;34m\u001b[0m\u001b[0;34m\u001b[0m\u001b[0m\n\u001b[0m",
      "\u001b[0;32m/opt/conda/lib/python3.8/site-packages/dask/base.py\u001b[0m in \u001b[0;36mcompute\u001b[0;34m(self, **kwargs)\u001b[0m\n\u001b[1;32m    278\u001b[0m         \"\"\"\n\u001b[0;32m--> 279\u001b[0;31m         \u001b[0;34m(\u001b[0m\u001b[0mresult\u001b[0m\u001b[0;34m,\u001b[0m\u001b[0;34m)\u001b[0m \u001b[0;34m=\u001b[0m \u001b[0mcompute\u001b[0m\u001b[0;34m(\u001b[0m\u001b[0mself\u001b[0m\u001b[0;34m,\u001b[0m \u001b[0mtraverse\u001b[0m\u001b[0;34m=\u001b[0m\u001b[0;32mFalse\u001b[0m\u001b[0;34m,\u001b[0m \u001b[0;34m**\u001b[0m\u001b[0mkwargs\u001b[0m\u001b[0;34m)\u001b[0m\u001b[0;34m\u001b[0m\u001b[0;34m\u001b[0m\u001b[0m\n\u001b[0m\u001b[1;32m    280\u001b[0m         \u001b[0;32mreturn\u001b[0m \u001b[0mresult\u001b[0m\u001b[0;34m\u001b[0m\u001b[0;34m\u001b[0m\u001b[0m\n",
      "\u001b[0;32m/opt/conda/lib/python3.8/site-packages/dask/base.py\u001b[0m in \u001b[0;36mcompute\u001b[0;34m(*args, **kwargs)\u001b[0m\n\u001b[1;32m    566\u001b[0m \u001b[0;34m\u001b[0m\u001b[0m\n\u001b[0;32m--> 567\u001b[0;31m     \u001b[0mresults\u001b[0m \u001b[0;34m=\u001b[0m \u001b[0mschedule\u001b[0m\u001b[0;34m(\u001b[0m\u001b[0mdsk\u001b[0m\u001b[0;34m,\u001b[0m \u001b[0mkeys\u001b[0m\u001b[0;34m,\u001b[0m \u001b[0;34m**\u001b[0m\u001b[0mkwargs\u001b[0m\u001b[0;34m)\u001b[0m\u001b[0;34m\u001b[0m\u001b[0;34m\u001b[0m\u001b[0m\n\u001b[0m\u001b[1;32m    568\u001b[0m     \u001b[0;32mreturn\u001b[0m \u001b[0mrepack\u001b[0m\u001b[0;34m(\u001b[0m\u001b[0;34m[\u001b[0m\u001b[0mf\u001b[0m\u001b[0;34m(\u001b[0m\u001b[0mr\u001b[0m\u001b[0;34m,\u001b[0m \u001b[0;34m*\u001b[0m\u001b[0ma\u001b[0m\u001b[0;34m)\u001b[0m \u001b[0;32mfor\u001b[0m \u001b[0mr\u001b[0m\u001b[0;34m,\u001b[0m \u001b[0;34m(\u001b[0m\u001b[0mf\u001b[0m\u001b[0;34m,\u001b[0m \u001b[0ma\u001b[0m\u001b[0;34m)\u001b[0m \u001b[0;32min\u001b[0m \u001b[0mzip\u001b[0m\u001b[0;34m(\u001b[0m\u001b[0mresults\u001b[0m\u001b[0;34m,\u001b[0m \u001b[0mpostcomputes\u001b[0m\u001b[0;34m)\u001b[0m\u001b[0;34m]\u001b[0m\u001b[0;34m)\u001b[0m\u001b[0;34m\u001b[0m\u001b[0;34m\u001b[0m\u001b[0m\n",
      "\u001b[0;32m/opt/conda/lib/python3.8/site-packages/distributed/client.py\u001b[0m in \u001b[0;36mget\u001b[0;34m(self, dsk, keys, restrictions, loose_restrictions, resources, sync, asynchronous, direct, retries, priority, fifo_timeout, actors, **kwargs)\u001b[0m\n\u001b[1;32m   2680\u001b[0m             \u001b[0;32mtry\u001b[0m\u001b[0;34m:\u001b[0m\u001b[0;34m\u001b[0m\u001b[0;34m\u001b[0m\u001b[0m\n\u001b[0;32m-> 2681\u001b[0;31m                 \u001b[0mresults\u001b[0m \u001b[0;34m=\u001b[0m \u001b[0mself\u001b[0m\u001b[0;34m.\u001b[0m\u001b[0mgather\u001b[0m\u001b[0;34m(\u001b[0m\u001b[0mpacked\u001b[0m\u001b[0;34m,\u001b[0m \u001b[0masynchronous\u001b[0m\u001b[0;34m=\u001b[0m\u001b[0masynchronous\u001b[0m\u001b[0;34m,\u001b[0m \u001b[0mdirect\u001b[0m\u001b[0;34m=\u001b[0m\u001b[0mdirect\u001b[0m\u001b[0;34m)\u001b[0m\u001b[0;34m\u001b[0m\u001b[0;34m\u001b[0m\u001b[0m\n\u001b[0m\u001b[1;32m   2682\u001b[0m             \u001b[0;32mfinally\u001b[0m\u001b[0;34m:\u001b[0m\u001b[0;34m\u001b[0m\u001b[0;34m\u001b[0m\u001b[0m\n",
      "\u001b[0;32m/opt/conda/lib/python3.8/site-packages/distributed/client.py\u001b[0m in \u001b[0;36mgather\u001b[0;34m(self, futures, errors, direct, asynchronous)\u001b[0m\n\u001b[1;32m   1989\u001b[0m                 \u001b[0mlocal_worker\u001b[0m \u001b[0;34m=\u001b[0m \u001b[0;32mNone\u001b[0m\u001b[0;34m\u001b[0m\u001b[0;34m\u001b[0m\u001b[0m\n\u001b[0;32m-> 1990\u001b[0;31m             return self.sync(\n\u001b[0m\u001b[1;32m   1991\u001b[0m                 \u001b[0mself\u001b[0m\u001b[0;34m.\u001b[0m\u001b[0m_gather\u001b[0m\u001b[0;34m,\u001b[0m\u001b[0;34m\u001b[0m\u001b[0;34m\u001b[0m\u001b[0m\n",
      "\u001b[0;32m/opt/conda/lib/python3.8/site-packages/distributed/client.py\u001b[0m in \u001b[0;36msync\u001b[0;34m(self, func, asynchronous, callback_timeout, *args, **kwargs)\u001b[0m\n\u001b[1;32m    835\u001b[0m         \u001b[0;32melse\u001b[0m\u001b[0;34m:\u001b[0m\u001b[0;34m\u001b[0m\u001b[0;34m\u001b[0m\u001b[0m\n\u001b[0;32m--> 836\u001b[0;31m             return sync(\n\u001b[0m\u001b[1;32m    837\u001b[0m                 \u001b[0mself\u001b[0m\u001b[0;34m.\u001b[0m\u001b[0mloop\u001b[0m\u001b[0;34m,\u001b[0m \u001b[0mfunc\u001b[0m\u001b[0;34m,\u001b[0m \u001b[0;34m*\u001b[0m\u001b[0margs\u001b[0m\u001b[0;34m,\u001b[0m \u001b[0mcallback_timeout\u001b[0m\u001b[0;34m=\u001b[0m\u001b[0mcallback_timeout\u001b[0m\u001b[0;34m,\u001b[0m \u001b[0;34m**\u001b[0m\u001b[0mkwargs\u001b[0m\u001b[0;34m\u001b[0m\u001b[0;34m\u001b[0m\u001b[0m\n",
      "\u001b[0;32m/opt/conda/lib/python3.8/site-packages/distributed/utils.py\u001b[0m in \u001b[0;36msync\u001b[0;34m(loop, func, callback_timeout, *args, **kwargs)\u001b[0m\n\u001b[1;32m    336\u001b[0m         \u001b[0;32mwhile\u001b[0m \u001b[0;32mnot\u001b[0m \u001b[0me\u001b[0m\u001b[0;34m.\u001b[0m\u001b[0mis_set\u001b[0m\u001b[0;34m(\u001b[0m\u001b[0;34m)\u001b[0m\u001b[0;34m:\u001b[0m\u001b[0;34m\u001b[0m\u001b[0;34m\u001b[0m\u001b[0m\n\u001b[0;32m--> 337\u001b[0;31m             \u001b[0me\u001b[0m\u001b[0;34m.\u001b[0m\u001b[0mwait\u001b[0m\u001b[0;34m(\u001b[0m\u001b[0;36m10\u001b[0m\u001b[0;34m)\u001b[0m\u001b[0;34m\u001b[0m\u001b[0;34m\u001b[0m\u001b[0m\n\u001b[0m\u001b[1;32m    338\u001b[0m     \u001b[0;32mif\u001b[0m \u001b[0merror\u001b[0m\u001b[0;34m[\u001b[0m\u001b[0;36m0\u001b[0m\u001b[0;34m]\u001b[0m\u001b[0;34m:\u001b[0m\u001b[0;34m\u001b[0m\u001b[0;34m\u001b[0m\u001b[0m\n",
      "\u001b[0;32m/opt/conda/lib/python3.8/threading.py\u001b[0m in \u001b[0;36mwait\u001b[0;34m(self, timeout)\u001b[0m\n\u001b[1;32m    557\u001b[0m             \u001b[0;32mif\u001b[0m \u001b[0;32mnot\u001b[0m \u001b[0msignaled\u001b[0m\u001b[0;34m:\u001b[0m\u001b[0;34m\u001b[0m\u001b[0;34m\u001b[0m\u001b[0m\n\u001b[0;32m--> 558\u001b[0;31m                 \u001b[0msignaled\u001b[0m \u001b[0;34m=\u001b[0m \u001b[0mself\u001b[0m\u001b[0;34m.\u001b[0m\u001b[0m_cond\u001b[0m\u001b[0;34m.\u001b[0m\u001b[0mwait\u001b[0m\u001b[0;34m(\u001b[0m\u001b[0mtimeout\u001b[0m\u001b[0;34m)\u001b[0m\u001b[0;34m\u001b[0m\u001b[0;34m\u001b[0m\u001b[0m\n\u001b[0m\u001b[1;32m    559\u001b[0m             \u001b[0;32mreturn\u001b[0m \u001b[0msignaled\u001b[0m\u001b[0;34m\u001b[0m\u001b[0;34m\u001b[0m\u001b[0m\n",
      "\u001b[0;32m/opt/conda/lib/python3.8/threading.py\u001b[0m in \u001b[0;36mwait\u001b[0;34m(self, timeout)\u001b[0m\n\u001b[1;32m    305\u001b[0m                 \u001b[0;32mif\u001b[0m \u001b[0mtimeout\u001b[0m \u001b[0;34m>\u001b[0m \u001b[0;36m0\u001b[0m\u001b[0;34m:\u001b[0m\u001b[0;34m\u001b[0m\u001b[0;34m\u001b[0m\u001b[0m\n\u001b[0;32m--> 306\u001b[0;31m                     \u001b[0mgotit\u001b[0m \u001b[0;34m=\u001b[0m \u001b[0mwaiter\u001b[0m\u001b[0;34m.\u001b[0m\u001b[0macquire\u001b[0m\u001b[0;34m(\u001b[0m\u001b[0;32mTrue\u001b[0m\u001b[0;34m,\u001b[0m \u001b[0mtimeout\u001b[0m\u001b[0;34m)\u001b[0m\u001b[0;34m\u001b[0m\u001b[0;34m\u001b[0m\u001b[0m\n\u001b[0m\u001b[1;32m    307\u001b[0m                 \u001b[0;32melse\u001b[0m\u001b[0;34m:\u001b[0m\u001b[0;34m\u001b[0m\u001b[0;34m\u001b[0m\u001b[0m\n",
      "\u001b[0;31mKeyboardInterrupt\u001b[0m: ",
      "\nDuring handling of the above exception, another exception occurred:\n",
      "\u001b[0;31mKeyboardInterrupt\u001b[0mTraceback (most recent call last)",
      "\u001b[0;32m<ipython-input-57-bf4bf5cd0317>\u001b[0m in \u001b[0;36m<module>\u001b[0;34m\u001b[0m\n\u001b[1;32m     18\u001b[0m     \u001b[0mpkg_info\u001b[0m \u001b[0;34m=\u001b[0m \u001b[0mdata\u001b[0m\u001b[0;34m[\u001b[0m\u001b[0;34m[\u001b[0m\u001b[0;34m'package'\u001b[0m\u001b[0;34m,\u001b[0m \u001b[0;34m'api'\u001b[0m\u001b[0;34m]\u001b[0m\u001b[0;34m]\u001b[0m\u001b[0;34m.\u001b[0m\u001b[0mgroupby\u001b[0m\u001b[0;34m(\u001b[0m\u001b[0;34m'package'\u001b[0m\u001b[0;34m)\u001b[0m\u001b[0;34m.\u001b[0m\u001b[0mpackage\u001b[0m\u001b[0;34m\u001b[0m\u001b[0;34m\u001b[0m\u001b[0m\n\u001b[0;32m---> 19\u001b[0;31m     \u001b[0mpkg_info\u001b[0m \u001b[0;34m=\u001b[0m \u001b[0mpkg_info\u001b[0m\u001b[0;34m.\u001b[0m\u001b[0mvalue_counts\u001b[0m\u001b[0;34m(\u001b[0m\u001b[0;34m)\u001b[0m\u001b[0;34m.\u001b[0m\u001b[0mcompute\u001b[0m\u001b[0;34m(\u001b[0m\u001b[0;34m)\u001b[0m\u001b[0;34m\u001b[0m\u001b[0;34m\u001b[0m\u001b[0m\n\u001b[0m",
      "\u001b[0;32m/opt/conda/lib/python3.8/site-packages/distributed/client.py\u001b[0m in \u001b[0;36m__exit__\u001b[0;34m(self, typ, value, traceback)\u001b[0m\n\u001b[1;32m   4776\u001b[0m             \u001b[0mcode\u001b[0m \u001b[0;34m=\u001b[0m \u001b[0;34m\"\"\u001b[0m\u001b[0;34m\u001b[0m\u001b[0;34m\u001b[0m\u001b[0m\n\u001b[0;32m-> 4777\u001b[0;31m         \u001b[0mget_client\u001b[0m\u001b[0;34m(\u001b[0m\u001b[0;34m)\u001b[0m\u001b[0;34m.\u001b[0m\u001b[0msync\u001b[0m\u001b[0;34m(\u001b[0m\u001b[0mself\u001b[0m\u001b[0;34m.\u001b[0m\u001b[0m__aexit__\u001b[0m\u001b[0;34m,\u001b[0m \u001b[0mtype\u001b[0m\u001b[0;34m,\u001b[0m \u001b[0mvalue\u001b[0m\u001b[0;34m,\u001b[0m \u001b[0mtraceback\u001b[0m\u001b[0;34m,\u001b[0m \u001b[0mcode\u001b[0m\u001b[0;34m=\u001b[0m\u001b[0mcode\u001b[0m\u001b[0;34m)\u001b[0m\u001b[0;34m\u001b[0m\u001b[0;34m\u001b[0m\u001b[0m\n\u001b[0m\u001b[1;32m   4778\u001b[0m \u001b[0;34m\u001b[0m\u001b[0m\n",
      "\u001b[0;32m/opt/conda/lib/python3.8/site-packages/distributed/client.py\u001b[0m in \u001b[0;36msync\u001b[0;34m(self, func, asynchronous, callback_timeout, *args, **kwargs)\u001b[0m\n\u001b[1;32m    835\u001b[0m         \u001b[0;32melse\u001b[0m\u001b[0;34m:\u001b[0m\u001b[0;34m\u001b[0m\u001b[0;34m\u001b[0m\u001b[0m\n\u001b[0;32m--> 836\u001b[0;31m             return sync(\n\u001b[0m\u001b[1;32m    837\u001b[0m                 \u001b[0mself\u001b[0m\u001b[0;34m.\u001b[0m\u001b[0mloop\u001b[0m\u001b[0;34m,\u001b[0m \u001b[0mfunc\u001b[0m\u001b[0;34m,\u001b[0m \u001b[0;34m*\u001b[0m\u001b[0margs\u001b[0m\u001b[0;34m,\u001b[0m \u001b[0mcallback_timeout\u001b[0m\u001b[0;34m=\u001b[0m\u001b[0mcallback_timeout\u001b[0m\u001b[0;34m,\u001b[0m \u001b[0;34m**\u001b[0m\u001b[0mkwargs\u001b[0m\u001b[0;34m\u001b[0m\u001b[0;34m\u001b[0m\u001b[0m\n",
      "\u001b[0;32m/opt/conda/lib/python3.8/site-packages/distributed/utils.py\u001b[0m in \u001b[0;36msync\u001b[0;34m(loop, func, callback_timeout, *args, **kwargs)\u001b[0m\n\u001b[1;32m    336\u001b[0m         \u001b[0;32mwhile\u001b[0m \u001b[0;32mnot\u001b[0m \u001b[0me\u001b[0m\u001b[0;34m.\u001b[0m\u001b[0mis_set\u001b[0m\u001b[0;34m(\u001b[0m\u001b[0;34m)\u001b[0m\u001b[0;34m:\u001b[0m\u001b[0;34m\u001b[0m\u001b[0;34m\u001b[0m\u001b[0m\n\u001b[0;32m--> 337\u001b[0;31m             \u001b[0me\u001b[0m\u001b[0;34m.\u001b[0m\u001b[0mwait\u001b[0m\u001b[0;34m(\u001b[0m\u001b[0;36m10\u001b[0m\u001b[0;34m)\u001b[0m\u001b[0;34m\u001b[0m\u001b[0;34m\u001b[0m\u001b[0m\n\u001b[0m\u001b[1;32m    338\u001b[0m     \u001b[0;32mif\u001b[0m \u001b[0merror\u001b[0m\u001b[0;34m[\u001b[0m\u001b[0;36m0\u001b[0m\u001b[0;34m]\u001b[0m\u001b[0;34m:\u001b[0m\u001b[0;34m\u001b[0m\u001b[0;34m\u001b[0m\u001b[0m\n",
      "\u001b[0;32m/opt/conda/lib/python3.8/threading.py\u001b[0m in \u001b[0;36mwait\u001b[0;34m(self, timeout)\u001b[0m\n\u001b[1;32m    557\u001b[0m             \u001b[0;32mif\u001b[0m \u001b[0;32mnot\u001b[0m \u001b[0msignaled\u001b[0m\u001b[0;34m:\u001b[0m\u001b[0;34m\u001b[0m\u001b[0;34m\u001b[0m\u001b[0m\n\u001b[0;32m--> 558\u001b[0;31m                 \u001b[0msignaled\u001b[0m \u001b[0;34m=\u001b[0m \u001b[0mself\u001b[0m\u001b[0;34m.\u001b[0m\u001b[0m_cond\u001b[0m\u001b[0;34m.\u001b[0m\u001b[0mwait\u001b[0m\u001b[0;34m(\u001b[0m\u001b[0mtimeout\u001b[0m\u001b[0;34m)\u001b[0m\u001b[0;34m\u001b[0m\u001b[0;34m\u001b[0m\u001b[0m\n\u001b[0m\u001b[1;32m    559\u001b[0m             \u001b[0;32mreturn\u001b[0m \u001b[0msignaled\u001b[0m\u001b[0;34m\u001b[0m\u001b[0;34m\u001b[0m\u001b[0m\n",
      "\u001b[0;32m/opt/conda/lib/python3.8/threading.py\u001b[0m in \u001b[0;36mwait\u001b[0;34m(self, timeout)\u001b[0m\n\u001b[1;32m    305\u001b[0m                 \u001b[0;32mif\u001b[0m \u001b[0mtimeout\u001b[0m \u001b[0;34m>\u001b[0m \u001b[0;36m0\u001b[0m\u001b[0;34m:\u001b[0m\u001b[0;34m\u001b[0m\u001b[0;34m\u001b[0m\u001b[0m\n\u001b[0;32m--> 306\u001b[0;31m                     \u001b[0mgotit\u001b[0m \u001b[0;34m=\u001b[0m \u001b[0mwaiter\u001b[0m\u001b[0;34m.\u001b[0m\u001b[0macquire\u001b[0m\u001b[0;34m(\u001b[0m\u001b[0;32mTrue\u001b[0m\u001b[0;34m,\u001b[0m \u001b[0mtimeout\u001b[0m\u001b[0;34m)\u001b[0m\u001b[0;34m\u001b[0m\u001b[0;34m\u001b[0m\u001b[0m\n\u001b[0m\u001b[1;32m    307\u001b[0m                 \u001b[0;32melse\u001b[0m\u001b[0;34m:\u001b[0m\u001b[0;34m\u001b[0m\u001b[0;34m\u001b[0m\u001b[0m\n",
      "\u001b[0;31mKeyboardInterrupt\u001b[0m: ",
      "\nDuring handling of the above exception, another exception occurred:\n",
      "\u001b[0;31mKeyboardInterrupt\u001b[0mTraceback (most recent call last)",
      "\u001b[0;32m<ipython-input-57-bf4bf5cd0317>\u001b[0m in \u001b[0;36m<module>\u001b[0;34m\u001b[0m\n\u001b[1;32m     17\u001b[0m     \u001b[0mdata\u001b[0m \u001b[0;34m=\u001b[0m \u001b[0mdd\u001b[0m\u001b[0;34m.\u001b[0m\u001b[0mread_csv\u001b[0m\u001b[0;34m(\u001b[0m\u001b[0mlist\u001b[0m\u001b[0;34m(\u001b[0m\u001b[0mapp_data_list\u001b[0m\u001b[0;34m)\u001b[0m\u001b[0;34m,\u001b[0m \u001b[0mdtype\u001b[0m\u001b[0;34m=\u001b[0m\u001b[0mstr\u001b[0m\u001b[0;34m)\u001b[0m\u001b[0;34m\u001b[0m\u001b[0;34m\u001b[0m\u001b[0m\n\u001b[1;32m     18\u001b[0m     \u001b[0mpkg_info\u001b[0m \u001b[0;34m=\u001b[0m \u001b[0mdata\u001b[0m\u001b[0;34m[\u001b[0m\u001b[0;34m[\u001b[0m\u001b[0;34m'package'\u001b[0m\u001b[0;34m,\u001b[0m \u001b[0;34m'api'\u001b[0m\u001b[0;34m]\u001b[0m\u001b[0;34m]\u001b[0m\u001b[0;34m.\u001b[0m\u001b[0mgroupby\u001b[0m\u001b[0;34m(\u001b[0m\u001b[0;34m'package'\u001b[0m\u001b[0;34m)\u001b[0m\u001b[0;34m.\u001b[0m\u001b[0mpackage\u001b[0m\u001b[0;34m\u001b[0m\u001b[0;34m\u001b[0m\u001b[0m\n\u001b[0;32m---> 19\u001b[0;31m     \u001b[0mpkg_info\u001b[0m \u001b[0;34m=\u001b[0m \u001b[0mpkg_info\u001b[0m\u001b[0;34m.\u001b[0m\u001b[0mvalue_counts\u001b[0m\u001b[0;34m(\u001b[0m\u001b[0;34m)\u001b[0m\u001b[0;34m.\u001b[0m\u001b[0mcompute\u001b[0m\u001b[0;34m(\u001b[0m\u001b[0;34m)\u001b[0m\u001b[0;34m\u001b[0m\u001b[0;34m\u001b[0m\u001b[0m\n\u001b[0m",
      "\u001b[0;32m/opt/conda/lib/python3.8/site-packages/distributed/client.py\u001b[0m in \u001b[0;36m__exit__\u001b[0;34m(self, type, value, traceback)\u001b[0m\n\u001b[1;32m   1190\u001b[0m \u001b[0;34m\u001b[0m\u001b[0m\n\u001b[1;32m   1191\u001b[0m     \u001b[0;32mdef\u001b[0m \u001b[0m__exit__\u001b[0m\u001b[0;34m(\u001b[0m\u001b[0mself\u001b[0m\u001b[0;34m,\u001b[0m \u001b[0mtype\u001b[0m\u001b[0;34m,\u001b[0m \u001b[0mvalue\u001b[0m\u001b[0;34m,\u001b[0m \u001b[0mtraceback\u001b[0m\u001b[0;34m)\u001b[0m\u001b[0;34m:\u001b[0m\u001b[0;34m\u001b[0m\u001b[0;34m\u001b[0m\u001b[0m\n\u001b[0;32m-> 1192\u001b[0;31m         \u001b[0mself\u001b[0m\u001b[0;34m.\u001b[0m\u001b[0mclose\u001b[0m\u001b[0;34m(\u001b[0m\u001b[0;34m)\u001b[0m\u001b[0;34m\u001b[0m\u001b[0;34m\u001b[0m\u001b[0m\n\u001b[0m\u001b[1;32m   1193\u001b[0m \u001b[0;34m\u001b[0m\u001b[0m\n\u001b[1;32m   1194\u001b[0m     \u001b[0;32mdef\u001b[0m \u001b[0m__del__\u001b[0m\u001b[0;34m(\u001b[0m\u001b[0mself\u001b[0m\u001b[0;34m)\u001b[0m\u001b[0;34m:\u001b[0m\u001b[0;34m\u001b[0m\u001b[0;34m\u001b[0m\u001b[0m\n",
      "\u001b[0;32m/opt/conda/lib/python3.8/site-packages/distributed/client.py\u001b[0m in \u001b[0;36mclose\u001b[0;34m(self, timeout)\u001b[0m\n\u001b[1;32m   1425\u001b[0m         \u001b[0;32mif\u001b[0m \u001b[0mself\u001b[0m\u001b[0;34m.\u001b[0m\u001b[0m_start_arg\u001b[0m \u001b[0;32mis\u001b[0m \u001b[0;32mNone\u001b[0m\u001b[0;34m:\u001b[0m\u001b[0;34m\u001b[0m\u001b[0;34m\u001b[0m\u001b[0m\n\u001b[1;32m   1426\u001b[0m             \u001b[0;32mwith\u001b[0m \u001b[0msuppress\u001b[0m\u001b[0;34m(\u001b[0m\u001b[0mAttributeError\u001b[0m\u001b[0;34m)\u001b[0m\u001b[0;34m:\u001b[0m\u001b[0;34m\u001b[0m\u001b[0;34m\u001b[0m\u001b[0m\n\u001b[0;32m-> 1427\u001b[0;31m                 \u001b[0mf\u001b[0m \u001b[0;34m=\u001b[0m \u001b[0mself\u001b[0m\u001b[0;34m.\u001b[0m\u001b[0mcluster\u001b[0m\u001b[0;34m.\u001b[0m\u001b[0mclose\u001b[0m\u001b[0;34m(\u001b[0m\u001b[0;34m)\u001b[0m\u001b[0;34m\u001b[0m\u001b[0;34m\u001b[0m\u001b[0m\n\u001b[0m\u001b[1;32m   1428\u001b[0m                 \u001b[0;32mif\u001b[0m \u001b[0masyncio\u001b[0m\u001b[0;34m.\u001b[0m\u001b[0miscoroutine\u001b[0m\u001b[0;34m(\u001b[0m\u001b[0mf\u001b[0m\u001b[0;34m)\u001b[0m\u001b[0;34m:\u001b[0m\u001b[0;34m\u001b[0m\u001b[0;34m\u001b[0m\u001b[0m\n\u001b[1;32m   1429\u001b[0m \u001b[0;34m\u001b[0m\u001b[0m\n",
      "\u001b[0;32m/opt/conda/lib/python3.8/site-packages/distributed/deploy/cluster.py\u001b[0m in \u001b[0;36mclose\u001b[0;34m(self, timeout)\u001b[0m\n\u001b[1;32m    102\u001b[0m \u001b[0;34m\u001b[0m\u001b[0m\n\u001b[1;32m    103\u001b[0m         \u001b[0;32mwith\u001b[0m \u001b[0msuppress\u001b[0m\u001b[0;34m(\u001b[0m\u001b[0mRuntimeError\u001b[0m\u001b[0;34m)\u001b[0m\u001b[0;34m:\u001b[0m  \u001b[0;31m# loop closed during process shutdown\u001b[0m\u001b[0;34m\u001b[0m\u001b[0;34m\u001b[0m\u001b[0m\n\u001b[0;32m--> 104\u001b[0;31m             \u001b[0;32mreturn\u001b[0m \u001b[0mself\u001b[0m\u001b[0;34m.\u001b[0m\u001b[0msync\u001b[0m\u001b[0;34m(\u001b[0m\u001b[0mself\u001b[0m\u001b[0;34m.\u001b[0m\u001b[0m_close\u001b[0m\u001b[0;34m,\u001b[0m \u001b[0mcallback_timeout\u001b[0m\u001b[0;34m=\u001b[0m\u001b[0mtimeout\u001b[0m\u001b[0;34m)\u001b[0m\u001b[0;34m\u001b[0m\u001b[0;34m\u001b[0m\u001b[0m\n\u001b[0m\u001b[1;32m    105\u001b[0m \u001b[0;34m\u001b[0m\u001b[0m\n\u001b[1;32m    106\u001b[0m     \u001b[0;32mdef\u001b[0m \u001b[0m__del__\u001b[0m\u001b[0;34m(\u001b[0m\u001b[0mself\u001b[0m\u001b[0;34m)\u001b[0m\u001b[0;34m:\u001b[0m\u001b[0;34m\u001b[0m\u001b[0;34m\u001b[0m\u001b[0m\n",
      "\u001b[0;32m/opt/conda/lib/python3.8/site-packages/distributed/deploy/cluster.py\u001b[0m in \u001b[0;36msync\u001b[0;34m(self, func, asynchronous, callback_timeout, *args, **kwargs)\u001b[0m\n\u001b[1;32m    181\u001b[0m             \u001b[0;32mreturn\u001b[0m \u001b[0mfuture\u001b[0m\u001b[0;34m\u001b[0m\u001b[0;34m\u001b[0m\u001b[0m\n\u001b[1;32m    182\u001b[0m         \u001b[0;32melse\u001b[0m\u001b[0;34m:\u001b[0m\u001b[0;34m\u001b[0m\u001b[0;34m\u001b[0m\u001b[0m\n\u001b[0;32m--> 183\u001b[0;31m             \u001b[0;32mreturn\u001b[0m \u001b[0msync\u001b[0m\u001b[0;34m(\u001b[0m\u001b[0mself\u001b[0m\u001b[0;34m.\u001b[0m\u001b[0mloop\u001b[0m\u001b[0;34m,\u001b[0m \u001b[0mfunc\u001b[0m\u001b[0;34m,\u001b[0m \u001b[0;34m*\u001b[0m\u001b[0margs\u001b[0m\u001b[0;34m,\u001b[0m \u001b[0;34m**\u001b[0m\u001b[0mkwargs\u001b[0m\u001b[0;34m)\u001b[0m\u001b[0;34m\u001b[0m\u001b[0;34m\u001b[0m\u001b[0m\n\u001b[0m\u001b[1;32m    184\u001b[0m \u001b[0;34m\u001b[0m\u001b[0m\n\u001b[1;32m    185\u001b[0m     \u001b[0;32mdef\u001b[0m \u001b[0m_log\u001b[0m\u001b[0;34m(\u001b[0m\u001b[0mself\u001b[0m\u001b[0;34m,\u001b[0m \u001b[0mlog\u001b[0m\u001b[0;34m)\u001b[0m\u001b[0;34m:\u001b[0m\u001b[0;34m\u001b[0m\u001b[0;34m\u001b[0m\u001b[0m\n",
      "\u001b[0;32m/opt/conda/lib/python3.8/site-packages/distributed/utils.py\u001b[0m in \u001b[0;36msync\u001b[0;34m(loop, func, callback_timeout, *args, **kwargs)\u001b[0m\n\u001b[1;32m    335\u001b[0m     \u001b[0;32melse\u001b[0m\u001b[0;34m:\u001b[0m\u001b[0;34m\u001b[0m\u001b[0;34m\u001b[0m\u001b[0m\n\u001b[1;32m    336\u001b[0m         \u001b[0;32mwhile\u001b[0m \u001b[0;32mnot\u001b[0m \u001b[0me\u001b[0m\u001b[0;34m.\u001b[0m\u001b[0mis_set\u001b[0m\u001b[0;34m(\u001b[0m\u001b[0;34m)\u001b[0m\u001b[0;34m:\u001b[0m\u001b[0;34m\u001b[0m\u001b[0;34m\u001b[0m\u001b[0m\n\u001b[0;32m--> 337\u001b[0;31m             \u001b[0me\u001b[0m\u001b[0;34m.\u001b[0m\u001b[0mwait\u001b[0m\u001b[0;34m(\u001b[0m\u001b[0;36m10\u001b[0m\u001b[0;34m)\u001b[0m\u001b[0;34m\u001b[0m\u001b[0;34m\u001b[0m\u001b[0m\n\u001b[0m\u001b[1;32m    338\u001b[0m     \u001b[0;32mif\u001b[0m \u001b[0merror\u001b[0m\u001b[0;34m[\u001b[0m\u001b[0;36m0\u001b[0m\u001b[0;34m]\u001b[0m\u001b[0;34m:\u001b[0m\u001b[0;34m\u001b[0m\u001b[0;34m\u001b[0m\u001b[0m\n\u001b[1;32m    339\u001b[0m         \u001b[0mtyp\u001b[0m\u001b[0;34m,\u001b[0m \u001b[0mexc\u001b[0m\u001b[0;34m,\u001b[0m \u001b[0mtb\u001b[0m \u001b[0;34m=\u001b[0m \u001b[0merror\u001b[0m\u001b[0;34m[\u001b[0m\u001b[0;36m0\u001b[0m\u001b[0;34m]\u001b[0m\u001b[0;34m\u001b[0m\u001b[0;34m\u001b[0m\u001b[0m\n",
      "\u001b[0;32m/opt/conda/lib/python3.8/threading.py\u001b[0m in \u001b[0;36mwait\u001b[0;34m(self, timeout)\u001b[0m\n\u001b[1;32m    556\u001b[0m             \u001b[0msignaled\u001b[0m \u001b[0;34m=\u001b[0m \u001b[0mself\u001b[0m\u001b[0;34m.\u001b[0m\u001b[0m_flag\u001b[0m\u001b[0;34m\u001b[0m\u001b[0;34m\u001b[0m\u001b[0m\n\u001b[1;32m    557\u001b[0m             \u001b[0;32mif\u001b[0m \u001b[0;32mnot\u001b[0m \u001b[0msignaled\u001b[0m\u001b[0;34m:\u001b[0m\u001b[0;34m\u001b[0m\u001b[0;34m\u001b[0m\u001b[0m\n\u001b[0;32m--> 558\u001b[0;31m                 \u001b[0msignaled\u001b[0m \u001b[0;34m=\u001b[0m \u001b[0mself\u001b[0m\u001b[0;34m.\u001b[0m\u001b[0m_cond\u001b[0m\u001b[0;34m.\u001b[0m\u001b[0mwait\u001b[0m\u001b[0;34m(\u001b[0m\u001b[0mtimeout\u001b[0m\u001b[0;34m)\u001b[0m\u001b[0;34m\u001b[0m\u001b[0;34m\u001b[0m\u001b[0m\n\u001b[0m\u001b[1;32m    559\u001b[0m             \u001b[0;32mreturn\u001b[0m \u001b[0msignaled\u001b[0m\u001b[0;34m\u001b[0m\u001b[0;34m\u001b[0m\u001b[0m\n\u001b[1;32m    560\u001b[0m \u001b[0;34m\u001b[0m\u001b[0m\n",
      "\u001b[0;32m/opt/conda/lib/python3.8/threading.py\u001b[0m in \u001b[0;36mwait\u001b[0;34m(self, timeout)\u001b[0m\n\u001b[1;32m    304\u001b[0m             \u001b[0;32melse\u001b[0m\u001b[0;34m:\u001b[0m\u001b[0;34m\u001b[0m\u001b[0;34m\u001b[0m\u001b[0m\n\u001b[1;32m    305\u001b[0m                 \u001b[0;32mif\u001b[0m \u001b[0mtimeout\u001b[0m \u001b[0;34m>\u001b[0m \u001b[0;36m0\u001b[0m\u001b[0;34m:\u001b[0m\u001b[0;34m\u001b[0m\u001b[0;34m\u001b[0m\u001b[0m\n\u001b[0;32m--> 306\u001b[0;31m                     \u001b[0mgotit\u001b[0m \u001b[0;34m=\u001b[0m \u001b[0mwaiter\u001b[0m\u001b[0;34m.\u001b[0m\u001b[0macquire\u001b[0m\u001b[0;34m(\u001b[0m\u001b[0;32mTrue\u001b[0m\u001b[0;34m,\u001b[0m \u001b[0mtimeout\u001b[0m\u001b[0;34m)\u001b[0m\u001b[0;34m\u001b[0m\u001b[0;34m\u001b[0m\u001b[0m\n\u001b[0m\u001b[1;32m    307\u001b[0m                 \u001b[0;32melse\u001b[0m\u001b[0;34m:\u001b[0m\u001b[0;34m\u001b[0m\u001b[0;34m\u001b[0m\u001b[0m\n\u001b[1;32m    308\u001b[0m                     \u001b[0mgotit\u001b[0m \u001b[0;34m=\u001b[0m \u001b[0mwaiter\u001b[0m\u001b[0;34m.\u001b[0m\u001b[0macquire\u001b[0m\u001b[0;34m(\u001b[0m\u001b[0;32mFalse\u001b[0m\u001b[0;34m)\u001b[0m\u001b[0;34m\u001b[0m\u001b[0;34m\u001b[0m\u001b[0m\n",
      "\u001b[0;31mKeyboardInterrupt\u001b[0m: "
     ]
    }
   ],
   "source": [
    "# app_list_path = os.path.join(outfolder, 'app_list.csv')\n",
    "# nodes_path = os.path.join(outfolder, 'nodes.json')\n",
    "# edge_path = os.path.join(outfolder, 'edges.csv')\n",
    "# graph_path = os.path.join(outfolder, 'graph.pkl')\n",
    "# feature_path = os.path.join(outfolder, 'features.csv')\n",
    "# app_heap_path = os.path.join('data', 'out', 'all-apps', 'app-data/')\n",
    "# metapath_walk_outpath = os.path.join(outfolder, 'metapath_walk.json')\n",
    "\n",
    "# # generate app list\n",
    "# apps_df = pd.read_csv(app_list_path)\n",
    "# app_data_list = app_heap_path + apps_df.app + '.csv'\n",
    "\n",
    "# with Client() as client, performance_report(os.path.join(outfolder, \"performance_report.html\")):\n",
    "#     print(f\"Dask Cluster: {client.cluster}\")\n",
    "#     print(f\"Dashboard port: {client.scheduler_info()['services']['dashboard']}\")\n",
    "\n",
    "#     data = dd.read_csv(list(app_data_list), dtype=str)\n",
    "#     pkg_info = data[['package', 'api']].groupby('package').package\n",
    "#     pkg_info = pkg_info.value_counts().compute()"
   ]
  },
  {
   "cell_type": "code",
   "execution_count": null,
   "id": "likely-philippines",
   "metadata": {},
   "outputs": [],
   "source": [
    "pkg_info"
   ]
  },
  {
   "cell_type": "code",
   "execution_count": 18,
   "id": "million-model",
   "metadata": {},
   "outputs": [
    {
     "data": {
      "text/plain": [
       "246035"
      ]
     },
     "execution_count": 18,
     "metadata": {},
     "output_type": "execute_result"
    }
   ],
   "source": [
    "pd.read_csv('../data/out/miniset-train/package_map.csv', index_col='uid').size"
   ]
  },
  {
   "cell_type": "code",
   "execution_count": 42,
   "id": "furnished-scale",
   "metadata": {},
   "outputs": [
    {
     "data": {
      "text/html": [
       "<div>\n",
       "<style scoped>\n",
       "    .dataframe tbody tr th:only-of-type {\n",
       "        vertical-align: middle;\n",
       "    }\n",
       "\n",
       "    .dataframe tbody tr th {\n",
       "        vertical-align: top;\n",
       "    }\n",
       "\n",
       "    .dataframe thead th {\n",
       "        text-align: right;\n",
       "    }\n",
       "</style>\n",
       "<table border=\"1\" class=\"dataframe\">\n",
       "  <thead>\n",
       "    <tr style=\"text-align: right;\">\n",
       "      <th></th>\n",
       "      <th>app</th>\n",
       "      <th>app_dir</th>\n",
       "      <th>category</th>\n",
       "    </tr>\n",
       "  </thead>\n",
       "  <tbody>\n",
       "    <tr>\n",
       "      <th>0</th>\n",
       "      <td>74b6098ac92ee92b54b5aefc8ecd5325</td>\n",
       "      <td>/teams/DSC180A_FA20_A00/a04malware/malware/Fak...</td>\n",
       "      <td>malware</td>\n",
       "    </tr>\n",
       "    <tr>\n",
       "      <th>1</th>\n",
       "      <td>34a34f03ebe76911b0f51c30bbc34b21</td>\n",
       "      <td>/teams/DSC180A_FA20_A00/a04malware/malware/Fak...</td>\n",
       "      <td>malware</td>\n",
       "    </tr>\n",
       "    <tr>\n",
       "      <th>2</th>\n",
       "      <td>373ed7aa5c726d29483a9d4aee692dbb</td>\n",
       "      <td>/teams/DSC180A_FA20_A00/a04malware/malware/Sim...</td>\n",
       "      <td>malware</td>\n",
       "    </tr>\n",
       "    <tr>\n",
       "      <th>3</th>\n",
       "      <td>com.gamevilusa.mlbpilive.android.google.global...</td>\n",
       "      <td>/teams/DSC180A_FA20_A00/a04malware/popular-app...</td>\n",
       "      <td>popular-apps</td>\n",
       "    </tr>\n",
       "    <tr>\n",
       "      <th>4</th>\n",
       "      <td>0f65a914c13a88fe561cf28d028919ac</td>\n",
       "      <td>/teams/DSC180A_FA20_A00/a04malware/malware/Fak...</td>\n",
       "      <td>malware</td>\n",
       "    </tr>\n",
       "    <tr>\n",
       "      <th>...</th>\n",
       "      <td>...</td>\n",
       "      <td>...</td>\n",
       "      <td>...</td>\n",
       "    </tr>\n",
       "    <tr>\n",
       "      <th>443</th>\n",
       "      <td>com.perblue.portalquest</td>\n",
       "      <td>/teams/DSC180A_FA20_A00/a04malware/popular-app...</td>\n",
       "      <td>popular-apps</td>\n",
       "    </tr>\n",
       "    <tr>\n",
       "      <th>444</th>\n",
       "      <td>80efa7feee3aa5da064db9f6b9092eb5</td>\n",
       "      <td>/teams/DSC180A_FA20_A00/a04malware/malware/Fak...</td>\n",
       "      <td>malware</td>\n",
       "    </tr>\n",
       "    <tr>\n",
       "      <th>445</th>\n",
       "      <td>7c5f4c915cb0017ec41d0aebfccfbbcf</td>\n",
       "      <td>/teams/DSC180A_FA20_A00/a04malware/malware/Sim...</td>\n",
       "      <td>malware</td>\n",
       "    </tr>\n",
       "    <tr>\n",
       "      <th>446</th>\n",
       "      <td>ec43a0cc9d22d738ecd9f21bf53e6756</td>\n",
       "      <td>/teams/DSC180A_FA20_A00/a04malware/malware/Gin...</td>\n",
       "      <td>malware</td>\n",
       "    </tr>\n",
       "    <tr>\n",
       "      <th>447</th>\n",
       "      <td>com.skillsoft.learn.android</td>\n",
       "      <td>/teams/DSC180A_FA20_A00/a04malware/popular-app...</td>\n",
       "      <td>popular-apps</td>\n",
       "    </tr>\n",
       "  </tbody>\n",
       "</table>\n",
       "<p>448 rows × 3 columns</p>\n",
       "</div>"
      ],
      "text/plain": [
       "                                                   app  \\\n",
       "0                     74b6098ac92ee92b54b5aefc8ecd5325   \n",
       "1                     34a34f03ebe76911b0f51c30bbc34b21   \n",
       "2                     373ed7aa5c726d29483a9d4aee692dbb   \n",
       "3    com.gamevilusa.mlbpilive.android.google.global...   \n",
       "4                     0f65a914c13a88fe561cf28d028919ac   \n",
       "..                                                 ...   \n",
       "443                            com.perblue.portalquest   \n",
       "444                   80efa7feee3aa5da064db9f6b9092eb5   \n",
       "445                   7c5f4c915cb0017ec41d0aebfccfbbcf   \n",
       "446                   ec43a0cc9d22d738ecd9f21bf53e6756   \n",
       "447                        com.skillsoft.learn.android   \n",
       "\n",
       "                                               app_dir      category  \n",
       "0    /teams/DSC180A_FA20_A00/a04malware/malware/Fak...       malware  \n",
       "1    /teams/DSC180A_FA20_A00/a04malware/malware/Fak...       malware  \n",
       "2    /teams/DSC180A_FA20_A00/a04malware/malware/Sim...       malware  \n",
       "3    /teams/DSC180A_FA20_A00/a04malware/popular-app...  popular-apps  \n",
       "4    /teams/DSC180A_FA20_A00/a04malware/malware/Fak...       malware  \n",
       "..                                                 ...           ...  \n",
       "443  /teams/DSC180A_FA20_A00/a04malware/popular-app...  popular-apps  \n",
       "444  /teams/DSC180A_FA20_A00/a04malware/malware/Fak...       malware  \n",
       "445  /teams/DSC180A_FA20_A00/a04malware/malware/Sim...       malware  \n",
       "446  /teams/DSC180A_FA20_A00/a04malware/malware/Gin...       malware  \n",
       "447  /teams/DSC180A_FA20_A00/a04malware/popular-app...  popular-apps  \n",
       "\n",
       "[448 rows x 3 columns]"
      ]
     },
     "execution_count": 42,
     "metadata": {},
     "output_type": "execute_result"
    }
   ],
   "source": [
    "pd.read_csv('../data/out/miniset-train/app_list.csv')"
   ]
  },
  {
   "cell_type": "code",
   "execution_count": 5,
   "id": "radio-transcript",
   "metadata": {},
   "outputs": [],
   "source": [
    "for i in combinations([i for i in range(30_000)], r=2):\n",
    "    pass"
   ]
  },
  {
   "cell_type": "code",
   "execution_count": 12,
   "id": "primary-honey",
   "metadata": {},
   "outputs": [
    {
     "data": {
      "text/plain": [
       "<function math.factorial(x, /)>"
      ]
     },
     "execution_count": 12,
     "metadata": {},
     "output_type": "execute_result"
    }
   ],
   "source": [
    "np.math.factorial"
   ]
  },
  {
   "cell_type": "code",
   "execution_count": 15,
   "id": "boolean-lying",
   "metadata": {},
   "outputs": [],
   "source": [
    "n = 174000\n",
    "r = 2"
   ]
  },
  {
   "cell_type": "code",
   "execution_count": 17,
   "id": "imported-substitute",
   "metadata": {},
   "outputs": [
    {
     "data": {
      "text/plain": [
       "30275826000.0"
      ]
     },
     "execution_count": 17,
     "metadata": {},
     "output_type": "execute_result"
    }
   ],
   "source": [
    "np.math.factorial(n) / np.math.factorial(n-r)"
   ]
  },
  {
   "cell_type": "code",
   "execution_count": null,
   "id": "ignored-accountability",
   "metadata": {},
   "outputs": [],
   "source": [
    "sparse.csr(shape=(num_apis, num_apis))"
   ]
  },
  {
   "cell_type": "code",
   "execution_count": 20,
   "id": "threatened-discharge",
   "metadata": {},
   "outputs": [
    {
     "name": "stdout",
     "output_type": "stream",
     "text": [
      "17000: 1032132344 btyes2267512 btyes815511896 btyes917450928 btyes"
     ]
    },
    {
     "ename": "KeyboardInterrupt",
     "evalue": "",
     "output_type": "error",
     "traceback": [
      "\u001b[0;31m\u001b[0m",
      "\u001b[0;31mKeyboardInterrupt\u001b[0mTraceback (most recent call last)",
      "\u001b[0;32m<ipython-input-20-1c06711135d9>\u001b[0m in \u001b[0;36m<module>\u001b[0;34m\u001b[0m\n\u001b[1;32m      3\u001b[0m \u001b[0;32mfor\u001b[0m \u001b[0mi\u001b[0m \u001b[0;32min\u001b[0m \u001b[0mrange\u001b[0m\u001b[0;34m(\u001b[0m\u001b[0;36m1000\u001b[0m\u001b[0;34m,\u001b[0m \u001b[0;36m100000\u001b[0m\u001b[0;34m,\u001b[0m \u001b[0;36m1000\u001b[0m\u001b[0;34m)\u001b[0m\u001b[0;34m:\u001b[0m\u001b[0;34m\u001b[0m\u001b[0;34m\u001b[0m\u001b[0m\n\u001b[1;32m      4\u001b[0m     \u001b[0mprint\u001b[0m\u001b[0;34m(\u001b[0m\u001b[0;34mf'\\r{i}: '\u001b[0m\u001b[0;34m,\u001b[0m \u001b[0mend\u001b[0m\u001b[0;34m=\u001b[0m\u001b[0;34m''\u001b[0m\u001b[0;34m)\u001b[0m\u001b[0;34m\u001b[0m\u001b[0;34m\u001b[0m\u001b[0m\n\u001b[0;32m----> 5\u001b[0;31m     \u001b[0mprint\u001b[0m\u001b[0;34m(\u001b[0m\u001b[0;34mf'{sys.getsizeof(list(combinations(range(i), r=2)))} btyes'\u001b[0m\u001b[0;34m,\u001b[0m \u001b[0mend\u001b[0m\u001b[0;34m=\u001b[0m\u001b[0;34m''\u001b[0m\u001b[0;34m)\u001b[0m\u001b[0;34m\u001b[0m\u001b[0;34m\u001b[0m\u001b[0m\n\u001b[0m",
      "\u001b[0;31mKeyboardInterrupt\u001b[0m: "
     ]
    }
   ],
   "source": [
    "import sys\n",
    "\n",
    "for i in range(1000, 100000, 1000):\n",
    "    print(f'\\r{i}: ', end='')\n",
    "    print(f'{sys.getsizeof(list(combinations(range(i), r=2)))} btyes', end='')"
   ]
  },
  {
   "cell_type": "code",
   "execution_count": 35,
   "id": "increasing-drill",
   "metadata": {},
   "outputs": [],
   "source": [
    "num_apis = pd.Series({\n",
    "    'package1029': 12128,\n",
    "    'package119': 14488,\n",
    "    'package1269': 33490,\n",
    "    'package1294': 25454,\n",
    "    'package133': 10883,\n",
    "    'package139': 17335,\n",
    "    'package141621': 38315,\n",
    "    'package227134': 27881,\n",
    "    'package2276': 11418,\n",
    "    'package2363': 106893,\n",
    "    'package251': 174318,\n",
    "    'package2816': 18863,\n",
    "    'package286': 10675,\n",
    "    'package338': 10943,\n",
    "    'package580': 16923\n",
    "})"
   ]
  },
  {
   "cell_type": "code",
   "execution_count": 36,
   "id": "coastal-pulse",
   "metadata": {},
   "outputs": [],
   "source": [
    "pkg = pd.Series({'package1029': 'Lcom/google/protobuf',\n",
    "'package119': 'Landroidx/appcompat/widget',\n",
    "'package1269': 'Lcom/google/android/gms/internal/measurement',\n",
    "'package1294': 'Lcom/google/android/gms/measurement/internal',\n",
    "'package133': 'Landroidx/fragment/app',\n",
    "'package139': 'Landroidx/recyclerview/widget',\n",
    "'package141621': 'LX',\n",
    "'package227134': 'Lcal',\n",
    "'package2276': 'Lcom/vungle/publisher',\n",
    "'package2363': 'Lcom/google/android/gms/internal',\n",
    "'package251': 'Lcom/google/android/gms/internal/ads',\n",
    "'package2816': 'Lo',\n",
    "'package286': 'Lcom/google/android/gms/common/api/internal',\n",
    "'package338': 'Lcom/google/android/gms/games/internal',\n",
    "'package580': 'Landroid/support/v7/widget'})"
   ]
  },
  {
   "cell_type": "code",
   "execution_count": 40,
   "id": "overhead-justice",
   "metadata": {},
   "outputs": [
    {
     "data": {
      "text/html": [
       "<div>\n",
       "<style scoped>\n",
       "    .dataframe tbody tr th:only-of-type {\n",
       "        vertical-align: middle;\n",
       "    }\n",
       "\n",
       "    .dataframe tbody tr th {\n",
       "        vertical-align: top;\n",
       "    }\n",
       "\n",
       "    .dataframe thead th {\n",
       "        text-align: right;\n",
       "    }\n",
       "</style>\n",
       "<table border=\"1\" class=\"dataframe\">\n",
       "  <thead>\n",
       "    <tr style=\"text-align: right;\">\n",
       "      <th></th>\n",
       "      <th>pkg</th>\n",
       "      <th>num_apis</th>\n",
       "    </tr>\n",
       "  </thead>\n",
       "  <tbody>\n",
       "    <tr>\n",
       "      <th>package251</th>\n",
       "      <td>Lcom/google/android/gms/internal/ads</td>\n",
       "      <td>174318</td>\n",
       "    </tr>\n",
       "    <tr>\n",
       "      <th>package2363</th>\n",
       "      <td>Lcom/google/android/gms/internal</td>\n",
       "      <td>106893</td>\n",
       "    </tr>\n",
       "    <tr>\n",
       "      <th>package141621</th>\n",
       "      <td>LX</td>\n",
       "      <td>38315</td>\n",
       "    </tr>\n",
       "    <tr>\n",
       "      <th>package1269</th>\n",
       "      <td>Lcom/google/android/gms/internal/measurement</td>\n",
       "      <td>33490</td>\n",
       "    </tr>\n",
       "    <tr>\n",
       "      <th>package227134</th>\n",
       "      <td>Lcal</td>\n",
       "      <td>27881</td>\n",
       "    </tr>\n",
       "    <tr>\n",
       "      <th>package1294</th>\n",
       "      <td>Lcom/google/android/gms/measurement/internal</td>\n",
       "      <td>25454</td>\n",
       "    </tr>\n",
       "    <tr>\n",
       "      <th>package2816</th>\n",
       "      <td>Lo</td>\n",
       "      <td>18863</td>\n",
       "    </tr>\n",
       "    <tr>\n",
       "      <th>package139</th>\n",
       "      <td>Landroidx/recyclerview/widget</td>\n",
       "      <td>17335</td>\n",
       "    </tr>\n",
       "    <tr>\n",
       "      <th>package580</th>\n",
       "      <td>Landroid/support/v7/widget</td>\n",
       "      <td>16923</td>\n",
       "    </tr>\n",
       "    <tr>\n",
       "      <th>package119</th>\n",
       "      <td>Landroidx/appcompat/widget</td>\n",
       "      <td>14488</td>\n",
       "    </tr>\n",
       "    <tr>\n",
       "      <th>package1029</th>\n",
       "      <td>Lcom/google/protobuf</td>\n",
       "      <td>12128</td>\n",
       "    </tr>\n",
       "    <tr>\n",
       "      <th>package2276</th>\n",
       "      <td>Lcom/vungle/publisher</td>\n",
       "      <td>11418</td>\n",
       "    </tr>\n",
       "    <tr>\n",
       "      <th>package338</th>\n",
       "      <td>Lcom/google/android/gms/games/internal</td>\n",
       "      <td>10943</td>\n",
       "    </tr>\n",
       "    <tr>\n",
       "      <th>package133</th>\n",
       "      <td>Landroidx/fragment/app</td>\n",
       "      <td>10883</td>\n",
       "    </tr>\n",
       "    <tr>\n",
       "      <th>package286</th>\n",
       "      <td>Lcom/google/android/gms/common/api/internal</td>\n",
       "      <td>10675</td>\n",
       "    </tr>\n",
       "  </tbody>\n",
       "</table>\n",
       "</div>"
      ],
      "text/plain": [
       "                                                        pkg  num_apis\n",
       "package251             Lcom/google/android/gms/internal/ads    174318\n",
       "package2363                Lcom/google/android/gms/internal    106893\n",
       "package141621                                            LX     38315\n",
       "package1269    Lcom/google/android/gms/internal/measurement     33490\n",
       "package227134                                          Lcal     27881\n",
       "package1294    Lcom/google/android/gms/measurement/internal     25454\n",
       "package2816                                              Lo     18863\n",
       "package139                    Landroidx/recyclerview/widget     17335\n",
       "package580                       Landroid/support/v7/widget     16923\n",
       "package119                       Landroidx/appcompat/widget     14488\n",
       "package1029                            Lcom/google/protobuf     12128\n",
       "package2276                           Lcom/vungle/publisher     11418\n",
       "package338           Lcom/google/android/gms/games/internal     10943\n",
       "package133                           Landroidx/fragment/app     10883\n",
       "package286      Lcom/google/android/gms/common/api/internal     10675"
      ]
     },
     "execution_count": 40,
     "metadata": {},
     "output_type": "execute_result"
    }
   ],
   "source": [
    "pd.DataFrame().assign(pkg=pkg, num_apis=num_apis).sort_values('num_apis', ascending=False)"
   ]
  },
  {
   "cell_type": "code",
   "execution_count": null,
   "id": "molecular-potential",
   "metadata": {},
   "outputs": [],
   "source": []
  }
 ],
 "metadata": {
  "kernelspec": {
   "display_name": "Python 3",
   "language": "python",
   "name": "python3"
  },
  "language_info": {
   "codemirror_mode": {
    "name": "ipython",
    "version": 3
   },
   "file_extension": ".py",
   "mimetype": "text/x-python",
   "name": "python",
   "nbconvert_exporter": "python",
   "pygments_lexer": "ipython3",
   "version": "3.8.6"
  }
 },
 "nbformat": 4,
 "nbformat_minor": 5
}
