{
 "cells": [
  {
   "cell_type": "code",
   "execution_count": 14,
   "id": "filled-pierce",
   "metadata": {},
   "outputs": [],
   "source": [
    "import numpy as np\n",
    "import pandas as pd\n",
    "from IPython.display import clear_output\n",
    "from matplotlib import pyplot as plt\n",
    "import os\n",
    "from scipy import sparse\n",
    "import pickle\n",
    "\n",
    "from art import config\n",
    "from art.estimators.classification import BlackBoxClassifier, ClassGradientsMixin, ClassifierMixin\n",
    "from art.attacks.evasion import CarliniL2Method, SaliencyMapMethod\n",
    "from art.utils import to_categorical\n",
    "from art.utils import load_dataset, get_file, compute_accuracy"
   ]
  },
  {
   "cell_type": "code",
   "execution_count": 2,
   "id": "clean-press",
   "metadata": {},
   "outputs": [
    {
     "name": "stdout",
     "output_type": "stream",
     "text": [
      "/home/rcgonzal/DSC180Malware/m2v-adversarial-hindroid\r\n"
     ]
    }
   ],
   "source": [
    "os.chdir('/home/rcgonzal/DSC180Malware/m2v-adversarial-hindroid/')\n",
    "!pwd"
   ]
  },
  {
   "cell_type": "code",
   "execution_count": 3,
   "id": "seven-memorabilia",
   "metadata": {},
   "outputs": [],
   "source": [
    "base_data = os.path.join('data/out/miniset-train')"
   ]
  },
  {
   "cell_type": "code",
   "execution_count": 5,
   "id": "clean-nursing",
   "metadata": {},
   "outputs": [],
   "source": [
    "def get_hindroid_features(app, base_data):\n",
    "    if os.path.exists(app):\n",
    "        apis = pd.read_csv(app, usecols=['api'], squeeze=True, dtype=str).unique()\n",
    "    else:\n",
    "        try:\n",
    "            apis = pd.read_csv(os.path.join('data', 'out', 'all-apps', 'app-data', app+'.csv'), usecols=['api'], squeeze=True, dtype=str).unique()\n",
    "        except FileNotFoundError as e:\n",
    "            print(\"App not in app heap\")\n",
    "            raise e\n",
    "    \n",
    "    base_data_apis = pd.read_csv(os.path.join(base_data, 'api_map.csv'), index_col='api')\n",
    "    \n",
    "    A_row = pd.Series(np.zeros(base_data_apis.size), index=base_data_apis.index)\n",
    "    A_row.loc[set(apis).intersection(base_data_apis.index)] = 1\n",
    "    \n",
    "    return A_row.values"
   ]
  },
  {
   "cell_type": "code",
   "execution_count": 6,
   "id": "computational-baltimore",
   "metadata": {},
   "outputs": [
    {
     "data": {
      "text/plain": [
       "array([1., 0., 0., ..., 0., 0., 0.])"
      ]
     },
     "execution_count": 6,
     "metadata": {},
     "output_type": "execute_result"
    }
   ],
   "source": [
    "x = get_hindroid_features('com.microsoft.todos', base_data='data/out/miniset-train')\n",
    "x"
   ]
  },
  {
   "cell_type": "code",
   "execution_count": 7,
   "id": "express-criticism",
   "metadata": {},
   "outputs": [
    {
     "data": {
      "text/plain": [
       "array([0])"
      ]
     },
     "execution_count": 7,
     "metadata": {},
     "output_type": "execute_result"
    }
   ],
   "source": [
    "def ABA_predict(x):\n",
    "    A = sparse.load_npz(os.path.join(base_data, 'hindroid', 'A_mat.npz'))\n",
    "    B = sparse.load_npz(os.path.join(base_data, 'hindroid', 'B_mat.npz'))\n",
    "    \n",
    "    with open(os.path.join(base_data, 'hindroid', 'ABAT.mdl'), 'rb') as file:\n",
    "        mdl = pickle.load(file)\n",
    "    features = x * B * A.T\n",
    "    return mdl.predict([features,])\n",
    "\n",
    "ABA_predict(x)"
   ]
  },
  {
   "cell_type": "code",
   "execution_count": 8,
   "id": "italian-enzyme",
   "metadata": {},
   "outputs": [],
   "source": [
    "hindroid_blackbox = BlackBoxClassifier(ABA_predict, x.shape, 2, clip_values=(0, 1))"
   ]
  },
  {
   "cell_type": "code",
   "execution_count": 10,
   "id": "round-render",
   "metadata": {},
   "outputs": [
    {
     "ename": "EstimatorError",
     "evalue": "CarliniL2Method requires an estimator derived from <class 'art.estimators.estimator.BaseEstimator'> and <class 'art.estimators.classification.classifier.ClassGradientsMixin'>, the provided classifier is an instance of <class 'art.estimators.classification.blackbox.BlackBoxClassifier'> and is derived from (<class 'art.estimators.classification.classifier.Classifier'>,).",
     "output_type": "error",
     "traceback": [
      "\u001b[0;31m\u001b[0m",
      "\u001b[0;31mEstimatorError\u001b[0mTraceback (most recent call last)",
      "\u001b[0;32m<ipython-input-10-216bea7ee80f>\u001b[0m in \u001b[0;36m<module>\u001b[0;34m\u001b[0m\n\u001b[0;32m----> 1\u001b[0;31m \u001b[0mCarliniL2Method\u001b[0m\u001b[0;34m(\u001b[0m\u001b[0mhindroid_blackbox\u001b[0m\u001b[0;34m)\u001b[0m\u001b[0;34m\u001b[0m\u001b[0;34m\u001b[0m\u001b[0m\n\u001b[0m",
      "\u001b[0;32m/opt/conda/lib/python3.8/site-packages/art/attacks/evasion/carlini.py\u001b[0m in \u001b[0;36m__init__\u001b[0;34m(self, classifier, confidence, targeted, learning_rate, binary_search_steps, max_iter, initial_const, max_halving, max_doubling, batch_size, verbose)\u001b[0m\n\u001b[1;32m    111\u001b[0m         \u001b[0;34m:\u001b[0m\u001b[0mparam\u001b[0m \u001b[0mverbose\u001b[0m\u001b[0;34m:\u001b[0m \u001b[0mShow\u001b[0m \u001b[0mprogress\u001b[0m \u001b[0mbars\u001b[0m\u001b[0;34m.\u001b[0m\u001b[0;34m\u001b[0m\u001b[0;34m\u001b[0m\u001b[0m\n\u001b[1;32m    112\u001b[0m         \"\"\"\n\u001b[0;32m--> 113\u001b[0;31m         \u001b[0msuper\u001b[0m\u001b[0;34m(\u001b[0m\u001b[0;34m)\u001b[0m\u001b[0;34m.\u001b[0m\u001b[0m__init__\u001b[0m\u001b[0;34m(\u001b[0m\u001b[0mestimator\u001b[0m\u001b[0;34m=\u001b[0m\u001b[0mclassifier\u001b[0m\u001b[0;34m)\u001b[0m\u001b[0;34m\u001b[0m\u001b[0;34m\u001b[0m\u001b[0m\n\u001b[0m\u001b[1;32m    114\u001b[0m \u001b[0;34m\u001b[0m\u001b[0m\n\u001b[1;32m    115\u001b[0m         \u001b[0mself\u001b[0m\u001b[0;34m.\u001b[0m\u001b[0mconfidence\u001b[0m \u001b[0;34m=\u001b[0m \u001b[0mconfidence\u001b[0m\u001b[0;34m\u001b[0m\u001b[0;34m\u001b[0m\u001b[0m\n",
      "\u001b[0;32m/opt/conda/lib/python3.8/site-packages/art/attacks/attack.py\u001b[0m in \u001b[0;36m__init__\u001b[0;34m(self, **kwargs)\u001b[0m\n\u001b[1;32m    135\u001b[0m     \u001b[0;32mdef\u001b[0m \u001b[0m__init__\u001b[0m\u001b[0;34m(\u001b[0m\u001b[0mself\u001b[0m\u001b[0;34m,\u001b[0m \u001b[0;34m**\u001b[0m\u001b[0mkwargs\u001b[0m\u001b[0;34m)\u001b[0m \u001b[0;34m->\u001b[0m \u001b[0;32mNone\u001b[0m\u001b[0;34m:\u001b[0m\u001b[0;34m\u001b[0m\u001b[0;34m\u001b[0m\u001b[0m\n\u001b[1;32m    136\u001b[0m         \u001b[0mself\u001b[0m\u001b[0;34m.\u001b[0m\u001b[0m_targeted\u001b[0m \u001b[0;34m=\u001b[0m \u001b[0;32mFalse\u001b[0m\u001b[0;34m\u001b[0m\u001b[0;34m\u001b[0m\u001b[0m\n\u001b[0;32m--> 137\u001b[0;31m         \u001b[0msuper\u001b[0m\u001b[0;34m(\u001b[0m\u001b[0;34m)\u001b[0m\u001b[0;34m.\u001b[0m\u001b[0m__init__\u001b[0m\u001b[0;34m(\u001b[0m\u001b[0;34m**\u001b[0m\u001b[0mkwargs\u001b[0m\u001b[0;34m)\u001b[0m\u001b[0;34m\u001b[0m\u001b[0;34m\u001b[0m\u001b[0m\n\u001b[0m\u001b[1;32m    138\u001b[0m \u001b[0;34m\u001b[0m\u001b[0m\n\u001b[1;32m    139\u001b[0m     \u001b[0;34m@\u001b[0m\u001b[0mabc\u001b[0m\u001b[0;34m.\u001b[0m\u001b[0mabstractmethod\u001b[0m\u001b[0;34m\u001b[0m\u001b[0;34m\u001b[0m\u001b[0m\n",
      "\u001b[0;32m/opt/conda/lib/python3.8/site-packages/art/attacks/attack.py\u001b[0m in \u001b[0;36m__init__\u001b[0;34m(self, estimator)\u001b[0m\n\u001b[1;32m    101\u001b[0m \u001b[0;34m\u001b[0m\u001b[0m\n\u001b[1;32m    102\u001b[0m         \u001b[0;32mif\u001b[0m \u001b[0;32mnot\u001b[0m \u001b[0mall\u001b[0m\u001b[0;34m(\u001b[0m\u001b[0mt\u001b[0m \u001b[0;32min\u001b[0m \u001b[0mtype\u001b[0m\u001b[0;34m(\u001b[0m\u001b[0mestimator\u001b[0m\u001b[0;34m)\u001b[0m\u001b[0;34m.\u001b[0m\u001b[0m__mro__\u001b[0m \u001b[0;32mfor\u001b[0m \u001b[0mt\u001b[0m \u001b[0;32min\u001b[0m \u001b[0mself\u001b[0m\u001b[0;34m.\u001b[0m\u001b[0mestimator_requirements\u001b[0m\u001b[0;34m)\u001b[0m\u001b[0;34m:\u001b[0m\u001b[0;34m\u001b[0m\u001b[0;34m\u001b[0m\u001b[0m\n\u001b[0;32m--> 103\u001b[0;31m             \u001b[0;32mraise\u001b[0m \u001b[0mEstimatorError\u001b[0m\u001b[0;34m(\u001b[0m\u001b[0mself\u001b[0m\u001b[0;34m.\u001b[0m\u001b[0m__class__\u001b[0m\u001b[0;34m,\u001b[0m \u001b[0mself\u001b[0m\u001b[0;34m.\u001b[0m\u001b[0mestimator_requirements\u001b[0m\u001b[0;34m,\u001b[0m \u001b[0mestimator\u001b[0m\u001b[0;34m)\u001b[0m\u001b[0;34m\u001b[0m\u001b[0;34m\u001b[0m\u001b[0m\n\u001b[0m\u001b[1;32m    104\u001b[0m \u001b[0;34m\u001b[0m\u001b[0m\n\u001b[1;32m    105\u001b[0m         \u001b[0mself\u001b[0m\u001b[0;34m.\u001b[0m\u001b[0m_estimator\u001b[0m \u001b[0;34m=\u001b[0m \u001b[0mestimator\u001b[0m\u001b[0;34m\u001b[0m\u001b[0;34m\u001b[0m\u001b[0m\n",
      "\u001b[0;31mEstimatorError\u001b[0m: CarliniL2Method requires an estimator derived from <class 'art.estimators.estimator.BaseEstimator'> and <class 'art.estimators.classification.classifier.ClassGradientsMixin'>, the provided classifier is an instance of <class 'art.estimators.classification.blackbox.BlackBoxClassifier'> and is derived from (<class 'art.estimators.classification.classifier.Classifier'>,)."
     ]
    }
   ],
   "source": [
    "CarliniL2Method(hindroid_blackbox)"
   ]
  },
  {
   "cell_type": "code",
   "execution_count": 12,
   "id": "assisted-population",
   "metadata": {},
   "outputs": [],
   "source": [
    "ClassGradientsMixin?"
   ]
  },
  {
   "cell_type": "code",
   "execution_count": 15,
   "id": "enhanced-button",
   "metadata": {},
   "outputs": [],
   "source": [
    "ClassifierMixin?"
   ]
  },
  {
   "cell_type": "code",
   "execution_count": null,
   "id": "measured-portfolio",
   "metadata": {},
   "outputs": [],
   "source": []
  }
 ],
 "metadata": {
  "kernelspec": {
   "display_name": "Python 3",
   "language": "python",
   "name": "python3"
  },
  "language_info": {
   "codemirror_mode": {
    "name": "ipython",
    "version": 3
   },
   "file_extension": ".py",
   "mimetype": "text/x-python",
   "name": "python",
   "nbconvert_exporter": "python",
   "pygments_lexer": "ipython3",
   "version": "3.8.6"
  }
 },
 "nbformat": 4,
 "nbformat_minor": 5
}
