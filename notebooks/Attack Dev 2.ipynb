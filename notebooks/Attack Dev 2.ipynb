{
 "cells": [
  {
   "cell_type": "code",
   "execution_count": 1,
   "id": "filled-pierce",
   "metadata": {},
   "outputs": [],
   "source": [
    "import numpy as np\n",
    "import pandas as pd\n",
    "from IPython.display import clear_output\n",
    "from matplotlib import pyplot as plt\n",
    "import os\n",
    "from scipy import sparse\n",
    "import pickle\n",
    "import sys\n",
    "from functools import partial\n",
    "\n",
    "from art import config\n",
    "from art.estimators.classification import BlackBoxClassifier, ClassGradientsMixin, ClassifierMixin, SklearnClassifier\n",
    "from art.attacks.evasion import CarliniL2Method, SaliencyMapMethod, ZooAttack\n",
    "from art.utils import to_categorical\n",
    "from art.utils import load_dataset, get_file, compute_accuracy"
   ]
  },
  {
   "cell_type": "code",
   "execution_count": 2,
   "id": "clean-press",
   "metadata": {},
   "outputs": [
    {
     "name": "stdout",
     "output_type": "stream",
     "text": [
      "/home/rcgonzal/DSC180Malware/m2v-adversarial-hindroid\r\n"
     ]
    }
   ],
   "source": [
    "os.chdir('/home/rcgonzal/DSC180Malware/m2v-adversarial-hindroid/')\n",
    "!pwd"
   ]
  },
  {
   "cell_type": "code",
   "execution_count": 3,
   "id": "seven-memorabilia",
   "metadata": {},
   "outputs": [],
   "source": [
    "base_data = os.path.join('data/out/miniset-train')"
   ]
  },
  {
   "cell_type": "code",
   "execution_count": 4,
   "id": "clean-nursing",
   "metadata": {},
   "outputs": [],
   "source": [
    "def get_hindroid_features(app, base_data):\n",
    "    if os.path.exists(app):\n",
    "        apis = pd.read_csv(app, usecols=['api'], squeeze=True, dtype=str).unique()\n",
    "    else:\n",
    "        try:\n",
    "            apis = pd.read_csv(os.path.join('data', 'out', 'all-apps', 'app-data', app+'.csv'), usecols=['api'], squeeze=True, dtype=str).unique()\n",
    "        except FileNotFoundError as e:\n",
    "            print(\"App not in app heap\")\n",
    "            raise e\n",
    "    \n",
    "    base_data_apis = pd.read_csv(os.path.join(base_data, 'api_map.csv'), index_col='api')\n",
    "    \n",
    "    A_row = pd.Series(np.zeros(base_data_apis.size), index=base_data_apis.index)\n",
    "    A_row.loc[set(apis).intersection(base_data_apis.index)] = 1\n",
    "    \n",
    "    return A_row.values"
   ]
  },
  {
   "cell_type": "code",
   "execution_count": 18,
   "id": "dressed-census",
   "metadata": {},
   "outputs": [
    {
     "data": {
      "text/plain": [
       "array([[1., 0., 0., ..., 0., 0., 0.],\n",
       "       [1., 0., 0., ..., 0., 0., 0.],\n",
       "       [1., 0., 0., ..., 0., 0., 0.],\n",
       "       ...,\n",
       "       [1., 0., 0., ..., 0., 0., 0.],\n",
       "       [1., 0., 0., ..., 0., 0., 0.],\n",
       "       [1., 0., 0., ..., 0., 0., 0.]])"
      ]
     },
     "execution_count": 18,
     "metadata": {},
     "output_type": "execute_result"
    }
   ],
   "source": [
    "test_apps = pd.read_csv('data/out/miniset-test/app_list.csv')\n",
    "test_apps = test_apps.sample(100).app\n",
    "test_apps_features = np.array([get_hindroid_features(app, base_data='data/out/miniset-train') for app in test_apps])\n",
    "test_apps_features"
   ]
  },
  {
   "cell_type": "code",
   "execution_count": 6,
   "id": "impressive-chicken",
   "metadata": {},
   "outputs": [
    {
     "data": {
      "text/plain": [
       "(5, 2547149)"
      ]
     },
     "execution_count": 6,
     "metadata": {},
     "output_type": "execute_result"
    }
   ],
   "source": [
    "test_apps_features.shape"
   ]
  },
  {
   "cell_type": "code",
   "execution_count": 7,
   "id": "computational-baltimore",
   "metadata": {},
   "outputs": [
    {
     "data": {
      "text/plain": [
       "array([1., 0., 0., ..., 0., 0., 0.])"
      ]
     },
     "execution_count": 7,
     "metadata": {},
     "output_type": "execute_result"
    }
   ],
   "source": [
    "x = get_hindroid_features('com.microsoft.todos', base_data='data/out/miniset-train')\n",
    "x"
   ]
  },
  {
   "cell_type": "code",
   "execution_count": 9,
   "id": "express-criticism",
   "metadata": {},
   "outputs": [
    {
     "name": "stdout",
     "output_type": "stream",
     "text": [
      "Prediction\n"
     ]
    },
    {
     "data": {
      "text/plain": [
       "array([0])"
      ]
     },
     "execution_count": 9,
     "metadata": {},
     "output_type": "execute_result"
    }
   ],
   "source": [
    "A = sparse.load_npz(os.path.join(base_data, 'hindroid', 'A_mat.npz'))\n",
    "B = sparse.load_npz(os.path.join(base_data, 'hindroid', 'B_mat.npz'))\n",
    "with open(os.path.join(base_data, 'hindroid', 'ABAT.mdl'), 'rb') as file:\n",
    "    mdl = pickle.load(file)\n",
    "\n",
    "def ABA_predict(x):\n",
    "    print(f'Prediction', file=sys.stdout)\n",
    "    features = x * B * A.T\n",
    "    return mdl.predict(features)\n",
    "    \n",
    "ABA_predict([x,])"
   ]
  },
  {
   "cell_type": "code",
   "execution_count": 10,
   "id": "silver-montgomery",
   "metadata": {},
   "outputs": [
    {
     "name": "stdout",
     "output_type": "stream",
     "text": [
      "Prediction\n"
     ]
    },
    {
     "data": {
      "text/plain": [
       "array([1, 1, 1, 1, 1])"
      ]
     },
     "execution_count": 10,
     "metadata": {},
     "output_type": "execute_result"
    }
   ],
   "source": [
    "ABA_predict(test_apps_features)"
   ]
  },
  {
   "cell_type": "code",
   "execution_count": 37,
   "id": "italian-enzyme",
   "metadata": {},
   "outputs": [],
   "source": [
    "hindroid_blackbox = BlackBoxClassifier(ABA_predict, x.shape, 2, clip_values=(0, 1))"
   ]
  },
  {
   "cell_type": "code",
   "execution_count": 49,
   "id": "round-render",
   "metadata": {},
   "outputs": [],
   "source": [
    "zoo = ZooAttack(hindroid_blackbox, confidence=0.1, targeted=False, learning_rate=1e-1, max_iter=100,\n",
    "                binary_search_steps=20, initial_const=1e-3, abort_early=True, use_resize=False, \n",
    "                use_importance=False, nb_parallel=10, batch_size=1, variable_h=0.25)"
   ]
  },
  {
   "cell_type": "code",
   "execution_count": 50,
   "id": "oriental-worst",
   "metadata": {
    "scrolled": true
   },
   "outputs": [
    {
     "name": "stdout",
     "output_type": "stream",
     "text": [
      "Prediction\n",
      "Prediction\n",
      "Prediction\n",
      "Prediction\n",
      "Prediction\n"
     ]
    },
    {
     "data": {
      "application/vnd.jupyter.widget-view+json": {
       "model_id": "988821123f0748b49b8e05bcdc1f983e",
       "version_major": 2,
       "version_minor": 0
      },
      "text/plain": [
       "ZOO:   0%|          | 0/5 [00:00<?, ?it/s]"
      ]
     },
     "metadata": {},
     "output_type": "display_data"
    },
    {
     "name": "stdout",
     "output_type": "stream",
     "text": [
      "Prediction\n",
      "Prediction\n",
      "Prediction\n",
      "Prediction\n",
      "Prediction\n",
      "Prediction\n",
      "Prediction\n",
      "Prediction\n",
      "Prediction\n",
      "Prediction\n",
      "Prediction\n",
      "Prediction\n",
      "Prediction\n",
      "Prediction\n",
      "Prediction\n",
      "Prediction\n",
      "Prediction\n",
      "Prediction\n",
      "Prediction\n",
      "Prediction\n",
      "Prediction\n",
      "Prediction\n",
      "Prediction\n",
      "Prediction\n",
      "Prediction\n",
      "Prediction\n",
      "Prediction\n",
      "Prediction\n",
      "Prediction\n",
      "Prediction\n",
      "Prediction\n",
      "Prediction\n",
      "Prediction\n",
      "Prediction\n",
      "Prediction\n",
      "Prediction\n",
      "Prediction\n",
      "Prediction\n",
      "Prediction\n",
      "Prediction\n",
      "Prediction\n",
      "Prediction\n",
      "Prediction\n",
      "Prediction\n",
      "Prediction\n",
      "Prediction\n",
      "Prediction\n",
      "Prediction\n",
      "Prediction\n",
      "Prediction\n",
      "Prediction\n",
      "Prediction\n",
      "Prediction\n",
      "Prediction\n",
      "Prediction\n",
      "Prediction\n",
      "Prediction\n",
      "Prediction\n",
      "Prediction\n",
      "Prediction\n",
      "Prediction\n",
      "Prediction\n",
      "Prediction\n",
      "Prediction\n",
      "Prediction\n",
      "Prediction\n",
      "Prediction\n",
      "Prediction\n",
      "Prediction\n",
      "Prediction\n",
      "Prediction\n",
      "Prediction\n",
      "Prediction\n",
      "Prediction\n",
      "Prediction\n",
      "Prediction\n",
      "Prediction\n",
      "Prediction\n",
      "Prediction\n",
      "Prediction\n",
      "Prediction\n",
      "Prediction\n",
      "Prediction\n",
      "Prediction\n",
      "Prediction\n",
      "Prediction\n",
      "Prediction\n",
      "Prediction\n",
      "Prediction\n",
      "Prediction\n",
      "Prediction\n",
      "Prediction\n",
      "Prediction\n",
      "Prediction\n",
      "Prediction\n",
      "Prediction\n",
      "Prediction\n",
      "Prediction\n",
      "Prediction\n",
      "Prediction\n",
      "Prediction\n",
      "Prediction\n",
      "Prediction\n",
      "Prediction\n",
      "Prediction\n",
      "Prediction\n",
      "Prediction\n",
      "Prediction\n",
      "Prediction\n",
      "Prediction\n",
      "Prediction\n",
      "Prediction\n",
      "Prediction\n",
      "Prediction\n",
      "Prediction\n",
      "Prediction\n",
      "Prediction\n",
      "Prediction\n",
      "Prediction\n",
      "Prediction\n",
      "Prediction\n",
      "Prediction\n",
      "Prediction\n",
      "Prediction\n",
      "Prediction\n",
      "Prediction\n"
     ]
    },
    {
     "ename": "KeyboardInterrupt",
     "evalue": "",
     "output_type": "error",
     "traceback": [
      "\u001b[0;31m\u001b[0m",
      "\u001b[0;31mKeyboardInterrupt\u001b[0mTraceback (most recent call last)",
      "\u001b[0;32m<timed exec>\u001b[0m in \u001b[0;36m<module>\u001b[0;34m\u001b[0m\n",
      "\u001b[0;32m/opt/conda/lib/python3.8/site-packages/art/attacks/attack.py\u001b[0m in \u001b[0;36mreplacement_function\u001b[0;34m(self, *args, **kwargs)\u001b[0m\n\u001b[1;32m     72\u001b[0m                 \u001b[0;32mif\u001b[0m \u001b[0mlen\u001b[0m\u001b[0;34m(\u001b[0m\u001b[0margs\u001b[0m\u001b[0;34m)\u001b[0m \u001b[0;34m>\u001b[0m \u001b[0;36m0\u001b[0m\u001b[0;34m:\u001b[0m\u001b[0;34m\u001b[0m\u001b[0;34m\u001b[0m\u001b[0m\n\u001b[1;32m     73\u001b[0m                     \u001b[0margs\u001b[0m \u001b[0;34m=\u001b[0m \u001b[0mtuple\u001b[0m\u001b[0;34m(\u001b[0m\u001b[0mlst\u001b[0m\u001b[0;34m)\u001b[0m\u001b[0;34m\u001b[0m\u001b[0;34m\u001b[0m\u001b[0m\n\u001b[0;32m---> 74\u001b[0;31m                 \u001b[0;32mreturn\u001b[0m \u001b[0mfdict\u001b[0m\u001b[0;34m[\u001b[0m\u001b[0mfunc_name\u001b[0m\u001b[0;34m]\u001b[0m\u001b[0;34m(\u001b[0m\u001b[0mself\u001b[0m\u001b[0;34m,\u001b[0m \u001b[0;34m*\u001b[0m\u001b[0margs\u001b[0m\u001b[0;34m,\u001b[0m \u001b[0;34m**\u001b[0m\u001b[0mkwargs\u001b[0m\u001b[0;34m)\u001b[0m\u001b[0;34m\u001b[0m\u001b[0;34m\u001b[0m\u001b[0m\n\u001b[0m\u001b[1;32m     75\u001b[0m \u001b[0;34m\u001b[0m\u001b[0m\n\u001b[1;32m     76\u001b[0m             \u001b[0mreplacement_function\u001b[0m\u001b[0;34m.\u001b[0m\u001b[0m__doc__\u001b[0m \u001b[0;34m=\u001b[0m \u001b[0mfdict\u001b[0m\u001b[0;34m[\u001b[0m\u001b[0mfunc_name\u001b[0m\u001b[0;34m]\u001b[0m\u001b[0;34m.\u001b[0m\u001b[0m__doc__\u001b[0m\u001b[0;34m\u001b[0m\u001b[0;34m\u001b[0m\u001b[0m\n",
      "\u001b[0;32m/opt/conda/lib/python3.8/site-packages/art/attacks/evasion/zoo.py\u001b[0m in \u001b[0;36mgenerate\u001b[0;34m(self, x, y, **kwargs)\u001b[0m\n\u001b[1;32m    224\u001b[0m             \u001b[0mx_batch\u001b[0m \u001b[0;34m=\u001b[0m \u001b[0mx\u001b[0m\u001b[0;34m[\u001b[0m\u001b[0mbatch_index_1\u001b[0m\u001b[0;34m:\u001b[0m\u001b[0mbatch_index_2\u001b[0m\u001b[0;34m]\u001b[0m\u001b[0;34m\u001b[0m\u001b[0;34m\u001b[0m\u001b[0m\n\u001b[1;32m    225\u001b[0m             \u001b[0my_batch\u001b[0m \u001b[0;34m=\u001b[0m \u001b[0my\u001b[0m\u001b[0;34m[\u001b[0m\u001b[0mbatch_index_1\u001b[0m\u001b[0;34m:\u001b[0m\u001b[0mbatch_index_2\u001b[0m\u001b[0;34m]\u001b[0m\u001b[0;34m\u001b[0m\u001b[0;34m\u001b[0m\u001b[0m\n\u001b[0;32m--> 226\u001b[0;31m             \u001b[0mres\u001b[0m \u001b[0;34m=\u001b[0m \u001b[0mself\u001b[0m\u001b[0;34m.\u001b[0m\u001b[0m_generate_batch\u001b[0m\u001b[0;34m(\u001b[0m\u001b[0mx_batch\u001b[0m\u001b[0;34m,\u001b[0m \u001b[0my_batch\u001b[0m\u001b[0;34m)\u001b[0m\u001b[0;34m\u001b[0m\u001b[0;34m\u001b[0m\u001b[0m\n\u001b[0m\u001b[1;32m    227\u001b[0m             \u001b[0mx_adv\u001b[0m\u001b[0;34m.\u001b[0m\u001b[0mappend\u001b[0m\u001b[0;34m(\u001b[0m\u001b[0mres\u001b[0m\u001b[0;34m)\u001b[0m\u001b[0;34m\u001b[0m\u001b[0;34m\u001b[0m\u001b[0m\n\u001b[1;32m    228\u001b[0m         \u001b[0mx_adv\u001b[0m \u001b[0;34m=\u001b[0m \u001b[0mnp\u001b[0m\u001b[0;34m.\u001b[0m\u001b[0mvstack\u001b[0m\u001b[0;34m(\u001b[0m\u001b[0mx_adv\u001b[0m\u001b[0;34m)\u001b[0m\u001b[0;34m\u001b[0m\u001b[0;34m\u001b[0m\u001b[0m\n",
      "\u001b[0;32m/opt/conda/lib/python3.8/site-packages/art/attacks/evasion/zoo.py\u001b[0m in \u001b[0;36m_generate_batch\u001b[0;34m(self, x_batch, y_batch)\u001b[0m\n\u001b[1;32m    265\u001b[0m \u001b[0;34m\u001b[0m\u001b[0m\n\u001b[1;32m    266\u001b[0m             \u001b[0;31m# Run with 1 specific binary search step\u001b[0m\u001b[0;34m\u001b[0m\u001b[0;34m\u001b[0m\u001b[0;34m\u001b[0m\u001b[0m\n\u001b[0;32m--> 267\u001b[0;31m             \u001b[0mbest_dist\u001b[0m\u001b[0;34m,\u001b[0m \u001b[0mbest_label\u001b[0m\u001b[0;34m,\u001b[0m \u001b[0mbest_attack\u001b[0m \u001b[0;34m=\u001b[0m \u001b[0mself\u001b[0m\u001b[0;34m.\u001b[0m\u001b[0m_generate_bss\u001b[0m\u001b[0;34m(\u001b[0m\u001b[0mx_batch\u001b[0m\u001b[0;34m,\u001b[0m \u001b[0my_batch\u001b[0m\u001b[0;34m,\u001b[0m \u001b[0mc_current\u001b[0m\u001b[0;34m)\u001b[0m\u001b[0;34m\u001b[0m\u001b[0;34m\u001b[0m\u001b[0m\n\u001b[0m\u001b[1;32m    268\u001b[0m \u001b[0;34m\u001b[0m\u001b[0m\n\u001b[1;32m    269\u001b[0m             \u001b[0;31m# Update best results so far\u001b[0m\u001b[0;34m\u001b[0m\u001b[0;34m\u001b[0m\u001b[0;34m\u001b[0m\u001b[0m\n",
      "\u001b[0;32m/opt/conda/lib/python3.8/site-packages/art/attacks/evasion/zoo.py\u001b[0m in \u001b[0;36m_generate_bss\u001b[0;34m(self, x_batch, y_batch, c_batch)\u001b[0m\n\u001b[1;32m    385\u001b[0m \u001b[0;34m\u001b[0m\u001b[0m\n\u001b[1;32m    386\u001b[0m             \u001b[0;31m# Compute adversarial examples and loss\u001b[0m\u001b[0;34m\u001b[0m\u001b[0;34m\u001b[0m\u001b[0;34m\u001b[0m\u001b[0m\n\u001b[0;32m--> 387\u001b[0;31m             \u001b[0mx_adv\u001b[0m \u001b[0;34m=\u001b[0m \u001b[0mself\u001b[0m\u001b[0;34m.\u001b[0m\u001b[0m_optimizer\u001b[0m\u001b[0;34m(\u001b[0m\u001b[0mx_adv\u001b[0m\u001b[0;34m,\u001b[0m \u001b[0my_batch\u001b[0m\u001b[0;34m,\u001b[0m \u001b[0mc_batch\u001b[0m\u001b[0;34m)\u001b[0m\u001b[0;34m\u001b[0m\u001b[0;34m\u001b[0m\u001b[0m\n\u001b[0m\u001b[1;32m    388\u001b[0m             \u001b[0mpreds\u001b[0m\u001b[0;34m,\u001b[0m \u001b[0ml2dist\u001b[0m\u001b[0;34m,\u001b[0m \u001b[0mloss\u001b[0m \u001b[0;34m=\u001b[0m \u001b[0mself\u001b[0m\u001b[0;34m.\u001b[0m\u001b[0m_loss\u001b[0m\u001b[0;34m(\u001b[0m\u001b[0mx_orig\u001b[0m\u001b[0;34m,\u001b[0m \u001b[0mx_adv\u001b[0m\u001b[0;34m,\u001b[0m \u001b[0my_batch\u001b[0m\u001b[0;34m,\u001b[0m \u001b[0mc_batch\u001b[0m\u001b[0;34m)\u001b[0m\u001b[0;34m\u001b[0m\u001b[0;34m\u001b[0m\u001b[0m\n\u001b[1;32m    389\u001b[0m \u001b[0;34m\u001b[0m\u001b[0m\n",
      "\u001b[0;32m/opt/conda/lib/python3.8/site-packages/art/attacks/evasion/zoo.py\u001b[0m in \u001b[0;36m_optimizer\u001b[0;34m(self, x, targets, c_batch)\u001b[0m\n\u001b[1;32m    459\u001b[0m         \u001b[0mexpanded_targets\u001b[0m \u001b[0;34m=\u001b[0m \u001b[0mnp\u001b[0m\u001b[0;34m.\u001b[0m\u001b[0mrepeat\u001b[0m\u001b[0;34m(\u001b[0m\u001b[0mtargets\u001b[0m\u001b[0;34m,\u001b[0m \u001b[0;36m2\u001b[0m \u001b[0;34m*\u001b[0m \u001b[0mself\u001b[0m\u001b[0;34m.\u001b[0m\u001b[0mnb_parallel\u001b[0m\u001b[0;34m,\u001b[0m \u001b[0maxis\u001b[0m\u001b[0;34m=\u001b[0m\u001b[0;36m0\u001b[0m\u001b[0;34m)\u001b[0m\u001b[0;34m.\u001b[0m\u001b[0mreshape\u001b[0m\u001b[0;34m(\u001b[0m\u001b[0;34m(\u001b[0m\u001b[0;34m-\u001b[0m\u001b[0;36m1\u001b[0m\u001b[0;34m,\u001b[0m\u001b[0;34m)\u001b[0m \u001b[0;34m+\u001b[0m \u001b[0mtargets\u001b[0m\u001b[0;34m.\u001b[0m\u001b[0mshape\u001b[0m\u001b[0;34m[\u001b[0m\u001b[0;36m1\u001b[0m\u001b[0;34m:\u001b[0m\u001b[0;34m]\u001b[0m\u001b[0;34m)\u001b[0m\u001b[0;34m\u001b[0m\u001b[0;34m\u001b[0m\u001b[0m\n\u001b[1;32m    460\u001b[0m         \u001b[0mexpanded_c\u001b[0m \u001b[0;34m=\u001b[0m \u001b[0mnp\u001b[0m\u001b[0;34m.\u001b[0m\u001b[0mrepeat\u001b[0m\u001b[0;34m(\u001b[0m\u001b[0mc_batch\u001b[0m\u001b[0;34m,\u001b[0m \u001b[0;36m2\u001b[0m \u001b[0;34m*\u001b[0m \u001b[0mself\u001b[0m\u001b[0;34m.\u001b[0m\u001b[0mnb_parallel\u001b[0m\u001b[0;34m)\u001b[0m\u001b[0;34m\u001b[0m\u001b[0;34m\u001b[0m\u001b[0m\n\u001b[0;32m--> 461\u001b[0;31m         _, _, loss = self._loss(\n\u001b[0m\u001b[1;32m    462\u001b[0m             \u001b[0mexpanded_x\u001b[0m\u001b[0;34m,\u001b[0m \u001b[0mexpanded_x\u001b[0m \u001b[0;34m+\u001b[0m \u001b[0mcoord_batch\u001b[0m\u001b[0;34m.\u001b[0m\u001b[0mreshape\u001b[0m\u001b[0;34m(\u001b[0m\u001b[0mexpanded_x\u001b[0m\u001b[0;34m.\u001b[0m\u001b[0mshape\u001b[0m\u001b[0;34m)\u001b[0m\u001b[0;34m,\u001b[0m \u001b[0mexpanded_targets\u001b[0m\u001b[0;34m,\u001b[0m \u001b[0mexpanded_c\u001b[0m\u001b[0;34m,\u001b[0m\u001b[0;34m\u001b[0m\u001b[0;34m\u001b[0m\u001b[0m\n\u001b[1;32m    463\u001b[0m         )\n",
      "\u001b[0;32m/opt/conda/lib/python3.8/site-packages/art/attacks/evasion/zoo.py\u001b[0m in \u001b[0;36m_loss\u001b[0;34m(self, x, x_adv, target, c_weight)\u001b[0m\n\u001b[1;32m    185\u001b[0m             \u001b[0mint\u001b[0m\u001b[0;34m(\u001b[0m\u001b[0mnew_size\u001b[0m\u001b[0;34m)\u001b[0m \u001b[0;34m/\u001b[0m \u001b[0mint\u001b[0m\u001b[0;34m(\u001b[0m\u001b[0mold_size\u001b[0m\u001b[0;34m)\u001b[0m \u001b[0;32mfor\u001b[0m \u001b[0mnew_size\u001b[0m\u001b[0;34m,\u001b[0m \u001b[0mold_size\u001b[0m \u001b[0;32min\u001b[0m \u001b[0mzip\u001b[0m\u001b[0;34m(\u001b[0m\u001b[0mself\u001b[0m\u001b[0;34m.\u001b[0m\u001b[0mestimator\u001b[0m\u001b[0;34m.\u001b[0m\u001b[0minput_shape\u001b[0m\u001b[0;34m,\u001b[0m \u001b[0mx\u001b[0m\u001b[0;34m.\u001b[0m\u001b[0mshape\u001b[0m\u001b[0;34m[\u001b[0m\u001b[0;36m1\u001b[0m\u001b[0;34m:\u001b[0m\u001b[0;34m]\u001b[0m\u001b[0;34m)\u001b[0m\u001b[0;34m\u001b[0m\u001b[0;34m\u001b[0m\u001b[0m\n\u001b[1;32m    186\u001b[0m         ]\n\u001b[0;32m--> 187\u001b[0;31m         \u001b[0mpreds\u001b[0m \u001b[0;34m=\u001b[0m \u001b[0mself\u001b[0m\u001b[0;34m.\u001b[0m\u001b[0mestimator\u001b[0m\u001b[0;34m.\u001b[0m\u001b[0mpredict\u001b[0m\u001b[0;34m(\u001b[0m\u001b[0mnp\u001b[0m\u001b[0;34m.\u001b[0m\u001b[0marray\u001b[0m\u001b[0;34m(\u001b[0m\u001b[0mzoom\u001b[0m\u001b[0;34m(\u001b[0m\u001b[0mx_adv\u001b[0m\u001b[0;34m,\u001b[0m \u001b[0mzoom\u001b[0m\u001b[0;34m=\u001b[0m\u001b[0mratios\u001b[0m\u001b[0;34m)\u001b[0m\u001b[0;34m)\u001b[0m\u001b[0;34m,\u001b[0m \u001b[0mbatch_size\u001b[0m\u001b[0;34m=\u001b[0m\u001b[0mself\u001b[0m\u001b[0;34m.\u001b[0m\u001b[0mbatch_size\u001b[0m\u001b[0;34m)\u001b[0m\u001b[0;34m\u001b[0m\u001b[0;34m\u001b[0m\u001b[0m\n\u001b[0m\u001b[1;32m    188\u001b[0m         \u001b[0mz_target\u001b[0m \u001b[0;34m=\u001b[0m \u001b[0mnp\u001b[0m\u001b[0;34m.\u001b[0m\u001b[0msum\u001b[0m\u001b[0;34m(\u001b[0m\u001b[0mpreds\u001b[0m \u001b[0;34m*\u001b[0m \u001b[0mtarget\u001b[0m\u001b[0;34m,\u001b[0m \u001b[0maxis\u001b[0m\u001b[0;34m=\u001b[0m\u001b[0;36m1\u001b[0m\u001b[0;34m)\u001b[0m\u001b[0;34m\u001b[0m\u001b[0;34m\u001b[0m\u001b[0m\n\u001b[1;32m    189\u001b[0m         \u001b[0mz_other\u001b[0m \u001b[0;34m=\u001b[0m \u001b[0mnp\u001b[0m\u001b[0;34m.\u001b[0m\u001b[0mmax\u001b[0m\u001b[0;34m(\u001b[0m\u001b[0mpreds\u001b[0m \u001b[0;34m*\u001b[0m \u001b[0;34m(\u001b[0m\u001b[0;36m1\u001b[0m \u001b[0;34m-\u001b[0m \u001b[0mtarget\u001b[0m\u001b[0;34m)\u001b[0m \u001b[0;34m+\u001b[0m \u001b[0;34m(\u001b[0m\u001b[0mnp\u001b[0m\u001b[0;34m.\u001b[0m\u001b[0mmin\u001b[0m\u001b[0;34m(\u001b[0m\u001b[0mpreds\u001b[0m\u001b[0;34m,\u001b[0m \u001b[0maxis\u001b[0m\u001b[0;34m=\u001b[0m\u001b[0;36m1\u001b[0m\u001b[0;34m)\u001b[0m \u001b[0;34m-\u001b[0m \u001b[0;36m1\u001b[0m\u001b[0;34m)\u001b[0m\u001b[0;34m[\u001b[0m\u001b[0;34m:\u001b[0m\u001b[0;34m,\u001b[0m \u001b[0mnp\u001b[0m\u001b[0;34m.\u001b[0m\u001b[0mnewaxis\u001b[0m\u001b[0;34m]\u001b[0m \u001b[0;34m*\u001b[0m \u001b[0mtarget\u001b[0m\u001b[0;34m,\u001b[0m \u001b[0maxis\u001b[0m\u001b[0;34m=\u001b[0m\u001b[0;36m1\u001b[0m\u001b[0;34m,\u001b[0m\u001b[0;34m)\u001b[0m\u001b[0;34m\u001b[0m\u001b[0;34m\u001b[0m\u001b[0m\n",
      "\u001b[0;32m~/.local/lib/python3.8/site-packages/scipy/ndimage/interpolation.py\u001b[0m in \u001b[0;36mzoom\u001b[0;34m(input, zoom, output, order, mode, cval, prefilter, grid_mode)\u001b[0m\n\u001b[1;32m    812\u001b[0m                         where=zoom_div != 0)\n\u001b[1;32m    813\u001b[0m     \u001b[0mzoom\u001b[0m \u001b[0;34m=\u001b[0m \u001b[0mnumpy\u001b[0m\u001b[0;34m.\u001b[0m\u001b[0mascontiguousarray\u001b[0m\u001b[0;34m(\u001b[0m\u001b[0mzoom\u001b[0m\u001b[0;34m)\u001b[0m\u001b[0;34m\u001b[0m\u001b[0;34m\u001b[0m\u001b[0m\n\u001b[0;32m--> 814\u001b[0;31m     _nd_image.zoom_shift(filtered, zoom, None, output, order, mode, cval, npad,\n\u001b[0m\u001b[1;32m    815\u001b[0m                          grid_mode)\n\u001b[1;32m    816\u001b[0m     \u001b[0;32mreturn\u001b[0m \u001b[0moutput\u001b[0m\u001b[0;34m\u001b[0m\u001b[0;34m\u001b[0m\u001b[0m\n",
      "\u001b[0;31mKeyboardInterrupt\u001b[0m: "
     ]
    }
   ],
   "source": [
    "%time adv_ex = zoo.generate(test_apps_features)"
   ]
  },
  {
   "cell_type": "code",
   "execution_count": 44,
   "id": "static-seeking",
   "metadata": {},
   "outputs": [
    {
     "data": {
      "text/plain": [
       "array([[1., 0., 0., ..., 0., 0., 0.],\n",
       "       [1., 0., 0., ..., 0., 0., 0.],\n",
       "       [1., 0., 0., ..., 0., 0., 0.],\n",
       "       [0., 0., 0., ..., 0., 0., 0.],\n",
       "       [1., 0., 0., ..., 0., 0., 0.]])"
      ]
     },
     "execution_count": 44,
     "metadata": {},
     "output_type": "execute_result"
    }
   ],
   "source": [
    "adv_ex"
   ]
  },
  {
   "cell_type": "code",
   "execution_count": 45,
   "id": "typical-purse",
   "metadata": {},
   "outputs": [
    {
     "name": "stdout",
     "output_type": "stream",
     "text": [
      "Prediction\n"
     ]
    },
    {
     "data": {
      "text/plain": [
       "array([1, 0, 1, 1, 1])"
      ]
     },
     "execution_count": 45,
     "metadata": {},
     "output_type": "execute_result"
    }
   ],
   "source": [
    "ABA_predict(adv_ex)"
   ]
  },
  {
   "cell_type": "code",
   "execution_count": 46,
   "id": "dependent-tribe",
   "metadata": {},
   "outputs": [
    {
     "data": {
      "text/plain": [
       "array([2373., 9959.,  320.,  307.,  283.])"
      ]
     },
     "execution_count": 46,
     "metadata": {},
     "output_type": "execute_result"
    }
   ],
   "source": [
    "np.sum(adv_ex, axis=1)"
   ]
  },
  {
   "cell_type": "code",
   "execution_count": 47,
   "id": "unnecessary-smile",
   "metadata": {},
   "outputs": [
    {
     "data": {
      "text/plain": [
       "array([2373., 9959.,  320.,  307.,  283.])"
      ]
     },
     "execution_count": 47,
     "metadata": {},
     "output_type": "execute_result"
    }
   ],
   "source": [
    "np.sum(test_apps_features, axis=1)"
   ]
  },
  {
   "cell_type": "code",
   "execution_count": 81,
   "id": "major-audio",
   "metadata": {},
   "outputs": [
    {
     "name": "stdout",
     "output_type": "stream",
     "text": [
      "Prediction\n"
     ]
    },
    {
     "data": {
      "text/plain": [
       "array([1, 1, 1, 1, 1])"
      ]
     },
     "execution_count": 81,
     "metadata": {},
     "output_type": "execute_result"
    }
   ],
   "source": [
    "ABA_predict(test_apps_features)"
   ]
  },
  {
   "cell_type": "markdown",
   "id": "sunset-decimal",
   "metadata": {},
   "source": [
    "## Test with features"
   ]
  },
  {
   "cell_type": "code",
   "execution_count": 19,
   "id": "earned-worst",
   "metadata": {},
   "outputs": [
    {
     "data": {
      "application/vnd.jupyter.widget-view+json": {
       "model_id": "7fc07281e8a14b3eaf99c1394eb0be3a",
       "version_major": 2,
       "version_minor": 0
      },
      "text/plain": [
       "ZOO:   0%|          | 0/100 [00:00<?, ?it/s]"
      ]
     },
     "metadata": {},
     "output_type": "display_data"
    },
    {
     "data": {
      "text/plain": [
       "array([0, 0, 1, 1, 1, 1, 1, 1, 1, 0, 1, 0, 0, 1, 0, 1, 1, 1, 0, 0, 1, 0,\n",
       "       1, 0, 0, 0, 0, 1, 0, 1, 1, 0, 0, 0, 0, 1, 0, 1, 1, 0, 0, 1, 0, 0,\n",
       "       1, 0, 1, 1, 1, 1, 0, 0, 0, 0, 1, 0, 1, 0, 1, 0, 0, 1, 1, 0, 0, 0,\n",
       "       1, 1, 1, 1, 0, 1, 0, 1, 0, 1, 0, 1, 0, 0, 0, 0, 0, 1, 1, 0, 1, 1,\n",
       "       0, 1, 1, 1, 1, 1, 1, 0, 1, 0, 0, 0])"
      ]
     },
     "execution_count": 19,
     "metadata": {},
     "output_type": "execute_result"
    }
   ],
   "source": [
    "test_apps_commuted = test_apps_features * B * A.T\n",
    "hindroid_blackbox_simple = SklearnClassifier(mdl)\n",
    "zoo = ZooAttack(hindroid_blackbox_simple, confidence=0.0, targeted=False, learning_rate=1e-1, max_iter=1000,\n",
    "                binary_search_steps=20, initial_const=1e-3, abort_early=True, use_resize=False, \n",
    "                use_importance=True, nb_parallel=10, batch_size=1)\n",
    "adv_ex = zoo.generate(test_apps_commuted)\n",
    "mdl.predict(adv_ex)"
   ]
  },
  {
   "cell_type": "code",
   "execution_count": 20,
   "id": "optical-ministry",
   "metadata": {},
   "outputs": [
    {
     "data": {
      "text/plain": [
       "array([448, 448, 448, 448, 448, 448, 448, 448, 448, 448, 448, 448, 448,\n",
       "       448, 448, 448, 448, 448, 448, 448, 448, 448, 448, 448, 448, 448,\n",
       "       448, 448, 448, 448, 448, 448, 448, 448, 448, 448, 448, 448, 448,\n",
       "       448, 448, 448, 448, 448, 448, 448, 448, 448, 448, 448, 448, 448,\n",
       "       448, 448, 448, 448, 448, 448, 448, 448, 448, 448, 448, 448, 448,\n",
       "       448, 448, 448, 448, 448, 448, 448, 448, 448, 448, 448, 448, 448,\n",
       "       448, 448, 448, 448, 448, 448, 448, 448, 448, 448, 448, 448, 448,\n",
       "       448, 448, 448, 448, 448, 448, 448, 448, 448])"
      ]
     },
     "execution_count": 20,
     "metadata": {},
     "output_type": "execute_result"
    }
   ],
   "source": [
    "np.sum((adv_ex == test_apps_commuted), axis=1)"
   ]
  },
  {
   "cell_type": "code",
   "execution_count": null,
   "id": "measured-portfolio",
   "metadata": {},
   "outputs": [],
   "source": []
  },
  {
   "cell_type": "code",
   "execution_count": null,
   "id": "theoretical-fortune",
   "metadata": {},
   "outputs": [],
   "source": []
  }
 ],
 "metadata": {
  "kernelspec": {
   "display_name": "Python 3",
   "language": "python",
   "name": "python3"
  },
  "language_info": {
   "codemirror_mode": {
    "name": "ipython",
    "version": 3
   },
   "file_extension": ".py",
   "mimetype": "text/x-python",
   "name": "python",
   "nbconvert_exporter": "python",
   "pygments_lexer": "ipython3",
   "version": "3.8.6"
  }
 },
 "nbformat": 4,
 "nbformat_minor": 5
}
