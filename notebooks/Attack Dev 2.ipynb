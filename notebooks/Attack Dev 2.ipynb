{
 "cells": [
  {
   "cell_type": "code",
   "execution_count": 10,
   "id": "filled-pierce",
   "metadata": {},
   "outputs": [],
   "source": [
    "import numpy as np\n",
    "import pandas as pd\n",
    "from IPython.display import clear_output\n",
    "from matplotlib import pyplot as plt\n",
    "import os\n",
    "from scipy import sparse\n",
    "import pickle\n",
    "\n",
    "from art import config\n",
    "from art.estimators.classification import BlackBoxClassifier\n",
    "from art.attacks.evasion import CarliniL2Method, SaliencyMapMethod\n",
    "from art.utils import to_categorical\n",
    "from art.utils import load_dataset, get_file, compute_accuracy"
   ]
  },
  {
   "cell_type": "code",
   "execution_count": 2,
   "id": "clean-press",
   "metadata": {},
   "outputs": [
    {
     "name": "stdout",
     "output_type": "stream",
     "text": [
      "/home/rcgonzal/DSC180Malware/m2v-adversarial-hindroid\r\n"
     ]
    }
   ],
   "source": [
    "os.chdir('/home/rcgonzal/DSC180Malware/m2v-adversarial-hindroid/')\n",
    "!pwd"
   ]
  },
  {
   "cell_type": "code",
   "execution_count": 12,
   "id": "seven-memorabilia",
   "metadata": {},
   "outputs": [],
   "source": [
    "base_data = os.path.join('data/out/miniset-train')"
   ]
  },
  {
   "cell_type": "code",
   "execution_count": 3,
   "id": "clean-nursing",
   "metadata": {},
   "outputs": [],
   "source": [
    "def get_hindroid_features(app, base_data):\n",
    "    if os.path.exists(app):\n",
    "        apis = pd.read_csv(app, usecols=['api'], squeeze=True, dtype=str).unique()\n",
    "    else:\n",
    "        try:\n",
    "            apis = pd.read_csv(os.path.join('data', 'out', 'all-apps', 'app-data', app+'.csv'), usecols=['api'], squeeze=True, dtype=str).unique()\n",
    "        except FileNotFoundError as e:\n",
    "            print(\"App not in app heap\")\n",
    "            raise e\n",
    "    \n",
    "    base_data_apis = pd.read_csv(os.path.join(base_data, 'api_map.csv'), index_col='api')\n",
    "    \n",
    "    A_row = pd.Series(np.zeros(base_data_apis.size), index=base_data_apis.index)\n",
    "    A_row.loc[set(apis).intersection(base_data_apis.index)] = 1\n",
    "    \n",
    "    return A_row.values\n",
    "\n",
    "predict(features):\n",
    "    "
   ]
  },
  {
   "cell_type": "code",
   "execution_count": 7,
   "id": "computational-baltimore",
   "metadata": {},
   "outputs": [
    {
     "data": {
      "text/plain": [
       "array([1., 0., 0., ..., 0., 0., 0.])"
      ]
     },
     "execution_count": 7,
     "metadata": {},
     "output_type": "execute_result"
    }
   ],
   "source": [
    "x = get_hindroid_features('com.microsoft.todos', base_data='data/out/miniset-train')\n",
    "x"
   ]
  },
  {
   "cell_type": "code",
   "execution_count": 9,
   "id": "liberal-algebra",
   "metadata": {},
   "outputs": [
    {
     "ename": "AttributeError",
     "evalue": "'numpy.ndarray' object has no attribute 'to_sparse'",
     "output_type": "error",
     "traceback": [
      "\u001b[0;31m\u001b[0m",
      "\u001b[0;31mAttributeError\u001b[0mTraceback (most recent call last)",
      "\u001b[0;32m<ipython-input-9-d5fccd035aff>\u001b[0m in \u001b[0;36m<module>\u001b[0;34m\u001b[0m\n\u001b[0;32m----> 1\u001b[0;31m \u001b[0mx\u001b[0m\u001b[0;34m.\u001b[0m\u001b[0mto_sparse\u001b[0m\u001b[0;34m(\u001b[0m\u001b[0;34m)\u001b[0m\u001b[0;34m\u001b[0m\u001b[0;34m\u001b[0m\u001b[0m\n\u001b[0m",
      "\u001b[0;31mAttributeError\u001b[0m: 'numpy.ndarray' object has no attribute 'to_sparse'"
     ]
    }
   ],
   "source": [
    "x.to_sparse()"
   ]
  },
  {
   "cell_type": "code",
   "execution_count": 15,
   "id": "express-criticism",
   "metadata": {},
   "outputs": [
    {
     "data": {
      "text/plain": [
       "array([0])"
      ]
     },
     "execution_count": 15,
     "metadata": {},
     "output_type": "execute_result"
    }
   ],
   "source": [
    "def ABA_predict(x):\n",
    "    A = sparse.load_npz(os.path.join(base_data, 'hindroid', 'A_mat.npz'))\n",
    "    B = sparse.load_npz(os.path.join(base_data, 'hindroid', 'B_mat.npz'))\n",
    "    \n",
    "    with open(os.path.join(base_data, 'hindroid', 'ABAT.mdl'), 'rb') as file:\n",
    "        mdl = pickle.load(file)\n",
    "    features = x * B * A.T\n",
    "    return mdl.predict([features,])\n",
    "\n",
    "ABA_predict(x)"
   ]
  },
  {
   "cell_type": "code",
   "execution_count": 17,
   "id": "italian-enzyme",
   "metadata": {},
   "outputs": [],
   "source": [
    "hindroid_blackbox = BlackBoxClassifier(ABA_predict, x.shape, 2, clip_values=(0, 1))"
   ]
  },
  {
   "cell_type": "code",
   "execution_count": 18,
   "id": "round-render",
   "metadata": {},
   "outputs": [],
   "source": [
    "CarliniL2Method"
   ]
  },
  {
   "cell_type": "code",
   "execution_count": null,
   "id": "assisted-population",
   "metadata": {},
   "outputs": [],
   "source": []
  }
 ],
 "metadata": {
  "kernelspec": {
   "display_name": "Python 3",
   "language": "python",
   "name": "python3"
  },
  "language_info": {
   "codemirror_mode": {
    "name": "ipython",
    "version": 3
   },
   "file_extension": ".py",
   "mimetype": "text/x-python",
   "name": "python",
   "nbconvert_exporter": "python",
   "pygments_lexer": "ipython3",
   "version": "3.8.6"
  }
 },
 "nbformat": 4,
 "nbformat_minor": 5
}
