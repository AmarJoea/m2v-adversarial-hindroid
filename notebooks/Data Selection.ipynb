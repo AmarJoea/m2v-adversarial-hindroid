{
 "cells": [
  {
   "cell_type": "markdown",
   "metadata": {},
   "source": [
    "This notebook was used to select the training sample for which to train our model on."
   ]
  },
  {
   "cell_type": "code",
   "execution_count": 1,
   "metadata": {},
   "outputs": [],
   "source": [
    "import pandas as pd\n",
    "import numpy as np"
   ]
  },
  {
   "cell_type": "code",
   "execution_count": 2,
   "metadata": {},
   "outputs": [
    {
     "name": "stdout",
     "output_type": "stream",
     "text": [
      "/datasets/home/home-00/10/410/rcgonzal/DSC180Malware/m2v-adversarial-hindroid\r\n"
     ]
    }
   ],
   "source": [
    "import os\n",
    "os.chdir('..')\n",
    "!pwd"
   ]
  },
  {
   "cell_type": "code",
   "execution_count": 3,
   "metadata": {},
   "outputs": [
    {
     "data": {
      "text/html": [
       "<div>\n",
       "<style scoped>\n",
       "    .dataframe tbody tr th:only-of-type {\n",
       "        vertical-align: middle;\n",
       "    }\n",
       "\n",
       "    .dataframe tbody tr th {\n",
       "        vertical-align: top;\n",
       "    }\n",
       "\n",
       "    .dataframe thead th {\n",
       "        text-align: right;\n",
       "    }\n",
       "</style>\n",
       "<table border=\"1\" class=\"dataframe\">\n",
       "  <thead>\n",
       "    <tr style=\"text-align: right;\">\n",
       "      <th></th>\n",
       "      <th>app</th>\n",
       "      <th>app_dir</th>\n",
       "      <th>category</th>\n",
       "    </tr>\n",
       "  </thead>\n",
       "  <tbody>\n",
       "    <tr>\n",
       "      <th>0</th>\n",
       "      <td>com.kaktus.hyungkaktus</td>\n",
       "      <td>/teams/DSC180A_FA20_A00/a04malware/random-apps...</td>\n",
       "      <td>random-apps</td>\n",
       "    </tr>\n",
       "    <tr>\n",
       "      <th>1</th>\n",
       "      <td>com.wedup.duduamzaleg</td>\n",
       "      <td>/teams/DSC180A_FA20_A00/a04malware/random-apps...</td>\n",
       "      <td>random-apps</td>\n",
       "    </tr>\n",
       "    <tr>\n",
       "      <th>2</th>\n",
       "      <td>com.dublin_mobile123.cheat_gta_5</td>\n",
       "      <td>/teams/DSC180A_FA20_A00/a04malware/random-apps...</td>\n",
       "      <td>random-apps</td>\n",
       "    </tr>\n",
       "    <tr>\n",
       "      <th>3</th>\n",
       "      <td>com.appall.optimizationbox</td>\n",
       "      <td>/teams/DSC180A_FA20_A00/a04malware/random-apps...</td>\n",
       "      <td>random-apps</td>\n",
       "    </tr>\n",
       "    <tr>\n",
       "      <th>4</th>\n",
       "      <td>live.wallpaper.t910001560</td>\n",
       "      <td>/teams/DSC180A_FA20_A00/a04malware/random-apps...</td>\n",
       "      <td>random-apps</td>\n",
       "    </tr>\n",
       "    <tr>\n",
       "      <th>...</th>\n",
       "      <td>...</td>\n",
       "      <td>...</td>\n",
       "      <td>...</td>\n",
       "    </tr>\n",
       "    <tr>\n",
       "      <th>5482</th>\n",
       "      <td>com.nytimes.android</td>\n",
       "      <td>/teams/DSC180A_FA20_A00/a04malware/popular-app...</td>\n",
       "      <td>popular-apps</td>\n",
       "    </tr>\n",
       "    <tr>\n",
       "      <th>5483</th>\n",
       "      <td>com.tinytouchtales.alchi</td>\n",
       "      <td>/teams/DSC180A_FA20_A00/a04malware/popular-app...</td>\n",
       "      <td>popular-apps</td>\n",
       "    </tr>\n",
       "    <tr>\n",
       "      <th>5484</th>\n",
       "      <td>com.mycelium.wallet</td>\n",
       "      <td>/teams/DSC180A_FA20_A00/a04malware/popular-app...</td>\n",
       "      <td>popular-apps</td>\n",
       "    </tr>\n",
       "    <tr>\n",
       "      <th>5485</th>\n",
       "      <td>com.aceviral.smashycity</td>\n",
       "      <td>/teams/DSC180A_FA20_A00/a04malware/popular-app...</td>\n",
       "      <td>popular-apps</td>\n",
       "    </tr>\n",
       "    <tr>\n",
       "      <th>5486</th>\n",
       "      <td>com.wonderplanet.CrashFever</td>\n",
       "      <td>/teams/DSC180A_FA20_A00/a04malware/popular-app...</td>\n",
       "      <td>popular-apps</td>\n",
       "    </tr>\n",
       "  </tbody>\n",
       "</table>\n",
       "<p>5487 rows × 3 columns</p>\n",
       "</div>"
      ],
      "text/plain": [
       "                                   app  \\\n",
       "0               com.kaktus.hyungkaktus   \n",
       "1                com.wedup.duduamzaleg   \n",
       "2     com.dublin_mobile123.cheat_gta_5   \n",
       "3           com.appall.optimizationbox   \n",
       "4            live.wallpaper.t910001560   \n",
       "...                                ...   \n",
       "5482               com.nytimes.android   \n",
       "5483          com.tinytouchtales.alchi   \n",
       "5484               com.mycelium.wallet   \n",
       "5485           com.aceviral.smashycity   \n",
       "5486       com.wonderplanet.CrashFever   \n",
       "\n",
       "                                                app_dir      category  \n",
       "0     /teams/DSC180A_FA20_A00/a04malware/random-apps...   random-apps  \n",
       "1     /teams/DSC180A_FA20_A00/a04malware/random-apps...   random-apps  \n",
       "2     /teams/DSC180A_FA20_A00/a04malware/random-apps...   random-apps  \n",
       "3     /teams/DSC180A_FA20_A00/a04malware/random-apps...   random-apps  \n",
       "4     /teams/DSC180A_FA20_A00/a04malware/random-apps...   random-apps  \n",
       "...                                                 ...           ...  \n",
       "5482  /teams/DSC180A_FA20_A00/a04malware/popular-app...  popular-apps  \n",
       "5483  /teams/DSC180A_FA20_A00/a04malware/popular-app...  popular-apps  \n",
       "5484  /teams/DSC180A_FA20_A00/a04malware/popular-app...  popular-apps  \n",
       "5485  /teams/DSC180A_FA20_A00/a04malware/popular-app...  popular-apps  \n",
       "5486  /teams/DSC180A_FA20_A00/a04malware/popular-app...  popular-apps  \n",
       "\n",
       "[5487 rows x 3 columns]"
      ]
     },
     "execution_count": 3,
     "metadata": {},
     "output_type": "execute_result"
    }
   ],
   "source": [
    "all_apps = pd.read_csv('data/out/all-apps/all_apps.csv')\n",
    "all_apps"
   ]
  },
  {
   "cell_type": "markdown",
   "metadata": {},
   "source": [
    "Based on my EDA, popular apps tend to not be similar to malware, so we will use these apps to train the data. `random-apps` will be excluded. We will then sample 50% of the remaining data and run ETL separetely on that."
   ]
  },
  {
   "cell_type": "code",
   "execution_count": 15,
   "metadata": {},
   "outputs": [
    {
     "data": {
      "text/html": [
       "<div>\n",
       "<style scoped>\n",
       "    .dataframe tbody tr th:only-of-type {\n",
       "        vertical-align: middle;\n",
       "    }\n",
       "\n",
       "    .dataframe tbody tr th {\n",
       "        vertical-align: top;\n",
       "    }\n",
       "\n",
       "    .dataframe thead th {\n",
       "        text-align: right;\n",
       "    }\n",
       "</style>\n",
       "<table border=\"1\" class=\"dataframe\">\n",
       "  <thead>\n",
       "    <tr style=\"text-align: right;\">\n",
       "      <th></th>\n",
       "      <th>app</th>\n",
       "      <th>app_dir</th>\n",
       "      <th>category</th>\n",
       "    </tr>\n",
       "  </thead>\n",
       "  <tbody>\n",
       "    <tr>\n",
       "      <th>4098</th>\n",
       "      <td>9acc4393f9c8a06a4f02ac373883a59c</td>\n",
       "      <td>/teams/DSC180A_FA20_A00/a04malware/malware/Fak...</td>\n",
       "      <td>malware</td>\n",
       "    </tr>\n",
       "    <tr>\n",
       "      <th>723</th>\n",
       "      <td>f6b7363077ee345bb0943796c0b749d5</td>\n",
       "      <td>/teams/DSC180A_FA20_A00/a04malware/malware/You...</td>\n",
       "      <td>malware</td>\n",
       "    </tr>\n",
       "    <tr>\n",
       "      <th>2880</th>\n",
       "      <td>bc10d2ed2b5697e42624053d92975585</td>\n",
       "      <td>/teams/DSC180A_FA20_A00/a04malware/malware/Fak...</td>\n",
       "      <td>malware</td>\n",
       "    </tr>\n",
       "    <tr>\n",
       "      <th>4483</th>\n",
       "      <td>77bb213dca7fd42c86140c98fc778608</td>\n",
       "      <td>/teams/DSC180A_FA20_A00/a04malware/malware/Ban...</td>\n",
       "      <td>malware</td>\n",
       "    </tr>\n",
       "    <tr>\n",
       "      <th>5149</th>\n",
       "      <td>7cc71e4d3608afabc8cf645c30bd6684</td>\n",
       "      <td>/teams/DSC180A_FA20_A00/a04malware/malware/Mtk...</td>\n",
       "      <td>malware</td>\n",
       "    </tr>\n",
       "    <tr>\n",
       "      <th>...</th>\n",
       "      <td>...</td>\n",
       "      <td>...</td>\n",
       "      <td>...</td>\n",
       "    </tr>\n",
       "    <tr>\n",
       "      <th>3955</th>\n",
       "      <td>1af9831b5d881b9371a0ebc621a3befb</td>\n",
       "      <td>/teams/DSC180A_FA20_A00/a04malware/malware/Fak...</td>\n",
       "      <td>malware</td>\n",
       "    </tr>\n",
       "    <tr>\n",
       "      <th>4347</th>\n",
       "      <td>5a4289d920d4fc3462806512f472d5d5</td>\n",
       "      <td>/teams/DSC180A_FA20_A00/a04malware/malware/Min...</td>\n",
       "      <td>malware</td>\n",
       "    </tr>\n",
       "    <tr>\n",
       "      <th>5116</th>\n",
       "      <td>e55b61bb78f62706db0b20b3b8411b0f</td>\n",
       "      <td>/teams/DSC180A_FA20_A00/a04malware/malware/Mtk...</td>\n",
       "      <td>malware</td>\n",
       "    </tr>\n",
       "    <tr>\n",
       "      <th>5129</th>\n",
       "      <td>57bc4f0cb57dcd05089c15f5c78224a6</td>\n",
       "      <td>/teams/DSC180A_FA20_A00/a04malware/malware/Mtk...</td>\n",
       "      <td>malware</td>\n",
       "    </tr>\n",
       "    <tr>\n",
       "      <th>4870</th>\n",
       "      <td>880a90f6c26e2dac0e1dbc343ade12e2</td>\n",
       "      <td>/teams/DSC180A_FA20_A00/a04malware/malware/Ban...</td>\n",
       "      <td>malware</td>\n",
       "    </tr>\n",
       "  </tbody>\n",
       "</table>\n",
       "<p>2628 rows × 3 columns</p>\n",
       "</div>"
      ],
      "text/plain": [
       "                                   app  \\\n",
       "4098  9acc4393f9c8a06a4f02ac373883a59c   \n",
       "723   f6b7363077ee345bb0943796c0b749d5   \n",
       "2880  bc10d2ed2b5697e42624053d92975585   \n",
       "4483  77bb213dca7fd42c86140c98fc778608   \n",
       "5149  7cc71e4d3608afabc8cf645c30bd6684   \n",
       "...                                ...   \n",
       "3955  1af9831b5d881b9371a0ebc621a3befb   \n",
       "4347  5a4289d920d4fc3462806512f472d5d5   \n",
       "5116  e55b61bb78f62706db0b20b3b8411b0f   \n",
       "5129  57bc4f0cb57dcd05089c15f5c78224a6   \n",
       "4870  880a90f6c26e2dac0e1dbc343ade12e2   \n",
       "\n",
       "                                                app_dir category  \n",
       "4098  /teams/DSC180A_FA20_A00/a04malware/malware/Fak...  malware  \n",
       "723   /teams/DSC180A_FA20_A00/a04malware/malware/You...  malware  \n",
       "2880  /teams/DSC180A_FA20_A00/a04malware/malware/Fak...  malware  \n",
       "4483  /teams/DSC180A_FA20_A00/a04malware/malware/Ban...  malware  \n",
       "5149  /teams/DSC180A_FA20_A00/a04malware/malware/Mtk...  malware  \n",
       "...                                                 ...      ...  \n",
       "3955  /teams/DSC180A_FA20_A00/a04malware/malware/Fak...  malware  \n",
       "4347  /teams/DSC180A_FA20_A00/a04malware/malware/Min...  malware  \n",
       "5116  /teams/DSC180A_FA20_A00/a04malware/malware/Mtk...  malware  \n",
       "5129  /teams/DSC180A_FA20_A00/a04malware/malware/Mtk...  malware  \n",
       "4870  /teams/DSC180A_FA20_A00/a04malware/malware/Ban...  malware  \n",
       "\n",
       "[2628 rows x 3 columns]"
      ]
     },
     "execution_count": 15,
     "metadata": {},
     "output_type": "execute_result"
    }
   ],
   "source": [
    "training_sample = all_apps[all_apps.category!='random-apps'].sample(frac=.5)\n",
    "training_sample"
   ]
  },
  {
   "cell_type": "code",
   "execution_count": 16,
   "metadata": {},
   "outputs": [
    {
     "data": {
      "text/plain": [
       "malware         2449\n",
       "popular-apps     179\n",
       "Name: category, dtype: int64"
      ]
     },
     "execution_count": 16,
     "metadata": {},
     "output_type": "execute_result"
    }
   ],
   "source": [
    "training_sample.category.value_counts()"
   ]
  },
  {
   "cell_type": "code",
   "execution_count": 17,
   "metadata": {},
   "outputs": [
    {
     "data": {
      "text/plain": [
       "malware         4931\n",
       "popular-apps     324\n",
       "random-apps      232\n",
       "Name: category, dtype: int64"
      ]
     },
     "execution_count": 17,
     "metadata": {},
     "output_type": "execute_result"
    }
   ],
   "source": [
    "all_apps.category.value_counts()"
   ]
  },
  {
   "cell_type": "code",
   "execution_count": 19,
   "metadata": {},
   "outputs": [],
   "source": [
    "training_sample.to_csv('data/out/training-sample/app_list.csv')"
   ]
  },
  {
   "cell_type": "code",
   "execution_count": null,
   "metadata": {},
   "outputs": [],
   "source": []
  }
 ],
 "metadata": {
  "kernelspec": {
   "display_name": "Python 3",
   "language": "python",
   "name": "python3"
  },
  "language_info": {
   "codemirror_mode": {
    "name": "ipython",
    "version": 3
   },
   "file_extension": ".py",
   "mimetype": "text/x-python",
   "name": "python",
   "nbconvert_exporter": "python",
   "pygments_lexer": "ipython3",
   "version": "3.8.6"
  }
 },
 "nbformat": 4,
 "nbformat_minor": 4
}
