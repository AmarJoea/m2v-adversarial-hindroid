{
 "cells": [
  {
   "cell_type": "code",
   "execution_count": 1,
   "id": "biological-supplement",
   "metadata": {},
   "outputs": [],
   "source": [
    "from dask.distributed import Client, LocalCluster, performance_report\n",
    "import dask.dataframe as dd\n",
    "import os\n",
    "import pandas as pd\n",
    "import numpy as np\n",
    "import pickle\n",
    "import json\n",
    "from stellargraph import StellarGraph, IndexedArray\n",
    "from stellargraph.data import UniformRandomMetaPathWalk\n",
    "from gensim.models import Word2Vec\n",
    "from p_tqdm import p_umap, p_imap, p_map\n",
    "from tqdm import tqdm\n",
    "from scipy import sparse\n",
    "from itertools import combinations, product\n",
    "from functools import partial\n",
    "from sklearn.preprocessing import OneHotEncoder, MultiLabelBinarizer\n",
    "from sklearn.utils.extmath import cartesian\n",
    "import csv"
   ]
  },
  {
   "cell_type": "code",
   "execution_count": 2,
   "id": "structured-skill",
   "metadata": {},
   "outputs": [
    {
     "name": "stdout",
     "output_type": "stream",
     "text": [
      "/home/rcgonzal/DSC180Malware/m2v-adversarial-hindroid\r\n"
     ]
    }
   ],
   "source": [
    "os.chdir('/home/rcgonzal/DSC180Malware/m2v-adversarial-hindroid/')\n",
    "!pwd"
   ]
  },
  {
   "cell_type": "code",
   "execution_count": 3,
   "id": "optical-arrival",
   "metadata": {},
   "outputs": [],
   "source": [
    "from src.data.hindroid import *\n",
    "\n",
    "%load_ext autoreload\n",
    "%autoreload 2"
   ]
  },
  {
   "cell_type": "code",
   "execution_count": 4,
   "id": "champion-professor",
   "metadata": {},
   "outputs": [],
   "source": [
    "outfolder = \"data/out/miniset-train\""
   ]
  },
  {
   "cell_type": "code",
   "execution_count": 19,
   "id": "loving-export",
   "metadata": {
    "collapsed": true
   },
   "outputs": [
    {
     "ename": "FileNotFoundError",
     "evalue": "[Errno 2] No such file or directory: 'data/out/miniset-train/api_map.csv'",
     "output_type": "error",
     "traceback": [
      "\u001b[0;31m\u001b[0m",
      "\u001b[0;31mFileNotFoundError\u001b[0mTraceback (most recent call last)",
      "\u001b[0;32m<ipython-input-19-8bb34c361a52>\u001b[0m in \u001b[0;36m<module>\u001b[0;34m\u001b[0m\n\u001b[1;32m      3\u001b[0m \u001b[0mapi_map_path\u001b[0m \u001b[0;34m=\u001b[0m \u001b[0mos\u001b[0m\u001b[0;34m.\u001b[0m\u001b[0mpath\u001b[0m\u001b[0;34m.\u001b[0m\u001b[0mjoin\u001b[0m\u001b[0;34m(\u001b[0m\u001b[0moutfolder\u001b[0m\u001b[0;34m,\u001b[0m \u001b[0;34m'api_map.csv'\u001b[0m\u001b[0;34m)\u001b[0m\u001b[0;34m\u001b[0m\u001b[0;34m\u001b[0m\u001b[0m\n\u001b[1;32m      4\u001b[0m \u001b[0;34m\u001b[0m\u001b[0m\n\u001b[0;32m----> 5\u001b[0;31m \u001b[0mapis\u001b[0m \u001b[0;34m=\u001b[0m \u001b[0mpd\u001b[0m\u001b[0;34m.\u001b[0m\u001b[0mread_csv\u001b[0m\u001b[0;34m(\u001b[0m\u001b[0mapi_map_path\u001b[0m\u001b[0;34m,\u001b[0m \u001b[0mindex_col\u001b[0m\u001b[0;34m=\u001b[0m\u001b[0;34m'api'\u001b[0m\u001b[0;34m)\u001b[0m\u001b[0;34m.\u001b[0m\u001b[0muid\u001b[0m\u001b[0;34m.\u001b[0m\u001b[0mstr\u001b[0m\u001b[0;34m.\u001b[0m\u001b[0mreplace\u001b[0m\u001b[0;34m(\u001b[0m\u001b[0;34m'api'\u001b[0m\u001b[0;34m,\u001b[0m \u001b[0;34m''\u001b[0m\u001b[0;34m)\u001b[0m\u001b[0;34m.\u001b[0m\u001b[0mastype\u001b[0m\u001b[0;34m(\u001b[0m\u001b[0mint\u001b[0m\u001b[0;34m)\u001b[0m\u001b[0;34m.\u001b[0m\u001b[0mvalues\u001b[0m\u001b[0;34m\u001b[0m\u001b[0;34m\u001b[0m\u001b[0m\n\u001b[0m\u001b[1;32m      6\u001b[0m \u001b[0mapps\u001b[0m \u001b[0;34m=\u001b[0m \u001b[0mpd\u001b[0m\u001b[0;34m.\u001b[0m\u001b[0mread_csv\u001b[0m\u001b[0;34m(\u001b[0m\u001b[0mapp_map_path\u001b[0m\u001b[0;34m,\u001b[0m \u001b[0mindex_col\u001b[0m\u001b[0;34m=\u001b[0m\u001b[0;34m'app'\u001b[0m\u001b[0;34m)\u001b[0m\u001b[0;34m.\u001b[0m\u001b[0muid\u001b[0m\u001b[0;34m.\u001b[0m\u001b[0mstr\u001b[0m\u001b[0;34m.\u001b[0m\u001b[0mreplace\u001b[0m\u001b[0;34m(\u001b[0m\u001b[0;34m'app'\u001b[0m\u001b[0;34m,\u001b[0m \u001b[0;34m''\u001b[0m\u001b[0;34m)\u001b[0m\u001b[0;34m.\u001b[0m\u001b[0mastype\u001b[0m\u001b[0;34m(\u001b[0m\u001b[0mint\u001b[0m\u001b[0;34m)\u001b[0m\u001b[0;34m.\u001b[0m\u001b[0mvalues\u001b[0m\u001b[0;34m\u001b[0m\u001b[0;34m\u001b[0m\u001b[0m\n\u001b[1;32m      7\u001b[0m \u001b[0;34m\u001b[0m\u001b[0m\n",
      "\u001b[0;32m/opt/conda/lib/python3.8/site-packages/pandas/io/parsers.py\u001b[0m in \u001b[0;36mread_csv\u001b[0;34m(filepath_or_buffer, sep, delimiter, header, names, index_col, usecols, squeeze, prefix, mangle_dupe_cols, dtype, engine, converters, true_values, false_values, skipinitialspace, skiprows, skipfooter, nrows, na_values, keep_default_na, na_filter, verbose, skip_blank_lines, parse_dates, infer_datetime_format, keep_date_col, date_parser, dayfirst, cache_dates, iterator, chunksize, compression, thousands, decimal, lineterminator, quotechar, quoting, doublequote, escapechar, comment, encoding, dialect, error_bad_lines, warn_bad_lines, delim_whitespace, low_memory, memory_map, float_precision, storage_options)\u001b[0m\n\u001b[1;32m    603\u001b[0m     \u001b[0mkwds\u001b[0m\u001b[0;34m.\u001b[0m\u001b[0mupdate\u001b[0m\u001b[0;34m(\u001b[0m\u001b[0mkwds_defaults\u001b[0m\u001b[0;34m)\u001b[0m\u001b[0;34m\u001b[0m\u001b[0;34m\u001b[0m\u001b[0m\n\u001b[1;32m    604\u001b[0m \u001b[0;34m\u001b[0m\u001b[0m\n\u001b[0;32m--> 605\u001b[0;31m     \u001b[0;32mreturn\u001b[0m \u001b[0m_read\u001b[0m\u001b[0;34m(\u001b[0m\u001b[0mfilepath_or_buffer\u001b[0m\u001b[0;34m,\u001b[0m \u001b[0mkwds\u001b[0m\u001b[0;34m)\u001b[0m\u001b[0;34m\u001b[0m\u001b[0;34m\u001b[0m\u001b[0m\n\u001b[0m\u001b[1;32m    606\u001b[0m \u001b[0;34m\u001b[0m\u001b[0m\n\u001b[1;32m    607\u001b[0m \u001b[0;34m\u001b[0m\u001b[0m\n",
      "\u001b[0;32m/opt/conda/lib/python3.8/site-packages/pandas/io/parsers.py\u001b[0m in \u001b[0;36m_read\u001b[0;34m(filepath_or_buffer, kwds)\u001b[0m\n\u001b[1;32m    455\u001b[0m \u001b[0;34m\u001b[0m\u001b[0m\n\u001b[1;32m    456\u001b[0m     \u001b[0;31m# Create the parser.\u001b[0m\u001b[0;34m\u001b[0m\u001b[0;34m\u001b[0m\u001b[0;34m\u001b[0m\u001b[0m\n\u001b[0;32m--> 457\u001b[0;31m     \u001b[0mparser\u001b[0m \u001b[0;34m=\u001b[0m \u001b[0mTextFileReader\u001b[0m\u001b[0;34m(\u001b[0m\u001b[0mfilepath_or_buffer\u001b[0m\u001b[0;34m,\u001b[0m \u001b[0;34m**\u001b[0m\u001b[0mkwds\u001b[0m\u001b[0;34m)\u001b[0m\u001b[0;34m\u001b[0m\u001b[0;34m\u001b[0m\u001b[0m\n\u001b[0m\u001b[1;32m    458\u001b[0m \u001b[0;34m\u001b[0m\u001b[0m\n\u001b[1;32m    459\u001b[0m     \u001b[0;32mif\u001b[0m \u001b[0mchunksize\u001b[0m \u001b[0;32mor\u001b[0m \u001b[0miterator\u001b[0m\u001b[0;34m:\u001b[0m\u001b[0;34m\u001b[0m\u001b[0;34m\u001b[0m\u001b[0m\n",
      "\u001b[0;32m/opt/conda/lib/python3.8/site-packages/pandas/io/parsers.py\u001b[0m in \u001b[0;36m__init__\u001b[0;34m(self, f, engine, **kwds)\u001b[0m\n\u001b[1;32m    812\u001b[0m             \u001b[0mself\u001b[0m\u001b[0;34m.\u001b[0m\u001b[0moptions\u001b[0m\u001b[0;34m[\u001b[0m\u001b[0;34m\"has_index_names\"\u001b[0m\u001b[0;34m]\u001b[0m \u001b[0;34m=\u001b[0m \u001b[0mkwds\u001b[0m\u001b[0;34m[\u001b[0m\u001b[0;34m\"has_index_names\"\u001b[0m\u001b[0;34m]\u001b[0m\u001b[0;34m\u001b[0m\u001b[0;34m\u001b[0m\u001b[0m\n\u001b[1;32m    813\u001b[0m \u001b[0;34m\u001b[0m\u001b[0m\n\u001b[0;32m--> 814\u001b[0;31m         \u001b[0mself\u001b[0m\u001b[0;34m.\u001b[0m\u001b[0m_engine\u001b[0m \u001b[0;34m=\u001b[0m \u001b[0mself\u001b[0m\u001b[0;34m.\u001b[0m\u001b[0m_make_engine\u001b[0m\u001b[0;34m(\u001b[0m\u001b[0mself\u001b[0m\u001b[0;34m.\u001b[0m\u001b[0mengine\u001b[0m\u001b[0;34m)\u001b[0m\u001b[0;34m\u001b[0m\u001b[0;34m\u001b[0m\u001b[0m\n\u001b[0m\u001b[1;32m    815\u001b[0m \u001b[0;34m\u001b[0m\u001b[0m\n\u001b[1;32m    816\u001b[0m     \u001b[0;32mdef\u001b[0m \u001b[0mclose\u001b[0m\u001b[0;34m(\u001b[0m\u001b[0mself\u001b[0m\u001b[0;34m)\u001b[0m\u001b[0;34m:\u001b[0m\u001b[0;34m\u001b[0m\u001b[0;34m\u001b[0m\u001b[0m\n",
      "\u001b[0;32m/opt/conda/lib/python3.8/site-packages/pandas/io/parsers.py\u001b[0m in \u001b[0;36m_make_engine\u001b[0;34m(self, engine)\u001b[0m\n\u001b[1;32m   1043\u001b[0m             )\n\u001b[1;32m   1044\u001b[0m         \u001b[0;31m# error: Too many arguments for \"ParserBase\"\u001b[0m\u001b[0;34m\u001b[0m\u001b[0;34m\u001b[0m\u001b[0;34m\u001b[0m\u001b[0m\n\u001b[0;32m-> 1045\u001b[0;31m         \u001b[0;32mreturn\u001b[0m \u001b[0mmapping\u001b[0m\u001b[0;34m[\u001b[0m\u001b[0mengine\u001b[0m\u001b[0;34m]\u001b[0m\u001b[0;34m(\u001b[0m\u001b[0mself\u001b[0m\u001b[0;34m.\u001b[0m\u001b[0mf\u001b[0m\u001b[0;34m,\u001b[0m \u001b[0;34m**\u001b[0m\u001b[0mself\u001b[0m\u001b[0;34m.\u001b[0m\u001b[0moptions\u001b[0m\u001b[0;34m)\u001b[0m  \u001b[0;31m# type: ignore[call-arg]\u001b[0m\u001b[0;34m\u001b[0m\u001b[0;34m\u001b[0m\u001b[0m\n\u001b[0m\u001b[1;32m   1046\u001b[0m \u001b[0;34m\u001b[0m\u001b[0m\n\u001b[1;32m   1047\u001b[0m     \u001b[0;32mdef\u001b[0m \u001b[0m_failover_to_python\u001b[0m\u001b[0;34m(\u001b[0m\u001b[0mself\u001b[0m\u001b[0;34m)\u001b[0m\u001b[0;34m:\u001b[0m\u001b[0;34m\u001b[0m\u001b[0;34m\u001b[0m\u001b[0m\n",
      "\u001b[0;32m/opt/conda/lib/python3.8/site-packages/pandas/io/parsers.py\u001b[0m in \u001b[0;36m__init__\u001b[0;34m(self, src, **kwds)\u001b[0m\n\u001b[1;32m   1860\u001b[0m \u001b[0;34m\u001b[0m\u001b[0m\n\u001b[1;32m   1861\u001b[0m         \u001b[0;31m# open handles\u001b[0m\u001b[0;34m\u001b[0m\u001b[0;34m\u001b[0m\u001b[0;34m\u001b[0m\u001b[0m\n\u001b[0;32m-> 1862\u001b[0;31m         \u001b[0mself\u001b[0m\u001b[0;34m.\u001b[0m\u001b[0m_open_handles\u001b[0m\u001b[0;34m(\u001b[0m\u001b[0msrc\u001b[0m\u001b[0;34m,\u001b[0m \u001b[0mkwds\u001b[0m\u001b[0;34m)\u001b[0m\u001b[0;34m\u001b[0m\u001b[0;34m\u001b[0m\u001b[0m\n\u001b[0m\u001b[1;32m   1863\u001b[0m         \u001b[0;32massert\u001b[0m \u001b[0mself\u001b[0m\u001b[0;34m.\u001b[0m\u001b[0mhandles\u001b[0m \u001b[0;32mis\u001b[0m \u001b[0;32mnot\u001b[0m \u001b[0;32mNone\u001b[0m\u001b[0;34m\u001b[0m\u001b[0;34m\u001b[0m\u001b[0m\n\u001b[1;32m   1864\u001b[0m         \u001b[0;32mfor\u001b[0m \u001b[0mkey\u001b[0m \u001b[0;32min\u001b[0m \u001b[0;34m(\u001b[0m\u001b[0;34m\"storage_options\"\u001b[0m\u001b[0;34m,\u001b[0m \u001b[0;34m\"encoding\"\u001b[0m\u001b[0;34m,\u001b[0m \u001b[0;34m\"memory_map\"\u001b[0m\u001b[0;34m,\u001b[0m \u001b[0;34m\"compression\"\u001b[0m\u001b[0;34m)\u001b[0m\u001b[0;34m:\u001b[0m\u001b[0;34m\u001b[0m\u001b[0;34m\u001b[0m\u001b[0m\n",
      "\u001b[0;32m/opt/conda/lib/python3.8/site-packages/pandas/io/parsers.py\u001b[0m in \u001b[0;36m_open_handles\u001b[0;34m(self, src, kwds)\u001b[0m\n\u001b[1;32m   1355\u001b[0m         \u001b[0mLet\u001b[0m \u001b[0mthe\u001b[0m \u001b[0mreaders\u001b[0m \u001b[0mopen\u001b[0m \u001b[0mIOHanldes\u001b[0m \u001b[0mafter\u001b[0m \u001b[0mthey\u001b[0m \u001b[0mare\u001b[0m \u001b[0mdone\u001b[0m \u001b[0;32mwith\u001b[0m \u001b[0mtheir\u001b[0m \u001b[0mpotential\u001b[0m \u001b[0mraises\u001b[0m\u001b[0;34m.\u001b[0m\u001b[0;34m\u001b[0m\u001b[0;34m\u001b[0m\u001b[0m\n\u001b[1;32m   1356\u001b[0m         \"\"\"\n\u001b[0;32m-> 1357\u001b[0;31m         self.handles = get_handle(\n\u001b[0m\u001b[1;32m   1358\u001b[0m             \u001b[0msrc\u001b[0m\u001b[0;34m,\u001b[0m\u001b[0;34m\u001b[0m\u001b[0;34m\u001b[0m\u001b[0m\n\u001b[1;32m   1359\u001b[0m             \u001b[0;34m\"r\"\u001b[0m\u001b[0;34m,\u001b[0m\u001b[0;34m\u001b[0m\u001b[0;34m\u001b[0m\u001b[0m\n",
      "\u001b[0;32m/opt/conda/lib/python3.8/site-packages/pandas/io/common.py\u001b[0m in \u001b[0;36mget_handle\u001b[0;34m(path_or_buf, mode, encoding, compression, memory_map, is_text, errors, storage_options)\u001b[0m\n\u001b[1;32m    637\u001b[0m         \u001b[0;32mif\u001b[0m \u001b[0mioargs\u001b[0m\u001b[0;34m.\u001b[0m\u001b[0mencoding\u001b[0m \u001b[0;32mand\u001b[0m \u001b[0;34m\"b\"\u001b[0m \u001b[0;32mnot\u001b[0m \u001b[0;32min\u001b[0m \u001b[0mioargs\u001b[0m\u001b[0;34m.\u001b[0m\u001b[0mmode\u001b[0m\u001b[0;34m:\u001b[0m\u001b[0;34m\u001b[0m\u001b[0;34m\u001b[0m\u001b[0m\n\u001b[1;32m    638\u001b[0m             \u001b[0;31m# Encoding\u001b[0m\u001b[0;34m\u001b[0m\u001b[0;34m\u001b[0m\u001b[0;34m\u001b[0m\u001b[0m\n\u001b[0;32m--> 639\u001b[0;31m             handle = open(\n\u001b[0m\u001b[1;32m    640\u001b[0m                 \u001b[0mhandle\u001b[0m\u001b[0;34m,\u001b[0m\u001b[0;34m\u001b[0m\u001b[0;34m\u001b[0m\u001b[0m\n\u001b[1;32m    641\u001b[0m                 \u001b[0mioargs\u001b[0m\u001b[0;34m.\u001b[0m\u001b[0mmode\u001b[0m\u001b[0;34m,\u001b[0m\u001b[0;34m\u001b[0m\u001b[0;34m\u001b[0m\u001b[0m\n",
      "\u001b[0;31mFileNotFoundError\u001b[0m: [Errno 2] No such file or directory: 'data/out/miniset-train/api_map.csv'"
     ]
    }
   ],
   "source": [
    "edges_path = os.path.join(outfolder, 'edges.csv')\n",
    "app_map_path = os.path.join(outfolder, 'app_map.csv')\n",
    "api_map_path = os.path.join(outfolder, 'api_map.csv')\n",
    "\n",
    "apis = pd.read_csv(api_map_path, index_col='api').uid.str.replace('api', '').astype(int).values\n",
    "apps = pd.read_csv(app_map_path, index_col='app').uid.str.replace('app', '').astype(int).values\n",
    "\n",
    "edges = dd.read_csv(edges_path, dtype=str)\n",
    "edges['target'] = edges.target.str.replace('api', '').astype(int)\n",
    "app_api_edges = edges[edges.source.str.startswith('app')]\n",
    "\n",
    "num_apps = apps.size\n",
    "num_apis = apis.size\n",
    "\n",
    "# A matrix\n",
    "print(\"Constructing A matrix...\")\n",
    "app_api_edges['source'] = app_api_edges.source.str.replace('app', '').astype(int)\n",
    "\n",
    "mlb = MultiLabelBinarizer(sparse_output=True)\n",
    "mlb.fit([(api,) for api in apis])\n",
    "\n",
    "A_mat = mlb.transform(app_api_edges.groupby('source').target.unique().compute().sort_index())\n",
    "sparse.save_npz(os.path.join(outfolder, 'hindroid', 'A_mat.npz'), A_mat)"
   ]
  },
  {
   "cell_type": "code",
   "execution_count": 20,
   "id": "spread-samuel",
   "metadata": {},
   "outputs": [
    {
     "name": "stdout",
     "output_type": "stream",
     "text": [
      "Constructing B matrix...\n"
     ]
    },
    {
     "data": {
      "application/vnd.jupyter.widget-view+json": {
       "model_id": "0afb4a08793b4811bc6edd90a9eb7a94",
       "version_major": 2,
       "version_minor": 0
      },
      "text/plain": [
       "  0%|          | 0/2843658 [00:00<?, ?it/s]"
      ]
     },
     "metadata": {},
     "output_type": "display_data"
    },
    {
     "data": {
      "text/plain": [
       "<2547149x2547149 sparse matrix of type '<class 'numpy.int64'>'\n",
       "\twith 49501952 stored elements in Compressed Sparse Row format>"
      ]
     },
     "execution_count": 20,
     "metadata": {},
     "output_type": "execute_result"
    }
   ],
   "source": [
    "# B Matrix\n",
    "print(\"Constructing B matrix...\")\n",
    "api_method_edges = edges[edges.source.str.startswith('method')]\n",
    "api_sets = api_method_edges.groupby('source').target.unique()\n",
    "B_edges = list(pd.Series(apis).apply(lambda x: (x,x)))\n",
    "\n",
    "for combos in p_imap(partial(combinations, r=2), api_sets.compute()):\n",
    "    B_edges.extend(combos)\n",
    "\n",
    "B_mat = mlb.transform(pd.DataFrame(B_edges).groupby(0)[1].unique().sort_index())\n",
    "B_mat"
   ]
  },
  {
   "cell_type": "code",
   "execution_count": 5,
   "id": "specific-table",
   "metadata": {
    "collapsed": true
   },
   "outputs": [
    {
     "ename": "NameError",
     "evalue": "name 'api_sets' is not defined",
     "output_type": "error",
     "traceback": [
      "\u001b[0;31m\u001b[0m",
      "\u001b[0;31mNameError\u001b[0mTraceback (most recent call last)",
      "\u001b[0;32m<ipython-input-5-3f7b2ea273a3>\u001b[0m in \u001b[0;36m<module>\u001b[0;34m\u001b[0m\n\u001b[0;32m----> 1\u001b[0;31m \u001b[0;32mfor\u001b[0m \u001b[0mapi_list\u001b[0m \u001b[0;32min\u001b[0m \u001b[0mtqdm\u001b[0m\u001b[0;34m(\u001b[0m\u001b[0mapi_sets\u001b[0m\u001b[0;34m.\u001b[0m\u001b[0mcompute\u001b[0m\u001b[0;34m(\u001b[0m\u001b[0;34m)\u001b[0m\u001b[0;34m)\u001b[0m\u001b[0;34m:\u001b[0m\u001b[0;34m\u001b[0m\u001b[0;34m\u001b[0m\u001b[0m\n\u001b[0m\u001b[1;32m      2\u001b[0m     \u001b[0mP_edges\u001b[0m\u001b[0;34m.\u001b[0m\u001b[0mupdate\u001b[0m\u001b[0;34m(\u001b[0m\u001b[0mprep_edges\u001b[0m\u001b[0;34m(\u001b[0m\u001b[0mapi_list\u001b[0m\u001b[0;34m)\u001b[0m\u001b[0;34m)\u001b[0m\u001b[0;34m\u001b[0m\u001b[0;34m\u001b[0m\u001b[0m\n\u001b[1;32m      3\u001b[0m \u001b[0;34m\u001b[0m\u001b[0m\n\u001b[1;32m      4\u001b[0m \u001b[0mP_mat\u001b[0m \u001b[0;34m=\u001b[0m \u001b[0mmlb\u001b[0m\u001b[0;34m.\u001b[0m\u001b[0mtransform\u001b[0m\u001b[0;34m(\u001b[0m\u001b[0mpd\u001b[0m\u001b[0;34m.\u001b[0m\u001b[0mDataFrame\u001b[0m\u001b[0;34m(\u001b[0m\u001b[0mP_edges\u001b[0m\u001b[0;34m)\u001b[0m\u001b[0;34m.\u001b[0m\u001b[0mgroupby\u001b[0m\u001b[0;34m(\u001b[0m\u001b[0;36m0\u001b[0m\u001b[0;34m)\u001b[0m\u001b[0;34m[\u001b[0m\u001b[0;36m1\u001b[0m\u001b[0;34m]\u001b[0m\u001b[0;34m.\u001b[0m\u001b[0munique\u001b[0m\u001b[0;34m(\u001b[0m\u001b[0;34m)\u001b[0m\u001b[0;34m.\u001b[0m\u001b[0msort_index\u001b[0m\u001b[0;34m(\u001b[0m\u001b[0;34m)\u001b[0m\u001b[0;34m)\u001b[0m\u001b[0;34m\u001b[0m\u001b[0;34m\u001b[0m\u001b[0m\n\u001b[1;32m      5\u001b[0m \u001b[0mP_mat\u001b[0m\u001b[0;34m\u001b[0m\u001b[0;34m\u001b[0m\u001b[0m\n",
      "\u001b[0;31mNameError\u001b[0m: name 'api_sets' is not defined"
     ]
    }
   ],
   "source": [
    "for api_list in tqdm(api_sets.compute()):\n",
    "    P_edges.update(prep_edges(api_list))\n",
    "\n",
    "P_mat = mlb.transform(pd.DataFrame(P_edges).groupby(0)[1].unique().sort_index())\n",
    "P_mat"
   ]
  },
  {
   "cell_type": "code",
   "execution_count": 10,
   "id": "bronze-thailand",
   "metadata": {},
   "outputs": [
    {
     "name": "stdout",
     "output_type": "stream",
     "text": [
      "Dask Cluster: LocalCluster('tcp://127.0.0.1:42591', workers=4, threads=8, memory=68.72 GB)\n",
      "Dashboard port: 8787\n"
     ]
    },
    {
     "name": "stderr",
     "output_type": "stream",
     "text": [
      "100%|██████████| 16790/16790 [00:00<00:00, 300520.04it/s]"
     ]
    },
    {
     "name": "stdout",
     "output_type": "stream",
     "text": [
      "Constructing A matrix...\n",
      "Constructing B matrix...\n"
     ]
    },
    {
     "name": "stderr",
     "output_type": "stream",
     "text": [
      "\n",
      " 52%|█████▏    | 150/286 [00:00<00:00, 1274.99it/s]"
     ]
    },
    {
     "name": "stdout",
     "output_type": "stream",
     "text": [
      "Constructing P matrix...\n"
     ]
    },
    {
     "name": "stderr",
     "output_type": "stream",
     "text": [
      "100%|██████████| 286/286 [00:00<00:00, 781.79it/s] \n"
     ]
    },
    {
     "name": "stdout",
     "output_type": "stream",
     "text": [
      "CPU times: user 6.4 s, sys: 768 ms, total: 7.17 s\n",
      "Wall time: 13.9 s\n"
     ]
    }
   ],
   "source": [
    "%time build_matrices('data/out/test-sample')"
   ]
  },
  {
   "cell_type": "code",
   "execution_count": null,
   "id": "recent-story",
   "metadata": {},
   "outputs": [
    {
     "name": "stdout",
     "output_type": "stream",
     "text": [
      "Dask Cluster: LocalCluster('tcp://127.0.0.1:46870', workers=4, threads=8, memory=68.72 GB)\n",
      "Dashboard port: 8787\n",
      "Constructing A matrix...\n",
      "Constructing B matrix...\n"
     ]
    },
    {
     "name": "stderr",
     "output_type": "stream",
     "text": [
      "100%|██████████| 2843658/2843658 [00:11<00:00, 245104.59it/s]\n"
     ]
    },
    {
     "name": "stdout",
     "output_type": "stream",
     "text": [
      "Constructing P matrix...\n"
     ]
    },
    {
     "name": "stderr",
     "output_type": "stream",
     "text": [
      " 11%|█         | 27468/246035 [01:01<04:58, 732.23it/s] "
     ]
    }
   ],
   "source": [
    "%time build_matrices(outfolder)"
   ]
  },
  {
   "cell_type": "code",
   "execution_count": 6,
   "id": "irish-chorus",
   "metadata": {},
   "outputs": [],
   "source": [
    "api_map_path = os.path.join(outfolder, 'api_map.csv')\n",
    "apis = pd.read_csv(api_map_path, index_col='api').uid.str.replace('api', '').astype(int).values"
   ]
  },
  {
   "cell_type": "code",
   "execution_count": 13,
   "id": "voluntary-spring",
   "metadata": {},
   "outputs": [],
   "source": [
    "def parse_P_edges(api_list, P_edges_file):\n",
    "    P_edges_writer = csv.writer(P_edges_file)\n",
    "    if len(api_list) >= 15000: # if combinations too large for memory\n",
    "        temp_edges = []\n",
    "        for idx1 in api_list:\n",
    "            for idx2 in api_list:\n",
    "                temp_edges.append((idx1, idx2))\n",
    "                if len(temp_edges) > 50000:\n",
    "                    P_edges_writer.writerows(temp_edges)\n",
    "                    temp_edges = []\n",
    "        P_edges_writer.writerows(temp_edges)\n",
    "    else:\n",
    "        P_edges_writer.writerows(combinations(api_list, r=2))"
   ]
  },
  {
   "cell_type": "code",
   "execution_count": null,
   "id": "above-nashville",
   "metadata": {},
   "outputs": [
    {
     "data": {
      "application/vnd.jupyter.widget-view+json": {
       "model_id": "e1e80076602e4543979cf4ada0c91889",
       "version_major": 2,
       "version_minor": 0
      },
      "text/plain": [
       "  0%|          | 0/246035 [00:00<?, ?it/s]"
      ]
     },
     "metadata": {},
     "output_type": "display_data"
    }
   ],
   "source": [
    "P_edges_filepath = os.path.join('data', 'temp', 'P_edges.csv')\n",
    "\n",
    "pd.DataFrame([(api, api) for api in apis], columns=['source', 'target']).to_csv(P_edges_filepath, index=False)\n",
    "\n",
    "with open(P_edges_filepath, 'a') as P_edges_file:\n",
    "    p_umap(partial(parse_P_edges, P_edges_file=P_edges_file), pd.read_pickle('data/temp/package_api_sets.pkl'))\n",
    "#     for api_list in tqdm():\n",
    "#         parse_P_edges(api_list, P_edges_writer)"
   ]
  },
  {
   "cell_type": "code",
   "execution_count": 8,
   "id": "artistic-sally",
   "metadata": {},
   "outputs": [
    {
     "name": "stderr",
     "output_type": "stream",
     "text": [
      "27584it [00:32, 976.61it/s]  "
     ]
    },
    {
     "name": "stdout",
     "output_type": "stream",
     "text": [
      "package1269 33490\n"
     ]
    },
    {
     "name": "stderr",
     "output_type": "stream",
     "text": [
      "29891it [01:46, 280.88it/s]\n"
     ]
    },
    {
     "ename": "KeyboardInterrupt",
     "evalue": "",
     "output_type": "error",
     "traceback": [
      "\u001b[0;31m\u001b[0m",
      "\u001b[0;31mKeyboardInterrupt\u001b[0mTraceback (most recent call last)",
      "\u001b[0;32m<ipython-input-8-b98ca3f742ae>\u001b[0m in \u001b[0;36m<module>\u001b[0;34m\u001b[0m\n\u001b[1;32m      7\u001b[0m         \u001b[0;32mfor\u001b[0m \u001b[0midx1\u001b[0m \u001b[0;32min\u001b[0m \u001b[0mapi_list\u001b[0m\u001b[0;34m:\u001b[0m\u001b[0;34m\u001b[0m\u001b[0;34m\u001b[0m\u001b[0m\n\u001b[1;32m      8\u001b[0m             \u001b[0;32mfor\u001b[0m \u001b[0midx2\u001b[0m \u001b[0;32min\u001b[0m \u001b[0mapi_list\u001b[0m\u001b[0;34m:\u001b[0m\u001b[0;34m\u001b[0m\u001b[0;34m\u001b[0m\u001b[0m\n\u001b[0;32m----> 9\u001b[0;31m                 \u001b[0mtemp_edges\u001b[0m\u001b[0;34m.\u001b[0m\u001b[0mappend\u001b[0m\u001b[0;34m(\u001b[0m\u001b[0;34m(\u001b[0m\u001b[0midx1\u001b[0m\u001b[0;34m,\u001b[0m \u001b[0midx2\u001b[0m\u001b[0;34m)\u001b[0m\u001b[0;34m)\u001b[0m\u001b[0;34m\u001b[0m\u001b[0;34m\u001b[0m\u001b[0m\n\u001b[0m\u001b[1;32m     10\u001b[0m     \u001b[0;32melse\u001b[0m\u001b[0;34m:\u001b[0m\u001b[0;34m\u001b[0m\u001b[0;34m\u001b[0m\u001b[0m\n\u001b[1;32m     11\u001b[0m         \u001b[0mtemp_edges\u001b[0m\u001b[0;34m.\u001b[0m\u001b[0mextend\u001b[0m\u001b[0;34m(\u001b[0m\u001b[0mcombinations\u001b[0m\u001b[0;34m(\u001b[0m\u001b[0mapi_list\u001b[0m\u001b[0;34m,\u001b[0m \u001b[0mr\u001b[0m\u001b[0;34m=\u001b[0m\u001b[0;36m2\u001b[0m\u001b[0;34m)\u001b[0m\u001b[0;34m)\u001b[0m\u001b[0;34m\u001b[0m\u001b[0;34m\u001b[0m\u001b[0m\n",
      "\u001b[0;31mKeyboardInterrupt\u001b[0m: "
     ]
    }
   ],
   "source": [
    "temp_edges = list(pd.Series(apis).apply(lambda x: (x,x)))\n",
    "#     for combos in p_imap(prep_edges, pd.read_pickle('data/temp/package_api_sets.pkl')):\n",
    "#         temp_edges.extend(combos)\n",
    "for package, api_list in tqdm(pd.read_pickle('data/temp/package_api_sets.pkl').items()):\n",
    "    if len(api_list) >= 15000: # if combinations too large for memory\n",
    "        print(package, len(api_list))\n",
    "        for idx1 in api_list:\n",
    "            for idx2 in api_list:\n",
    "                temp_edges.append((idx1, idx2))\n",
    "    else:\n",
    "        temp_edges.extend(combinations(api_list, r=2))\n",
    "P_mat = mlb.transform(pd.DataFrame(temp_edges).groupby(0)[1].unique().sort_index())"
   ]
  },
  {
   "cell_type": "code",
   "execution_count": 11,
   "id": "bizarre-matter",
   "metadata": {},
   "outputs": [],
   "source": [
    "temp_edges = None"
   ]
  },
  {
   "cell_type": "code",
   "execution_count": 9,
   "id": "analyzed-genealogy",
   "metadata": {},
   "outputs": [
    {
     "data": {
      "text/plain": [
       "6540755792"
      ]
     },
     "execution_count": 9,
     "metadata": {},
     "output_type": "execute_result"
    }
   ],
   "source": [
    "import sys\n",
    "sys.getsizeof(temp_edges)"
   ]
  },
  {
   "cell_type": "code",
   "execution_count": 10,
   "id": "quantitative-display",
   "metadata": {},
   "outputs": [
    {
     "data": {
      "text/plain": [
       "56"
      ]
     },
     "execution_count": 10,
     "metadata": {},
     "output_type": "execute_result"
    }
   ],
   "source": [
    "import sys\n",
    "sys.getsizeof((1,2))"
   ]
  },
  {
   "cell_type": "code",
   "execution_count": 12,
   "id": "leading-excitement",
   "metadata": {},
   "outputs": [
    {
     "data": {
      "text/plain": [
       "source\n",
       "package0          1716\n",
       "package101        3951\n",
       "package102        1201\n",
       "package1029      12128\n",
       "package103        1314\n",
       "                 ...  \n",
       "package227284     7222\n",
       "package227326     2003\n",
       "package227601     1189\n",
       "package227630     2287\n",
       "package245813     1474\n",
       "Name: target, Length: 254, dtype: int64"
      ]
     },
     "execution_count": 12,
     "metadata": {},
     "output_type": "execute_result"
    }
   ],
   "source": [
    "package_api_sets = pd.read_pickle('data/temp/package_api_sets.pkl')\n",
    "pkg_lens = package_api_sets.apply(len)\n",
    "pkg_lens[pkg_lens>1000]"
   ]
  },
  {
   "cell_type": "code",
   "execution_count": 27,
   "id": "quiet-religion",
   "metadata": {},
   "outputs": [
    {
     "data": {
      "text/plain": [
       "<zip at 0x7f274c9b51c0>"
      ]
     },
     "execution_count": 27,
     "metadata": {},
     "output_type": "execute_result"
    }
   ],
   "source": [
    "package_api_sets.items()"
   ]
  },
  {
   "cell_type": "code",
   "execution_count": null,
   "id": "reserved-saturday",
   "metadata": {},
   "outputs": [],
   "source": [
    "sys.getsizeof(list(combinations((i for i in range(174_318)), r=2)))"
   ]
  },
  {
   "cell_type": "code",
   "execution_count": 22,
   "id": "olive-tomato",
   "metadata": {},
   "outputs": [
    {
     "data": {
      "text/plain": [
       "source\n",
       "package1029       12128\n",
       "package119        14488\n",
       "package1269       33490\n",
       "package1294       25454\n",
       "package133        10883\n",
       "package139        17335\n",
       "package141621     38315\n",
       "package227134     27881\n",
       "package2276       11418\n",
       "package2363      106893\n",
       "package251       174318\n",
       "package2816       18863\n",
       "package286        10675\n",
       "package338        10943\n",
       "package580        16923\n",
       "Name: target, dtype: int64"
      ]
     },
     "execution_count": 22,
     "metadata": {},
     "output_type": "execute_result"
    }
   ],
   "source": [
    "pkg_lens[pkg_lens>10000].index"
   ]
  },
  {
   "cell_type": "code",
   "execution_count": 23,
   "id": "chronic-poster",
   "metadata": {},
   "outputs": [
    {
     "data": {
      "text/plain": [
       "source\n",
       "package1029                              Lcom/google/protobuf\n",
       "package119                         Landroidx/appcompat/widget\n",
       "package1269      Lcom/google/android/gms/internal/measurement\n",
       "package1294      Lcom/google/android/gms/measurement/internal\n",
       "package133                             Landroidx/fragment/app\n",
       "package139                      Landroidx/recyclerview/widget\n",
       "package141621                                              LX\n",
       "package227134                                            Lcal\n",
       "package2276                             Lcom/vungle/publisher\n",
       "package2363                  Lcom/google/android/gms/internal\n",
       "package251               Lcom/google/android/gms/internal/ads\n",
       "package2816                                                Lo\n",
       "package286        Lcom/google/android/gms/common/api/internal\n",
       "package338             Lcom/google/android/gms/games/internal\n",
       "package580                         Landroid/support/v7/widget\n",
       "Name: package, dtype: object"
      ]
     },
     "execution_count": 23,
     "metadata": {},
     "output_type": "execute_result"
    }
   ],
   "source": [
    "pd.read_csv(os.path.join(outfolder, 'package_map.csv'), index_col='uid').package[pkg_lens[pkg_lens>10000].index]"
   ]
  },
  {
   "cell_type": "code",
   "execution_count": null,
   "id": "clear-translator",
   "metadata": {},
   "outputs": [],
   "source": [
    "%time make_models(outfolder)"
   ]
  },
  {
   "cell_type": "code",
   "execution_count": 45,
   "id": "perceived-lighting",
   "metadata": {},
   "outputs": [
    {
     "data": {
      "text/html": [
       "<div>\n",
       "<style scoped>\n",
       "    .dataframe tbody tr th:only-of-type {\n",
       "        vertical-align: middle;\n",
       "    }\n",
       "\n",
       "    .dataframe tbody tr th {\n",
       "        vertical-align: top;\n",
       "    }\n",
       "\n",
       "    .dataframe thead th {\n",
       "        text-align: right;\n",
       "    }\n",
       "</style>\n",
       "<table border=\"1\" class=\"dataframe\">\n",
       "  <thead>\n",
       "    <tr style=\"text-align: right;\">\n",
       "      <th></th>\n",
       "      <th>app</th>\n",
       "      <th>app_dir</th>\n",
       "      <th>category</th>\n",
       "    </tr>\n",
       "  </thead>\n",
       "  <tbody>\n",
       "    <tr>\n",
       "      <th>0</th>\n",
       "      <td>635a57a483cda858f78f14386e76aab4</td>\n",
       "      <td>/teams/DSC180A_FA20_A00/a04malware/malware/Ban...</td>\n",
       "      <td>malware</td>\n",
       "    </tr>\n",
       "    <tr>\n",
       "      <th>1</th>\n",
       "      <td>912054e230f08f3747c2966d3f92944f</td>\n",
       "      <td>/teams/DSC180A_FA20_A00/a04malware/malware/You...</td>\n",
       "      <td>malware</td>\n",
       "    </tr>\n",
       "    <tr>\n",
       "      <th>2</th>\n",
       "      <td>29b4865171cdfad2a6f011614a1a8038</td>\n",
       "      <td>/teams/DSC180A_FA20_A00/a04malware/malware/Fak...</td>\n",
       "      <td>malware</td>\n",
       "    </tr>\n",
       "    <tr>\n",
       "      <th>3</th>\n",
       "      <td>2a92f33fa4b5af4e61d70eb15a28030d</td>\n",
       "      <td>/teams/DSC180A_FA20_A00/a04malware/malware/You...</td>\n",
       "      <td>malware</td>\n",
       "    </tr>\n",
       "    <tr>\n",
       "      <th>4</th>\n",
       "      <td>35ecbda726e1e56467bf8b0e0dbe2c2a</td>\n",
       "      <td>/teams/DSC180A_FA20_A00/a04malware/malware/Fak...</td>\n",
       "      <td>malware</td>\n",
       "    </tr>\n",
       "    <tr>\n",
       "      <th>5</th>\n",
       "      <td>com.sfeehha.bubble419</td>\n",
       "      <td>/teams/DSC180A_FA20_A00/a04malware/popular-app...</td>\n",
       "      <td>popular-apps</td>\n",
       "    </tr>\n",
       "  </tbody>\n",
       "</table>\n",
       "</div>"
      ],
      "text/plain": [
       "                                app  \\\n",
       "0  635a57a483cda858f78f14386e76aab4   \n",
       "1  912054e230f08f3747c2966d3f92944f   \n",
       "2  29b4865171cdfad2a6f011614a1a8038   \n",
       "3  2a92f33fa4b5af4e61d70eb15a28030d   \n",
       "4  35ecbda726e1e56467bf8b0e0dbe2c2a   \n",
       "5             com.sfeehha.bubble419   \n",
       "\n",
       "                                             app_dir      category  \n",
       "0  /teams/DSC180A_FA20_A00/a04malware/malware/Ban...       malware  \n",
       "1  /teams/DSC180A_FA20_A00/a04malware/malware/You...       malware  \n",
       "2  /teams/DSC180A_FA20_A00/a04malware/malware/Fak...       malware  \n",
       "3  /teams/DSC180A_FA20_A00/a04malware/malware/You...       malware  \n",
       "4  /teams/DSC180A_FA20_A00/a04malware/malware/Fak...       malware  \n",
       "5  /teams/DSC180A_FA20_A00/a04malware/popular-app...  popular-apps  "
      ]
     },
     "execution_count": 45,
     "metadata": {},
     "output_type": "execute_result"
    }
   ],
   "source": [
    "pd.read_csv(os.path.join(outfolder, 'app_list.csv'))"
   ]
  },
  {
   "cell_type": "code",
   "execution_count": 33,
   "id": "apparent-secondary",
   "metadata": {},
   "outputs": [
    {
     "data": {
      "text/html": [
       "<div>\n",
       "<style scoped>\n",
       "    .dataframe tbody tr th:only-of-type {\n",
       "        vertical-align: middle;\n",
       "    }\n",
       "\n",
       "    .dataframe tbody tr th {\n",
       "        vertical-align: top;\n",
       "    }\n",
       "\n",
       "    .dataframe thead th {\n",
       "        text-align: right;\n",
       "    }\n",
       "</style>\n",
       "<table border=\"1\" class=\"dataframe\">\n",
       "  <thead>\n",
       "    <tr style=\"text-align: right;\">\n",
       "      <th></th>\n",
       "      <th>app</th>\n",
       "      <th>app_dir</th>\n",
       "      <th>category</th>\n",
       "      <th>malware</th>\n",
       "    </tr>\n",
       "  </thead>\n",
       "  <tbody>\n",
       "    <tr>\n",
       "      <th>5871</th>\n",
       "      <td>com.sega.PhantasyStarII</td>\n",
       "      <td>/teams/DSC180A_FA20_A00/a04malware/popular-app...</td>\n",
       "      <td>popular-apps</td>\n",
       "      <td>0</td>\n",
       "    </tr>\n",
       "  </tbody>\n",
       "</table>\n",
       "</div>"
      ],
      "text/plain": [
       "                          app  \\\n",
       "5871  com.sega.PhantasyStarII   \n",
       "\n",
       "                                                app_dir      category malware  \n",
       "5871  /teams/DSC180A_FA20_A00/a04malware/popular-app...  popular-apps       0  "
      ]
     },
     "execution_count": 33,
     "metadata": {},
     "output_type": "execute_result"
    }
   ],
   "source": [
    "popular_apps = pd.read_csv('data/out/all-apps/app_list.csv', dtype=str)\n",
    "popular_apps = popular_apps[popular_apps.category=='popular-apps']\n",
    "popular_apps.sample(1)"
   ]
  },
  {
   "cell_type": "code",
   "execution_count": 25,
   "id": "significant-holmes",
   "metadata": {},
   "outputs": [
    {
     "data": {
      "text/html": [
       "<div>\n",
       "<style scoped>\n",
       "    .dataframe tbody tr th:only-of-type {\n",
       "        vertical-align: middle;\n",
       "    }\n",
       "\n",
       "    .dataframe tbody tr th {\n",
       "        vertical-align: top;\n",
       "    }\n",
       "\n",
       "    .dataframe thead th {\n",
       "        text-align: right;\n",
       "    }\n",
       "</style>\n",
       "<table border=\"1\" class=\"dataframe\">\n",
       "  <thead>\n",
       "    <tr style=\"text-align: right;\">\n",
       "      <th></th>\n",
       "      <th>app</th>\n",
       "      <th>uid</th>\n",
       "      <th>app_dir</th>\n",
       "      <th>category</th>\n",
       "    </tr>\n",
       "    <tr>\n",
       "      <th>uid</th>\n",
       "      <th></th>\n",
       "      <th></th>\n",
       "      <th></th>\n",
       "      <th></th>\n",
       "    </tr>\n",
       "  </thead>\n",
       "  <tbody>\n",
       "    <tr>\n",
       "      <th>0</th>\n",
       "      <td>635a57a483cda858f78f14386e76aab4</td>\n",
       "      <td>app0</td>\n",
       "      <td>/teams/DSC180A_FA20_A00/a04malware/malware/Ban...</td>\n",
       "      <td>malware</td>\n",
       "    </tr>\n",
       "    <tr>\n",
       "      <th>1</th>\n",
       "      <td>912054e230f08f3747c2966d3f92944f</td>\n",
       "      <td>app1</td>\n",
       "      <td>/teams/DSC180A_FA20_A00/a04malware/malware/You...</td>\n",
       "      <td>malware</td>\n",
       "    </tr>\n",
       "    <tr>\n",
       "      <th>2</th>\n",
       "      <td>29b4865171cdfad2a6f011614a1a8038</td>\n",
       "      <td>app2</td>\n",
       "      <td>/teams/DSC180A_FA20_A00/a04malware/malware/Fak...</td>\n",
       "      <td>malware</td>\n",
       "    </tr>\n",
       "    <tr>\n",
       "      <th>3</th>\n",
       "      <td>2a92f33fa4b5af4e61d70eb15a28030d</td>\n",
       "      <td>app3</td>\n",
       "      <td>/teams/DSC180A_FA20_A00/a04malware/malware/You...</td>\n",
       "      <td>malware</td>\n",
       "    </tr>\n",
       "    <tr>\n",
       "      <th>4</th>\n",
       "      <td>35ecbda726e1e56467bf8b0e0dbe2c2a</td>\n",
       "      <td>app4</td>\n",
       "      <td>/teams/DSC180A_FA20_A00/a04malware/malware/Fak...</td>\n",
       "      <td>malware</td>\n",
       "    </tr>\n",
       "  </tbody>\n",
       "</table>\n",
       "</div>"
      ],
      "text/plain": [
       "                                  app   uid  \\\n",
       "uid                                           \n",
       "0    635a57a483cda858f78f14386e76aab4  app0   \n",
       "1    912054e230f08f3747c2966d3f92944f  app1   \n",
       "2    29b4865171cdfad2a6f011614a1a8038  app2   \n",
       "3    2a92f33fa4b5af4e61d70eb15a28030d  app3   \n",
       "4    35ecbda726e1e56467bf8b0e0dbe2c2a  app4   \n",
       "\n",
       "                                               app_dir category  \n",
       "uid                                                              \n",
       "0    /teams/DSC180A_FA20_A00/a04malware/malware/Ban...  malware  \n",
       "1    /teams/DSC180A_FA20_A00/a04malware/malware/You...  malware  \n",
       "2    /teams/DSC180A_FA20_A00/a04malware/malware/Fak...  malware  \n",
       "3    /teams/DSC180A_FA20_A00/a04malware/malware/You...  malware  \n",
       "4    /teams/DSC180A_FA20_A00/a04malware/malware/Fak...  malware  "
      ]
     },
     "execution_count": 25,
     "metadata": {},
     "output_type": "execute_result"
    }
   ],
   "source": [
    "apps = (\n",
    "    pd.read_csv(\n",
    "        os.path.join(outfolder, 'app_map.csv'),\n",
    "        dtype=str,\n",
    "        index_col='app'\n",
    "    ).join(\n",
    "        pd.read_csv(\n",
    "            os.path.join(outfolder, 'app_list.csv'),\n",
    "            dtype=str,\n",
    "            index_col='app'\n",
    "        )\n",
    "    )\n",
    ")\n",
    "apps = apps.reset_index().set_index(apps.uid.str.replace('app', '').astype(int)).sort_index()\n",
    "apps"
   ]
  },
  {
   "cell_type": "code",
   "execution_count": 3,
   "id": "significant-broadcasting",
   "metadata": {},
   "outputs": [
    {
     "data": {
      "text/plain": [
       "'../data/out/test-sample/edges.csv'"
      ]
     },
     "execution_count": 3,
     "metadata": {},
     "output_type": "execute_result"
    }
   ],
   "source": [
    "edges_path = os.path.join(outfolder, 'edges.csv')\n",
    "api_map_path = os.path.join(outfolder, 'api_map.csv')\n",
    "app_map_path = os.path.join(outfolder, 'app_map.csv')\n",
    "apis = pd.read_csv(api_map_path, index_col='api').uid.str.replace('api', '').astype(int).values\n",
    "apps = pd.read_csv(app_map_path, index_col='app').uid.str.replace('app', '').astype(int).values\n",
    "edges_path"
   ]
  },
  {
   "cell_type": "code",
   "execution_count": 4,
   "id": "dependent-thousand",
   "metadata": {},
   "outputs": [],
   "source": [
    "edges = dd.read_csv(edges_path, dtype=str)\n",
    "edges['target'] = edges.target.str.replace('api', '').astype(int)\n",
    "app_api_edges = edges[edges.source.str.startswith('app')]\n",
    "\n",
    "num_apps = apps.size\n",
    "num_apis = apis.size\n",
    "\n",
    "app_api_edges['source'] = app_api_edges.source.str.replace('app', '').astype(int)"
   ]
  },
  {
   "cell_type": "code",
   "execution_count": 31,
   "id": "pending-mentor",
   "metadata": {
    "scrolled": true
   },
   "outputs": [
    {
     "data": {
      "text/plain": [
       "<5x15875 sparse matrix of type '<class 'numpy.int64'>'\n",
       "\twith 18900 stored elements in Compressed Sparse Row format>"
      ]
     },
     "execution_count": 31,
     "metadata": {},
     "output_type": "execute_result"
    }
   ],
   "source": [
    "app_api_edges.groupby('source').target.unique().compute()\n",
    "mlb = MultiLabelBinarizer(sparse_output=True)\n",
    "mlb.fit([(api,) for api in apis])\n",
    "A_mat = mlb.transform(app_api_edges.groupby('source').target.unique().compute().sort_index())\n",
    "A_mat"
   ]
  },
  {
   "cell_type": "code",
   "execution_count": 29,
   "id": "alpine-safety",
   "metadata": {},
   "outputs": [
    {
     "data": {
      "application/vnd.jupyter.widget-view+json": {
       "model_id": "43dfeb57cae64906bede90f9e15241ab",
       "version_major": 2,
       "version_minor": 0
      },
      "text/plain": [
       "  0%|          | 0/13958 [00:00<?, ?it/s]"
      ]
     },
     "metadata": {},
     "output_type": "display_data"
    },
    {
     "data": {
      "text/plain": [
       "<15875x15875 sparse matrix of type '<class 'numpy.int64'>'\n",
       "\twith 204206 stored elements in Compressed Sparse Row format>"
      ]
     },
     "execution_count": 29,
     "metadata": {},
     "output_type": "execute_result"
    }
   ],
   "source": [
    "api_method_edges = edges[edges.source.str.startswith('method')]\n",
    "api_sets = api_method_edges.groupby('source').target.unique()\n",
    "B_edges = set(pd.Series(apis).apply(lambda x: (x,x)))\n",
    "\n",
    "for combos in p_imap(partial(combinations, r=2), api_sets.compute()):\n",
    "    B_edges.update(combos)\n",
    "    B_edges.update([(combo[1], combo[0]) for combo in combos])\n",
    "    \n",
    "B_mat = mlb.transform(pd.DataFrame(B_edges).groupby(0)[1].unique().sort_index())\n",
    "B_mat"
   ]
  },
  {
   "cell_type": "code",
   "execution_count": 27,
   "id": "sticky-stranger",
   "metadata": {},
   "outputs": [
    {
     "data": {
      "application/vnd.jupyter.widget-view+json": {
       "model_id": "37f05ddfcc154a96b243de9c53666dc1",
       "version_major": 2,
       "version_minor": 0
      },
      "text/plain": [
       "  0%|          | 0/250 [00:00<?, ?it/s]"
      ]
     },
     "metadata": {},
     "output_type": "display_data"
    },
    {
     "data": {
      "text/plain": [
       "<15875x15875 sparse matrix of type '<class 'numpy.int64'>'\n",
       "\twith 2800987 stored elements in Compressed Sparse Row format>"
      ]
     },
     "execution_count": 27,
     "metadata": {},
     "output_type": "execute_result"
    }
   ],
   "source": [
    "api_package_edges = edges[edges.source.str.startswith('package')]\n",
    "api_sets = api_package_edges.groupby('source').target.unique()\n",
    "P_edges = set(pd.Series(apis).apply(lambda x: (x,x)))\n",
    "\n",
    "P_edges.update([(api, api) for api in apis])\n",
    "\n",
    "for combos in p_imap(partial(combinations, r=2), api_sets.compute()):\n",
    "    P_edges.update(combos)\n",
    "\n",
    "P_mat = mlb.transform(pd.DataFrame(P_edges).groupby(0)[1].unique().sort_index())\n",
    "P_mat"
   ]
  },
  {
   "cell_type": "code",
   "execution_count": null,
   "id": "single-harrison",
   "metadata": {},
   "outputs": [],
   "source": []
  }
 ],
 "metadata": {
  "kernelspec": {
   "display_name": "Python 3",
   "language": "python",
   "name": "python3"
  },
  "language_info": {
   "codemirror_mode": {
    "name": "ipython",
    "version": 3
   },
   "file_extension": ".py",
   "mimetype": "text/x-python",
   "name": "python",
   "nbconvert_exporter": "python",
   "pygments_lexer": "ipython3",
   "version": "3.8.6"
  }
 },
 "nbformat": 4,
 "nbformat_minor": 5
}
