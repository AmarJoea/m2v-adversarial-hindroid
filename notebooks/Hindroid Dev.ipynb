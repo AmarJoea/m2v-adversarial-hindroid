{
 "cells": [
  {
   "cell_type": "code",
   "execution_count": 1,
   "id": "biological-supplement",
   "metadata": {},
   "outputs": [],
   "source": [
    "from dask.distributed import Client, LocalCluster, performance_report\n",
    "import dask.dataframe as dd\n",
    "import os\n",
    "import pandas as pd\n",
    "import numpy as np\n",
    "import pickle\n",
    "import json\n",
    "import sys\n",
    "from stellargraph import StellarGraph, IndexedArray\n",
    "from stellargraph.data import UniformRandomMetaPathWalk\n",
    "from gensim.models import Word2Vec\n",
    "from p_tqdm import p_umap, p_imap, p_map\n",
    "from tqdm import tqdm\n",
    "from scipy import sparse\n",
    "from itertools import combinations, product\n",
    "from functools import partial\n",
    "from sklearn.preprocessing import OneHotEncoder, MultiLabelBinarizer\n",
    "from sklearn.utils.extmath import cartesian\n",
    "import csv"
   ]
  },
  {
   "cell_type": "code",
   "execution_count": 2,
   "id": "structured-skill",
   "metadata": {},
   "outputs": [
    {
     "name": "stdout",
     "output_type": "stream",
     "text": [
      "/home/rcgonzal/DSC180Malware/m2v-adversarial-hindroid\r\n"
     ]
    }
   ],
   "source": [
    "os.chdir('/home/rcgonzal/DSC180Malware/m2v-adversarial-hindroid/')\n",
    "!pwd"
   ]
  },
  {
   "cell_type": "code",
   "execution_count": 3,
   "id": "optical-arrival",
   "metadata": {},
   "outputs": [],
   "source": [
    "from src.data.hindroid import *\n",
    "\n",
    "%load_ext autoreload\n",
    "%autoreload 2"
   ]
  },
  {
   "cell_type": "code",
   "execution_count": 4,
   "id": "champion-professor",
   "metadata": {},
   "outputs": [],
   "source": [
    "outfolder = \"data/out/miniset-train\"\n",
    "num_apis = 2547149"
   ]
  },
  {
   "cell_type": "code",
   "execution_count": 5,
   "id": "raised-gothic",
   "metadata": {},
   "outputs": [
    {
     "data": {
      "text/plain": [
       "(22337, 254)"
      ]
     },
     "execution_count": 5,
     "metadata": {},
     "output_type": "execute_result"
    }
   ],
   "source": [
    "api_sets_large = pd.read_pickle('data/temp/package_api_sets.pkl')\n",
    "api_sets_small = api_sets_large[api_sets_large.apply(len)<=1000]\n",
    "api_sets_large = api_sets_large[api_sets_large.apply(len)>1000]\n",
    "len(api_sets_small), len(api_sets_large)"
   ]
  },
  {
   "cell_type": "code",
   "execution_count": 6,
   "id": "metallic-glass",
   "metadata": {},
   "outputs": [
    {
     "data": {
      "application/vnd.jupyter.widget-view+json": {
       "model_id": "516c574da421497298e82a27bc00fd3e",
       "version_major": 2,
       "version_minor": 0
      },
      "text/plain": [
       "  0%|          | 0/22337 [00:00<?, ?it/s]"
      ]
     },
     "metadata": {},
     "output_type": "display_data"
    },
    {
     "name": "stdout",
     "output_type": "stream",
     "text": [
      "808932515\n"
     ]
    }
   ],
   "source": [
    "def build_P_mat(api_sets, num_apis):\n",
    "    comb_func = lambda api_list: np.array(list(combinations(api_list, r=2)))\n",
    "    row = []\n",
    "    col = []\n",
    "    for combos in p_imap(comb_func, api_sets):\n",
    "        row.extend(combos[:,0])\n",
    "        col.extend(combos[:,1])\n",
    "    mat = sparse.csr_matrix(([True]*len(row), (row, col)), shape=(num_apis, num_apis), dtype=bool)\n",
    "    del row, col\n",
    "    return mat"
   ]
  },
  {
   "cell_type": "code",
   "execution_count": 10,
   "id": "bronze-thailand",
   "metadata": {
    "collapsed": true
   },
   "outputs": [
    {
     "name": "stdout",
     "output_type": "stream",
     "text": [
      "Dask Cluster: LocalCluster('tcp://127.0.0.1:33587', workers=4, threads=8, memory=68.72 GB)\n",
      "Dashboard port: 8787\n",
      "Constructing A matrix...\n",
      "Constructing B matrix (Step 1)...\n"
     ]
    },
    {
     "data": {
      "application/vnd.jupyter.widget-view+json": {
       "model_id": "77e10077b76446199de52ca1ed893ccc",
       "version_major": 2,
       "version_minor": 0
      },
      "text/plain": [
       "  0%|          | 0/16790 [00:00<?, ?it/s]"
      ]
     },
     "metadata": {},
     "output_type": "display_data"
    },
    {
     "name": "stderr",
     "output_type": "stream",
     "text": [
      "1it [00:00,  7.15it/s]"
     ]
    },
    {
     "name": "stdout",
     "output_type": "stream",
     "text": [
      "Constructing B matrix (Step 2)...\n",
      "Constructed: <18746x18746 sparse matrix of type '<class 'numpy.float64'>'\n",
      "\twith 435082 stored elements in Compressed Sparse Row format>\n"
     ]
    },
    {
     "name": "stderr",
     "output_type": "stream",
     "text": [
      "\n"
     ]
    },
    {
     "name": "stdout",
     "output_type": "stream",
     "text": [
      "Constructing P matrix...\n"
     ]
    },
    {
     "name": "stderr",
     "output_type": "stream",
     "text": [
      "/home/rcgonzal/.local/lib/python3.8/site-packages/scipy/sparse/_index.py:125: SparseEfficiencyWarning: Changing the sparsity structure of a csr_matrix is expensive. lil_matrix is more efficient.\n",
      "  self._set_arrayXarray(i, j, x)\n"
     ]
    },
    {
     "data": {
      "application/vnd.jupyter.widget-view+json": {
       "model_id": "84b7b39946b3428896ed088544e78b6e",
       "version_major": 2,
       "version_minor": 0
      },
      "text/plain": [
       "  0%|          | 0/255 [00:00<?, ?it/s]"
      ]
     },
     "metadata": {},
     "output_type": "display_data"
    },
    {
     "name": "stdout",
     "output_type": "stream",
     "text": [
      "Constructed: <18746x18746 sparse matrix of type '<class 'numpy.bool_'>'\n",
      "\twith 6293344 stored elements in Compressed Sparse Row format>\n",
      "CPU times: user 27.5 s, sys: 2.57 s, total: 30.1 s\n",
      "Wall time: 39.2 s\n"
     ]
    }
   ],
   "source": [
    "%time A_mat, B_mat, P_mat = build_matrices('data/out/test-sample')"
   ]
  },
  {
   "cell_type": "code",
   "execution_count": 11,
   "id": "wireless-reporter",
   "metadata": {},
   "outputs": [
    {
     "data": {
      "text/plain": [
       "(<6x18746 sparse matrix of type '<class 'numpy.int64'>'\n",
       " \twith 22446 stored elements in Compressed Sparse Row format>,\n",
       " <18746x18746 sparse matrix of type '<class 'numpy.float64'>'\n",
       " \twith 435082 stored elements in Compressed Sparse Row format>,\n",
       " <18746x18746 sparse matrix of type '<class 'numpy.bool_'>'\n",
       " \twith 6293344 stored elements in Compressed Sparse Row format>)"
      ]
     },
     "execution_count": 11,
     "metadata": {},
     "output_type": "execute_result"
    }
   ],
   "source": [
    "A_mat, B_mat, P_mat"
   ]
  },
  {
   "cell_type": "code",
   "execution_count": 21,
   "id": "compatible-leonard",
   "metadata": {},
   "outputs": [
    {
     "name": "stdout",
     "output_type": "stream",
     "text": [
      "Fitting AAT model...\n",
      "Fitting ABAT model...\n",
      "Fitting APAT model...\n",
      "Fitting ABPBTAT model...\n",
      "Fitting APBPTAT model...\n",
      "              acc  recall        f1\n",
      "kernel                             \n",
      "AAT      0.833333     1.0  0.909091\n",
      "ABAT     0.833333     1.0  0.909091\n",
      "APAT     0.833333     1.0  0.909091\n",
      "ABPBTAT  0.833333     1.0  0.909091\n",
      "APBPTAT  0.833333     1.0  0.909091\n",
      "CPU times: user 155 ms, sys: 17.1 ms, total: 172 ms\n",
      "Wall time: 201 ms\n"
     ]
    }
   ],
   "source": [
    "%time make_models('data/out/test-sample')"
   ]
  },
  {
   "cell_type": "code",
   "execution_count": 6,
   "id": "recent-story",
   "metadata": {},
   "outputs": [
    {
     "name": "stdout",
     "output_type": "stream",
     "text": [
      "Dask Cluster: LocalCluster('tcp://127.0.0.1:42865', workers=4, threads=8, memory=68.72 GB)\n",
      "Dashboard port: 8787\n",
      "Constructing A matrix...\n",
      "Constructing B matrix (Step 1)...\n"
     ]
    },
    {
     "data": {
      "application/vnd.jupyter.widget-view+json": {
       "model_id": "1af957bb0bd545cdb63eff7cc7d1d204",
       "version_major": 2,
       "version_minor": 0
      },
      "text/plain": [
       "  0%|          | 0/1590622 [00:00<?, ?it/s]"
      ]
     },
     "metadata": {},
     "output_type": "display_data"
    },
    {
     "name": "stderr",
     "output_type": "stream",
     "text": [
      "/home/rcgonzal/.local/lib/python3.8/site-packages/scipy/sparse/_index.py:125: SparseEfficiencyWarning: Changing the sparsity structure of a csr_matrix is expensive. lil_matrix is more efficient.\n",
      "  self._set_arrayXarray(i, j, x)\n"
     ]
    },
    {
     "name": "stdout",
     "output_type": "stream",
     "text": [
      "Constructed: <2547149x2547149 sparse matrix of type '<class 'numpy.bool_'>'\n",
      "\twith 92465515 stored elements in Compressed Sparse Row format>\n",
      "Constructing P matrix...\n"
     ]
    },
    {
     "data": {
      "application/vnd.jupyter.widget-view+json": {
       "model_id": "5500ad7e0b804bdd9ce2443397ee7582",
       "version_major": 2,
       "version_minor": 0
      },
      "text/plain": [
       "  0%|          | 0/196958 [00:00<?, ?it/s]"
      ]
     },
     "metadata": {},
     "output_type": "display_data"
    },
    {
     "name": "stderr",
     "output_type": "stream",
     "text": [
      "/home/rcgonzal/.local/lib/python3.8/site-packages/scipy/sparse/_index.py:125: SparseEfficiencyWarning: Changing the sparsity structure of a csr_matrix is expensive. lil_matrix is more efficient.\n",
      "  self._set_arrayXarray(i, j, x)\n"
     ]
    },
    {
     "name": "stdout",
     "output_type": "stream",
     "text": [
      "Constructed: <2547149x2547149 sparse matrix of type '<class 'numpy.bool_'>'\n",
      "\twith 276226513 stored elements in Compressed Sparse Row format>\n",
      "CPU times: user 50min 34s, sys: 4min 27s, total: 55min 2s\n",
      "Wall time: 1h 14min 32s\n"
     ]
    },
    {
     "data": {
      "text/plain": [
       "(<448x2547149 sparse matrix of type '<class 'numpy.int64'>'\n",
       " \twith 8167935 stored elements in Compressed Sparse Row format>,\n",
       " <2547149x2547149 sparse matrix of type '<class 'numpy.bool_'>'\n",
       " \twith 92465515 stored elements in Compressed Sparse Row format>,\n",
       " <2547149x2547149 sparse matrix of type '<class 'numpy.bool_'>'\n",
       " \twith 276226513 stored elements in Compressed Sparse Row format>)"
      ]
     },
     "execution_count": 6,
     "metadata": {},
     "output_type": "execute_result"
    }
   ],
   "source": [
    "%time build_matrices(outfolder)"
   ]
  },
  {
   "cell_type": "code",
   "execution_count": 5,
   "id": "right-sensitivity",
   "metadata": {},
   "outputs": [
    {
     "name": "stdout",
     "output_type": "stream",
     "text": [
      "Dask Cluster: LocalCluster('tcp://127.0.0.1:46077', workers=4, threads=8, memory=68.72 GB)\n",
      "Dashboard port: 8787\n",
      "Constructing A matrix...\n",
      "Constructing B matrix (Step 1)...\n"
     ]
    },
    {
     "data": {
      "application/vnd.jupyter.widget-view+json": {
       "model_id": "46a8cd8e52cd4e64ab736f2a2547b5e4",
       "version_major": 2,
       "version_minor": 0
      },
      "text/plain": [
       "  0%|          | 0/3152345 [00:00<?, ?it/s]"
      ]
     },
     "metadata": {},
     "output_type": "display_data"
    },
    {
     "name": "stderr",
     "output_type": "stream",
     "text": [
      "/home/rcgonzal/.local/lib/python3.8/site-packages/scipy/sparse/_index.py:125: SparseEfficiencyWarning: Changing the sparsity structure of a csr_matrix is expensive. lil_matrix is more efficient.\n",
      "  self._set_arrayXarray(i, j, x)\n"
     ]
    },
    {
     "name": "stdout",
     "output_type": "stream",
     "text": [
      "Constructed: <5160691x5160691 sparse matrix of type '<class 'numpy.bool_'>'\n",
      "\twith 201168077 stored elements in Compressed Sparse Row format>\n",
      "Constructing P matrix...\n"
     ]
    },
    {
     "data": {
      "application/vnd.jupyter.widget-view+json": {
       "model_id": "33bcceb79a0346ec9a270a0b5f3b1f12",
       "version_major": 2,
       "version_minor": 0
      },
      "text/plain": [
       "  0%|          | 0/372844 [00:00<?, ?it/s]"
      ]
     },
     "metadata": {},
     "output_type": "display_data"
    },
    {
     "name": "stderr",
     "output_type": "stream",
     "text": [
      "/home/rcgonzal/.local/lib/python3.8/site-packages/scipy/sparse/_index.py:125: SparseEfficiencyWarning: Changing the sparsity structure of a csr_matrix is expensive. lil_matrix is more efficient.\n",
      "  self._set_arrayXarray(i, j, x)\n"
     ]
    },
    {
     "name": "stdout",
     "output_type": "stream",
     "text": [
      "Constructed: <5160691x5160691 sparse matrix of type '<class 'numpy.bool_'>'\n",
      "\twith 538489931 stored elements in Compressed Sparse Row format>\n",
      "CPU times: user 1h 44min 2s, sys: 10min 1s, total: 1h 54min 4s\n",
      "Wall time: 2h 56min 18s\n"
     ]
    },
    {
     "data": {
      "text/plain": [
       "(<6072x5160691 sparse matrix of type '<class 'numpy.int64'>'\n",
       " \twith 33609663 stored elements in Compressed Sparse Row format>,\n",
       " <5160691x5160691 sparse matrix of type '<class 'numpy.bool_'>'\n",
       " \twith 201168077 stored elements in Compressed Sparse Row format>,\n",
       " <5160691x5160691 sparse matrix of type '<class 'numpy.bool_'>'\n",
       " \twith 538489931 stored elements in Compressed Sparse Row format>)"
      ]
     },
     "execution_count": 5,
     "metadata": {},
     "output_type": "execute_result"
    }
   ],
   "source": [
    "%time build_matrices('data/out/all-apps')"
   ]
  },
  {
   "cell_type": "code",
   "execution_count": null,
   "id": "improved-anger",
   "metadata": {
    "scrolled": true
   },
   "outputs": [
    {
     "name": "stdout",
     "output_type": "stream",
     "text": [
      "Fitting AAT model...\n",
      "Fitting ABAT model...\n",
      "Fitting APAT model...\n",
      "Fitting ABPBTAT model...\n"
     ]
    }
   ],
   "source": [
    "%time make_models('data/out/all-apps')"
   ]
  },
  {
   "cell_type": "code",
   "execution_count": 6,
   "id": "operating-parish",
   "metadata": {},
   "outputs": [],
   "source": [
    "source_folder = os.path.join('data/out/all-apps', 'hindroid')\n",
    "A = sparse.load_npz(os.path.join(source_folder, 'A_mat.npz')).astype('float32')\n",
    "B = sparse.load_npz(os.path.join(source_folder, 'B_mat.npz')).astype('float32').tocsr()\n",
    "P = sparse.load_npz(os.path.join(source_folder, 'P_mat.npz')).astype('float32').tocsr()"
   ]
  },
  {
   "cell_type": "code",
   "execution_count": 8,
   "id": "latter-overhead",
   "metadata": {},
   "outputs": [
    {
     "data": {
      "text/plain": [
       "<6072x5160691 sparse matrix of type '<class 'numpy.float32'>'\n",
       "\twith 33609663 stored elements in Compressed Sparse Row format>"
      ]
     },
     "execution_count": 8,
     "metadata": {},
     "output_type": "execute_result"
    }
   ],
   "source": [
    "A"
   ]
  },
  {
   "cell_type": "code",
   "execution_count": 6,
   "id": "stable-complaint",
   "metadata": {},
   "outputs": [
    {
     "data": {
      "text/plain": [
       "6072"
      ]
     },
     "execution_count": 6,
     "metadata": {},
     "output_type": "execute_result"
    }
   ],
   "source": [
    "A.shape[0]"
   ]
  },
  {
   "cell_type": "code",
   "execution_count": 14,
   "id": "strange-reducing",
   "metadata": {},
   "outputs": [
    {
     "data": {
      "text/plain": [
       "<72x5160691 sparse matrix of type '<class 'numpy.uint32'>'\n",
       "\twith 2334201 stored elements in Compressed Sparse Row format>"
      ]
     },
     "execution_count": 14,
     "metadata": {},
     "output_type": "execute_result"
    }
   ],
   "source": [
    "A[6000:6500]"
   ]
  },
  {
   "cell_type": "code",
   "execution_count": 11,
   "id": "fatal-boards",
   "metadata": {},
   "outputs": [],
   "source": [
    "A_ = A[0:100]"
   ]
  },
  {
   "cell_type": "code",
   "execution_count": null,
   "id": "formal-outdoors",
   "metadata": {},
   "outputs": [],
   "source": [
    "ABA = A * B *  A.T\n",
    "ABA"
   ]
  },
  {
   "cell_type": "code",
   "execution_count": 11,
   "id": "surface-caution",
   "metadata": {},
   "outputs": [
    {
     "name": "stdout",
     "output_type": "stream",
     "text": [
      "7286804\n"
     ]
    }
   ],
   "source": [
    "print(ABA.data.nbytes + ABA.indptr.nbytes + ABA.indices.nbytes)"
   ]
  },
  {
   "cell_type": "code",
   "execution_count": 5,
   "id": "irish-chorus",
   "metadata": {},
   "outputs": [],
   "source": [
    "api_map_path = os.path.join(outfolder, 'api_map.csv')\n",
    "apis = pd.read_csv(api_map_path, index_col='api').uid.str.replace('api', '').astype(int).values"
   ]
  },
  {
   "cell_type": "code",
   "execution_count": null,
   "id": "above-nashville",
   "metadata": {},
   "outputs": [
    {
     "data": {
      "application/vnd.jupyter.widget-view+json": {
       "model_id": "9ab222e38dc74dd18028bd6f8e35268f",
       "version_major": 2,
       "version_minor": 0
      },
      "text/plain": [
       "  0%|          | 0/246035 [00:00<?, ?it/s]"
      ]
     },
     "metadata": {},
     "output_type": "display_data"
    }
   ],
   "source": [
    "P_edges_filepath = os.path.join('data', 'temp', 'P_edges.csv')\n",
    "\n",
    "pd.DataFrame([(api, api) for api in apis], columns=['source', 'target']).to_csv(P_edges_filepath, index=False)\n",
    "\n",
    "with open(P_edges_filepath, 'a') as P_edges_file:\n",
    "    p_umap(partial(parse_P_edges, P_edges_file=P_edges_file), pd.read_pickle('data/temp/package_api_sets.pkl'))\n",
    "#     for api_list in tqdm():\n",
    "#         parse_P_edges(api_list, P_edges_writer)"
   ]
  },
  {
   "cell_type": "code",
   "execution_count": null,
   "id": "analyzed-genealogy",
   "metadata": {},
   "outputs": [],
   "source": [
    "import sys\n",
    "sys.getsizeof(temp_edges)*56"
   ]
  },
  {
   "cell_type": "code",
   "execution_count": 10,
   "id": "quantitative-display",
   "metadata": {},
   "outputs": [
    {
     "data": {
      "text/plain": [
       "56"
      ]
     },
     "execution_count": 10,
     "metadata": {},
     "output_type": "execute_result"
    }
   ],
   "source": [
    "import sys\n",
    "sys.getsizeof((1,2))"
   ]
  },
  {
   "cell_type": "code",
   "execution_count": null,
   "id": "behavioral-arnold",
   "metadata": {},
   "outputs": [],
   "source": [
    "sparse.csr"
   ]
  },
  {
   "cell_type": "code",
   "execution_count": 12,
   "id": "leading-excitement",
   "metadata": {},
   "outputs": [
    {
     "data": {
      "text/plain": [
       "source\n",
       "package0          1716\n",
       "package101        3951\n",
       "package102        1201\n",
       "package1029      12128\n",
       "package103        1314\n",
       "                 ...  \n",
       "package227284     7222\n",
       "package227326     2003\n",
       "package227601     1189\n",
       "package227630     2287\n",
       "package245813     1474\n",
       "Name: target, Length: 254, dtype: int64"
      ]
     },
     "execution_count": 12,
     "metadata": {},
     "output_type": "execute_result"
    }
   ],
   "source": [
    "package_api_sets = pd.read_pickle('data/temp/package_api_sets.pkl')\n",
    "pkg_lens = package_api_sets.apply(len)\n",
    "pkg_lens[pkg_lens>1000]"
   ]
  },
  {
   "cell_type": "code",
   "execution_count": 27,
   "id": "quiet-religion",
   "metadata": {},
   "outputs": [
    {
     "data": {
      "text/plain": [
       "<zip at 0x7f274c9b51c0>"
      ]
     },
     "execution_count": 27,
     "metadata": {},
     "output_type": "execute_result"
    }
   ],
   "source": [
    "package_api_sets.items()"
   ]
  },
  {
   "cell_type": "code",
   "execution_count": null,
   "id": "reserved-saturday",
   "metadata": {},
   "outputs": [],
   "source": [
    "sys.getsizeof(list(combinations((i for i in range(174_318)), r=2)))"
   ]
  },
  {
   "cell_type": "code",
   "execution_count": 22,
   "id": "olive-tomato",
   "metadata": {},
   "outputs": [
    {
     "data": {
      "text/plain": [
       "source\n",
       "package1029       12128\n",
       "package119        14488\n",
       "package1269       33490\n",
       "package1294       25454\n",
       "package133        10883\n",
       "package139        17335\n",
       "package141621     38315\n",
       "package227134     27881\n",
       "package2276       11418\n",
       "package2363      106893\n",
       "package251       174318\n",
       "package2816       18863\n",
       "package286        10675\n",
       "package338        10943\n",
       "package580        16923\n",
       "Name: target, dtype: int64"
      ]
     },
     "execution_count": 22,
     "metadata": {},
     "output_type": "execute_result"
    }
   ],
   "source": [
    "pkg_lens[pkg_lens>10000].index"
   ]
  },
  {
   "cell_type": "code",
   "execution_count": 23,
   "id": "chronic-poster",
   "metadata": {},
   "outputs": [
    {
     "data": {
      "text/plain": [
       "source\n",
       "package1029                              Lcom/google/protobuf\n",
       "package119                         Landroidx/appcompat/widget\n",
       "package1269      Lcom/google/android/gms/internal/measurement\n",
       "package1294      Lcom/google/android/gms/measurement/internal\n",
       "package133                             Landroidx/fragment/app\n",
       "package139                      Landroidx/recyclerview/widget\n",
       "package141621                                              LX\n",
       "package227134                                            Lcal\n",
       "package2276                             Lcom/vungle/publisher\n",
       "package2363                  Lcom/google/android/gms/internal\n",
       "package251               Lcom/google/android/gms/internal/ads\n",
       "package2816                                                Lo\n",
       "package286        Lcom/google/android/gms/common/api/internal\n",
       "package338             Lcom/google/android/gms/games/internal\n",
       "package580                         Landroid/support/v7/widget\n",
       "Name: package, dtype: object"
      ]
     },
     "execution_count": 23,
     "metadata": {},
     "output_type": "execute_result"
    }
   ],
   "source": [
    "pd.read_csv(os.path.join(outfolder, 'package_map.csv'), index_col='uid').package[pkg_lens[pkg_lens>10000].index]"
   ]
  },
  {
   "cell_type": "code",
   "execution_count": null,
   "id": "clear-translator",
   "metadata": {},
   "outputs": [],
   "source": [
    "%time make_models(outfolder)"
   ]
  },
  {
   "cell_type": "code",
   "execution_count": 45,
   "id": "perceived-lighting",
   "metadata": {},
   "outputs": [
    {
     "data": {
      "text/html": [
       "<div>\n",
       "<style scoped>\n",
       "    .dataframe tbody tr th:only-of-type {\n",
       "        vertical-align: middle;\n",
       "    }\n",
       "\n",
       "    .dataframe tbody tr th {\n",
       "        vertical-align: top;\n",
       "    }\n",
       "\n",
       "    .dataframe thead th {\n",
       "        text-align: right;\n",
       "    }\n",
       "</style>\n",
       "<table border=\"1\" class=\"dataframe\">\n",
       "  <thead>\n",
       "    <tr style=\"text-align: right;\">\n",
       "      <th></th>\n",
       "      <th>app</th>\n",
       "      <th>app_dir</th>\n",
       "      <th>category</th>\n",
       "    </tr>\n",
       "  </thead>\n",
       "  <tbody>\n",
       "    <tr>\n",
       "      <th>0</th>\n",
       "      <td>635a57a483cda858f78f14386e76aab4</td>\n",
       "      <td>/teams/DSC180A_FA20_A00/a04malware/malware/Ban...</td>\n",
       "      <td>malware</td>\n",
       "    </tr>\n",
       "    <tr>\n",
       "      <th>1</th>\n",
       "      <td>912054e230f08f3747c2966d3f92944f</td>\n",
       "      <td>/teams/DSC180A_FA20_A00/a04malware/malware/You...</td>\n",
       "      <td>malware</td>\n",
       "    </tr>\n",
       "    <tr>\n",
       "      <th>2</th>\n",
       "      <td>29b4865171cdfad2a6f011614a1a8038</td>\n",
       "      <td>/teams/DSC180A_FA20_A00/a04malware/malware/Fak...</td>\n",
       "      <td>malware</td>\n",
       "    </tr>\n",
       "    <tr>\n",
       "      <th>3</th>\n",
       "      <td>2a92f33fa4b5af4e61d70eb15a28030d</td>\n",
       "      <td>/teams/DSC180A_FA20_A00/a04malware/malware/You...</td>\n",
       "      <td>malware</td>\n",
       "    </tr>\n",
       "    <tr>\n",
       "      <th>4</th>\n",
       "      <td>35ecbda726e1e56467bf8b0e0dbe2c2a</td>\n",
       "      <td>/teams/DSC180A_FA20_A00/a04malware/malware/Fak...</td>\n",
       "      <td>malware</td>\n",
       "    </tr>\n",
       "    <tr>\n",
       "      <th>5</th>\n",
       "      <td>com.sfeehha.bubble419</td>\n",
       "      <td>/teams/DSC180A_FA20_A00/a04malware/popular-app...</td>\n",
       "      <td>popular-apps</td>\n",
       "    </tr>\n",
       "  </tbody>\n",
       "</table>\n",
       "</div>"
      ],
      "text/plain": [
       "                                app  \\\n",
       "0  635a57a483cda858f78f14386e76aab4   \n",
       "1  912054e230f08f3747c2966d3f92944f   \n",
       "2  29b4865171cdfad2a6f011614a1a8038   \n",
       "3  2a92f33fa4b5af4e61d70eb15a28030d   \n",
       "4  35ecbda726e1e56467bf8b0e0dbe2c2a   \n",
       "5             com.sfeehha.bubble419   \n",
       "\n",
       "                                             app_dir      category  \n",
       "0  /teams/DSC180A_FA20_A00/a04malware/malware/Ban...       malware  \n",
       "1  /teams/DSC180A_FA20_A00/a04malware/malware/You...       malware  \n",
       "2  /teams/DSC180A_FA20_A00/a04malware/malware/Fak...       malware  \n",
       "3  /teams/DSC180A_FA20_A00/a04malware/malware/You...       malware  \n",
       "4  /teams/DSC180A_FA20_A00/a04malware/malware/Fak...       malware  \n",
       "5  /teams/DSC180A_FA20_A00/a04malware/popular-app...  popular-apps  "
      ]
     },
     "execution_count": 45,
     "metadata": {},
     "output_type": "execute_result"
    }
   ],
   "source": [
    "pd.read_csv(os.path.join(outfolder, 'app_list.csv'))"
   ]
  },
  {
   "cell_type": "code",
   "execution_count": 33,
   "id": "apparent-secondary",
   "metadata": {},
   "outputs": [
    {
     "data": {
      "text/html": [
       "<div>\n",
       "<style scoped>\n",
       "    .dataframe tbody tr th:only-of-type {\n",
       "        vertical-align: middle;\n",
       "    }\n",
       "\n",
       "    .dataframe tbody tr th {\n",
       "        vertical-align: top;\n",
       "    }\n",
       "\n",
       "    .dataframe thead th {\n",
       "        text-align: right;\n",
       "    }\n",
       "</style>\n",
       "<table border=\"1\" class=\"dataframe\">\n",
       "  <thead>\n",
       "    <tr style=\"text-align: right;\">\n",
       "      <th></th>\n",
       "      <th>app</th>\n",
       "      <th>app_dir</th>\n",
       "      <th>category</th>\n",
       "      <th>malware</th>\n",
       "    </tr>\n",
       "  </thead>\n",
       "  <tbody>\n",
       "    <tr>\n",
       "      <th>5871</th>\n",
       "      <td>com.sega.PhantasyStarII</td>\n",
       "      <td>/teams/DSC180A_FA20_A00/a04malware/popular-app...</td>\n",
       "      <td>popular-apps</td>\n",
       "      <td>0</td>\n",
       "    </tr>\n",
       "  </tbody>\n",
       "</table>\n",
       "</div>"
      ],
      "text/plain": [
       "                          app  \\\n",
       "5871  com.sega.PhantasyStarII   \n",
       "\n",
       "                                                app_dir      category malware  \n",
       "5871  /teams/DSC180A_FA20_A00/a04malware/popular-app...  popular-apps       0  "
      ]
     },
     "execution_count": 33,
     "metadata": {},
     "output_type": "execute_result"
    }
   ],
   "source": [
    "popular_apps = pd.read_csv('data/out/all-apps/app_list.csv', dtype=str)\n",
    "popular_apps = popular_apps[popular_apps.category=='popular-apps']\n",
    "popular_apps.sample(1)"
   ]
  },
  {
   "cell_type": "code",
   "execution_count": 25,
   "id": "significant-holmes",
   "metadata": {},
   "outputs": [
    {
     "data": {
      "text/html": [
       "<div>\n",
       "<style scoped>\n",
       "    .dataframe tbody tr th:only-of-type {\n",
       "        vertical-align: middle;\n",
       "    }\n",
       "\n",
       "    .dataframe tbody tr th {\n",
       "        vertical-align: top;\n",
       "    }\n",
       "\n",
       "    .dataframe thead th {\n",
       "        text-align: right;\n",
       "    }\n",
       "</style>\n",
       "<table border=\"1\" class=\"dataframe\">\n",
       "  <thead>\n",
       "    <tr style=\"text-align: right;\">\n",
       "      <th></th>\n",
       "      <th>app</th>\n",
       "      <th>uid</th>\n",
       "      <th>app_dir</th>\n",
       "      <th>category</th>\n",
       "    </tr>\n",
       "    <tr>\n",
       "      <th>uid</th>\n",
       "      <th></th>\n",
       "      <th></th>\n",
       "      <th></th>\n",
       "      <th></th>\n",
       "    </tr>\n",
       "  </thead>\n",
       "  <tbody>\n",
       "    <tr>\n",
       "      <th>0</th>\n",
       "      <td>635a57a483cda858f78f14386e76aab4</td>\n",
       "      <td>app0</td>\n",
       "      <td>/teams/DSC180A_FA20_A00/a04malware/malware/Ban...</td>\n",
       "      <td>malware</td>\n",
       "    </tr>\n",
       "    <tr>\n",
       "      <th>1</th>\n",
       "      <td>912054e230f08f3747c2966d3f92944f</td>\n",
       "      <td>app1</td>\n",
       "      <td>/teams/DSC180A_FA20_A00/a04malware/malware/You...</td>\n",
       "      <td>malware</td>\n",
       "    </tr>\n",
       "    <tr>\n",
       "      <th>2</th>\n",
       "      <td>29b4865171cdfad2a6f011614a1a8038</td>\n",
       "      <td>app2</td>\n",
       "      <td>/teams/DSC180A_FA20_A00/a04malware/malware/Fak...</td>\n",
       "      <td>malware</td>\n",
       "    </tr>\n",
       "    <tr>\n",
       "      <th>3</th>\n",
       "      <td>2a92f33fa4b5af4e61d70eb15a28030d</td>\n",
       "      <td>app3</td>\n",
       "      <td>/teams/DSC180A_FA20_A00/a04malware/malware/You...</td>\n",
       "      <td>malware</td>\n",
       "    </tr>\n",
       "    <tr>\n",
       "      <th>4</th>\n",
       "      <td>35ecbda726e1e56467bf8b0e0dbe2c2a</td>\n",
       "      <td>app4</td>\n",
       "      <td>/teams/DSC180A_FA20_A00/a04malware/malware/Fak...</td>\n",
       "      <td>malware</td>\n",
       "    </tr>\n",
       "  </tbody>\n",
       "</table>\n",
       "</div>"
      ],
      "text/plain": [
       "                                  app   uid  \\\n",
       "uid                                           \n",
       "0    635a57a483cda858f78f14386e76aab4  app0   \n",
       "1    912054e230f08f3747c2966d3f92944f  app1   \n",
       "2    29b4865171cdfad2a6f011614a1a8038  app2   \n",
       "3    2a92f33fa4b5af4e61d70eb15a28030d  app3   \n",
       "4    35ecbda726e1e56467bf8b0e0dbe2c2a  app4   \n",
       "\n",
       "                                               app_dir category  \n",
       "uid                                                              \n",
       "0    /teams/DSC180A_FA20_A00/a04malware/malware/Ban...  malware  \n",
       "1    /teams/DSC180A_FA20_A00/a04malware/malware/You...  malware  \n",
       "2    /teams/DSC180A_FA20_A00/a04malware/malware/Fak...  malware  \n",
       "3    /teams/DSC180A_FA20_A00/a04malware/malware/You...  malware  \n",
       "4    /teams/DSC180A_FA20_A00/a04malware/malware/Fak...  malware  "
      ]
     },
     "execution_count": 25,
     "metadata": {},
     "output_type": "execute_result"
    }
   ],
   "source": [
    "apps = (\n",
    "    pd.read_csv(\n",
    "        os.path.join(outfolder, 'app_map.csv'),\n",
    "        dtype=str,\n",
    "        index_col='app'\n",
    "    ).join(\n",
    "        pd.read_csv(\n",
    "            os.path.join(outfolder, 'app_list.csv'),\n",
    "            dtype=str,\n",
    "            index_col='app'\n",
    "        )\n",
    "    )\n",
    ")\n",
    "apps = apps.reset_index().set_index(apps.uid.str.replace('app', '').astype(int)).sort_index()\n",
    "apps"
   ]
  },
  {
   "cell_type": "code",
   "execution_count": 3,
   "id": "significant-broadcasting",
   "metadata": {},
   "outputs": [
    {
     "data": {
      "text/plain": [
       "'../data/out/test-sample/edges.csv'"
      ]
     },
     "execution_count": 3,
     "metadata": {},
     "output_type": "execute_result"
    }
   ],
   "source": [
    "edges_path = os.path.join(outfolder, 'edges.csv')\n",
    "api_map_path = os.path.join(outfolder, 'api_map.csv')\n",
    "app_map_path = os.path.join(outfolder, 'app_map.csv')\n",
    "apis = pd.read_csv(api_map_path, index_col='api').uid.str.replace('api', '').astype(int).values\n",
    "apps = pd.read_csv(app_map_path, index_col='app').uid.str.replace('app', '').astype(int).values\n",
    "edges_path"
   ]
  },
  {
   "cell_type": "code",
   "execution_count": 4,
   "id": "dependent-thousand",
   "metadata": {},
   "outputs": [],
   "source": [
    "edges = dd.read_csv(edges_path, dtype=str)\n",
    "edges['target'] = edges.target.str.replace('api', '').astype(int)\n",
    "app_api_edges = edges[edges.source.str.startswith('app')]\n",
    "\n",
    "num_apps = apps.size\n",
    "num_apis = apis.size\n",
    "\n",
    "app_api_edges['source'] = app_api_edges.source.str.replace('app', '').astype(int)"
   ]
  },
  {
   "cell_type": "code",
   "execution_count": 31,
   "id": "pending-mentor",
   "metadata": {
    "scrolled": true
   },
   "outputs": [
    {
     "data": {
      "text/plain": [
       "<5x15875 sparse matrix of type '<class 'numpy.int64'>'\n",
       "\twith 18900 stored elements in Compressed Sparse Row format>"
      ]
     },
     "execution_count": 31,
     "metadata": {},
     "output_type": "execute_result"
    }
   ],
   "source": [
    "app_api_edges.groupby('source').target.unique().compute()\n",
    "mlb = MultiLabelBinarizer(sparse_output=True)\n",
    "mlb.fit([(api,) for api in apis])\n",
    "A_mat = mlb.transform(app_api_edges.groupby('source').target.unique().compute().sort_index())\n",
    "A_mat"
   ]
  },
  {
   "cell_type": "code",
   "execution_count": 29,
   "id": "alpine-safety",
   "metadata": {},
   "outputs": [
    {
     "data": {
      "application/vnd.jupyter.widget-view+json": {
       "model_id": "43dfeb57cae64906bede90f9e15241ab",
       "version_major": 2,
       "version_minor": 0
      },
      "text/plain": [
       "  0%|          | 0/13958 [00:00<?, ?it/s]"
      ]
     },
     "metadata": {},
     "output_type": "display_data"
    },
    {
     "data": {
      "text/plain": [
       "<15875x15875 sparse matrix of type '<class 'numpy.int64'>'\n",
       "\twith 204206 stored elements in Compressed Sparse Row format>"
      ]
     },
     "execution_count": 29,
     "metadata": {},
     "output_type": "execute_result"
    }
   ],
   "source": [
    "api_method_edges = edges[edges.source.str.startswith('method')]\n",
    "api_sets = api_method_edges.groupby('source').target.unique()\n",
    "B_edges = set(pd.Series(apis).apply(lambda x: (x,x)))\n",
    "\n",
    "for combos in p_imap(partial(combinations, r=2), api_sets.compute()):\n",
    "    B_edges.update(combos)\n",
    "    B_edges.update([(combo[1], combo[0]) for combo in combos])\n",
    "    \n",
    "B_mat = mlb.transform(pd.DataFrame(B_edges).groupby(0)[1].unique().sort_index())\n",
    "B_mat"
   ]
  },
  {
   "cell_type": "code",
   "execution_count": 27,
   "id": "sticky-stranger",
   "metadata": {},
   "outputs": [
    {
     "data": {
      "application/vnd.jupyter.widget-view+json": {
       "model_id": "37f05ddfcc154a96b243de9c53666dc1",
       "version_major": 2,
       "version_minor": 0
      },
      "text/plain": [
       "  0%|          | 0/250 [00:00<?, ?it/s]"
      ]
     },
     "metadata": {},
     "output_type": "display_data"
    },
    {
     "data": {
      "text/plain": [
       "<15875x15875 sparse matrix of type '<class 'numpy.int64'>'\n",
       "\twith 2800987 stored elements in Compressed Sparse Row format>"
      ]
     },
     "execution_count": 27,
     "metadata": {},
     "output_type": "execute_result"
    }
   ],
   "source": [
    "api_package_edges = edges[edges.source.str.startswith('package')]\n",
    "api_sets = api_package_edges.groupby('source').target.unique()\n",
    "P_edges = set(pd.Series(apis).apply(lambda x: (x,x)))\n",
    "\n",
    "P_edges.update([(api, api) for api in apis])\n",
    "\n",
    "for combos in p_imap(partial(combinations, r=2), api_sets.compute()):\n",
    "    P_edges.update(combos)\n",
    "\n",
    "P_mat = mlb.transform(pd.DataFrame(P_edges).groupby(0)[1].unique().sort_index())\n",
    "P_mat"
   ]
  },
  {
   "cell_type": "code",
   "execution_count": null,
   "id": "single-harrison",
   "metadata": {},
   "outputs": [],
   "source": []
  }
 ],
 "metadata": {
  "kernelspec": {
   "display_name": "Python 3",
   "language": "python",
   "name": "python3"
  },
  "language_info": {
   "codemirror_mode": {
    "name": "ipython",
    "version": 3
   },
   "file_extension": ".py",
   "mimetype": "text/x-python",
   "name": "python",
   "nbconvert_exporter": "python",
   "pygments_lexer": "ipython3",
   "version": "3.8.6"
  }
 },
 "nbformat": 4,
 "nbformat_minor": 5
}
