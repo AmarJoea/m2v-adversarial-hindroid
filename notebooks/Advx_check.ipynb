{
 "cells": [
  {
   "cell_type": "code",
   "execution_count": 1,
   "id": "creative-surface",
   "metadata": {},
   "outputs": [],
   "source": [
    "import os\n",
    "# move to project root\n",
    "os.chdir('/home/rcgonzal/DSC180Malware/m2v-adversarial-hindroid/')\n",
    "\n",
    "import pandas as pd\n",
    "import numpy as np\n",
    "\n",
    "from src.model.model import M2VDroid\n",
    "from src.model.hindroid import Hindroid\n",
    "from src.data.hindroid_etl import make_models\n",
    "from src.analysis.analysis import create_performance_table\n",
    "from src.utils import find_apps\n",
    "from scipy import sparse\n",
    "\n",
    "%load_ext autoreload\n",
    "%autoreload 2"
   ]
  },
  {
   "cell_type": "code",
   "execution_count": 2,
   "id": "expressed-premiere",
   "metadata": {},
   "outputs": [],
   "source": [
    "hindroid = Hindroid('data/out/train-set/')"
   ]
  },
  {
   "cell_type": "code",
   "execution_count": 4,
   "id": "random-manitoba",
   "metadata": {},
   "outputs": [],
   "source": [
    "attack_folder = os.path.join('data', 'out', 'all-apps', 'attack')\n",
    "\n",
    "with open(os.path.join(attack_folder, 'advxs.npz'), 'rb') as advxs_file, open(os.path.join(attack_folder, 'inputs.npz'), 'rb') as inputs_file: \n",
    "    adv_examples = sparse.load_npz(advxs_file)\n",
    "    input_examples = sparse.load_npz(inputs_file)\n",
    "    \n",
    "# change in apis by app\n",
    "# np.mean(np.sum(np.round(adv_examples.todense()) != input_examples.todense(), axis=1))"
   ]
  },
  {
   "cell_type": "code",
   "execution_count": 7,
   "id": "bridal-community",
   "metadata": {},
   "outputs": [
    {
     "data": {
      "text/plain": [
       "38194.84"
      ]
     },
     "execution_count": 7,
     "metadata": {},
     "output_type": "execute_result"
    }
   ],
   "source": [
    "# get mean number of APIs changed\n",
    "changed_apis = []\n",
    "for row_idx in range(adv_examples.shape[0]):\n",
    "    s = np.sum(np.round(adv_examples[row_idx].todense()) != input_examples[row_idx].todense())\n",
    "    changed_apis.append(s)\n",
    "    \n",
    "changed_apis = np.array(changed_apis)\n",
    "changed_apis.mean()"
   ]
  },
  {
   "cell_type": "code",
   "execution_count": 8,
   "id": "loved-sperm",
   "metadata": {},
   "outputs": [
    {
     "data": {
      "text/plain": [
       "0.015062820842977272"
      ]
     },
     "execution_count": 8,
     "metadata": {},
     "output_type": "execute_result"
    }
   ],
   "source": [
    "(changed_apis / adv_examples.shape[1]).mean()"
   ]
  },
  {
   "cell_type": "code",
   "execution_count": 63,
   "id": "charged-james",
   "metadata": {},
   "outputs": [
    {
     "data": {
      "text/plain": [
       "matrix([[0.02179356],\n",
       "        [0.01061323],\n",
       "        [0.01647906],\n",
       "        [0.01005441],\n",
       "        [0.01721219],\n",
       "        [0.01475212],\n",
       "        [0.01475567],\n",
       "        [0.02068578],\n",
       "        [0.01245375],\n",
       "        [0.02275464]])"
      ]
     },
     "execution_count": 63,
     "metadata": {},
     "output_type": "execute_result"
    }
   ],
   "source": [
    "# change in proportion of all apis\n",
    "np.mean(adv_examples.todense() != input_examples.todense(), axis=1)"
   ]
  },
  {
   "cell_type": "code",
   "execution_count": 64,
   "id": "spiritual-senator",
   "metadata": {},
   "outputs": [
    {
     "data": {
      "text/plain": [
       "(2024, 2535703)"
      ]
     },
     "execution_count": 64,
     "metadata": {},
     "output_type": "execute_result"
    }
   ],
   "source": [
    "hindroid.A.shape"
   ]
  },
  {
   "cell_type": "code",
   "execution_count": 9,
   "id": "impaired-respect",
   "metadata": {},
   "outputs": [
    {
     "name": "stderr",
     "output_type": "stream",
     "text": [
      "Predicting AAT, batch:   0%|          | 0/5 [00:00<?, ?it/s]"
     ]
    },
    {
     "name": "stdout",
     "output_type": "stream",
     "text": [
      "\n"
     ]
    },
    {
     "name": "stderr",
     "output_type": "stream",
     "text": [
      "Predicting AAT, batch: 100%|██████████| 5/5 [00:03<00:00,  1.35it/s]\n",
      "Predicting ABAT, batch:   0%|          | 0/5 [00:00<?, ?it/s]"
     ]
    },
    {
     "name": "stdout",
     "output_type": "stream",
     "text": [
      "\n"
     ]
    },
    {
     "name": "stderr",
     "output_type": "stream",
     "text": [
      "Predicting ABAT, batch: 100%|██████████| 5/5 [02:11<00:00, 26.34s/it]\n",
      "Predicting APAT, batch:   0%|          | 0/5 [00:00<?, ?it/s]"
     ]
    },
    {
     "name": "stdout",
     "output_type": "stream",
     "text": [
      "\n"
     ]
    },
    {
     "name": "stderr",
     "output_type": "stream",
     "text": [
      "Predicting APAT, batch: 100%|██████████| 5/5 [00:16<00:00,  3.23s/it]\n",
      "Predicting ABPBTAT, batch:   0%|          | 0/5 [00:00<?, ?it/s]"
     ]
    },
    {
     "name": "stdout",
     "output_type": "stream",
     "text": [
      "\n"
     ]
    },
    {
     "name": "stderr",
     "output_type": "stream",
     "text": [
      "Predicting ABPBTAT, batch: 100%|██████████| 5/5 [19:32<00:00, 234.58s/it]\n",
      "Predicting APBPTAT, batch:   0%|          | 0/5 [00:00<?, ?it/s]"
     ]
    },
    {
     "name": "stdout",
     "output_type": "stream",
     "text": [
      "\n"
     ]
    },
    {
     "name": "stderr",
     "output_type": "stream",
     "text": [
      "Predicting APBPTAT, batch: 100%|██████████| 5/5 [12:16<00:00, 147.20s/it]\n"
     ]
    },
    {
     "data": {
      "text/html": [
       "<div>\n",
       "<style scoped>\n",
       "    .dataframe tbody tr th:only-of-type {\n",
       "        vertical-align: middle;\n",
       "    }\n",
       "\n",
       "    .dataframe tbody tr th {\n",
       "        vertical-align: top;\n",
       "    }\n",
       "\n",
       "    .dataframe thead th {\n",
       "        text-align: right;\n",
       "    }\n",
       "</style>\n",
       "<table border=\"1\" class=\"dataframe\">\n",
       "  <thead>\n",
       "    <tr style=\"text-align: right;\">\n",
       "      <th></th>\n",
       "      <th>AAT</th>\n",
       "      <th>ABAT</th>\n",
       "      <th>APAT</th>\n",
       "      <th>ABPBTAT</th>\n",
       "      <th>APBPTAT</th>\n",
       "    </tr>\n",
       "  </thead>\n",
       "  <tbody>\n",
       "    <tr>\n",
       "      <th>0</th>\n",
       "      <td>1</td>\n",
       "      <td>1</td>\n",
       "      <td>1</td>\n",
       "      <td>1</td>\n",
       "      <td>1</td>\n",
       "    </tr>\n",
       "    <tr>\n",
       "      <th>1</th>\n",
       "      <td>1</td>\n",
       "      <td>1</td>\n",
       "      <td>1</td>\n",
       "      <td>1</td>\n",
       "      <td>1</td>\n",
       "    </tr>\n",
       "    <tr>\n",
       "      <th>2</th>\n",
       "      <td>1</td>\n",
       "      <td>1</td>\n",
       "      <td>1</td>\n",
       "      <td>1</td>\n",
       "      <td>1</td>\n",
       "    </tr>\n",
       "    <tr>\n",
       "      <th>3</th>\n",
       "      <td>1</td>\n",
       "      <td>1</td>\n",
       "      <td>1</td>\n",
       "      <td>1</td>\n",
       "      <td>1</td>\n",
       "    </tr>\n",
       "    <tr>\n",
       "      <th>4</th>\n",
       "      <td>1</td>\n",
       "      <td>1</td>\n",
       "      <td>1</td>\n",
       "      <td>1</td>\n",
       "      <td>1</td>\n",
       "    </tr>\n",
       "    <tr>\n",
       "      <th>...</th>\n",
       "      <td>...</td>\n",
       "      <td>...</td>\n",
       "      <td>...</td>\n",
       "      <td>...</td>\n",
       "      <td>...</td>\n",
       "    </tr>\n",
       "    <tr>\n",
       "      <th>495</th>\n",
       "      <td>1</td>\n",
       "      <td>1</td>\n",
       "      <td>1</td>\n",
       "      <td>1</td>\n",
       "      <td>1</td>\n",
       "    </tr>\n",
       "    <tr>\n",
       "      <th>496</th>\n",
       "      <td>1</td>\n",
       "      <td>1</td>\n",
       "      <td>1</td>\n",
       "      <td>1</td>\n",
       "      <td>1</td>\n",
       "    </tr>\n",
       "    <tr>\n",
       "      <th>497</th>\n",
       "      <td>1</td>\n",
       "      <td>1</td>\n",
       "      <td>1</td>\n",
       "      <td>1</td>\n",
       "      <td>1</td>\n",
       "    </tr>\n",
       "    <tr>\n",
       "      <th>498</th>\n",
       "      <td>1</td>\n",
       "      <td>1</td>\n",
       "      <td>1</td>\n",
       "      <td>1</td>\n",
       "      <td>1</td>\n",
       "    </tr>\n",
       "    <tr>\n",
       "      <th>499</th>\n",
       "      <td>1</td>\n",
       "      <td>1</td>\n",
       "      <td>1</td>\n",
       "      <td>1</td>\n",
       "      <td>1</td>\n",
       "    </tr>\n",
       "  </tbody>\n",
       "</table>\n",
       "<p>500 rows × 5 columns</p>\n",
       "</div>"
      ],
      "text/plain": [
       "     AAT  ABAT  APAT  ABPBTAT  APBPTAT\n",
       "0      1     1     1        1        1\n",
       "1      1     1     1        1        1\n",
       "2      1     1     1        1        1\n",
       "3      1     1     1        1        1\n",
       "4      1     1     1        1        1\n",
       "..   ...   ...   ...      ...      ...\n",
       "495    1     1     1        1        1\n",
       "496    1     1     1        1        1\n",
       "497    1     1     1        1        1\n",
       "498    1     1     1        1        1\n",
       "499    1     1     1        1        1\n",
       "\n",
       "[500 rows x 5 columns]"
      ]
     },
     "execution_count": 9,
     "metadata": {},
     "output_type": "execute_result"
    }
   ],
   "source": [
    "orignal_predictions = hindroid.batch_predict(input_examples)\n",
    "orignal_predictions"
   ]
  },
  {
   "cell_type": "code",
   "execution_count": 10,
   "id": "controlling-target",
   "metadata": {},
   "outputs": [
    {
     "name": "stderr",
     "output_type": "stream",
     "text": [
      "Predicting AAT, batch:   0%|          | 0/5 [00:00<?, ?it/s]"
     ]
    },
    {
     "name": "stdout",
     "output_type": "stream",
     "text": [
      "\n"
     ]
    },
    {
     "name": "stderr",
     "output_type": "stream",
     "text": [
      "Predicting AAT, batch: 100%|██████████| 5/5 [00:05<00:00,  1.16s/it]\n",
      "Predicting ABAT, batch:   0%|          | 0/5 [00:00<?, ?it/s]"
     ]
    },
    {
     "name": "stdout",
     "output_type": "stream",
     "text": [
      "\n"
     ]
    },
    {
     "name": "stderr",
     "output_type": "stream",
     "text": [
      "Predicting ABAT, batch: 100%|██████████| 5/5 [01:47<00:00, 21.48s/it]\n",
      "Predicting APAT, batch:   0%|          | 0/5 [00:00<?, ?it/s]"
     ]
    },
    {
     "name": "stdout",
     "output_type": "stream",
     "text": [
      "\n"
     ]
    },
    {
     "name": "stderr",
     "output_type": "stream",
     "text": [
      "Predicting APAT, batch: 100%|██████████| 5/5 [00:52<00:00, 10.50s/it]\n",
      "Predicting ABPBTAT, batch:   0%|          | 0/5 [00:00<?, ?it/s]"
     ]
    },
    {
     "name": "stdout",
     "output_type": "stream",
     "text": [
      "\n"
     ]
    },
    {
     "name": "stderr",
     "output_type": "stream",
     "text": [
      "Predicting ABPBTAT, batch: 100%|██████████| 5/5 [16:30<00:00, 198.20s/it]\n",
      "Predicting APBPTAT, batch:   0%|          | 0/5 [00:00<?, ?it/s]"
     ]
    },
    {
     "name": "stdout",
     "output_type": "stream",
     "text": [
      "\n"
     ]
    },
    {
     "name": "stderr",
     "output_type": "stream",
     "text": [
      "Predicting APBPTAT, batch: 100%|██████████| 5/5 [12:10<00:00, 146.16s/it]\n"
     ]
    },
    {
     "data": {
      "text/html": [
       "<div>\n",
       "<style scoped>\n",
       "    .dataframe tbody tr th:only-of-type {\n",
       "        vertical-align: middle;\n",
       "    }\n",
       "\n",
       "    .dataframe tbody tr th {\n",
       "        vertical-align: top;\n",
       "    }\n",
       "\n",
       "    .dataframe thead th {\n",
       "        text-align: right;\n",
       "    }\n",
       "</style>\n",
       "<table border=\"1\" class=\"dataframe\">\n",
       "  <thead>\n",
       "    <tr style=\"text-align: right;\">\n",
       "      <th></th>\n",
       "      <th>AAT</th>\n",
       "      <th>ABAT</th>\n",
       "      <th>APAT</th>\n",
       "      <th>ABPBTAT</th>\n",
       "      <th>APBPTAT</th>\n",
       "    </tr>\n",
       "  </thead>\n",
       "  <tbody>\n",
       "    <tr>\n",
       "      <th>0</th>\n",
       "      <td>0</td>\n",
       "      <td>1</td>\n",
       "      <td>0</td>\n",
       "      <td>1</td>\n",
       "      <td>0</td>\n",
       "    </tr>\n",
       "    <tr>\n",
       "      <th>1</th>\n",
       "      <td>0</td>\n",
       "      <td>1</td>\n",
       "      <td>0</td>\n",
       "      <td>1</td>\n",
       "      <td>0</td>\n",
       "    </tr>\n",
       "    <tr>\n",
       "      <th>2</th>\n",
       "      <td>0</td>\n",
       "      <td>1</td>\n",
       "      <td>0</td>\n",
       "      <td>1</td>\n",
       "      <td>0</td>\n",
       "    </tr>\n",
       "    <tr>\n",
       "      <th>3</th>\n",
       "      <td>0</td>\n",
       "      <td>1</td>\n",
       "      <td>0</td>\n",
       "      <td>1</td>\n",
       "      <td>0</td>\n",
       "    </tr>\n",
       "    <tr>\n",
       "      <th>4</th>\n",
       "      <td>0</td>\n",
       "      <td>1</td>\n",
       "      <td>0</td>\n",
       "      <td>1</td>\n",
       "      <td>0</td>\n",
       "    </tr>\n",
       "    <tr>\n",
       "      <th>...</th>\n",
       "      <td>...</td>\n",
       "      <td>...</td>\n",
       "      <td>...</td>\n",
       "      <td>...</td>\n",
       "      <td>...</td>\n",
       "    </tr>\n",
       "    <tr>\n",
       "      <th>495</th>\n",
       "      <td>0</td>\n",
       "      <td>1</td>\n",
       "      <td>0</td>\n",
       "      <td>1</td>\n",
       "      <td>0</td>\n",
       "    </tr>\n",
       "    <tr>\n",
       "      <th>496</th>\n",
       "      <td>0</td>\n",
       "      <td>1</td>\n",
       "      <td>0</td>\n",
       "      <td>1</td>\n",
       "      <td>0</td>\n",
       "    </tr>\n",
       "    <tr>\n",
       "      <th>497</th>\n",
       "      <td>0</td>\n",
       "      <td>1</td>\n",
       "      <td>0</td>\n",
       "      <td>1</td>\n",
       "      <td>0</td>\n",
       "    </tr>\n",
       "    <tr>\n",
       "      <th>498</th>\n",
       "      <td>0</td>\n",
       "      <td>1</td>\n",
       "      <td>0</td>\n",
       "      <td>1</td>\n",
       "      <td>0</td>\n",
       "    </tr>\n",
       "    <tr>\n",
       "      <th>499</th>\n",
       "      <td>0</td>\n",
       "      <td>1</td>\n",
       "      <td>0</td>\n",
       "      <td>1</td>\n",
       "      <td>0</td>\n",
       "    </tr>\n",
       "  </tbody>\n",
       "</table>\n",
       "<p>500 rows × 5 columns</p>\n",
       "</div>"
      ],
      "text/plain": [
       "     AAT  ABAT  APAT  ABPBTAT  APBPTAT\n",
       "0      0     1     0        1        0\n",
       "1      0     1     0        1        0\n",
       "2      0     1     0        1        0\n",
       "3      0     1     0        1        0\n",
       "4      0     1     0        1        0\n",
       "..   ...   ...   ...      ...      ...\n",
       "495    0     1     0        1        0\n",
       "496    0     1     0        1        0\n",
       "497    0     1     0        1        0\n",
       "498    0     1     0        1        0\n",
       "499    0     1     0        1        0\n",
       "\n",
       "[500 rows x 5 columns]"
      ]
     },
     "execution_count": 10,
     "metadata": {},
     "output_type": "execute_result"
    }
   ],
   "source": [
    "adv_predictions = hindroid.batch_predict(adv_examples)\n",
    "adv_predictions"
   ]
  },
  {
   "cell_type": "code",
   "execution_count": 16,
   "id": "southwest-dryer",
   "metadata": {},
   "outputs": [],
   "source": [
    "orignal_predictions.to_csv('data/out/all-apps/attack/original_predictions.csv', index=False)\n",
    "adv_predictions.to_csv('data/out/all-apps/attack/adv_predictions.csv', index=False)"
   ]
  },
  {
   "cell_type": "code",
   "execution_count": 17,
   "id": "specialized-incident",
   "metadata": {},
   "outputs": [
    {
     "data": {
      "text/plain": [
       "AAT        0.972\n",
       "ABAT       0.116\n",
       "APAT       0.946\n",
       "ABPBTAT    0.108\n",
       "APBPTAT    0.890\n",
       "dtype: float64"
      ]
     },
     "execution_count": 17,
     "metadata": {},
     "output_type": "execute_result"
    }
   ],
   "source": [
    "(orignal_predictions != adv_predictions).mean()"
   ]
  },
  {
   "cell_type": "code",
   "execution_count": 40,
   "id": "cheap-bolivia",
   "metadata": {},
   "outputs": [
    {
     "data": {
      "text/plain": [
       "<reversed at 0x7fa76a1f7c10>"
      ]
     },
     "execution_count": 40,
     "metadata": {},
     "output_type": "execute_result"
    }
   ],
   "source": [
    "orignal_predictions.AAT.value_counts()"
   ]
  },
  {
   "cell_type": "code",
   "execution_count": 37,
   "id": "assumed-installation",
   "metadata": {},
   "outputs": [
    {
     "data": {
      "text/plain": [
       "array([445,  55, 500])"
      ]
     },
     "execution_count": 37,
     "metadata": {},
     "output_type": "execute_result"
    }
   ],
   "source": [
    "np.append(orignal_predictions.AAT.value_counts(), orignal_predictions.shape[0])"
   ]
  },
  {
   "cell_type": "code",
   "execution_count": 45,
   "id": "operational-burner",
   "metadata": {},
   "outputs": [],
   "source": [
    "comparison = orignal_predictions != adv_predictions\n",
    "comparison['Original AAT Label'] = orignal_predictions.AAT.map({1: 'Malware', 0: 'Benign'})\n",
    "out = comparison.groupby('Original AAT Label').mean()\n",
    "out.loc['Total'] = comparison.mean()\n",
    "counts = orignal_predictions.AAT.value_counts()\n",
    "counts.index = counts.index.map({1: 'Malware', 0: 'Benign'})\n",
    "counts['Total'] = orignal_predictions.shape[0]\n",
    "out['Support'] = counts\n",
    "out.to_csv('reports/assets/attack_success.csv')"
   ]
  },
  {
   "cell_type": "code",
   "execution_count": 14,
   "id": "sharing-webcam",
   "metadata": {},
   "outputs": [
    {
     "data": {
      "text/plain": [
       "1    445\n",
       "0     55\n",
       "Name: AAT, dtype: int64"
      ]
     },
     "execution_count": 14,
     "metadata": {},
     "output_type": "execute_result"
    }
   ],
   "source": [
    "orignal_predictions.AAT.value_counts()"
   ]
  },
  {
   "cell_type": "code",
   "execution_count": null,
   "id": "national-algebra",
   "metadata": {},
   "outputs": [],
   "source": []
  }
 ],
 "metadata": {
  "kernelspec": {
   "display_name": "Python 3",
   "language": "python",
   "name": "python3"
  },
  "language_info": {
   "codemirror_mode": {
    "name": "ipython",
    "version": 3
   },
   "file_extension": ".py",
   "mimetype": "text/x-python",
   "name": "python",
   "nbconvert_exporter": "python",
   "pygments_lexer": "ipython3",
   "version": "3.8.6"
  }
 },
 "nbformat": 4,
 "nbformat_minor": 5
}
