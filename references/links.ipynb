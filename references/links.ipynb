{
 "metadata": {
  "language_info": {
   "codemirror_mode": {
    "name": "ipython",
    "version": 3
   },
   "file_extension": ".py",
   "mimetype": "text/x-python",
   "name": "python",
   "nbconvert_exporter": "python",
   "pygments_lexer": "ipython3",
   "version": 3
  },
  "orig_nbformat": 2
 },
 "nbformat": 4,
 "nbformat_minor": 2,
 "cells": [
  {
   "source": [
    "# References\n",
    "A compilation of links that are useful.\n",
    "\n",
    "## Links\n",
    "\n",
    "- [metapath2vec](https://ericdongyx.github.io/metapath2vec/m2v.html) Source code with examples available.\n",
    "- [Deep Learning Graph Library - metapath2vec implementation ](https://github.com/dmlc/dgl/tree/master/examples/pytorch/metapath2vec) \n",
    "- [PyTorch implementation](https://pytorch-geometric.readthedocs.io/en/latest/_modules/torch_geometric/nn/models/metapath2vec.html)\n",
    " - [Stellargraph](https://stellargraph.readthedocs.io/en/stable/demos/embeddings/metapath2vec-embeddings.html)"
   ],
   "cell_type": "markdown",
   "metadata": {}
  },
  {
   "cell_type": "code",
   "execution_count": null,
   "metadata": {},
   "outputs": [],
   "source": []
  }
 ]
}